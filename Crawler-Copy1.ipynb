{
 "cells": [
  {
   "cell_type": "code",
   "execution_count": 13,
   "metadata": {},
   "outputs": [],
   "source": [
    "import re\n",
    "from bs4 import BeautifulSoup"
   ]
  },
  {
   "cell_type": "code",
   "execution_count": 8,
   "metadata": {},
   "outputs": [],
   "source": [
    "from requests import request, HTTPError\n",
    "from requests.compat import urljoin, urlparse, quote, unquote\n",
    "from time import sleep\n",
    "\n",
    "def download(url, params={}, headers={}, method='GET', maximum=2):\n",
    "    resp = request(url=url, params=params if method=='GET' else {},\n",
    "            data=params if method=='POST' else {},\n",
    "            headers=headers, method=method)\n",
    "    \n",
    "    \n",
    "    try:\n",
    "        resp.raise_for_status()\n",
    "    except HTTPError as e:\n",
    "        if 500 <= e.response.status_code < 600 and maximum > 0:\n",
    "            print('retry')\n",
    "            sleep(1) # 1초?\n",
    "            resp = download(url, params, headers, method, maximum-1) # inf loop\n",
    "        else:\n",
    "            print(e)\n",
    "        \n",
    "    return resp"
   ]
  },
  {
   "cell_type": "code",
   "execution_count": 11,
   "metadata": {},
   "outputs": [],
   "source": [
    "# 최대한 다양한 사이트들을 크롤링해보면\n",
    "# 사이트의 구조에 익숙해질 수 있음\n",
    "url = 'http://www.pythonscraping.com/pages/page3.html'\n",
    "resp = download(url)\n",
    "dom = BeautifulSoup(resp.text, 'html.parser')"
   ]
  },
  {
   "cell_type": "code",
   "execution_count": 14,
   "metadata": {},
   "outputs": [
    {
     "data": {
      "text/plain": [
       "[<img src=\"../img/gifts/img1.jpg\"/>,\n",
       " <img src=\"../img/gifts/img2.jpg\"/>,\n",
       " <img src=\"../img/gifts/img3.jpg\"/>,\n",
       " <img src=\"../img/gifts/img4.jpg\"/>,\n",
       " <img src=\"../img/gifts/img6.jpg\"/>]"
      ]
     },
     "execution_count": 14,
     "metadata": {},
     "output_type": "execute_result"
    }
   ],
   "source": [
    "dom.find_all('img', attrs={'src':re.compile(r'\\d\\.jpg$')})"
   ]
  },
  {
   "cell_type": "code",
   "execution_count": 16,
   "metadata": {},
   "outputs": [
    {
     "data": {
      "text/plain": [
       "['\\n$15.00\\n', '\\n$10,000.52\\n', '\\n$10,005.00\\n', '\\n$0.50\\n', '\\n$1.50\\n']"
      ]
     },
     "execution_count": 16,
     "metadata": {},
     "output_type": "execute_result"
    }
   ],
   "source": [
    "# $111,111,111  (\\d+ (숫자가 한번이상 반복되다가) [,])* (이게 0번이상 반복) \\d+([.]\\d+)? (소숫점 아래 2글자)\n",
    "# $111\n",
    "# $111,110.00\n",
    "# $111.00\n",
    "dom.find_all(text=re.compile(r'\\$(\\d+[,])*\\d+(?:[.]\\d+)?\\b$'))"
   ]
  },
  {
   "cell_type": "code",
   "execution_count": 17,
   "metadata": {},
   "outputs": [],
   "source": [
    "# Google 검색 결과 예시\n",
    "url = 'https://www.google.com/search'\n",
    "params = {\n",
    "    'q' : ['파이썬'],\n",
    "    'hl': ['ko'],\n",
    "    'sxsrf': ['ALeKk00P1KJuqgmTCupZG-YsxVpVk3mRGw:1625639013354'],\n",
    "    'source': ['hp'],\n",
    "    'ei': ['ZUjlYJa3CsWE-gSfoJqoBA'],\n",
    "    'iflsig': ['AINFCbYAAAAAYOVWdT9ryM-9TZT3LtSw2ZwMuAiXXfsN'],\n",
    "    'gs_lcp': ['Cgdnd3Mtd2l6EAEYATIHCCMQ6gIQJzIHCCMQ6gIQJzIHCCMQ6gIQJzIHCCMQ6gIQJzIHCCMQ6gIQJzIHCCMQ6gIQJzIHCCMQ6gIQJzIHCCMQ6gIQJzIHCCMQ6gIQJzIHCCMQ6gIQJ1AAWABg8ckFaAFwAHgAgAEAiAEAkgEAmAEAqgEHZ3dzLXdperABCg'],\n",
    "    'sclient': ['gws-wiz']\n",
    "}\n",
    "\n",
    "header = {\n",
    "    'user-agent':'Mozilla/5.0 (Windows NT 10.0; Win64; x64) AppleWebKit/537.36 (KHTML, like Gecko) Chrome/91.0.4472.124 Safari/537.36'\n",
    "}\n",
    "\n",
    "params['q'] = '파이썬'\n",
    "\n",
    "resp = download(url, params, header, 'GET')"
   ]
  },
  {
   "cell_type": "code",
   "execution_count": 51,
   "metadata": {},
   "outputs": [
    {
     "data": {
      "text/plain": [
       "'https://www.google.com/search?q=%ED%8C%8C%EC%9D%B4%EC%8D%AC&hl=ko&sxsrf=ALeKk00P1KJuqgmTCupZG-YsxVpVk3mRGw%3A1625639013354&source=hp&ei=ZUjlYJa3CsWE-gSfoJqoBA&iflsig=AINFCbYAAAAAYOVWdT9ryM-9TZT3LtSw2ZwMuAiXXfsN&gs_lcp=Cgdnd3Mtd2l6EAEYATIHCCMQ6gIQJzIHCCMQ6gIQJzIHCCMQ6gIQJzIHCCMQ6gIQJzIHCCMQ6gIQJzIHCCMQ6gIQJzIHCCMQ6gIQJzIHCCMQ6gIQJzIHCCMQ6gIQJzIHCCMQ6gIQJ1AAWABg8ckFaAFwAHgAgAEAiAEAkgEAmAEAqgEHZ3dzLXdperABCg&sclient=gws-wiz'"
      ]
     },
     "execution_count": 51,
     "metadata": {},
     "output_type": "execute_result"
    }
   ],
   "source": [
    "resp.request.url"
   ]
  },
  {
   "cell_type": "code",
   "execution_count": 19,
   "metadata": {},
   "outputs": [],
   "source": [
    "# HTML의 class : OOP의 class와 비슷. (다중상속 가능, 여러 개일수 있음, ...)\n",
    "# HTML의 id : 단 1개만 있음!\n",
    "\n",
    "dom = BeautifulSoup(resp.text, 'lxml')"
   ]
  },
  {
   "cell_type": "code",
   "execution_count": 50,
   "metadata": {},
   "outputs": [
    {
     "name": "stdout",
     "output_type": "stream",
     "text": [
      "파이썬 - 위키백과, 우리 모두의 백과사전\n",
      "https://ko.wikipedia.org/wiki/%ED%8C%8C%EC%9D%B4%EC%8D%AC\n",
      "파이썬 자습서 — Python 3.9.6 문서\n",
      "https://docs.python.org/ko/3/tutorial/index.html\n",
      "Python - 나무위키\n",
      "https://namu.wiki/w/Python\n",
      "1 파이썬 시작하기 - 왕초보를 위한 Python: 쉽게 풀어 쓴 기초 ...\n",
      "https://wikidocs.net/43\n",
      "Python - 파이썬이란? - 코딩의 시작, TCP School\n",
      "http://tcpschool.com/python/intro\n"
     ]
    },
    {
     "ename": "AttributeError",
     "evalue": "'NoneType' object has no attribute 'text'",
     "output_type": "error",
     "traceback": [
      "\u001b[1;31m---------------------------------------------------------------------------\u001b[0m",
      "\u001b[1;31mAttributeError\u001b[0m                            Traceback (most recent call last)",
      "\u001b[1;32m<ipython-input-50-067ef32889ae>\u001b[0m in \u001b[0;36m<module>\u001b[1;34m\u001b[0m\n\u001b[0;32m      3\u001b[0m \u001b[1;32mfor\u001b[0m \u001b[0m_\u001b[0m \u001b[1;32min\u001b[0m \u001b[0mres_list\u001b[0m\u001b[1;33m:\u001b[0m\u001b[1;33m\u001b[0m\u001b[1;33m\u001b[0m\u001b[0m\n\u001b[0;32m      4\u001b[0m \u001b[1;31m#     print(_.find_all(recursive=False, limit=2)[-1])\u001b[0m\u001b[1;33m\u001b[0m\u001b[1;33m\u001b[0m\u001b[1;33m\u001b[0m\u001b[0m\n\u001b[1;32m----> 5\u001b[1;33m     \u001b[0mprint\u001b[0m\u001b[1;33m(\u001b[0m\u001b[0m_\u001b[0m\u001b[1;33m.\u001b[0m\u001b[0mfind\u001b[0m\u001b[1;33m(\u001b[0m\u001b[1;34m'a'\u001b[0m\u001b[1;33m)\u001b[0m\u001b[1;33m.\u001b[0m\u001b[0mfind\u001b[0m\u001b[1;33m(\u001b[0m\u001b[1;34m'h3'\u001b[0m\u001b[1;33m)\u001b[0m\u001b[1;33m.\u001b[0m\u001b[0mtext\u001b[0m\u001b[1;33m)\u001b[0m\u001b[1;33m\u001b[0m\u001b[1;33m\u001b[0m\u001b[0m\n\u001b[0m\u001b[0;32m      6\u001b[0m     \u001b[0mprint\u001b[0m\u001b[1;33m(\u001b[0m\u001b[0m_\u001b[0m\u001b[1;33m.\u001b[0m\u001b[0mfind\u001b[0m\u001b[1;33m(\u001b[0m\u001b[1;34m'a'\u001b[0m\u001b[1;33m)\u001b[0m\u001b[1;33m.\u001b[0m\u001b[0mattrs\u001b[0m\u001b[1;33m[\u001b[0m\u001b[1;34m'href'\u001b[0m\u001b[1;33m]\u001b[0m\u001b[1;33m)\u001b[0m\u001b[1;33m\u001b[0m\u001b[1;33m\u001b[0m\u001b[0m\n\u001b[0;32m      7\u001b[0m \u001b[1;31m#     break\u001b[0m\u001b[1;33m\u001b[0m\u001b[1;33m\u001b[0m\u001b[1;33m\u001b[0m\u001b[0m\n",
      "\u001b[1;31mAttributeError\u001b[0m: 'NoneType' object has no attribute 'text'"
     ]
    }
   ],
   "source": [
    "result = dom.find(attrs={'id':'rso'})\n",
    "res_list = result.find_all(recursive=False)\n",
    "for _ in res_list:\n",
    "#     print(_.find_all(recursive=False, limit=2)[-1])\n",
    "    print(_.find('a').find('h3').text)\n",
    "    print(_.find('a').attrs['href'])\n",
    "#     break\n",
    "# [(_.name, _['class']) for _ in result.find_all(recursive=False)] # 검색 결과가 9개."
   ]
  },
  {
   "cell_type": "code",
   "execution_count": 48,
   "metadata": {},
   "outputs": [
    {
     "name": "stdout",
     "output_type": "stream",
     "text": [
      "파이썬 - 위키백과, 우리 모두의 백과사전\n",
      "https://ko.wikipedia.org/wiki/%ED%8C%8C%EC%9D%B4%EC%8D%AC\n",
      "파이썬 자습서 — Python 3.9.6 문서\n",
      "https://docs.python.org/ko/3/tutorial/index.html\n",
      "Python - 나무위키\n",
      "https://namu.wiki/w/Python\n",
      "1 파이썬 시작하기 - 왕초보를 위한 Python: 쉽게 풀어 쓴 기초 ...\n",
      "https://wikidocs.net/43\n",
      "Python - 파이썬이란? - 코딩의 시작, TCP School\n",
      "http://tcpschool.com/python/intro\n",
      "모두를 위한 프로그래밍 : 파이썬 강좌소개 : edwith\n",
      "https://www.edwith.org/pythonforeverybody\n",
      "1 장 파이썬(Python) 입문 | 파이썬 프로그래밍 기초\n",
      "http://bigdata.dongguk.ac.kr/lectures/Python/_book/%ED%8C%8C%EC%9D%B4%EC%8D%AC%EC%9E%85%EB%AC%B8.html\n",
      "파이썬 입문 | 프로그래머스\n",
      "https://programmers.co.kr/learn/courses/2\n"
     ]
    }
   ],
   "source": [
    "# dom.find_all('h3', attrs={'class':'LC20lb DKV0Md'})\n",
    "for _ in dom.find_all('h3', attrs={'class':'LC20lb DKV0Md'}):\n",
    "    print(_.text)\n",
    "    print(_.find_parent().attrs['href'])"
   ]
  },
  {
   "cell_type": "markdown",
   "metadata": {},
   "source": [
    "---"
   ]
  },
  {
   "cell_type": "code",
   "execution_count": 54,
   "metadata": {},
   "outputs": [],
   "source": [
    "# 네이버 검색\n",
    "url = 'https://search.naver.com/search.naver'\n",
    "params = {\n",
    "    'where': ['nexearch'],\n",
    "    'sm': ['top_hty'],\n",
    "    'fbm': ['0'],\n",
    "    'ie': ['utf8'],\n",
    "    'query': ['통영여행']\n",
    "}\n",
    "\n",
    "resp = download(url, params, header, 'GET')"
   ]
  },
  {
   "cell_type": "code",
   "execution_count": 55,
   "metadata": {},
   "outputs": [],
   "source": [
    "dom = BeautifulSoup(resp.text, 'lxml')"
   ]
  },
  {
   "cell_type": "code",
   "execution_count": 60,
   "metadata": {},
   "outputs": [
    {
     "name": "stdout",
     "output_type": "stream",
     "text": [
      "통영 여행 놀거리 아라마린서비스 요트투어\n",
      "https://blog.naver.com/obh1680/222398983097\n",
      "거제 통영 여행 외도 포함 내품 핫플 코스\n",
      "https://blog.naver.com/lightsout/222288330327\n",
      "통영 여행코스 갈만한곳 이순신공원 바다 전망\n",
      "https://blog.naver.com/suk4408/222338705742\n",
      "거제 통영 여행 코스 서호시장부터 동피랑벽화마을까지\n",
      "https://blog.naver.com/bada3347/222360711590\n",
      "통영 여행코스 이순신공원, 통영 서피랑마을까지\n",
      "https://blog.naver.com/hnmh2332/222313684322\n",
      "국내 1박2일 통영 여행 디피랑 서피랑 동피랑 벽화마을 이순신공원\n",
      "https://blog.naver.com/hloveh01/222386234715\n",
      "거제 통영 여행 코스 통영 이순신공원 등 1박2일 여행지\n",
      "https://blog.naver.com/ultrabat/222362354570\n",
      "통영 가볼만한곳 이순신공원 통영 여행코스\n",
      "https://blog.naver.com/jyleen/222342610447\n",
      "아이와 비오는 통영여행 3박 4일 코스\n",
      "https://blog.naver.com/sidna/222358406013\n",
      "여름에 통영여행 일정 좀 봐주세요 여름 휴가로 통영 여행 가려고 하는데요 너무 더울 것 같아 동피랑 같은 언덕으로 많이 걸어야하는 여행지는 패스하고 추천 좀 해주세요!! 3박 4일로 있을거에요,,\n",
      "https://kin.naver.com/qna/detail.nhn?d1id=9&dirId=90111&docId=393379306&qb=7Ya17JiB7Jes7ZaJ&enc=utf8&section=kin.ext&rank=1&search_sort=0&spq=0\n",
      "통영 여행을 계획하고 계시다면 통영 케이블카와 스카이라인 루지, 이순신공원, 욕지도를 추천드립니다. 풍경이 아름다운 곳들도 많고 맛집들도 많다고 합니다. 자세한 내용이 담겨 있는 링크도 같이 걸어드릴 테니 참고해보시고 즐거운 여행...\n",
      "https://kin.naver.com/qna/detail.nhn?d1id=9&dirId=90111&docId=393379306&qb=7Ya17JiB7Jes7ZaJ&enc=utf8&section=kin.ext&rank=1&search_sort=0&spq=0\n",
      "통영 여행 루트좀 짜주세요! 여자 2명이서 8월 18일 부터 3박 4일간 통영 여행을 가기로 했어요! 진남초등학교 근처로 숙소는 잡아 놨는데 통영을 한번도 가보지를 못해서 루트를... 타지 사람들이다 보니 버스노선이라든가 가격이런걸 전혀 몰라서요ㅠㅠ 아니면 통영여행 잘 짜여져 있는 블로그를 소개해 주셔도 되요.......\n",
      "https://kin.naver.com/qna/detail.nhn?d1id=9&dirId=90111&docId=232061605&qb=7Ya17JiB7Jes7ZaJ&enc=utf8&section=kin.ext&rank=2&search_sort=0&spq=0\n",
      "통영 1박2일 여행기 한번 참고해보고 틀 한번 잡아보세요^^ 정말 국내여행에 최고봉 인정합니다! 맛집&여행지 포스팅되어있어요! > > >\n",
      "https://kin.naver.com/qna/detail.nhn?d1id=9&dirId=90111&docId=232061605&qb=7Ya17JiB7Jes7ZaJ&enc=utf8&section=kin.ext&rank=2&search_sort=0&spq=0\n",
      "엄빠 할머니 통영여행 ㅋ 엄마 아빠 친할머니 친할아버지와 같이 집에 사는데 어제 보름간 통영여행 가셨는데 어제 김치 채소 밥 이랑 먹고 학교 학원 가고 레스토랑에서 저녁 먹었거든요 전 누나 1명과 동생 2명이랑 있는데 오늘은 뭐하고 놀지 추천해주세요\n",
      "https://kin.naver.com/qna/detail.nhn?d1id=9&dirId=90111&docId=380916376&qb=7Ya17JiB7Jes7ZaJ&enc=utf8&section=kin.ext&rank=3&search_sort=0&spq=0\n",
      "... 질문하신 [통영여행] 관련 답변 드리도록 하겠습니다. 가족분들과 통영여행 가시나 봅니다. 통영에 가볼 만한 여행 코스 하나... 혹시 통영 여행지 근처에서 숙박을 하실거면 위의 네임카드를 클릭! 홈페이지 주소에 들어가시면 숙박 할인 및 혜택이 많이 있으니깐요 여행하시는데...\n",
      "https://kin.naver.com/qna/detail.nhn?d1id=9&dirId=90111&docId=380916376&qb=7Ya17JiB7Jes7ZaJ&enc=utf8&section=kin.ext&rank=3&search_sort=0&spq=0\n"
     ]
    }
   ],
   "source": [
    "for _ in dom.find_all('a', attrs={'class':'api_txt_lines'}):\n",
    "    print(_.text.strip())\n",
    "    print(_.attrs['href'])"
   ]
  },
  {
   "cell_type": "code",
   "execution_count": 78,
   "metadata": {},
   "outputs": [
    {
     "data": {
      "text/plain": [
       "(False,\n",
       " [],\n",
       " ['/search',\n",
       "  '/search/about',\n",
       "  '/search/static',\n",
       "  '/search/howsearchworks',\n",
       "  '/sdch',\n",
       "  '/groups',\n",
       "  '/index.html?',\n",
       "  '/?',\n",
       "  '/?hl=',\n",
       "  '/?hl=*&',\n",
       "  '/?hl=*&gws_rd=ssl$',\n",
       "  '/?hl=*&*&gws_rd=ssl',\n",
       "  '/?gws_rd=ssl$',\n",
       "  '/?pt1=true$',\n",
       "  '/imgres',\n",
       "  '/u/',\n",
       "  '/preferences',\n",
       "  '/setprefs',\n",
       "  '/default',\n",
       "  '/m?',\n",
       "  '/m/',\n",
       "  '/m/finance',\n",
       "  '/wml?',\n",
       "  '/wml/?',\n",
       "  '/wml/search?',\n",
       "  '/xhtml?',\n",
       "  '/xhtml/?',\n",
       "  '/xhtml/search?',\n",
       "  '/xml?',\n",
       "  '/imode?',\n",
       "  '/imode/?',\n",
       "  '/imode/search?',\n",
       "  '/jsky?',\n",
       "  '/jsky/?',\n",
       "  '/jsky/search?',\n",
       "  '/pda?',\n",
       "  '/pda/?',\n",
       "  '/pda/search?',\n",
       "  '/sprint_xhtml',\n",
       "  '/sprint_wml',\n",
       "  '/pqa',\n",
       "  '/palm',\n",
       "  '/gwt/',\n",
       "  '/purchases',\n",
       "  '/local?',\n",
       "  '/local_url',\n",
       "  '/shihui?',\n",
       "  '/shihui/',\n",
       "  '/products?',\n",
       "  '/product_',\n",
       "  '/products_',\n",
       "  '/products;',\n",
       "  '/print',\n",
       "  '/books/',\n",
       "  '/bkshp?*q=*',\n",
       "  '/books?*q=*',\n",
       "  '/books?*output=*',\n",
       "  '/books?*pg=*',\n",
       "  '/books?*jtp=*',\n",
       "  '/books?*jscmd=*',\n",
       "  '/books?*buy=*',\n",
       "  '/books?*zoom=*',\n",
       "  '/books/about',\n",
       "  '/booksrightsholders',\n",
       "  '/books?*zoom=1*',\n",
       "  '/books?*zoom=5*',\n",
       "  '/books/content?*zoom=1*',\n",
       "  '/books/content?*zoom=5*',\n",
       "  '/ebooks/',\n",
       "  '/ebooks?*q=*',\n",
       "  '/ebooks?*output=*',\n",
       "  '/ebooks?*pg=*',\n",
       "  '/ebooks?*jscmd=*',\n",
       "  '/ebooks?*buy=*',\n",
       "  '/ebooks?*zoom=*',\n",
       "  '/ebooks?*zoom=1*',\n",
       "  '/ebooks?*zoom=5*',\n",
       "  '/patents?',\n",
       "  '/patents/download/',\n",
       "  '/patents/pdf/',\n",
       "  '/patents/related/',\n",
       "  '/scholar',\n",
       "  '/citations?',\n",
       "  '/citations?user=',\n",
       "  '/citations?*cstart=',\n",
       "  '/citations?view_op=new_profile',\n",
       "  '/citations?view_op=top_venues',\n",
       "  '/scholar_share',\n",
       "  '/s?',\n",
       "  '/maps?*output=classic*',\n",
       "  '/maps?*file=',\n",
       "  '/maps/d/',\n",
       "  '/maps?',\n",
       "  '/mapstt?',\n",
       "  '/mapslt?',\n",
       "  '/maps/stk/',\n",
       "  '/maps/br?',\n",
       "  '/mapabcpoi?',\n",
       "  '/maphp?',\n",
       "  '/mapprint?',\n",
       "  '/maps/api/js/',\n",
       "  '/maps/api/js',\n",
       "  '/maps/api/place/js/',\n",
       "  '/maps/api/staticmap',\n",
       "  '/maps/api/streetview',\n",
       "  '/maps/_/sw/manifest.json',\n",
       "  '/mld?',\n",
       "  '/staticmap?',\n",
       "  '/maps/preview',\n",
       "  '/maps/place',\n",
       "  '/maps/timeline/',\n",
       "  '/help/maps/streetview/partners/welcome/',\n",
       "  '/help/maps/indoormaps/partners/',\n",
       "  '/lochp?',\n",
       "  '/center',\n",
       "  '/ie?',\n",
       "  '/blogsearch/',\n",
       "  '/blogsearch_feeds',\n",
       "  '/advanced_blog_search',\n",
       "  '/uds/',\n",
       "  '/chart?',\n",
       "  '/transit?',\n",
       "  '/calendar$',\n",
       "  '/calendar/about/',\n",
       "  '/calendar/',\n",
       "  '/cl2/feeds/',\n",
       "  '/cl2/ical/',\n",
       "  '/coop/directory',\n",
       "  '/coop/manage',\n",
       "  '/trends?',\n",
       "  '/trends/music?',\n",
       "  '/trends/hottrends?',\n",
       "  '/trends/viz?',\n",
       "  '/trends/embed.js?',\n",
       "  '/trends/fetchComponent?',\n",
       "  '/trends/beta',\n",
       "  '/trends/topics',\n",
       "  '/musica',\n",
       "  '/musicad',\n",
       "  '/musicas',\n",
       "  '/musicl',\n",
       "  '/musics',\n",
       "  '/musicsearch',\n",
       "  '/musicsp',\n",
       "  '/musiclp',\n",
       "  '/urchin_test/',\n",
       "  '/movies?',\n",
       "  '/wapsearch?',\n",
       "  '/safebrowsing/diagnostic',\n",
       "  '/safebrowsing/report_badware/',\n",
       "  '/safebrowsing/report_error/',\n",
       "  '/safebrowsing/report_phish/',\n",
       "  '/reviews/search?',\n",
       "  '/orkut/albums',\n",
       "  '/cbk',\n",
       "  '/recharge/dashboard/car',\n",
       "  '/recharge/dashboard/static/',\n",
       "  '/profiles/me',\n",
       "  '/profiles',\n",
       "  '/s2/profiles/me',\n",
       "  '/s2/profiles',\n",
       "  '/s2/oz',\n",
       "  '/s2/photos',\n",
       "  '/s2/search/social',\n",
       "  '/s2/static',\n",
       "  '/s2',\n",
       "  '/transconsole/portal/',\n",
       "  '/gcc/',\n",
       "  '/aclk',\n",
       "  '/cse?',\n",
       "  '/cse/home',\n",
       "  '/cse/panel',\n",
       "  '/cse/manage',\n",
       "  '/tbproxy/',\n",
       "  '/imesync/',\n",
       "  '/shenghuo/search?',\n",
       "  '/support/forum/search?',\n",
       "  '/reviews/polls/',\n",
       "  '/hosted/images/',\n",
       "  '/ppob/?',\n",
       "  '/ppob?',\n",
       "  '/accounts/ClientLogin',\n",
       "  '/accounts/ClientAuth',\n",
       "  '/accounts/o8',\n",
       "  '/accounts/o8/id',\n",
       "  '/topicsearch?q=',\n",
       "  '/xfx7/',\n",
       "  '/squared/api',\n",
       "  '/squared/search',\n",
       "  '/squared/table',\n",
       "  '/qnasearch?',\n",
       "  '/app/updates',\n",
       "  '/sidewiki/entry/',\n",
       "  '/quality_form?',\n",
       "  '/labs/popgadget/search',\n",
       "  '/buzz/post',\n",
       "  '/compressiontest/',\n",
       "  '/analytics/feeds/',\n",
       "  '/analytics/partners/comments/',\n",
       "  '/analytics/portal/',\n",
       "  '/analytics/uploads/',\n",
       "  '/alerts/manage',\n",
       "  '/alerts/remove',\n",
       "  '/alerts/',\n",
       "  '/alerts/$',\n",
       "  '/ads/search?',\n",
       "  '/ads/plan/action_plan?',\n",
       "  '/ads/plan/api/',\n",
       "  '/ads/hotels/partners',\n",
       "  '/phone/compare/?',\n",
       "  '/travel/clk',\n",
       "  '/travel/hotelier/terms/',\n",
       "  '/hotelfinder/rpc',\n",
       "  '/hotels/rpc',\n",
       "  '/commercesearch/services/',\n",
       "  '/evaluation/',\n",
       "  '/chrome/browser/mobile/tour',\n",
       "  '/compare/*/apply*',\n",
       "  '/forms/perks/',\n",
       "  '/shopping/suppliers/search',\n",
       "  '/ct/',\n",
       "  '/edu/cs4hs/',\n",
       "  '/trustedstores/s/',\n",
       "  '/trustedstores/tm2',\n",
       "  '/trustedstores/verify',\n",
       "  '/adwords/proposal',\n",
       "  '/shopping?*',\n",
       "  '/shopping/product/',\n",
       "  '/shopping/seller',\n",
       "  '/shopping/ratings/account/metrics',\n",
       "  '/shopping/ratings/merchant/immersivedetails',\n",
       "  '/shopping/reviewer',\n",
       "  '/about/careers/applications/',\n",
       "  '/landing/signout.html',\n",
       "  '/webmasters/sitemaps/ping?',\n",
       "  '/ping?',\n",
       "  '/gallery/',\n",
       "  '/landing/now/ontap/',\n",
       "  '/searchhistory/',\n",
       "  '/maps/reserve',\n",
       "  '/maps/reserve/partners',\n",
       "  '/maps/reserve/api/',\n",
       "  '/maps/reserve/search',\n",
       "  '/maps/reserve/bookings',\n",
       "  '/maps/reserve/settings',\n",
       "  '/maps/reserve/manage',\n",
       "  '/maps/reserve/payment',\n",
       "  '/maps/reserve/receipt',\n",
       "  '/maps/reserve/sellersignup',\n",
       "  '/maps/reserve/payments',\n",
       "  '/maps/reserve/feedback',\n",
       "  '/maps/reserve/terms',\n",
       "  '/maps/reserve/m/',\n",
       "  '/maps/reserve/b/',\n",
       "  '/maps/reserve/partner-dashboard',\n",
       "  '/about/views/',\n",
       "  '/intl/*/about/views/',\n",
       "  '/local/cars',\n",
       "  '/local/cars/',\n",
       "  '/local/dealership/',\n",
       "  '/local/dining/',\n",
       "  '/local/place/products/',\n",
       "  '/local/place/reviews/',\n",
       "  '/local/place/rap/',\n",
       "  '/local/tab/',\n",
       "  '/localservices/*',\n",
       "  '/finance',\n",
       "  '/js/',\n",
       "  '/nonprofits/account/',\n",
       "  '/maps/api/js/',\n",
       "  '/maps/api/js',\n",
       "  '/maps/api/place/js/',\n",
       "  '/maps/api/staticmap',\n",
       "  '/maps/api/streetview',\n",
       "  '/imgres',\n",
       "  '/imgres'])"
      ]
     },
     "execution_count": 78,
     "metadata": {},
     "output_type": "execute_result"
    }
   ],
   "source": [
    "def can_fetch(url, path):\n",
    "    resp = download(urljoin(url, '/robots.txt'))\n",
    "    allow = list()\n",
    "    disallow = list()\n",
    "    \n",
    "    \n",
    "    if resp.status_code == 200:\n",
    "        useragent = '*'\n",
    "        for _ in resp.text.splitlines():\n",
    "            pair = _.split(':')\n",
    "            if len(pair) == 2:\n",
    "                if pair[0].strip() == 'User-agent':\n",
    "                    useragent = pair[1]\n",
    "                else:\n",
    "                    if pair[1].strip() == 'Allow':\n",
    "                        allow.append(pair[1].strip())\n",
    "                    else:\n",
    "                        disallow.append(pair[1].strip())\n",
    "      \n",
    "    return True if path in allow else False, allow, disallow\n",
    "\n",
    "# can_fetch(url, '/')\n",
    "can_fetch('https://www.google.com', '/search')"
   ]
  },
  {
   "cell_type": "markdown",
   "metadata": {},
   "source": [
    "---"
   ]
  },
  {
   "cell_type": "code",
   "execution_count": 88,
   "metadata": {},
   "outputs": [],
   "source": [
    "# 공공데이터 API 활용하기\n",
    "# 이 데이터는 XML 방식밖에 지원 안함.\n",
    "url = 'http://openapi.data.go.kr/openapi/service/rest/Covid19/getCovid19InfStateJson'\n",
    "params = {\n",
    "    'serviceKey':'ibPhO0aMSaZiYiGNKqQ+GntOVhqamQs3+pNeSYjVz3OSX1RnIKShl/7jibL7YY7t3KPLvrZYk48OrEhLYFN59A==',\n",
    "    'pageNo':1,\n",
    "    'numOfRows':10,\n",
    "    'startCreateDt':'20200310',\n",
    "    'endCreateDt':'20200315'\n",
    "}\n",
    "resp = download(url, params=params) # header 필요없음.. API 사용하므로\n",
    "\n",
    "# 실제 API 사용 시 사용 설명서 (빽서)를 다 읽어보고 사용해야 함."
   ]
  },
  {
   "cell_type": "code",
   "execution_count": 89,
   "metadata": {
    "scrolled": true
   },
   "outputs": [
    {
     "data": {
      "text/plain": [
       "'<?xml version=\"1.0\" encoding=\"UTF-8\" standalone=\"yes\"?><response><header><resultCode>00</resultCode><resultMsg>NORMAL SERVICE.</resultMsg></header><body><items><item><accDefRate>3.2396602365</accDefRate><accExamCnt>268212</accExamCnt><accExamCompCnt>251940</accExamCompCnt><careCnt>7300</careCnt><clearCnt>834</clearCnt><createDt>2020-03-15 10:01:22.22</createDt><deathCnt>75</deathCnt><decideCnt>8162</decideCnt><examCnt>16272</examCnt><resutlNegCnt>243778</resutlNegCnt><seq>74</seq><stateDt>20200315</stateDt><stateTime>00:00</stateTime><updateDt>2020-03-15 10:01:22.22</updateDt></item><item><accDefRate>3.3180003364</accDefRate><accExamCnt>261335</accExamCnt><accExamCompCnt>243701</accExamCompCnt><careCnt>7402</careCnt><clearCnt>714</clearCnt><createDt>2020-03-14 10:29:11.11</createDt><deathCnt>72</deathCnt><decideCnt>8086</decideCnt><examCnt>17634</examCnt><resutlNegCnt>235615</resutlNegCnt><seq>73</seq><stateDt>20200314</stateDt><stateTime>00:00</stateTime><updateDt>2020-03-14 10:29:11.11</updateDt></item><item><accDefRate>3.4584993086</accDefRate><accExamCnt>248647</accExamCnt><accExamCompCnt>230707</accExamCompCnt><careCnt>7470</careCnt><clearCnt>510</clearCnt><createDt>2020-03-13 10:07:22.22</createDt><deathCnt>67</deathCnt><decideCnt>7979</decideCnt><examCnt>17940</examCnt><resutlNegCnt>222728</resutlNegCnt><seq>72</seq><stateDt>20200313</stateDt><stateTime>00:00</stateTime><updateDt>2020-03-13 10:07:22.22</updateDt></item><item><accDefRate>3.6217442732</accDefRate><accExamCnt>234998</accExamCnt><accExamCompCnt>217271</accExamCompCnt><careCnt>7407</careCnt><clearCnt>333</clearCnt><createDt>2020-03-12 10:37:03.03</createDt><deathCnt>66</deathCnt><decideCnt>7869</decideCnt><examCnt>17727</examCnt><resutlNegCnt>209402</resutlNegCnt><seq>71</seq><stateDt>20200312</stateDt><stateTime>00:00</stateTime><updateDt>2020-03-12 10:37:03.03</updateDt></item><item><accDefRate>3.8041745358</accDefRate><accExamCnt>222395</accExamCnt><accExamCompCnt>203855</accExamCompCnt><careCnt>7212</careCnt><clearCnt>288</clearCnt><createDt>2020-03-11 10:17:19.19</createDt><deathCnt>60</deathCnt><decideCnt>7755</decideCnt><examCnt>18540</examCnt><resutlNegCnt>196100</resutlNegCnt><seq>70</seq><stateDt>20200311</stateDt><stateTime>00:00</stateTime><updateDt>2020-03-11 10:17:19.19</updateDt></item><item><accDefRate>3.9193080566</accDefRate><accExamCnt>210144</accExamCnt><accExamCompCnt>191692</accExamCompCnt><careCnt>7165</careCnt><clearCnt>247</clearCnt><createDt>2020-03-10 10:20:27.27</createDt><deathCnt>54</deathCnt><decideCnt>7513</decideCnt><examCnt>18452</examCnt><resutlNegCnt>184179</resutlNegCnt><seq>69</seq><stateDt>20200310</stateDt><stateTime>00:00</stateTime><updateDt>2020-03-10 10:20:27.27</updateDt></item></items><numOfRows>10</numOfRows><pageNo>1</pageNo><totalCount>6</totalCount></body></response>'"
      ]
     },
     "execution_count": 89,
     "metadata": {},
     "output_type": "execute_result"
    }
   ],
   "source": [
    "resp.text"
   ]
  },
  {
   "cell_type": "code",
   "execution_count": 90,
   "metadata": {},
   "outputs": [],
   "source": [
    "# HTML Language가 아닌 XML인데도 불구하고\n",
    "# 어짜피 태그로 구성된 Markup Language이므로 마찬가지로\n",
    "# BeautifulSoup을 사용해서 parsing 진행하면 됨.\n",
    "dom = BeautifulSoup(resp.text, 'lxml')"
   ]
  },
  {
   "cell_type": "code",
   "execution_count": 96,
   "metadata": {},
   "outputs": [
    {
     "data": {
      "text/plain": [
       "6"
      ]
     },
     "execution_count": 96,
     "metadata": {},
     "output_type": "execute_result"
    }
   ],
   "source": [
    "len(dom.find_all('item'))"
   ]
  },
  {
   "cell_type": "code",
   "execution_count": 97,
   "metadata": {},
   "outputs": [
    {
     "data": {
      "text/plain": [
       "['accdefrate',\n",
       " 'accexamcnt',\n",
       " 'accexamcompcnt',\n",
       " 'carecnt',\n",
       " 'clearcnt',\n",
       " 'createdt',\n",
       " 'deathcnt',\n",
       " 'decidecnt',\n",
       " 'examcnt',\n",
       " 'resutlnegcnt',\n",
       " 'seq',\n",
       " 'statedt',\n",
       " 'statetime',\n",
       " 'updatedt']"
      ]
     },
     "execution_count": 97,
     "metadata": {},
     "output_type": "execute_result"
    }
   ],
   "source": [
    "[_.name for _ in dom.find_all('item')[0].find_all(recursive=False)]"
   ]
  },
  {
   "cell_type": "code",
   "execution_count": 99,
   "metadata": {
    "scrolled": true
   },
   "outputs": [
    {
     "name": "stdout",
     "output_type": "stream",
     "text": [
      "accdefrate\n",
      "3.2396602365\n",
      "\n",
      "accexamcnt\n",
      "268212\n",
      "\n",
      "accexamcompcnt\n",
      "251940\n",
      "\n",
      "carecnt\n",
      "7300\n",
      "\n",
      "clearcnt\n",
      "834\n",
      "\n",
      "createdt\n",
      "2020-03-15 10:01:22.22\n",
      "\n",
      "deathcnt\n",
      "75\n",
      "\n",
      "decidecnt\n",
      "8162\n",
      "\n",
      "examcnt\n",
      "16272\n",
      "\n",
      "resutlnegcnt\n",
      "243778\n",
      "\n",
      "seq\n",
      "74\n",
      "\n",
      "statedt\n",
      "20200315\n",
      "\n",
      "statetime\n",
      "00:00\n",
      "\n",
      "updatedt\n",
      "2020-03-15 10:01:22.22\n",
      "\n"
     ]
    }
   ],
   "source": [
    "for _ in dom.find_all('item')[0].find_all(recursive=False):\n",
    "    print(_.name)\n",
    "    print(_.text.strip())\n",
    "    print()"
   ]
  },
  {
   "cell_type": "markdown",
   "metadata": {},
   "source": [
    "2주차 수업 내용 : 데이터 수집하는 방법!\n",
    "\n",
    "  정형,        반정형(문서),         비정형\n",
    "DB(RDB-ORM), HTML-XML-JSON-(CSV),  텍스트-이미지\n",
    "sqlite,alchemy,   beautifulsoup, request, re -> HTTP\n",
    "              DOM(구조적으로 만들어짐-상하관계),            parser(html.parser, lxml-안정적,빠른, html5lib-브라우저)\n",
    "     * HTML은 not well-formed 문서이므로 실제 제작된 DOM이\n",
    "       다른 모습일 수 있다.\n",
    "\\* 불법 조심 : robots.txt, 출처 Opt-out형태로 요청 있을 시 삭제, 그것도 없으면 API 사용.\n",
    "\n",
    "=> Cralwer(Scraping) : 빅데이터 수집기"
   ]
  },
  {
   "cell_type": "code",
   "execution_count": null,
   "metadata": {},
   "outputs": [],
   "source": [
    "# CSSOM\n",
    "# DOM을 만들 때 CSS를 사용할 수 있음. Object 모델이므로 ... \n",
    "# selector : 특정 태그, 특정 ...을 선택.\n",
    "\n",
    "# 다른 곳에서 다 쓰일 수 있음. (JS, CSS, HTML, ...)\n",
    "# HTML -> DOM Tree (오브젝드 모델)\n",
    "# CSS -> CSS Parser -> CSS Object 파일\n",
    "# 같은 파일이었지만, 서로 바라보는 방식이 다름. 둘을 합쳐버림.\n",
    "# => DOM, CSSOM, Render Tree\n",
    "\n",
    "# CSS의 Selector -> h1.\n",
    "# CSSOM -> 약간의 구조적/관계적이 존재. DOM보다 표현력이 훨씬 더 높음."
   ]
  },
  {
   "cell_type": "code",
   "execution_count": 100,
   "metadata": {},
   "outputs": [],
   "source": [
    "url = 'http://www.pythonscraping.com/pages/page3.html'\n",
    "resp = download(url)\n",
    "dom = BeautifulSoup(resp.text, 'html.parser')"
   ]
  },
  {
   "cell_type": "code",
   "execution_count": 104,
   "metadata": {
    "collapsed": true
   },
   "outputs": [
    {
     "data": {
      "text/plain": [
       "[<td>\n",
       " Vegetable Basket\n",
       " </td>,\n",
       " <td>\n",
       " This vegetable basket is the perfect gift for your health conscious (or overweight) friends!\n",
       " <span class=\"excitingNote\">Now with super-colorful bell peppers!</span>\n",
       " </td>,\n",
       " <td>\n",
       " $15.00\n",
       " </td>,\n",
       " <td>\n",
       " <img src=\"../img/gifts/img1.jpg\"/>\n",
       " </td>,\n",
       " <td>\n",
       " Russian Nesting Dolls\n",
       " </td>,\n",
       " <td>\n",
       " Hand-painted by trained monkeys, these exquisite dolls are priceless! And by \"priceless,\" we mean \"extremely expensive\"! <span class=\"excitingNote\">8 entire dolls per set! Octuple the presents!</span>\n",
       " </td>,\n",
       " <td>\n",
       " $10,000.52\n",
       " </td>,\n",
       " <td>\n",
       " <img src=\"../img/gifts/img2.jpg\"/>\n",
       " </td>,\n",
       " <td>\n",
       " Fish Painting\n",
       " </td>,\n",
       " <td>\n",
       " If something seems fishy about this painting, it's because it's a fish! <span class=\"excitingNote\">Also hand-painted by trained monkeys!</span>\n",
       " </td>,\n",
       " <td>\n",
       " $10,005.00\n",
       " </td>,\n",
       " <td>\n",
       " <img src=\"../img/gifts/img3.jpg\"/>\n",
       " </td>,\n",
       " <td>\n",
       " Dead Parrot\n",
       " </td>,\n",
       " <td>\n",
       " This is an ex-parrot! <span class=\"excitingNote\">Or maybe he's only resting?</span>\n",
       " </td>,\n",
       " <td>\n",
       " $0.50\n",
       " </td>,\n",
       " <td>\n",
       " <img src=\"../img/gifts/img4.jpg\"/>\n",
       " </td>,\n",
       " <td>\n",
       " Mystery Box\n",
       " </td>,\n",
       " <td>\n",
       " If you love suprises, this mystery box is for you! Do not place on light-colored surfaces. May cause oil staining. <span class=\"excitingNote\">Keep your friends guessing!</span>\n",
       " </td>,\n",
       " <td>\n",
       " $1.50\n",
       " </td>,\n",
       " <td>\n",
       " <img src=\"../img/gifts/img6.jpg\"/>\n",
       " </td>]"
      ]
     },
     "execution_count": 104,
     "metadata": {},
     "output_type": "execute_result"
    }
   ],
   "source": [
    "# CSSOM에서 Selector 내용\n",
    " # nth-of-type만 지원?\n",
    "dom.select('td') # td를 쓰면 온갖 종류의 열을 찾게 됨.\n",
    "dom.select('td, tr') # td와 tr을 모두 찾게 됨.\n",
    "dom.select('tr td') # ** tr의 자손 중에 td를 찾으라는 뜻. 즉, find(recursive=True)\n",
    "dom.select('tr>td') # ** tr의 자손 중에 td만을 찾으라는 뜻. find(recursive=False)\n",
    "\n",
    "          1열    2열     3열  ....\n",
    "1행<tr>\n",
    "2행<tr>\n",
    "3행<tr>\n",
    "\n",
    "select('tr') = 3개\n",
    "select('td') = 행*열 [1,2,3,4,5,...]\n",
    "select('tr td') = (자손)행*열 [1,2,3,4,5,...]\n",
    "select('tr > td') = (자식)행*열 [1,2,3,4,5,...]\n",
    "select('tr > td:nth-of-type(2)') = 1행2열, 2행2열, 3행2열, ..."
   ]
  },
  {
   "cell_type": "code",
   "execution_count": 107,
   "metadata": {},
   "outputs": [
    {
     "data": {
      "text/plain": [
       "['$15.00', '$10,000.52', '$10,005.00', '$0.50', '$1.50']"
      ]
     },
     "execution_count": 107,
     "metadata": {},
     "output_type": "execute_result"
    }
   ],
   "source": [
    "[_.text.strip() for _ in dom.select('tr > td:nth-of-type(3)')]"
   ]
  },
  {
   "cell_type": "code",
   "execution_count": null,
   "metadata": {},
   "outputs": [],
   "source": [
    "* 중요\n",
    "tr > td:nth of type 각 행에서 자식 열의 몇 번째\n",
    "     td:nth of type 모든 열에서 몇 번째\n",
    "tr td:nth of type   각 행의 모든 열의 몇 번째"
   ]
  },
  {
   "cell_type": "code",
   "execution_count": 112,
   "metadata": {
    "scrolled": true
   },
   "outputs": [
    {
     "ename": "SelectorSyntaxError",
     "evalue": "Malformed attribute selector at position 26\n  line 1:\ntr > td:nth-of-type(4) img[src^=..]\n                          ^",
     "output_type": "error",
     "traceback": [
      "\u001b[1;31m---------------------------------------------------------------------------\u001b[0m",
      "\u001b[1;31mSelectorSyntaxError\u001b[0m                       Traceback (most recent call last)",
      "\u001b[1;32m<ipython-input-112-bece2df8a72b>\u001b[0m in \u001b[0;36m<module>\u001b[1;34m\u001b[0m\n\u001b[0;32m      1\u001b[0m \u001b[1;31m# dom.select('tr > td:nth-of-type(4) > img')\u001b[0m\u001b[1;33m\u001b[0m\u001b[1;33m\u001b[0m\u001b[1;33m\u001b[0m\u001b[0m\n\u001b[0;32m      2\u001b[0m \u001b[1;31m# dom.select('tr > td:nth-of-type(4) img[src$=jpg]')\u001b[0m\u001b[1;33m\u001b[0m\u001b[1;33m\u001b[0m\u001b[1;33m\u001b[0m\u001b[0m\n\u001b[1;32m----> 3\u001b[1;33m \u001b[0mdom\u001b[0m\u001b[1;33m.\u001b[0m\u001b[0mselect\u001b[0m\u001b[1;33m(\u001b[0m\u001b[1;34m'tr > td:nth-of-type(4) img[src^=..]'\u001b[0m\u001b[1;33m)\u001b[0m\u001b[1;33m\u001b[0m\u001b[1;33m\u001b[0m\u001b[0m\n\u001b[0m",
      "\u001b[1;32m~\\anaconda3\\lib\\site-packages\\bs4\\element.py\u001b[0m in \u001b[0;36mselect\u001b[1;34m(self, selector, namespaces, limit, **kwargs)\u001b[0m\n\u001b[0;32m   1867\u001b[0m             )\n\u001b[0;32m   1868\u001b[0m \u001b[1;33m\u001b[0m\u001b[0m\n\u001b[1;32m-> 1869\u001b[1;33m         \u001b[0mresults\u001b[0m \u001b[1;33m=\u001b[0m \u001b[0msoupsieve\u001b[0m\u001b[1;33m.\u001b[0m\u001b[0mselect\u001b[0m\u001b[1;33m(\u001b[0m\u001b[0mselector\u001b[0m\u001b[1;33m,\u001b[0m \u001b[0mself\u001b[0m\u001b[1;33m,\u001b[0m \u001b[0mnamespaces\u001b[0m\u001b[1;33m,\u001b[0m \u001b[0mlimit\u001b[0m\u001b[1;33m,\u001b[0m \u001b[1;33m**\u001b[0m\u001b[0mkwargs\u001b[0m\u001b[1;33m)\u001b[0m\u001b[1;33m\u001b[0m\u001b[1;33m\u001b[0m\u001b[0m\n\u001b[0m\u001b[0;32m   1870\u001b[0m \u001b[1;33m\u001b[0m\u001b[0m\n\u001b[0;32m   1871\u001b[0m         \u001b[1;31m# We do this because it's more consistent and because\u001b[0m\u001b[1;33m\u001b[0m\u001b[1;33m\u001b[0m\u001b[1;33m\u001b[0m\u001b[0m\n",
      "\u001b[1;32m~\\anaconda3\\lib\\site-packages\\soupsieve\\__init__.py\u001b[0m in \u001b[0;36mselect\u001b[1;34m(select, tag, namespaces, limit, flags, **kwargs)\u001b[0m\n\u001b[0;32m     96\u001b[0m     \u001b[1;34m\"\"\"Select the specified tags.\"\"\"\u001b[0m\u001b[1;33m\u001b[0m\u001b[1;33m\u001b[0m\u001b[0m\n\u001b[0;32m     97\u001b[0m \u001b[1;33m\u001b[0m\u001b[0m\n\u001b[1;32m---> 98\u001b[1;33m     \u001b[1;32mreturn\u001b[0m \u001b[0mcompile\u001b[0m\u001b[1;33m(\u001b[0m\u001b[0mselect\u001b[0m\u001b[1;33m,\u001b[0m \u001b[0mnamespaces\u001b[0m\u001b[1;33m,\u001b[0m \u001b[0mflags\u001b[0m\u001b[1;33m,\u001b[0m \u001b[1;33m**\u001b[0m\u001b[0mkwargs\u001b[0m\u001b[1;33m)\u001b[0m\u001b[1;33m.\u001b[0m\u001b[0mselect\u001b[0m\u001b[1;33m(\u001b[0m\u001b[0mtag\u001b[0m\u001b[1;33m,\u001b[0m \u001b[0mlimit\u001b[0m\u001b[1;33m)\u001b[0m\u001b[1;33m\u001b[0m\u001b[1;33m\u001b[0m\u001b[0m\n\u001b[0m\u001b[0;32m     99\u001b[0m \u001b[1;33m\u001b[0m\u001b[0m\n\u001b[0;32m    100\u001b[0m \u001b[1;33m\u001b[0m\u001b[0m\n",
      "\u001b[1;32m~\\anaconda3\\lib\\site-packages\\soupsieve\\__init__.py\u001b[0m in \u001b[0;36mcompile\u001b[1;34m(pattern, namespaces, flags, **kwargs)\u001b[0m\n\u001b[0;32m     60\u001b[0m         \u001b[1;32mreturn\u001b[0m \u001b[0mpattern\u001b[0m\u001b[1;33m\u001b[0m\u001b[1;33m\u001b[0m\u001b[0m\n\u001b[0;32m     61\u001b[0m \u001b[1;33m\u001b[0m\u001b[0m\n\u001b[1;32m---> 62\u001b[1;33m     \u001b[1;32mreturn\u001b[0m \u001b[0mcp\u001b[0m\u001b[1;33m.\u001b[0m\u001b[0m_cached_css_compile\u001b[0m\u001b[1;33m(\u001b[0m\u001b[0mpattern\u001b[0m\u001b[1;33m,\u001b[0m \u001b[0mnamespaces\u001b[0m\u001b[1;33m,\u001b[0m \u001b[0mcustom\u001b[0m\u001b[1;33m,\u001b[0m \u001b[0mflags\u001b[0m\u001b[1;33m)\u001b[0m\u001b[1;33m\u001b[0m\u001b[1;33m\u001b[0m\u001b[0m\n\u001b[0m\u001b[0;32m     63\u001b[0m \u001b[1;33m\u001b[0m\u001b[0m\n\u001b[0;32m     64\u001b[0m \u001b[1;33m\u001b[0m\u001b[0m\n",
      "\u001b[1;32m~\\anaconda3\\lib\\site-packages\\soupsieve\\css_parser.py\u001b[0m in \u001b[0;36m_cached_css_compile\u001b[1;34m(pattern, namespaces, custom, flags)\u001b[0m\n\u001b[0;32m    206\u001b[0m     return cm.SoupSieve(\n\u001b[0;32m    207\u001b[0m         \u001b[0mpattern\u001b[0m\u001b[1;33m,\u001b[0m\u001b[1;33m\u001b[0m\u001b[1;33m\u001b[0m\u001b[0m\n\u001b[1;32m--> 208\u001b[1;33m         \u001b[0mCSSParser\u001b[0m\u001b[1;33m(\u001b[0m\u001b[0mpattern\u001b[0m\u001b[1;33m,\u001b[0m \u001b[0mcustom\u001b[0m\u001b[1;33m=\u001b[0m\u001b[0mcustom_selectors\u001b[0m\u001b[1;33m,\u001b[0m \u001b[0mflags\u001b[0m\u001b[1;33m=\u001b[0m\u001b[0mflags\u001b[0m\u001b[1;33m)\u001b[0m\u001b[1;33m.\u001b[0m\u001b[0mprocess_selectors\u001b[0m\u001b[1;33m(\u001b[0m\u001b[1;33m)\u001b[0m\u001b[1;33m,\u001b[0m\u001b[1;33m\u001b[0m\u001b[1;33m\u001b[0m\u001b[0m\n\u001b[0m\u001b[0;32m    209\u001b[0m         \u001b[0mnamespaces\u001b[0m\u001b[1;33m,\u001b[0m\u001b[1;33m\u001b[0m\u001b[1;33m\u001b[0m\u001b[0m\n\u001b[0;32m    210\u001b[0m         \u001b[0mcustom\u001b[0m\u001b[1;33m,\u001b[0m\u001b[1;33m\u001b[0m\u001b[1;33m\u001b[0m\u001b[0m\n",
      "\u001b[1;32m~\\anaconda3\\lib\\site-packages\\soupsieve\\css_parser.py\u001b[0m in \u001b[0;36mprocess_selectors\u001b[1;34m(self, index, flags)\u001b[0m\n\u001b[0;32m   1041\u001b[0m         \u001b[1;34m\"\"\"Process selectors.\"\"\"\u001b[0m\u001b[1;33m\u001b[0m\u001b[1;33m\u001b[0m\u001b[0m\n\u001b[0;32m   1042\u001b[0m \u001b[1;33m\u001b[0m\u001b[0m\n\u001b[1;32m-> 1043\u001b[1;33m         \u001b[1;32mreturn\u001b[0m \u001b[0mself\u001b[0m\u001b[1;33m.\u001b[0m\u001b[0mparse_selectors\u001b[0m\u001b[1;33m(\u001b[0m\u001b[0mself\u001b[0m\u001b[1;33m.\u001b[0m\u001b[0mselector_iter\u001b[0m\u001b[1;33m(\u001b[0m\u001b[0mself\u001b[0m\u001b[1;33m.\u001b[0m\u001b[0mpattern\u001b[0m\u001b[1;33m)\u001b[0m\u001b[1;33m,\u001b[0m \u001b[0mindex\u001b[0m\u001b[1;33m,\u001b[0m \u001b[0mflags\u001b[0m\u001b[1;33m)\u001b[0m\u001b[1;33m\u001b[0m\u001b[1;33m\u001b[0m\u001b[0m\n\u001b[0m\u001b[0;32m   1044\u001b[0m \u001b[1;33m\u001b[0m\u001b[0m\n\u001b[0;32m   1045\u001b[0m \u001b[1;33m\u001b[0m\u001b[0m\n",
      "\u001b[1;32m~\\anaconda3\\lib\\site-packages\\soupsieve\\css_parser.py\u001b[0m in \u001b[0;36mparse_selectors\u001b[1;34m(self, iselector, index, flags)\u001b[0m\n\u001b[0;32m    892\u001b[0m         \u001b[1;32mtry\u001b[0m\u001b[1;33m:\u001b[0m\u001b[1;33m\u001b[0m\u001b[1;33m\u001b[0m\u001b[0m\n\u001b[0;32m    893\u001b[0m             \u001b[1;32mwhile\u001b[0m \u001b[1;32mTrue\u001b[0m\u001b[1;33m:\u001b[0m\u001b[1;33m\u001b[0m\u001b[1;33m\u001b[0m\u001b[0m\n\u001b[1;32m--> 894\u001b[1;33m                 \u001b[0mkey\u001b[0m\u001b[1;33m,\u001b[0m \u001b[0mm\u001b[0m \u001b[1;33m=\u001b[0m \u001b[0mnext\u001b[0m\u001b[1;33m(\u001b[0m\u001b[0miselector\u001b[0m\u001b[1;33m)\u001b[0m\u001b[1;33m\u001b[0m\u001b[1;33m\u001b[0m\u001b[0m\n\u001b[0m\u001b[0;32m    895\u001b[0m \u001b[1;33m\u001b[0m\u001b[0m\n\u001b[0;32m    896\u001b[0m                 \u001b[1;31m# Handle parts\u001b[0m\u001b[1;33m\u001b[0m\u001b[1;33m\u001b[0m\u001b[1;33m\u001b[0m\u001b[0m\n",
      "\u001b[1;32m~\\anaconda3\\lib\\site-packages\\soupsieve\\css_parser.py\u001b[0m in \u001b[0;36mselector_iter\u001b[1;34m(self, pattern)\u001b[0m\n\u001b[0;32m   1034\u001b[0m                 \u001b[1;32melse\u001b[0m\u001b[1;33m:\u001b[0m\u001b[1;33m\u001b[0m\u001b[1;33m\u001b[0m\u001b[0m\n\u001b[0;32m   1035\u001b[0m                     \u001b[0mmsg\u001b[0m \u001b[1;33m=\u001b[0m \u001b[1;34m\"Invalid character {!r} position {}\"\u001b[0m\u001b[1;33m.\u001b[0m\u001b[0mformat\u001b[0m\u001b[1;33m(\u001b[0m\u001b[0mc\u001b[0m\u001b[1;33m,\u001b[0m \u001b[0mindex\u001b[0m\u001b[1;33m)\u001b[0m\u001b[1;33m\u001b[0m\u001b[1;33m\u001b[0m\u001b[0m\n\u001b[1;32m-> 1036\u001b[1;33m                 \u001b[1;32mraise\u001b[0m \u001b[0mSelectorSyntaxError\u001b[0m\u001b[1;33m(\u001b[0m\u001b[0mmsg\u001b[0m\u001b[1;33m,\u001b[0m \u001b[0mself\u001b[0m\u001b[1;33m.\u001b[0m\u001b[0mpattern\u001b[0m\u001b[1;33m,\u001b[0m \u001b[0mindex\u001b[0m\u001b[1;33m)\u001b[0m\u001b[1;33m\u001b[0m\u001b[1;33m\u001b[0m\u001b[0m\n\u001b[0m\u001b[0;32m   1037\u001b[0m         \u001b[1;32mif\u001b[0m \u001b[0mself\u001b[0m\u001b[1;33m.\u001b[0m\u001b[0mdebug\u001b[0m\u001b[1;33m:\u001b[0m  \u001b[1;31m# pragma: no cover\u001b[0m\u001b[1;33m\u001b[0m\u001b[1;33m\u001b[0m\u001b[0m\n\u001b[0;32m   1038\u001b[0m             \u001b[0mprint\u001b[0m\u001b[1;33m(\u001b[0m\u001b[1;34m'## END PARSING'\u001b[0m\u001b[1;33m)\u001b[0m\u001b[1;33m\u001b[0m\u001b[1;33m\u001b[0m\u001b[0m\n",
      "\u001b[1;31mSelectorSyntaxError\u001b[0m: Malformed attribute selector at position 26\n  line 1:\ntr > td:nth-of-type(4) img[src^=..]\n                          ^"
     ]
    }
   ],
   "source": [
    "# dom.select('tr > td:nth-of-type(4) > img')\n",
    "# dom.select('tr > td:nth-of-type(4) img[src$=jpg]')\n",
    "dom.select('tr > td:nth-of-type(4) img[src^=..]')   # ??"
   ]
  },
  {
   "cell_type": "code",
   "execution_count": 116,
   "metadata": {
    "scrolled": true
   },
   "outputs": [
    {
     "data": {
      "text/plain": [
       "(1,\n",
       " [<tr class=\"gift\" id=\"gift1\"><td>\n",
       "  Vegetable Basket\n",
       "  </td><td>\n",
       "  This vegetable basket is the perfect gift for your health conscious (or overweight) friends!\n",
       "  <span class=\"excitingNote\">Now with super-colorful bell peppers!</span>\n",
       "  </td><td>\n",
       "  $15.00\n",
       "  </td><td>\n",
       "  <img src=\"../img/gifts/img1.jpg\"/>\n",
       "  </td></tr>,\n",
       "  <tr class=\"gift\" id=\"gift2\"><td>\n",
       "  Russian Nesting Dolls\n",
       "  </td><td>\n",
       "  Hand-painted by trained monkeys, these exquisite dolls are priceless! And by \"priceless,\" we mean \"extremely expensive\"! <span class=\"excitingNote\">8 entire dolls per set! Octuple the presents!</span>\n",
       "  </td><td>\n",
       "  $10,000.52\n",
       "  </td><td>\n",
       "  <img src=\"../img/gifts/img2.jpg\"/>\n",
       "  </td></tr>,\n",
       "  <tr class=\"gift\" id=\"gift3\"><td>\n",
       "  Fish Painting\n",
       "  </td><td>\n",
       "  If something seems fishy about this painting, it's because it's a fish! <span class=\"excitingNote\">Also hand-painted by trained monkeys!</span>\n",
       "  </td><td>\n",
       "  $10,005.00\n",
       "  </td><td>\n",
       "  <img src=\"../img/gifts/img3.jpg\"/>\n",
       "  </td></tr>,\n",
       "  <tr class=\"gift\" id=\"gift4\"><td>\n",
       "  Dead Parrot\n",
       "  </td><td>\n",
       "  This is an ex-parrot! <span class=\"excitingNote\">Or maybe he's only resting?</span>\n",
       "  </td><td>\n",
       "  $0.50\n",
       "  </td><td>\n",
       "  <img src=\"../img/gifts/img4.jpg\"/>\n",
       "  </td></tr>,\n",
       "  <tr class=\"gift\" id=\"gift5\"><td>\n",
       "  Mystery Box\n",
       "  </td><td>\n",
       "  If you love suprises, this mystery box is for you! Do not place on light-colored surfaces. May cause oil staining. <span class=\"excitingNote\">Keep your friends guessing!</span>\n",
       "  </td><td>\n",
       "  $1.50\n",
       "  </td><td>\n",
       "  <img src=\"../img/gifts/img6.jpg\"/>\n",
       "  </td></tr>])"
      ]
     },
     "execution_count": 116,
     "metadata": {},
     "output_type": "execute_result"
    }
   ],
   "source": [
    "len(dom.select('#gift1')), dom.select('.gift')"
   ]
  },
  {
   "cell_type": "code",
   "execution_count": null,
   "metadata": {},
   "outputs": [],
   "source": [
    "# 앞선 예시들이 이 selector을 사용하면 얼마나 간단해지는 지!"
   ]
  },
  {
   "cell_type": "code",
   "execution_count": 155,
   "metadata": {},
   "outputs": [],
   "source": [
    "url = 'https://www.google.com/search'\n",
    "params = {\n",
    "    'q' : ['파이썬'],\n",
    "    'hl': ['ko'],\n",
    "    'sxsrf': ['ALeKk00P1KJuqgmTCupZG-YsxVpVk3mRGw:1625639013354'],\n",
    "    'source': ['hp'],\n",
    "    'ei': ['ZUjlYJa3CsWE-gSfoJqoBA'],\n",
    "    'iflsig': ['AINFCbYAAAAAYOVWdT9ryM-9TZT3LtSw2ZwMuAiXXfsN'],\n",
    "    'gs_lcp': ['Cgdnd3Mtd2l6EAEYATIHCCMQ6gIQJzIHCCMQ6gIQJzIHCCMQ6gIQJzIHCCMQ6gIQJzIHCCMQ6gIQJzIHCCMQ6gIQJzIHCCMQ6gIQJzIHCCMQ6gIQJzIHCCMQ6gIQJzIHCCMQ6gIQJ1AAWABg8ckFaAFwAHgAgAEAiAEAkgEAmAEAqgEHZ3dzLXdperABCg'],\n",
    "    'sclient': ['gws-wiz']\n",
    "}\n",
    "\n",
    "header = {\n",
    "    'user-agent':'Mozilla/5.0 (Windows NT 10.0; Win64; x64) AppleWebKit/537.36 (KHTML, like Gecko) Chrome/91.0.4472.124 Safari/537.36'\n",
    "}\n",
    "\n",
    "params['q'] = '파이썬'\n",
    "\n",
    "resp = download(url, params, header, 'GET')"
   ]
  },
  {
   "cell_type": "code",
   "execution_count": 118,
   "metadata": {},
   "outputs": [],
   "source": [
    "dom = BeautifulSoup(resp.text, 'html5lib')"
   ]
  },
  {
   "cell_type": "code",
   "execution_count": 121,
   "metadata": {},
   "outputs": [
    {
     "data": {
      "text/plain": [
       "(12, 8, 8)"
      ]
     },
     "execution_count": 121,
     "metadata": {},
     "output_type": "execute_result"
    }
   ],
   "source": [
    "len(dom.select('h3')), len(dom.select('h3.LC20lb'))\\\n",
    ", len(dom.select('h3.LC20lb.DKV0Md'))"
   ]
  },
  {
   "cell_type": "code",
   "execution_count": 122,
   "metadata": {},
   "outputs": [
    {
     "data": {
      "text/plain": [
       "8"
      ]
     },
     "execution_count": 122,
     "metadata": {},
     "output_type": "execute_result"
    }
   ],
   "source": [
    "# 이건 대신 find 함수와 다르게 부모로 올라갈 수 없음.\n",
    "# 대신 이웃한 애들은 찾을 수 있다.\n",
    "len(dom.select('br + h3'))"
   ]
  },
  {
   "cell_type": "code",
   "execution_count": 126,
   "metadata": {},
   "outputs": [
    {
     "data": {
      "text/plain": [
       "<a data-ved=\"2ahUKEwjT6-W7udLxAhU_GDQIHdWEDBwQFjAAegQIBRAD\" href=\"https://docs.python.org/ko/3/tutorial/index.html\" ping=\"/url?sa=t&amp;source=web&amp;rct=j&amp;url=https://docs.python.org/ko/3/tutorial/index.html&amp;ved=2ahUKEwjT6-W7udLxAhU_GDQIHdWEDBwQFjAAegQIBRAD\"><br/><h3 class=\"LC20lb DKV0Md\">파이썬 자습서 — Python 3.9.6 문서</h3><div class=\"TbwUpd NJjxre\"><cite class=\"iUh30 Zu0yb qLRx3b tjvcx\">https://docs.python.org<span class=\"dyjrff qzEoUe\"> › tutorial</span></cite></div></a>"
      ]
     },
     "execution_count": 126,
     "metadata": {},
     "output_type": "execute_result"
    }
   ],
   "source": [
    "dom.select('br + h3')[0].find_parent()"
   ]
  },
  {
   "cell_type": "code",
   "execution_count": 127,
   "metadata": {},
   "outputs": [
    {
     "name": "stdout",
     "output_type": "stream",
     "text": [
      "파이썬 자습서 — Python 3.9.6 문서\n",
      "https://docs.python.org/ko/3/tutorial/index.html\n",
      "파이썬 - 위키백과, 우리 모두의 백과사전\n",
      "https://ko.wikipedia.org/wiki/%ED%8C%8C%EC%9D%B4%EC%8D%AC\n",
      "Python - 나무위키\n",
      "https://namu.wiki/w/Python\n",
      "1 파이썬 시작하기 - 왕초보를 위한 Python: 쉽게 풀어 쓴 기초 ...\n",
      "https://wikidocs.net/43\n",
      "Python - 파이썬이란? - 코딩의 시작, TCP School\n",
      "http://tcpschool.com/python/intro\n",
      "모두를 위한 프로그래밍 : 파이썬 강좌소개 : edwith\n",
      "https://www.edwith.org/pythonforeverybody\n",
      "1 장 파이썬(Python) 입문 | 파이썬 프로그래밍 기초\n",
      "http://bigdata.dongguk.ac.kr/lectures/Python/_book/%ED%8C%8C%EC%9D%B4%EC%8D%AC%EC%9E%85%EB%AC%B8.html\n",
      "파이썬을 파이썬답게 | 프로그래머스\n",
      "https://programmers.co.kr/learn/courses/4008\n"
     ]
    }
   ],
   "source": [
    "# CSS 문법(Selector)을 사용하면 훨씬 더 간단해짐.\n",
    "for _ in dom.select('br + h3'):\n",
    "    print(_.text.strip())\n",
    "    print(_.find_parent().attrs['href'])"
   ]
  },
  {
   "cell_type": "code",
   "execution_count": 128,
   "metadata": {},
   "outputs": [],
   "source": [
    "# 다음 예시인 네이버..\n",
    "url = 'https://search.naver.com/search.naver'\n",
    "params = {\n",
    "    'where': ['nexearch'],\n",
    "    'sm': ['top_hty'],\n",
    "    'fbm': ['0'],\n",
    "    'ie': ['utf8'],\n",
    "    'query': ['통영여행']\n",
    "}\n",
    "\n",
    "resp = download(url, params, header, 'GET')"
   ]
  },
  {
   "cell_type": "code",
   "execution_count": 130,
   "metadata": {},
   "outputs": [],
   "source": [
    "dom = BeautifulSoup(resp.text, 'html5lib')"
   ]
  },
  {
   "cell_type": "code",
   "execution_count": 133,
   "metadata": {},
   "outputs": [
    {
     "name": "stdout",
     "output_type": "stream",
     "text": [
      "통영 여행 놀거리 아라마린서비스 요트투어\n",
      "https://blog.naver.com/obh1680/222398983097\n",
      "거제 통영 여행 외도 포함 내품 핫플 코스\n",
      "https://blog.naver.com/lightsout/222288330327\n",
      "통영 여행코스 갈만한곳 이순신공원 바다 전망\n",
      "https://blog.naver.com/suk4408/222338705742\n",
      "거제 통영 여행 코스 서호시장부터 동피랑벽화마을까지\n",
      "https://blog.naver.com/bada3347/222360711590\n",
      "통영 여행코스 이순신공원, 통영 서피랑마을까지\n",
      "https://blog.naver.com/hnmh2332/222313684322\n",
      "국내 1박2일 통영 여행 디피랑 서피랑 동피랑 벽화마을 이순신공원\n",
      "https://blog.naver.com/hloveh01/222386234715\n",
      "거제 통영 여행 코스 통영 이순신공원 등 1박2일 여행지\n",
      "https://blog.naver.com/ultrabat/222362354570\n",
      "통영 가볼만한곳 이순신공원 통영 여행코스\n",
      "https://blog.naver.com/jyleen/222342610447\n",
      "아이와 비오는 통영여행 3박 4일 코스\n",
      "https://blog.naver.com/sidna/222358406013\n"
     ]
    }
   ],
   "source": [
    "for _ in dom.select('.api_txt_lines.total_tit'):\n",
    "    print(_.text.strip())\n",
    "    print(_.attrs['href'])"
   ]
  },
  {
   "cell_type": "markdown",
   "metadata": {},
   "source": [
    "#### Scraping\n",
    "\n",
    "---\n",
    "### Crawler\n",
    "잘 잠. "
   ]
  },
  {
   "cell_type": "code",
   "execution_count": 188,
   "metadata": {},
   "outputs": [],
   "source": [
    "from requests import request, HTTPError\n",
    "from requests.compat import urljoin, urlparse, quote, unquote\n",
    "from time import sleep\n",
    "\n",
    "def download(url, params={}, headers={}, method='GET', maximum=1):\n",
    "    resp = request(url=url, params=params if method=='GET' else {},\n",
    "            data=params if method=='POST' else {},\n",
    "            headers=headers, method=method)\n",
    "    \n",
    "    \n",
    "    try:\n",
    "        resp.raise_for_status()\n",
    "    except HTTPError as e:\n",
    "        if 500 <= e.response.status_code < 600 and maximum > 0:\n",
    "            print('retry')\n",
    "            sleep(1) # 1초?\n",
    "            resp = download(url, params, headers, method, maximum-1) # inf loop\n",
    "        else:\n",
    "            print(e)\n",
    "        \n",
    "    return resp"
   ]
  },
  {
   "cell_type": "code",
   "execution_count": 189,
   "metadata": {},
   "outputs": [],
   "source": [
    "def can_fetch(url, path):\n",
    "    resp = download(urljoin(url, '/robots.txt'))\n",
    "    allow = list()\n",
    "    disallow = list()\n",
    "    \n",
    "    \n",
    "    if resp.status_code == 200:\n",
    "        useragent = '*'\n",
    "        for _ in resp.text.splitlines():\n",
    "            pair = _.split(':')\n",
    "            if len(pair) == 2:\n",
    "                if pair[0].strip() == 'User-agent':\n",
    "                    useragent = pair[1]\n",
    "                else:\n",
    "                    if pair[1].strip() == 'Allow':\n",
    "                        allow.append(pair[1].strip())\n",
    "                    else:\n",
    "                        disallow.append(pair[1].strip())\n",
    "      \n",
    "    return True if path in allow else False, allow, disallow"
   ]
  },
  {
   "cell_type": "code",
   "execution_count": 230,
   "metadata": {},
   "outputs": [],
   "source": [
    "# 큐로 push, pop 구현할 거\n",
    "def new_download(url):\n",
    "    _ = urlparse(url)\n",
    "    print(can_fetch(_[0]+'://'+_[1], _[2])[0])\n",
    "    \n",
    "    return download(url, headers=header)"
   ]
  },
  {
   "cell_type": "code",
   "execution_count": 191,
   "metadata": {},
   "outputs": [
    {
     "name": "stdout",
     "output_type": "stream",
     "text": [
      "False\n"
     ]
    }
   ],
   "source": [
    "Queue = list() # 주소 값 들어가있을 거\n",
    "seed = 'https://www.google.com/search?q=%ED%8C%8C%EC%9D%B4%EC%8D%AC&sxsrf=ALeKk01gdzjZRape3rH9aLVuHvafXDcAhA%3A1625713882253&source=hp&ei=2mzmYMaADYnYz7sPir-w4AQ&iflsig=AINFCbYAAAAAYOZ66p1XqhEgkX96vWn92yq037Si3Vwk&oq=%ED%8C%8C%EC%9D%B4%EC%8D%AC&gs_lcp=Cgdnd3Mtd2l6EAMyBAgjECcyBAgjECcyBAgjECcyBQgAELEDMgUIABCxAzIFCAAQsQMyBQgAELEDMgUIABCxAzIFCAAQsQMyBQgAELEDOggIABCxAxCDAToCCABQsgRYyQlgtwpoAnAAeAKAAXeIAfgFkgEDMC43mAEAoAEBqgEHZ3dzLXdpeg&sclient=gws-wiz&ved=0ahUKEwjG1dKTwNLxAhUJ7HMBHYofDEwQ4dUDCAc&uact=5'\n",
    "\n",
    "new_download(seed)"
   ]
  },
  {
   "cell_type": "code",
   "execution_count": 158,
   "metadata": {},
   "outputs": [],
   "source": [
    "dom = BeautifulSoup(resp.text, 'lxml')"
   ]
  },
  {
   "cell_type": "code",
   "execution_count": 159,
   "metadata": {},
   "outputs": [
    {
     "data": {
      "text/plain": [
       "114"
      ]
     },
     "execution_count": 159,
     "metadata": {},
     "output_type": "execute_result"
    }
   ],
   "source": [
    "len(dom.select('a'))"
   ]
  },
  {
   "cell_type": "code",
   "execution_count": 161,
   "metadata": {},
   "outputs": [
    {
     "data": {
      "text/plain": [
       "(True, 107)"
      ]
     },
     "execution_count": 161,
     "metadata": {},
     "output_type": "execute_result"
    }
   ],
   "source": [
    "# 링크가 항상 a href로 걸리는 것이 아니라 내부적인 JS로 돌아갈 수도 있고, 다른 경우가 있을 수 있음.\n",
    "_.has_attr('href'), len(dom.select('a[href]'))\n",
    "\n",
    "# 이게 필터링이 훨씬 더 잘 될거임."
   ]
  },
  {
   "cell_type": "code",
   "execution_count": 162,
   "metadata": {},
   "outputs": [],
   "source": [
    "links = [_.attrs['href'] for _ in dom.select('a[href]')]"
   ]
  },
  {
   "cell_type": "code",
   "execution_count": 164,
   "metadata": {},
   "outputs": [
    {
     "data": {
      "text/plain": [
       "['/search?q=%ED%8C%8C%EC%9D%B4%EC%8D%AC&hl=ko&gbv=1&sei=fm3mYOCZGJX49AOviKCYAw',\n",
       " 'https://support.google.com/websearch/answer/181196?hl=ko',\n",
       " 'https://www.google.com/webhp?hl=ko&sa=X&ved=0ahUKEwjg0PfhwNLxAhUVPH0KHS8ECDMQPAgI',\n",
       " '#',\n",
       " '/search?q=%ED%8C%8C%EC%9D%B4%EC%8D%AC&hl=ko&source=lnms&tbm=isch&sa=X&ved=2ahUKEwjg0PfhwNLxAhUVPH0KHS8ECDMQ_AUoAXoECAEQAw',\n",
       " '/search?q=%ED%8C%8C%EC%9D%B4%EC%8D%AC&hl=ko&source=lnms&tbm=vid&sa=X&ved=2ahUKEwjg0PfhwNLxAhUVPH0KHS8ECDMQ_AUoAnoECAEQBA',\n",
       " '/search?q=%ED%8C%8C%EC%9D%B4%EC%8D%AC&hl=ko&source=lnms&tbm=bks&sa=X&ved=2ahUKEwjg0PfhwNLxAhUVPH0KHS8ECDMQ_AUoA3oECAEQBQ',\n",
       " '/search?q=%ED%8C%8C%EC%9D%B4%EC%8D%AC&hl=ko&source=lnms&tbm=nws&sa=X&ved=2ahUKEwjg0PfhwNLxAhUVPH0KHS8ECDMQ_AUoBHoECAEQBg',\n",
       " '/preferences',\n",
       " 'https://docs.python.org/ko/3/tutorial/index.html',\n",
       " '#',\n",
       " 'https://webcache.googleusercontent.com/search?q=cache:Rib_O5KvImcJ:https://docs.python.org/ko/3/tutorial/index.html+&cd=1&hl=ko&ct=clnk&gl=kr',\n",
       " 'https://docs.python.org/ko/3/tutorial/interpreter.html',\n",
       " 'https://docs.python.org/ko/3/tutorial/appetite.html',\n",
       " 'https://docs.python.org/ko/3/tutorial/controlflow.html',\n",
       " 'https://docs.python.org/ko/3/tutorial/datastructures.html',\n",
       " 'https://ko.wikipedia.org/wiki/%ED%8C%8C%EC%9D%B4%EC%8D%AC',\n",
       " '#',\n",
       " 'https://webcache.googleusercontent.com/search?q=cache:OL25IRr7kSMJ:https://ko.wikipedia.org/wiki/%25ED%258C%258C%25EC%259D%25B4%25EC%258D%25AC+&cd=2&hl=ko&ct=clnk&gl=kr',\n",
       " '/search?hl=ko&q=related:https://ko.wikipedia.org/wiki/%25ED%258C%258C%25EC%259D%25B4%25EC%258D%25AC+%ED%8C%8C%EC%9D%B4%EC%8D%AC&sa=X&ved=2ahUKEwjg0PfhwNLxAhUVPH0KHS8ECDMQHzABegQIBxAJ',\n",
       " 'https://ko.wikipedia.org/wiki/1991%EB%85%84',\n",
       " 'https://ko.wikipedia.org/wiki/2%EC%9B%94_20%EC%9D%BC',\n",
       " 'https://ko.wikipedia.org/wiki/%EA%B7%80%EB%8F%84_%EB%B0%98_%EB%A1%9C%EC%84%AC',\n",
       " 'https://ko.wikipedia.org/wiki/%ED%8C%8C%EC%9D%B4%EC%8D%AC#%EA%B0%9C%EC%9A%94',\n",
       " 'https://ko.wikipedia.org/wiki/%ED%8C%8C%EC%9D%B4%EC%8D%AC#%EC%97%AD%EC%82%AC',\n",
       " 'https://ko.wikipedia.org/wiki/%ED%8C%8C%EC%9D%B4%EC%8D%AC#%EB%AC%B8%EB%B2%95',\n",
       " 'https://ko.wikipedia.org/wiki/%ED%8C%8C%EC%9D%B4%EC%8D%AC#%EC%9E%90%EB%A3%8C%ED%98%95',\n",
       " 'https://namu.wiki/w/Python',\n",
       " '#',\n",
       " '/search?hl=ko&q=related:https://namu.wiki/w/Python+%ED%8C%8C%EC%9D%B4%EC%8D%AC&sa=X&ved=2ahUKEwjg0PfhwNLxAhUVPH0KHS8ECDMQHzACegQIAxAI',\n",
       " 'https://namu.wiki/w/%ED%8C%8C%EC%9D%B4%EC%84%A0',\n",
       " 'https://namu.wiki/w/Python/%EB%AC%B8%EB%B2%95',\n",
       " 'https://namu.wiki/w/Dropbox?from=%EB%93%9C%EB%A1%AD%EB%B0%95%EC%8A%A4',\n",
       " 'https://namu.wiki/w/%EC%9D%B8%ED%84%B0%ED%94%84%EB%A6%AC%ED%84%B0',\n",
       " 'https://wikidocs.net/43',\n",
       " '#',\n",
       " 'https://webcache.googleusercontent.com/search?q=cache:iAvUjph6SDAJ:https://wikidocs.net/43+&cd=4&hl=ko&ct=clnk&gl=kr',\n",
       " '/search?hl=ko&q=related:https://wikidocs.net/43+%ED%8C%8C%EC%9D%B4%EC%8D%AC&sa=X&ved=2ahUKEwjg0PfhwNLxAhUVPH0KHS8ECDMQHzADegQIDRAJ',\n",
       " 'http://tcpschool.com/python/intro',\n",
       " '#',\n",
       " 'http://webcache.googleusercontent.com/search?q=cache:KNG0NbLFwDQJ:tcpschool.com/python/intro+&cd=5&hl=ko&ct=clnk&gl=kr',\n",
       " 'http://tcpschool.com/python2018/intro',\n",
       " '#',\n",
       " 'http://webcache.googleusercontent.com/search?q=cache:Jw335bbt744J:tcpschool.com/python2018/intro+&cd=6&hl=ko&ct=clnk&gl=kr',\n",
       " 'https://www.youtube.com/watch?v=kWiCuklohdY',\n",
       " 'https://www.youtube.com/watch?v=kWiCuklohdY&t=15790',\n",
       " 'https://www.youtube.com/watch?v=kWiCuklohdY&t=16832',\n",
       " 'https://www.youtube.com/watch?v=yytWGELNeOI&vl=ko',\n",
       " 'https://www.youtube.com/watch?v=8vjgx7joCqg',\n",
       " '/search?hl=ko&tbm=vid&q=%ED%8C%8C%EC%9D%B4%EC%8D%AC&sa=X&ved=2ahUKEwjg0PfhwNLxAhUVPH0KHS8ECDMQ8ccDegQIMBAD',\n",
       " 'https://www.edwith.org/pythonforeverybody',\n",
       " '#',\n",
       " 'https://webcache.googleusercontent.com/search?q=cache:nc2neIY_vO0J:https://www.edwith.org/pythonforeverybody+&cd=10&hl=ko&ct=clnk&gl=kr',\n",
       " 'http://bigdata.dongguk.ac.kr/lectures/Python/_book/%ED%8C%8C%EC%9D%B4%EC%8D%AC%EC%9E%85%EB%AC%B8.html',\n",
       " '#',\n",
       " 'http://webcache.googleusercontent.com/search?q=cache:Ubqsl9AYrqMJ:bigdata.dongguk.ac.kr/lectures/Python/_book/%25ED%258C%258C%25EC%259D%25B4%25EC%258D%25AC%25EC%259E%2585%25EB%25AC%25B8.html+&cd=11&hl=ko&ct=clnk&gl=kr',\n",
       " 'https://programmers.co.kr/learn/courses/4008',\n",
       " '#',\n",
       " 'https://webcache.googleusercontent.com/search?q=cache:emMshaeMLekJ:https://programmers.co.kr/learn/courses/4008+&cd=12&hl=ko&ct=clnk&gl=kr',\n",
       " '/search?hl=ko&q=%ED%8C%8C%EC%9D%B4%EC%8D%AC+%EC%84%A4%EC%B9%98&sa=X&ved=2ahUKEwjg0PfhwNLxAhUVPH0KHS8ECDMQ1QIwDHoECB8QAQ',\n",
       " '/search?hl=ko&q=%ED%8C%8C%EC%9D%B4%EC%8D%AC+%EB%8B%A4%EC%9A%B4&sa=X&ved=2ahUKEwjg0PfhwNLxAhUVPH0KHS8ECDMQ1QIwDXoECB4QAQ',\n",
       " '/search?hl=ko&q=%ED%8C%8C%EC%9D%B4%EC%8D%AC+%EC%82%AC%EC%9D%B4%ED%8A%B8&sa=X&ved=2ahUKEwjg0PfhwNLxAhUVPH0KHS8ECDMQ1QIwDnoECB0QAQ',\n",
       " '/search?hl=ko&q=%ED%8C%8C%EC%9D%B4%EC%8D%AC+%EC%BD%94%EB%94%A9&sa=X&ved=2ahUKEwjg0PfhwNLxAhUVPH0KHS8ECDMQ1QIwD3oECBwQAQ',\n",
       " '/search?hl=ko&q=%ED%8C%8C%EC%9D%B4%EC%8D%AC+//+%EC%97%B0%EC%82%B0%EC%9E%90&sa=X&ved=2ahUKEwjg0PfhwNLxAhUVPH0KHS8ECDMQ1QIwEHoECBcQAQ',\n",
       " '/search?hl=ko&q=%ED%8C%8C%EC%9D%B4%EC%8D%AC+%EA%B2%8C%EC%9E%84&sa=X&ved=2ahUKEwjg0PfhwNLxAhUVPH0KHS8ECDMQ1QIwEXoECBYQAQ',\n",
       " '/search?hl=ko&q=%ED%8C%8C%EC%9D%B4%EC%8D%AC+%EA%B0%95%EC%A2%8C&sa=X&ved=2ahUKEwjg0PfhwNLxAhUVPH0KHS8ECDMQ1QIwEnoECBMQAQ',\n",
       " '/search?hl=ko&q=%ED%8C%8C%EC%9D%B4%EC%8D%AC+%EA%B8%B0%ED%98%B8&sa=X&ved=2ahUKEwjg0PfhwNLxAhUVPH0KHS8ECDMQ1QIwE3oECBAQAQ',\n",
       " '/search?q=%ED%8C%8C%EC%9D%B4%EC%8D%AC&hl=ko&ei=fm3mYOCZGJX49AOviKCYAw&start=10&sa=N&ved=2ahUKEwjg0PfhwNLxAhUVPH0KHS8ECDMQ8tMDegQIARA6',\n",
       " '/search?q=%ED%8C%8C%EC%9D%B4%EC%8D%AC&hl=ko&ei=fm3mYOCZGJX49AOviKCYAw&start=20&sa=N&ved=2ahUKEwjg0PfhwNLxAhUVPH0KHS8ECDMQ8tMDegQIARA8',\n",
       " '/search?q=%ED%8C%8C%EC%9D%B4%EC%8D%AC&hl=ko&ei=fm3mYOCZGJX49AOviKCYAw&start=30&sa=N&ved=2ahUKEwjg0PfhwNLxAhUVPH0KHS8ECDMQ8tMDegQIARA-',\n",
       " '/search?q=%ED%8C%8C%EC%9D%B4%EC%8D%AC&hl=ko&ei=fm3mYOCZGJX49AOviKCYAw&start=40&sa=N&ved=2ahUKEwjg0PfhwNLxAhUVPH0KHS8ECDMQ8tMDegQIARBA',\n",
       " '/search?q=%ED%8C%8C%EC%9D%B4%EC%8D%AC&hl=ko&ei=fm3mYOCZGJX49AOviKCYAw&start=50&sa=N&ved=2ahUKEwjg0PfhwNLxAhUVPH0KHS8ECDMQ8tMDegQIARBC',\n",
       " '/search?q=%ED%8C%8C%EC%9D%B4%EC%8D%AC&hl=ko&ei=fm3mYOCZGJX49AOviKCYAw&start=60&sa=N&ved=2ahUKEwjg0PfhwNLxAhUVPH0KHS8ECDMQ8tMDegQIARBE',\n",
       " '/search?q=%ED%8C%8C%EC%9D%B4%EC%8D%AC&hl=ko&ei=fm3mYOCZGJX49AOviKCYAw&start=70&sa=N&ved=2ahUKEwjg0PfhwNLxAhUVPH0KHS8ECDMQ8tMDegQIARBG',\n",
       " '/search?q=%ED%8C%8C%EC%9D%B4%EC%8D%AC&hl=ko&ei=fm3mYOCZGJX49AOviKCYAw&start=80&sa=N&ved=2ahUKEwjg0PfhwNLxAhUVPH0KHS8ECDMQ8tMDegQIARBI',\n",
       " '/search?q=%ED%8C%8C%EC%9D%B4%EC%8D%AC&hl=ko&ei=fm3mYOCZGJX49AOviKCYAw&start=90&sa=N&ved=2ahUKEwjg0PfhwNLxAhUVPH0KHS8ECDMQ8tMDegQIARBK',\n",
       " '/search?q=%ED%8C%8C%EC%9D%B4%EC%8D%AC&hl=ko&ei=fm3mYOCZGJX49AOviKCYAw&start=10&sa=N&ved=2ahUKEwjg0PfhwNLxAhUVPH0KHS8ECDMQ8NMDegQIARBM',\n",
       " '/search?q=%ED%8C%8C%EC%9D%B4%EC%8D%AC&hl=ko&tbm=isch&source=iu&ictx=1&fir=rbJkZvEjtpmPbM%252CB4tL0EQjL6Em2M%252C%252Fm%252F05z1_&vet=1&usg=AI4_-kRnk3IColqn33yoaSyIFTWG7CtanQ&sa=X&ved=2ahUKEwjg0PfhwNLxAhUVPH0KHS8ECDMQ_B16BAgrEAE#imgrc=rbJkZvEjtpmPbM',\n",
       " '/search?q=%ED%8C%8C%EC%9D%B4%EC%8D%AC&hl=ko&tbm=isch&source=iu&ictx=1&fir=qNkS-1-n86cXIM%252COL25IRr7kSMLRM%252C_&vet=1&usg=AI4_-kSWHCCP_cfIUlsr5un7FwYfPKgkqA&sa=X&ved=2ahUKEwjg0PfhwNLxAhUVPH0KHS8ECDMQ_h16BAguEAE#imgrc=qNkS-1-n86cXIM',\n",
       " '/search?q=%ED%8C%8C%EC%9D%B4%EC%8D%AC&hl=ko&tbm=isch&source=iu&ictx=1&fir=e9WQoajkZCQmtM%252Caio5TDg8-NeSjM%252C_&vet=1&usg=AI4_-kQcxXUqRxlCRlpftHx2rw6-YRPSFA&sa=X&ved=2ahUKEwjg0PfhwNLxAhUVPH0KHS8ECDMQ_h16BAgvEAE#imgrc=e9WQoajkZCQmtM',\n",
       " '/search?q=%ED%8C%8C%EC%9D%B4%EC%8D%AC&hl=ko&tbm=isch&source=iu&ictx=1&fir=5cgUDmUdQnDXqM%252CMxN-5wdV2imRiM%252C_&vet=1&usg=AI4_-kR3pV8gkcAcY7_vISrvVuYZ3oKyhQ&sa=X&ved=2ahUKEwjg0PfhwNLxAhUVPH0KHS8ECDMQ_h16BAgtEAE#imgrc=5cgUDmUdQnDXqM',\n",
       " '/search?q=%ED%8C%8C%EC%9D%B4%EC%8D%AC&hl=ko&tbm=isch&source=iu&ictx=1&fir=Emi1X19wy5gy3M%252CL3PiAt_ZyQTarM%252C_&vet=1&usg=AI4_-kS1v6AepwFa5wLT75TJP5KoU5XwmQ&sa=X&ved=2ahUKEwjg0PfhwNLxAhUVPH0KHS8ECDMQ_h16BAgsEAE#imgrc=Emi1X19wy5gy3M',\n",
       " '/search?source=univ&tbm=isch&q=%ED%8C%8C%EC%9D%B4%EC%8D%AC&hl=ko&sa=X&ved=2ahUKEwjg0PfhwNLxAhUVPH0KHS8ECDMQiR56BAgqEAI',\n",
       " 'https://ko.wikipedia.org/wiki/%ED%8C%8C%EC%9D%B4%EC%8D%AC',\n",
       " '/search?hl=ko&q=%ED%8C%8C%EC%9D%B4%EC%8D%AC+%EB%AF%B8%EB%A6%AC%EB%B3%B4%EA%B8%B0+%EB%B2%84%EC%A0%84+%EC%B6%9C%EC%8B%9C%EC%9D%BC&sa=X&ved=2ahUKEwjg0PfhwNLxAhUVPH0KHS8ECDMQ6BMoADAcegQIJxAC',\n",
       " '/search?hl=ko&q=%ED%8C%8C%EC%9D%B4%EC%8D%AC+%EC%B5%9C%EA%B7%BC+%EB%B2%84%EC%A0%84+%EC%B6%9C%EC%8B%9C%EC%9D%BC&sa=X&ved=2ahUKEwjg0PfhwNLxAhUVPH0KHS8ECDMQ6BMoADAdegQIKBAC',\n",
       " '/search?hl=ko&q=2021%EB%85%84+6%EC%9B%94+28%EC%9D%BC&stick=H4sIAAAAAAAAAONgVhLQL9E3MsyzTLMwMTIxzsktWcQqZGRgZPi6tUXB7M3sKQpGFm_m7gEA1YQsvCkAAAA&sa=X&ved=2ahUKEwjg0PfhwNLxAhUVPH0KHS8ECDMQmxMoATAdegQIKBAD',\n",
       " '/search?hl=ko&q=%ED%8C%8C%EC%9D%B4%EC%8D%AC+%EA%B0%9C%EB%B0%9C%EC%9E%90&sa=X&ved=2ahUKEwjg0PfhwNLxAhUVPH0KHS8ECDMQ6BMoADAeegQIJhAC',\n",
       " '/search?hl=ko&q=%ED%8C%8C%EC%9D%B4%EC%8D%AC+%EC%86%8C%ED%94%84%ED%8A%B8%EC%9B%A8%EC%96%B4+%EC%9E%AC%EB%8B%A8&stick=H4sIAAAAAAAAAAEwAM__CAMiCS9tLzAzM2wxcKIFIO2MjOydtOyNrCDshoztlITtirjsm6jslrQg7J6s64uoR0dBEjAAAAA&sa=X&ved=2ahUKEwjg0PfhwNLxAhUVPH0KHS8ECDMQmxMoATAeegQIJhAD',\n",
       " '/search?hl=ko&q=%ED%8C%8C%EC%9D%B4%EC%8D%AC+%EC%B5%9C%EA%B7%BC+%EB%B2%84%EC%A0%84&sa=X&ved=2ahUKEwjg0PfhwNLxAhUVPH0KHS8ECDMQ6BMoADAfegQIIRAC',\n",
       " '/search?hl=ko&q=%ED%8C%8C%EC%9D%B4%EC%8D%AC+%EB%9D%BC%EC%9D%B4%EC%84%A0%EC%8A%A4&sa=X&ved=2ahUKEwjg0PfhwNLxAhUVPH0KHS8ECDMQ6BMoADAgegQIIhAC',\n",
       " '/search?hl=ko&q=%ED%8C%8C%EC%9D%B4%EC%8D%AC+%EC%86%8C%ED%94%84%ED%8A%B8%EC%9B%A8%EC%96%B4+%EC%9E%AC%EB%8B%A8&stick=H4sIAAAAAAAAAAEwAM__CAMiCS9tLzAzM2wxcKIFIO2MjOydtOyNrCDshoztlITtirjsm6jslrQg7J6s64uoR0dBEjAAAAA&sa=X&ved=2ahUKEwjg0PfhwNLxAhUVPH0KHS8ECDMQmxMoATAgegQIIhAD',\n",
       " '/search?hl=ko&q=%ED%8C%8C%EC%9D%B4%EC%8D%AC+%ED%8C%8C%EC%9D%BC+%ED%99%95%EC%9E%A5%EC%9E%90&sa=X&ved=2ahUKEwjg0PfhwNLxAhUVPH0KHS8ECDMQ6BMoADAhegQIIxAC',\n",
       " '/search?hl=ko&q=%ED%8C%8C%EC%9D%B4%EC%8D%AC&stick=H4sIAAAAAAAAAONgFuLQz9U3MK0yjFeCs7SEs5Ot9JPzc3Pz86yKM1NSyxMrixexcr7t6Xkzd8ub3jU7WBkBOpBpxzoAAAA&sa=X&ved=2ahUKEwjg0PfhwNLxAhUVPH0KHS8ECDMQMSgAMCJ6BAgkEAE',\n",
       " '/search?hl=ko&q=%ED%8C%8C%EC%9D%B4%EC%8D%AC&stick=H4sIAAAAAAAAAONgFuLQz9U3MK0yjFeCs7SEs5Ot9JPzc3Pz86yKM1NSyxMrixexcr7t6Xkzd8ub3jU7WBkBOpBpxzoAAAA&sa=X&ved=2ahUKEwjg0PfhwNLxAhUVPH0KHS8ECDMQzTooATAiegQIJBAC',\n",
       " '/search?hl=ko&q=%EC%9E%90%EB%B0%94&stick=H4sIAAAAAAAAAONgFuLQz9U3MK0yjFfiArHMi5Oy05K0-Jzzc3Pz84IzU1LLEyuLF7GyvZk34fWGKTtYGQFRE2QaNAAAAA&sa=X&ved=2ahUKEwjg0PfhwNLxAhUVPH0KHS8ECDMQxA0wInoECCQQBQ',\n",
       " '/search?hl=ko&q=C%2B%2B&stick=H4sIAAAAAAAAAONgFuLQz9U3MK0yjFcCs7LSC9O1-Jzzc3Pz84IzU1LLEyuLF7EyO2tr72BlBAD3PF2KLwAAAA&sa=X&ved=2ahUKEwjg0PfhwNLxAhUVPH0KHS8ECDMQxA0wInoECCQQBw',\n",
       " '/search?hl=ko&q=%EC%9E%90%EB%B0%94%EC%8A%A4%ED%81%AC%EB%A6%BD%ED%8A%B8&stick=H4sIAAAAAAAAAONgFuLQz9U3MK0yjFcCs4wKLM21-Jzzc3Pz84IzU1LLEyuLF7EKvZk34fWGKW-6lrxtXPN62d63XTt2sDICAET0wmE-AAAA&sa=X&ved=2ahUKEwjg0PfhwNLxAhUVPH0KHS8ECDMQxA0wInoECCQQCQ',\n",
       " '/search?hl=ko&q=%ED%94%84%EB%A1%9C%EA%B7%B8%EB%9E%98%EB%B0%8D+%EC%96%B8%EC%96%B4&stick=H4sIAAAAAAAAAONgFuLQz9U3MK0yjFeCsIqMDLT4nPNzc_PzgjNTUssTK4sXsYq9ndLyeuGcV9t3vJ434_WGXoU303a8mbZlBysjANOiZhRCAAAA&sa=X&ved=2ahUKEwjg0PfhwNLxAhUVPH0KHS8ECDMQxA0wInoECCQQCw',\n",
       " '/search?hl=ko&q=PHP&stick=H4sIAAAAAAAAAONgFuLQz9U3MK0yjFcCs8wMssu0-Jzzc3Pz84IzU1LLEyuLF7EyB3gE7GBlBAASofAaLwAAAA&sa=X&ved=2ahUKEwjg0PfhwNLxAhUVPH0KHS8ECDMQxA0wInoECCQQDQ',\n",
       " '#',\n",
       " '#',\n",
       " 'https://support.google.com/websearch?p=ws_settings_location&hl=ko',\n",
       " 'https://support.google.com/websearch/?p=ws_results_help&hl=ko&fg=1',\n",
       " '#',\n",
       " 'https://policies.google.com/privacy?hl=ko&fg=1',\n",
       " 'https://policies.google.com/terms?hl=ko&fg=1']"
      ]
     },
     "execution_count": 164,
     "metadata": {},
     "output_type": "execute_result"
    }
   ],
   "source": [
    "links\n",
    "# 이렇게 가져와버리면 절대 주소 및 상대 주소가 뒤죽박죽 섞여버림.. \n",
    "# 상대 주소의 경우는 앞에 domain을 붙여줘야만 함.\n",
    "# # : 아무 역할 안함. \n",
    "\n",
    "# 이런 걸 제대로 처리해줘야만 한다.."
   ]
  },
  {
   "cell_type": "code",
   "execution_count": 169,
   "metadata": {},
   "outputs": [],
   "source": [
    "links = [urljoin(seed, _.attrs['href']) for _ in dom.select('a[href]')\n",
    "        if _.attrs['href'] != '#']"
   ]
  },
  {
   "cell_type": "code",
   "execution_count": 170,
   "metadata": {},
   "outputs": [
    {
     "data": {
      "text/plain": [
       "94"
      ]
     },
     "execution_count": 170,
     "metadata": {},
     "output_type": "execute_result"
    }
   ],
   "source": [
    "len(links)"
   ]
  },
  {
   "cell_type": "code",
   "execution_count": 251,
   "metadata": {},
   "outputs": [],
   "source": [
    "directory = {'text':'TXT', 'application':'DOC', 'image':'IMG'}\n",
    "\n",
    "\n",
    "def crawling(seed):\n",
    "    resp = download(seed)\n",
    "    #### 추가작업 -> Content-type: text/*, application/json+xml, image\n",
    "    # 이런 다양한 데이터 타입때문에 이 크롤러는 죽을 것임. 수정 필요\n",
    "    ctype = resp.headers['Content-type'].split('/')\n",
    "    if ctype[0] in ['text', 'application', 'image']:\n",
    "        if ctype[0] == 'text':\n",
    "            dom = BeautifulSoup(resp.text, 'lxml')\n",
    "\n",
    "            returnlist = list()\n",
    "\n",
    "            for _ in dom.select('a[href], img[src], iframe[src]'):\n",
    "                if _.has_attr('href'):\n",
    "                    if not _.attrs['href'].startswith('#'):\n",
    "                        returnlist.append(urljoin(seed, _.attrs['href']))\n",
    "                else:\n",
    "                    returnlist.append(urljoin(seed, _.attrs['src']))\n",
    "\n",
    "            return returnlist\n",
    "\n",
    "        path = directory['ctype[0]']\n",
    "        path += '/'+seed.split('/')[-1]+'.'+ctype[-1]\n",
    "        with open(path, 'wb') as f:\n",
    "            f.write(resp.content)\n",
    "                \n",
    "    return None\n",
    "    \n",
    "#     return [urljoin(seed, _.attrs['href'])\n",
    "#              for _ in dom.select('a[href]') \n",
    "#              if not _.attrs['href'].startswith('#')] #원래는 검사를 실제로 해줘야 하지만 지금은 대충.. 나중에 정규식으로 바꿔주는게 좋을 것"
   ]
  },
  {
   "cell_type": "code",
   "execution_count": 183,
   "metadata": {},
   "outputs": [
    {
     "data": {
      "text/plain": [
       "'gotohere'"
      ]
     },
     "execution_count": 183,
     "metadata": {},
     "output_type": "execute_result"
    }
   ],
   "source": [
    " # #gotohere : 내부주소 - 스크롤 위치를 옮기는 주소 등임. 실제 페이지와는 연관이 없음.\n",
    "urlparse('https://www.google.com/search#gotohere').fragment"
   ]
  },
  {
   "cell_type": "code",
   "execution_count": 254,
   "metadata": {},
   "outputs": [
    {
     "name": "stdout",
     "output_type": "stream",
     "text": [
      "1 ('https://comic.naver.com/webtoon/weekdayList?week=thu', 1)\n",
      "찾은 갯수: 377 방문할 곳:216 방문한 곳:0\n",
      "2 ('https://www.naver.com', 2)\n",
      "찾은 갯수: 289 방문할 곳:437 방문한 곳:1\n",
      "3 ('https://comic.naver.com/index', 2)\n",
      "찾은 갯수: 170 방문할 곳:484 방문한 곳:2\n",
      "4 ('https://novel.naver.com', 2)\n",
      "찾은 갯수: 199 방문할 곳:650 방문한 곳:3\n",
      "5 ('https://comic.naver.com/webtoon/list.nhn?titleId=773459', 2)\n",
      "찾은 갯수: 135 방문할 곳:666 방문한 곳:4\n",
      "6 ('https://comic.naver.com/webtoon/weekday', 2)\n",
      "찾은 갯수: 1435 방문할 곳:1419 방문한 곳:5\n",
      "7 ('https://comic.naver.com/genre/bestChallenge', 2)\n",
      "찾은 갯수: 223 방문할 곳:1510 방문한 곳:6\n",
      "8 ('https://comic.naver.com/genre/challenge', 2)\n",
      "찾은 갯수: 225 방문할 곳:1603 방문한 곳:7\n",
      "9 ('https://comic.naver.com/mypage/favorite', 2)\n",
      "찾은 갯수: 0 방문할 곳:1602 방문한 곳:8\n",
      "10 ('https://series.naver.com/comic/recommendList.nhn', 2)\n",
      "찾은 갯수: 99 방문할 곳:1684 방문한 곳:9\n",
      "11 ('https://series.naver.com/novel/recommendList.nhn', 2)\n",
      "찾은 갯수: 127 방문할 곳:1751 방문한 곳:10\n",
      "12 ('https://comic.naver.com/webtoon/genre', 2)\n",
      "찾은 갯수: 987 방문할 곳:2094 방문한 곳:11\n",
      "13 ('https://comic.naver.com/webtoon/creation', 2)\n",
      "찾은 갯수: 5300 방문할 곳:4155 방문한 곳:12\n",
      "14 ('https://comic.naver.com/webtoon/artist', 2)\n",
      "찾은 갯수: 7034 방문할 곳:4184 방문한 곳:13\n",
      "15 ('https://comic.naver.com/webtoon/period', 2)\n",
      "찾은 갯수: 2298 방문할 곳:4204 방문한 곳:14\n",
      "16 ('https://comic.naver.com/webtoon/theme', 2)\n",
      "찾은 갯수: 1137 방문할 곳:4584 방문한 곳:15\n",
      "17 ('https://comic.naver.com/webtoon/finish', 2)\n",
      "찾은 갯수: 4041 방문할 곳:4590 방문한 곳:16\n",
      "18 ('https://comic.naver.com/webtoon/weekdayList?week=mon', 2)\n",
      "찾은 갯수: 377 방문할 곳:4602 방문한 곳:17\n",
      "19 ('https://comic.naver.com/webtoon/weekdayList?week=tue', 2)\n",
      "찾은 갯수: 409 방문할 곳:4616 방문한 곳:18\n",
      "20 ('https://comic.naver.com/webtoon/weekdayList?week=wed', 2)\n",
      "찾은 갯수: 393 방문할 곳:4628 방문한 곳:19\n",
      "21 ('https://comic.naver.com/webtoon/weekdayList?week=thu', 2)\n",
      "찾은 갯수: 377 방문할 곳:4627 방문한 곳:20\n",
      "22 ('https://comic.naver.com/webtoon/weekdayList?week=fri', 2)\n",
      "찾은 갯수: 389 방문할 곳:4639 방문한 곳:21\n",
      "23 ('https://comic.naver.com/webtoon/weekdayList?week=sat', 2)\n",
      "찾은 갯수: 389 방문할 곳:4651 방문한 곳:22\n",
      "24 ('https://comic.naver.com/webtoon/weekdayList?week=sun', 2)\n",
      "찾은 갯수: 365 방문할 곳:4665 방문한 곳:23\n",
      "25 ('https://comic.naver.com/webtoon/detail?titleId=753222&no=45&weekday=thu', 2)\n",
      "찾은 갯수: 212 방문할 곳:4763 방문한 곳:24\n"
     ]
    },
    {
     "ename": "KeyError",
     "evalue": "'ctype[0]'",
     "output_type": "error",
     "traceback": [
      "\u001b[1;31m---------------------------------------------------------------------------\u001b[0m",
      "\u001b[1;31mKeyError\u001b[0m                                  Traceback (most recent call last)",
      "\u001b[1;32m<ipython-input-254-edd3e8273e0d>\u001b[0m in \u001b[0;36m<module>\u001b[1;34m\u001b[0m\n\u001b[0;32m      8\u001b[0m     \u001b[0mseed\u001b[0m \u001b[1;33m=\u001b[0m \u001b[0mseed_list\u001b[0m\u001b[1;33m.\u001b[0m\u001b[0mpop\u001b[0m\u001b[1;33m(\u001b[0m\u001b[1;36m0\u001b[0m\u001b[1;33m)\u001b[0m \u001b[1;31m# Queue, FIFO => BFS\u001b[0m\u001b[1;33m\u001b[0m\u001b[1;33m\u001b[0m\u001b[0m\n\u001b[0;32m      9\u001b[0m \u001b[1;31m#     seed = seed_list.pop(-1) # Stack, LIFO => DFS : INF 루프에 빠질 수 있음. - 한 페이지에 대해 깊이 찾는 방식으로는 낫배드\u001b[0m\u001b[1;33m\u001b[0m\u001b[1;33m\u001b[0m\u001b[1;33m\u001b[0m\u001b[0m\n\u001b[1;32m---> 10\u001b[1;33m     \u001b[0murl_list\u001b[0m \u001b[1;33m=\u001b[0m \u001b[0mcrawling\u001b[0m\u001b[1;33m(\u001b[0m\u001b[0mseed\u001b[0m\u001b[1;33m[\u001b[0m\u001b[1;36m0\u001b[0m\u001b[1;33m]\u001b[0m\u001b[1;33m)\u001b[0m\u001b[1;33m\u001b[0m\u001b[1;33m\u001b[0m\u001b[0m\n\u001b[0m\u001b[0;32m     11\u001b[0m \u001b[1;33m\u001b[0m\u001b[0m\n\u001b[0;32m     12\u001b[0m     \u001b[0mprint\u001b[0m\u001b[1;33m(\u001b[0m\u001b[1;34m'{} {}'\u001b[0m\u001b[1;33m.\u001b[0m\u001b[0mformat\u001b[0m\u001b[1;33m(\u001b[0m\u001b[0mcount\u001b[0m\u001b[1;33m,\u001b[0m \u001b[0mseed\u001b[0m\u001b[1;33m)\u001b[0m\u001b[1;33m)\u001b[0m \u001b[1;31m# 원래는 몇번째 사이트, 몇번째 페이지 뭐 이런 정보들이 나와야만 함.\u001b[0m\u001b[1;33m\u001b[0m\u001b[1;33m\u001b[0m\u001b[0m\n",
      "\u001b[1;32m<ipython-input-251-38efae3cf40b>\u001b[0m in \u001b[0;36mcrawling\u001b[1;34m(seed)\u001b[0m\n\u001b[0;32m     22\u001b[0m         \u001b[1;32mreturn\u001b[0m \u001b[0mreturnlist\u001b[0m\u001b[1;33m\u001b[0m\u001b[1;33m\u001b[0m\u001b[0m\n\u001b[0;32m     23\u001b[0m \u001b[1;33m\u001b[0m\u001b[0m\n\u001b[1;32m---> 24\u001b[1;33m     \u001b[0mpath\u001b[0m \u001b[1;33m=\u001b[0m \u001b[0mdirectory\u001b[0m\u001b[1;33m[\u001b[0m\u001b[1;34m'ctype[0]'\u001b[0m\u001b[1;33m]\u001b[0m\u001b[1;33m\u001b[0m\u001b[1;33m\u001b[0m\u001b[0m\n\u001b[0m\u001b[0;32m     25\u001b[0m     \u001b[0mpath\u001b[0m \u001b[1;33m+=\u001b[0m \u001b[1;34m'/'\u001b[0m\u001b[1;33m+\u001b[0m\u001b[0mseed\u001b[0m\u001b[1;33m.\u001b[0m\u001b[0msplit\u001b[0m\u001b[1;33m(\u001b[0m\u001b[1;34m'/'\u001b[0m\u001b[1;33m)\u001b[0m\u001b[1;33m[\u001b[0m\u001b[1;33m-\u001b[0m\u001b[1;36m1\u001b[0m\u001b[1;33m]\u001b[0m\u001b[1;33m+\u001b[0m\u001b[1;34m'.'\u001b[0m\u001b[1;33m+\u001b[0m\u001b[0mctype\u001b[0m\u001b[1;33m[\u001b[0m\u001b[1;33m-\u001b[0m\u001b[1;36m1\u001b[0m\u001b[1;33m]\u001b[0m\u001b[1;33m\u001b[0m\u001b[1;33m\u001b[0m\u001b[0m\n\u001b[0;32m     26\u001b[0m     \u001b[1;32mwith\u001b[0m \u001b[0mopen\u001b[0m\u001b[1;33m(\u001b[0m\u001b[0mpath\u001b[0m\u001b[1;33m,\u001b[0m \u001b[1;34m'wb'\u001b[0m\u001b[1;33m)\u001b[0m \u001b[1;32mas\u001b[0m \u001b[0mf\u001b[0m\u001b[1;33m:\u001b[0m\u001b[1;33m\u001b[0m\u001b[1;33m\u001b[0m\u001b[0m\n",
      "\u001b[1;31mKeyError\u001b[0m: 'ctype[0]'"
     ]
    }
   ],
   "source": [
    "seed_list = []\n",
    "seed_list.append(('https://comic.naver.com/webtoon/weekdayList?week=thu', 1))\n",
    "# (url, 깊이)\n",
    "visited_list = []\n",
    "count = 1\n",
    "\n",
    "while seed_list:\n",
    "    seed = seed_list.pop(0) # Queue, FIFO => BFS\n",
    "#     seed = seed_list.pop(-1) # Stack, LIFO => DFS : INF 루프에 빠질 수 있음. - 한 페이지에 대해 깊이 찾는 방식으로는 낫배드\n",
    "    url_list = crawling(seed[0])\n",
    "    \n",
    "    print('{} {}'.format(count, seed)) # 원래는 몇번째 사이트, 몇번째 페이지 뭐 이런 정보들이 나와야만 함.\n",
    "    \n",
    "    if url_list:\n",
    "        for _ in url_list:\n",
    "            if _ not in [link[0] for link in visited_list]\\\n",
    "            and _ not in [link[0] for link in seed_list]:\n",
    "                seed_list.append((_, seed[1]+1))\n",
    "\n",
    "    print('찾은 갯수: {} 방문할 곳:{} 방문한 곳:{}'.format(\n",
    "        len(url_list), len(seed_list), len(visited_list)))\n",
    "    \n",
    "    visited_list.append(seed)\n",
    "    count += 1\n",
    "    \n",
    "    if seed[1] > 3:\n",
    "        break\n",
    "    \n",
    "#     if count > 100:\n",
    "#         break"
   ]
  },
  {
   "cell_type": "code",
   "execution_count": null,
   "metadata": {},
   "outputs": [],
   "source": []
  },
  {
   "cell_type": "code",
   "execution_count": 143,
   "metadata": {},
   "outputs": [
    {
     "data": {
      "text/plain": [
       "['A']"
      ]
     },
     "execution_count": 143,
     "metadata": {},
     "output_type": "execute_result"
    }
   ],
   "source": []
  },
  {
   "cell_type": "code",
   "execution_count": null,
   "metadata": {},
   "outputs": [],
   "source": []
  },
  {
   "cell_type": "code",
   "execution_count": 138,
   "metadata": {},
   "outputs": [
    {
     "data": {
      "text/plain": [
       "ParseResult(scheme='https', netloc='www.google.com', path='/search', params='', query='sfadfafd', fragment='')"
      ]
     },
     "execution_count": 138,
     "metadata": {},
     "output_type": "execute_result"
    }
   ],
   "source": [
    "urlparse('https://www.google.com/search?sfadfafd')"
   ]
  },
  {
   "cell_type": "code",
   "execution_count": null,
   "metadata": {},
   "outputs": [],
   "source": []
  },
  {
   "cell_type": "code",
   "execution_count": null,
   "metadata": {},
   "outputs": [],
   "source": []
  },
  {
   "cell_type": "code",
   "execution_count": null,
   "metadata": {},
   "outputs": [],
   "source": []
  },
  {
   "cell_type": "code",
   "execution_count": null,
   "metadata": {},
   "outputs": [],
   "source": []
  },
  {
   "cell_type": "code",
   "execution_count": null,
   "metadata": {},
   "outputs": [],
   "source": []
  },
  {
   "cell_type": "code",
   "execution_count": null,
   "metadata": {},
   "outputs": [],
   "source": []
  },
  {
   "cell_type": "code",
   "execution_count": null,
   "metadata": {},
   "outputs": [],
   "source": []
  }
 ],
 "metadata": {
  "kernelspec": {
   "display_name": "Python 3",
   "language": "python",
   "name": "python3"
  },
  "language_info": {
   "codemirror_mode": {
    "name": "ipython",
    "version": 3
   },
   "file_extension": ".py",
   "mimetype": "text/x-python",
   "name": "python",
   "nbconvert_exporter": "python",
   "pygments_lexer": "ipython3",
   "version": "3.8.5"
  }
 },
 "nbformat": 4,
 "nbformat_minor": 4
}
