{
 "cells": [
  {
   "cell_type": "code",
   "execution_count": null,
   "metadata": {},
   "outputs": [],
   "source": [
    "import re\n",
    "import json\n",
    "from bs4 import BeautifulSoup\n",
    "from requests import request, HTTPError\n",
    "from requests.compat import urljoin, urlparse, quote, unquote\n",
    "from requests.sessions import Session\n",
    "from time import sleep"
   ]
  },
  {
   "cell_type": "code",
   "execution_count": null,
   "metadata": {},
   "outputs": [],
   "source": [
    "def download(url, params={}, headers={}, method='GET', maximum=2):\n",
    "    resp = request(url=url, params=params if method=='GET' else {},\n",
    "            data=params if method=='POST' else {},\n",
    "            headers=headers, method=method)\n",
    "    \n",
    "    \n",
    "    try:\n",
    "        resp.raise_for_status()\n",
    "    except HTTPError as e:\n",
    "        if 500 <= e.response.status_code < 600 and maximum > 0:\n",
    "            print('retry')\n",
    "            sleep(1) # 1초?\n",
    "            resp = download(url, params, headers, method, maximum-1) # inf loop\n",
    "        else:\n",
    "            print(e)\n",
    "        \n",
    "    return resp"
   ]
  },
  {
   "cell_type": "code",
   "execution_count": null,
   "metadata": {},
   "outputs": [],
   "source": [
    "def can_fetch(url, path):\n",
    "    resp = download(urljoin(url, '/robots.txt'))\n",
    "    allow = list()\n",
    "    disallow = list()\n",
    "    \n",
    "    \n",
    "    if resp.status_code == 200:\n",
    "        useragent = '*'\n",
    "        for _ in resp.text.splitlines():\n",
    "            pair = _.split(':')\n",
    "            if len(pair) == 2:\n",
    "                if pair[0].strip() == 'User-agent':\n",
    "                    useragent = pair[1]\n",
    "                else:\n",
    "                    if pair[1].strip() == 'Allow':\n",
    "                        allow.append(pair[1].strip())\n",
    "                    else:\n",
    "                        disallow.append(pair[1].strip())\n",
    "      \n",
    "    return True if path in allow else False, allow, disallow"
   ]
  },
  {
   "cell_type": "code",
   "execution_count": null,
   "metadata": {},
   "outputs": [],
   "source": [
    "# 큐로 push, pop 구현할 거\n",
    "def new_download(url):\n",
    "    _ = urlparse(url)\n",
    "    print(can_fetch(_[0]+'://'+_[1], _[2])[0])\n",
    "    \n",
    "    return download(url, headers=headers)"
   ]
  },
  {
   "cell_type": "code",
   "execution_count": null,
   "metadata": {},
   "outputs": [],
   "source": []
  },
  {
   "cell_type": "code",
   "execution_count": null,
   "metadata": {},
   "outputs": [],
   "source": [
    "session = Session()\n",
    "session.cookies.clear()\n",
    "\n",
    "for i, _ in enumerate(naver):\n",
    "    session.cookies.set(naver[i]['name'], naver[i]['value'],\n",
    "                       domain=naver[i]['domain'], path=naver[i]['path'])"
   ]
  },
  {
   "cell_type": "code",
   "execution_count": null,
   "metadata": {},
   "outputs": [],
   "source": [
    "# 메일 화면이 뜨면서 로그인 된 것을 확인할 수 있음\n",
    "resp = session.get('https://mail.naver.com')\n",
    "resp.text"
   ]
  },
  {
   "cell_type": "code",
   "execution_count": null,
   "metadata": {},
   "outputs": [],
   "source": [
    "# 어제까지 한 내용 : 쿠키의 중요성\n",
    "# 쿠키로 로그인을 어떻게 하는가! 왜 이게 중요한 것인가\n",
    "# 오전에 할 내용 ) 스팸 메일"
   ]
  },
  {
   "cell_type": "code",
   "execution_count": null,
   "metadata": {},
   "outputs": [],
   "source": [
    "# 요새 웹들은 리엑트와 같은 프레임워크를 사용하므로\n",
    "# 실제 메일 데이터는 뒤에서 따로 가져오게 됨."
   ]
  },
  {
   "cell_type": "code",
   "execution_count": null,
   "metadata": {},
   "outputs": [],
   "source": [
    "url = 'https://mail.naver.com/json/list/'\n",
    "\n",
    "params = {\n",
    "    'page':1,\n",
    "    'sortField':1,\n",
    "    'sortType':0,\n",
    "    'folderSN':5,\n",
    "    'type':None,\n",
    "    'isUnread':'false',\n",
    "    'u':'dimoteo333'\n",
    "}"
   ]
  },
  {
   "cell_type": "code",
   "execution_count": null,
   "metadata": {},
   "outputs": [],
   "source": [
    "resp = request('get', url=url, params=params)"
   ]
  },
  {
   "cell_type": "code",
   "execution_count": null,
   "metadata": {},
   "outputs": [],
   "source": [
    "# 세션(쿠키값)없이 보내면 로그인이 필요하다고 나옴\n",
    "resp.text"
   ]
  },
  {
   "cell_type": "code",
   "execution_count": null,
   "metadata": {},
   "outputs": [],
   "source": [
    "resp = session.request('post', url=url, params=params)"
   ]
  },
  {
   "cell_type": "code",
   "execution_count": null,
   "metadata": {},
   "outputs": [],
   "source": [
    "resp.json().keys()"
   ]
  },
  {
   "cell_type": "code",
   "execution_count": null,
   "metadata": {},
   "outputs": [],
   "source": [
    "resp.json()['mailData'][0].keys()"
   ]
  },
  {
   "cell_type": "code",
   "execution_count": null,
   "metadata": {},
   "outputs": [],
   "source": [
    "for _ in resp.json()['mailData']:\n",
    "    print(_['subject'])"
   ]
  },
  {
   "cell_type": "code",
   "execution_count": null,
   "metadata": {},
   "outputs": [],
   "source": [
    "# 의문점 : POST 방식으로 데이터를 보냈는데 주소 방식은 GET 방식임.\n",
    "# 그렇지만 GET 방식으로 request를 보내면 서버가 응답을 끊음\n",
    "# 소켓을 쓰는 경우가 아니라면 왠만해서는 다 가져올 수 있음."
   ]
  },
  {
   "cell_type": "code",
   "execution_count": null,
   "metadata": {},
   "outputs": [],
   "source": [
    "from selenium.webdriver import Chrome, ChromeOptions # PhantomJS or ChormeOptions의 headless"
   ]
  },
  {
   "cell_type": "code",
   "execution_count": null,
   "metadata": {},
   "outputs": [],
   "source": [
    "# 코드에 의해 돌아가는 별개의 브라우져임.\n",
    "# 원래 목적은 브라우져 테스트 용인데, 어쩌다 보니 수집용으로 쓰이고 있는거\n",
    "# 원래는 requests 패키지를 사용해 수집하는 것이 맞는 것\n",
    "driver = Chrome()"
   ]
  },
  {
   "cell_type": "code",
   "execution_count": null,
   "metadata": {},
   "outputs": [],
   "source": [
    "driver.get('https://www.naver.com') # 네이버로 이동함"
   ]
  },
  {
   "cell_type": "code",
   "execution_count": null,
   "metadata": {},
   "outputs": [],
   "source": [
    "# 이미 렌더링된 오브젝트 모델 (DOM)을 가지고 있음.\n",
    "for _ in driver.find_elements_by_css_selector('button'): # 로그인 버튼을 찾아보자\n",
    "    print(_.text)\n",
    "    \n",
    "# 없음.. 버튼이 아닌 듯?"
   ]
  },
  {
   "cell_type": "code",
   "execution_count": null,
   "metadata": {},
   "outputs": [],
   "source": [
    "driver.find_element_by_css_selector('a.link_login').click()\n",
    "# 로그인 화면으로 넘어감!"
   ]
  },
  {
   "cell_type": "code",
   "execution_count": null,
   "metadata": {},
   "outputs": [],
   "source": [
    "# HTML 코드 레벨에서 찾는 방법 - 이게 훨씬 빠름.\n",
    "dom = BeautifulSoup(driver.page_source, 'lxml')"
   ]
  },
  {
   "cell_type": "code",
   "execution_count": null,
   "metadata": {},
   "outputs": [],
   "source": [
    "for _ in  dom.find_all(text=re.compile(r'로그인')):\n",
    "    print(_.find_parent())\n",
    "    \n",
    "# 맨 마지막 값 : 로그인 버튼 바로가기"
   ]
  },
  {
   "cell_type": "code",
   "execution_count": null,
   "metadata": {},
   "outputs": [],
   "source": [
    "# 정확히는 form 태그를 꼭 먼저 찾아야함! 거기에 input parameter가 어떻게 들어가는지 확인해야 하므로\n",
    "#\n",
    "# 이를 활용하면 예매 매크로를 짤 수 있음.\n",
    "for _ in driver.find_elements_by_css_selector('form > input[name]'):\n",
    "    print(_.tag_name, _.get_attribute('name'))"
   ]
  },
  {
   "cell_type": "code",
   "execution_count": null,
   "metadata": {},
   "outputs": [],
   "source": [
    "driver.find_element_by_name('id').clear()\n",
    "driver.find_element_by_name('id').send_keys('dimoteo333')"
   ]
  },
  {
   "cell_type": "code",
   "execution_count": null,
   "metadata": {},
   "outputs": [],
   "source": [
    "for _ in driver.find_elements_by_css_selector('form a, form button'):\n",
    "    print(_.tag_name, _.text, _.get_attribute('id'))"
   ]
  },
  {
   "cell_type": "code",
   "execution_count": null,
   "metadata": {},
   "outputs": [],
   "source": [
    "form\n",
    " input -> param\n",
    " submit\n",
    " button\n",
    " a\n",
    "\n",
    "이런 구조..."
   ]
  },
  {
   "cell_type": "code",
   "execution_count": null,
   "metadata": {},
   "outputs": [],
   "source": [
    "driver.find_element_by_name('pw').clear()\n",
    "driver.find_element_by_name('pw').send_keys('abcde')"
   ]
  },
  {
   "cell_type": "code",
   "execution_count": null,
   "metadata": {},
   "outputs": [],
   "source": [
    "driver.find_element_by_css_selector(\n",
    "    'form input[type=submit]').get_attribute('value')\n",
    "driver.find_element_by_css_selector(\n",
    "    'form input[type=submit]').click()"
   ]
  },
  {
   "cell_type": "code",
   "execution_count": null,
   "metadata": {},
   "outputs": [],
   "source": [
    "# 백날 로그인 상태 유지 눌러도 안된다\n",
    "# 백날 자주 사용하는 기기 등록해도 소용 없음.\n",
    "# 실제 로그인을 시도해도, 마우스의 움직임이 없기 때문에 자동방지 입력문자를 입력해야만 함.\n",
    "# 이를 해결하기 위해서는 계정의 보안 등급을 굉장히 낮춰야 로그인됨\n",
    "# 예) 구글의 reCaptcha\n",
    "#\n",
    "# 기본적으로 자동입력 방지 문자로 글자를 살짝 기울인 정도는 뚫는 패키지가 존재"
   ]
  },
  {
   "cell_type": "code",
   "execution_count": null,
   "metadata": {},
   "outputs": [],
   "source": [
    "# 지금 보고 있는 창의 ID임. 새 탭을 띄우든, 드라이버를 다시 키든 매번 바뀔 예정\n",
    "# => 등록해도 소용이 없음.\n",
    "driver.current_window_handle"
   ]
  },
  {
   "cell_type": "code",
   "execution_count": null,
   "metadata": {},
   "outputs": [],
   "source": [
    "# 쿠키를 더 간단하게 이용하기\n",
    "naver = driver.get_cookies()"
   ]
  },
  {
   "cell_type": "code",
   "execution_count": null,
   "metadata": {
    "scrolled": true
   },
   "outputs": [],
   "source": [
    "session.cookies.get_dict()"
   ]
  },
  {
   "cell_type": "code",
   "execution_count": null,
   "metadata": {},
   "outputs": [],
   "source": [
    "session.cookies.clear()\n",
    "session.cookies.get_dict()"
   ]
  },
  {
   "cell_type": "code",
   "execution_count": null,
   "metadata": {},
   "outputs": [],
   "source": [
    "for _ in naver:\n",
    "    print(_['value'])"
   ]
  },
  {
   "cell_type": "code",
   "execution_count": null,
   "metadata": {},
   "outputs": [],
   "source": [
    "driver = Chrome()"
   ]
  },
  {
   "cell_type": "code",
   "execution_count": null,
   "metadata": {},
   "outputs": [],
   "source": [
    "for _ in naver:\n",
    "    session.cookies.set(_['name'], _['value'],\n",
    "                        domain=_['domain'], path=_['path'])"
   ]
  },
  {
   "cell_type": "code",
   "execution_count": null,
   "metadata": {},
   "outputs": [],
   "source": [
    "resp = session.request('post', url=url, params=params)\n",
    "resp.json()"
   ]
  },
  {
   "cell_type": "code",
   "execution_count": null,
   "metadata": {},
   "outputs": [],
   "source": [
    "# 즉, 이 방법을 이용한다면 쿠키만 가지고 네이버 로그인한 채로 이용할 수 있다.\n",
    "driver.delete_all_cookies()"
   ]
  },
  {
   "cell_type": "code",
   "execution_count": null,
   "metadata": {},
   "outputs": [],
   "source": [
    "driver.get('https://www.naver.com')"
   ]
  },
  {
   "cell_type": "code",
   "execution_count": null,
   "metadata": {},
   "outputs": [],
   "source": [
    "for _ in naver:\n",
    "    driver.add_cookie(_)"
   ]
  },
  {
   "cell_type": "code",
   "execution_count": null,
   "metadata": {},
   "outputs": [],
   "source": [
    "driver.get('https://www.naver.com')"
   ]
  },
  {
   "cell_type": "code",
   "execution_count": null,
   "metadata": {},
   "outputs": [],
   "source": [
    "driver.get('https://mail.naver.com')"
   ]
  },
  {
   "cell_type": "code",
   "execution_count": null,
   "metadata": {},
   "outputs": [],
   "source": [
    "dom = BeautifulSoup(driver.page_source, 'lxml')"
   ]
  },
  {
   "cell_type": "code",
   "execution_count": null,
   "metadata": {},
   "outputs": [],
   "source": [
    "dom.find(text=re.compile('새로운 기기에서')).find_parent().find_parent()\\\n",
    ".find_parent().find_parent().find_parent() # ?"
   ]
  },
  {
   "cell_type": "code",
   "execution_count": null,
   "metadata": {},
   "outputs": [],
   "source": [
    "len(dom.select('.mailList > li')) # 위에서 찾은게 <ol class=mailList에 있는 자손중에 li를 찾으면 몇개 있나 알 수 있음."
   ]
  },
  {
   "cell_type": "code",
   "execution_count": null,
   "metadata": {},
   "outputs": [],
   "source": [
    "for _ in dom.select('.mailList > li li > label'):\n",
    "    print(_.text)"
   ]
  },
  {
   "cell_type": "code",
   "execution_count": null,
   "metadata": {},
   "outputs": [],
   "source": [
    "# BeautifulSoup이 Driver보다 더 빠름. \n",
    "# 물론 지금 어짜피 렌더링 되어있는 화면이 떠있기 때문에 굳이 beautifulsoup 을 쓸 이유는 없다."
   ]
  },
  {
   "cell_type": "code",
   "execution_count": null,
   "metadata": {},
   "outputs": [],
   "source": [
    "driver.find_element_by_xpath('/html') # 최상단의 자식 노드는 html일 것."
   ]
  },
  {
   "cell_type": "code",
   "execution_count": null,
   "metadata": {},
   "outputs": [],
   "source": [
    "driver.find_element_by_xpath('//div')"
   ]
  },
  {
   "cell_type": "code",
   "execution_count": null,
   "metadata": {},
   "outputs": [],
   "source": [
    "len(driver.find_elements_by_xpath('//ol//li//li/label')) # 이 안에 메일이 들어가있음."
   ]
  },
  {
   "cell_type": "code",
   "execution_count": null,
   "metadata": {},
   "outputs": [],
   "source": [
    "for _ in driver.find_elements_by_xpath('//ol//li//li/label'):\n",
    "    print(_.text)"
   ]
  },
  {
   "cell_type": "code",
   "execution_count": null,
   "metadata": {},
   "outputs": [],
   "source": [
    "# 로그아웃 구현\n",
    "# 토글버튼 눌러야 로그아웃 버튼이 보임\n",
    "driver.find_element_by_class_name('gnb_my').click()"
   ]
  },
  {
   "cell_type": "code",
   "execution_count": null,
   "metadata": {
    "scrolled": true
   },
   "outputs": [],
   "source": [
    "# 클릭하려고 하니 오류 발생 - interactable 하지 않다!\n",
    "driver.find_element_by_xpath('//a[@class=\"gnb_btn_login\"]').click()"
   ]
  },
  {
   "cell_type": "code",
   "execution_count": null,
   "metadata": {},
   "outputs": [],
   "source": [
    "# / -> 자식, // -> 자손, [@파라미터='값'] : xpath 양식.\n",
    "# /div -> (dom의 최상단) root 노드의 자식 div"
   ]
  },
  {
   "cell_type": "code",
   "execution_count": null,
   "metadata": {},
   "outputs": [],
   "source": [
    "logout = driver.find_element_by_xpath('//a[@class=\"gnb_btn_login\"]')"
   ]
  },
  {
   "cell_type": "code",
   "execution_count": null,
   "metadata": {},
   "outputs": [],
   "source": [
    "logout.is_displayed(), logout.is_enabled(), logout.is_selected()"
   ]
  },
  {
   "cell_type": "code",
   "execution_count": null,
   "metadata": {},
   "outputs": [],
   "source": [
    "# is_displayed가 True, is_enabled가 True이야지만 작동할 수 있음?\n",
    "# 이걸 기다리기 위한 2가지 방법\n",
    "# 1) time(sleep)\n",
    "# 2) explict wait, implict wait - 이렇게 2가지 방법이 있다."
   ]
  },
  {
   "cell_type": "code",
   "execution_count": null,
   "metadata": {},
   "outputs": [],
   "source": [
    "driver.close()"
   ]
  },
  {
   "cell_type": "code",
   "execution_count": null,
   "metadata": {},
   "outputs": [],
   "source": [
    "driver = Chrome()"
   ]
  },
  {
   "cell_type": "code",
   "execution_count": null,
   "metadata": {},
   "outputs": [],
   "source": []
  },
  {
   "cell_type": "code",
   "execution_count": null,
   "metadata": {},
   "outputs": [],
   "source": []
  },
  {
   "cell_type": "code",
   "execution_count": null,
   "metadata": {},
   "outputs": [],
   "source": []
  },
  {
   "cell_type": "code",
   "execution_count": null,
   "metadata": {},
   "outputs": [],
   "source": []
  },
  {
   "cell_type": "code",
   "execution_count": null,
   "metadata": {},
   "outputs": [],
   "source": []
  },
  {
   "cell_type": "code",
   "execution_count": null,
   "metadata": {},
   "outputs": [],
   "source": []
  },
  {
   "cell_type": "code",
   "execution_count": null,
   "metadata": {},
   "outputs": [],
   "source": []
  }
 ],
 "metadata": {
  "kernelspec": {
   "display_name": "Python 3",
   "language": "python",
   "name": "python3"
  },
  "language_info": {
   "codemirror_mode": {
    "name": "ipython",
    "version": 3
   },
   "file_extension": ".py",
   "mimetype": "text/x-python",
   "name": "python",
   "nbconvert_exporter": "python",
   "pygments_lexer": "ipython3",
   "version": "3.8.5"
  }
 },
 "nbformat": 4,
 "nbformat_minor": 4
}
