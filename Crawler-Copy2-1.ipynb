{
 "cells": [
  {
   "cell_type": "code",
   "execution_count": 6,
   "metadata": {},
   "outputs": [],
   "source": [
    "import re\n",
    "import json\n",
    "from bs4 import BeautifulSoup\n",
    "from requests import request, HTTPError\n",
    "from requests.compat import urljoin, urlparse, quote, unquote\n",
    "from requests.sessions import Session\n",
    "from time import sleep"
   ]
  },
  {
   "cell_type": "code",
   "execution_count": 3,
   "metadata": {},
   "outputs": [],
   "source": [
    "def download(url, params={}, headers={}, method='GET', maximum=2):\n",
    "    resp = request(url=url, params=params if method=='GET' else {},\n",
    "            data=params if method=='POST' else {},\n",
    "            headers=headers, method=method)\n",
    "    \n",
    "    \n",
    "    try:\n",
    "        resp.raise_for_status()\n",
    "    except HTTPError as e:\n",
    "        if 500 <= e.response.status_code < 600 and maximum > 0:\n",
    "            print('retry')\n",
    "            sleep(1) # 1초?\n",
    "            resp = download(url, params, headers, method, maximum-1) # inf loop\n",
    "        else:\n",
    "            print(e)\n",
    "        \n",
    "    return resp"
   ]
  },
  {
   "cell_type": "code",
   "execution_count": 4,
   "metadata": {},
   "outputs": [],
   "source": [
    "def can_fetch(url, path):\n",
    "    resp = download(urljoin(url, '/robots.txt'))\n",
    "    allow = list()\n",
    "    disallow = list()\n",
    "    \n",
    "    \n",
    "    if resp.status_code == 200:\n",
    "        useragent = '*'\n",
    "        for _ in resp.text.splitlines():\n",
    "            pair = _.split(':')\n",
    "            if len(pair) == 2:\n",
    "                if pair[0].strip() == 'User-agent':\n",
    "                    useragent = pair[1]\n",
    "                else:\n",
    "                    if pair[1].strip() == 'Allow':\n",
    "                        allow.append(pair[1].strip())\n",
    "                    else:\n",
    "                        disallow.append(pair[1].strip())\n",
    "      \n",
    "    return True if path in allow else False, allow, disallow"
   ]
  },
  {
   "cell_type": "code",
   "execution_count": 5,
   "metadata": {},
   "outputs": [],
   "source": [
    "# 큐로 push, pop 구현할 거\n",
    "def new_download(url):\n",
    "    _ = urlparse(url)\n",
    "    print(can_fetch(_[0]+'://'+_[1], _[2])[0])\n",
    "    \n",
    "    return download(url, headers=headers)"
   ]
  },
  {
   "cell_type": "code",
   "execution_count": 10,
   "metadata": {},
   "outputs": [],
   "source": [
    "session = Session()\n",
    "session.cookies.clear()\n",
    "\n",
    "for i, _ in enumerate(naver):\n",
    "    session.cookies.set(naver[i]['name'], naver[i]['value'],\n",
    "                       domain=naver[i]['domain'], path=naver[i]['path'])"
   ]
  },
  {
   "cell_type": "code",
   "execution_count": 13,
   "metadata": {},
   "outputs": [],
   "source": [
    "# 어제까지 한 내용 : 쿠키의 중요성\n",
    "# 쿠키로 로그인을 어떻게 하는가! 왜 이게 중요한 것인가\n",
    "# 오전에 할 내용 ) 스팸 메일"
   ]
  },
  {
   "cell_type": "code",
   "execution_count": null,
   "metadata": {},
   "outputs": [],
   "source": [
    "# 요새 웹들은 리엑트와 같은 프레임워크를 사용하므로\n",
    "# 실제 메일 데이터는 뒤에서 따로 가져오게 됨."
   ]
  },
  {
   "cell_type": "code",
   "execution_count": 17,
   "metadata": {},
   "outputs": [],
   "source": [
    "url = 'https://mail.naver.com/json/list/'\n",
    "\n",
    "params = {\n",
    "    'page':1,\n",
    "    'sortField':1,\n",
    "    'sortType':0,\n",
    "    'folderSN':5,\n",
    "    'type':None,\n",
    "    'isUnread':'false',\n",
    "    'u':'dimoteo333'\n",
    "}"
   ]
  },
  {
   "cell_type": "code",
   "execution_count": 18,
   "metadata": {},
   "outputs": [],
   "source": [
    "resp = request('get', url=url, params=params)"
   ]
  },
  {
   "cell_type": "code",
   "execution_count": 19,
   "metadata": {},
   "outputs": [
    {
     "data": {
      "text/plain": [
       "'{\"Result\":\"FAIL\",\"Message\":\"\", \"LoginStatus\":\"NOLOGIN\"}'"
      ]
     },
     "execution_count": 19,
     "metadata": {},
     "output_type": "execute_result"
    }
   ],
   "source": [
    "# 세션(쿠키값)없이 보내면 로그인이 필요하다고 나옴\n",
    "resp.text"
   ]
  },
  {
   "cell_type": "code",
   "execution_count": 23,
   "metadata": {},
   "outputs": [],
   "source": [
    "resp = session.request('post', url=url, params=params)"
   ]
  },
  {
   "cell_type": "code",
   "execution_count": 30,
   "metadata": {},
   "outputs": [
    {
     "data": {
      "text/plain": [
       "dict_keys(['currentTime', 'lastPage', 'Message', 'pageSize', 'unreadCount', 'mailData', 'folderName', 'totalCount', 'listCount', 'Result'])"
      ]
     },
     "execution_count": 30,
     "metadata": {},
     "output_type": "execute_result"
    }
   ],
   "source": [
    "resp.json().keys()"
   ]
  },
  {
   "cell_type": "code",
   "execution_count": 31,
   "metadata": {},
   "outputs": [
    {
     "data": {
      "text/plain": [
       "dict_keys(['mailSN', 'folderSN', 'folderName', 'iconType', 'status', 'from', 'subject', 'receivedTime', 'sentTime', 'size', 'attachCount', 'iDomainEmail', 'priority', 'securityLevel', 'reSend', 'color', 'preview', 'mimeSN', 'toList', 'spamType', 'attachInfo', 'threadId', 'bccList', 'receiveByBcc', 'threadCount', 'unreadThreadCount', 'firstLocatedTime', 'remindAt', 'threadRemindAt', 'threadRemindFlag', 'category', 'lastLocatedTime', 'toMe', 'bigFile', 'statusHex', 'isDomainMail', 'oldBigFile'])"
      ]
     },
     "execution_count": 31,
     "metadata": {},
     "output_type": "execute_result"
    }
   ],
   "source": [
    "resp.json()['mailData'][0].keys()"
   ]
  },
  {
   "cell_type": "code",
   "execution_count": 40,
   "metadata": {},
   "outputs": [
    {
     "name": "stdout",
     "output_type": "stream",
     "text": [
      "(광고)★아에르 KF80 신상컬러 런칭/ ★스타벅스 콜드브루 메이커, 최저가+무배/ ★한정수량! 리유저블 텀블러 증정!\n",
      "(광고) 긴급대출이 필요할때~ 믿을수 있는 &#39;맞춤형안심대출&#39;로 고민해결 OK!!\n",
      "(광고) 라미 신상 아이온 다크그린 19% 할인 + 무료각인 / 탁상용 선풍기 최대 25% 할인 / 미니 건조기 최대 37% 할인\n",
      "(광고) 가벼운 기분전환과 일상탈출! 예스24 단독 피크닉 와인잔 SET 출시 \n",
      "(광고) 달콤 아삭 개별포장 세척사과 2kg(5~14과) 8,900원\n",
      "(광고)★14인치 선풍기 29,000원/★클렌즈 스무디 7,900원/★외장하드 2TB 87,310원!\n",
      "(광고) 떡볶이 외길! 줄 서서 먹는 두끼 떡볶이 집에서 즐겨요~\n",
      "(광고) 내가 왜 황후인데? 로맨스 e캐시!\n",
      "(광고) EVERGLOW ONLINE CONCERT ［THE FIRST］\n",
      "(광고)▶마감임박! 간단한 설문하고 1천원 받으세요! (~7/9) \n",
      " (광고) 이사카 고타로 &lt;시소 몬스터&gt; 피크닉 의자.작가 친필 인쇄 엽서 세트\n",
      "(광고) 최고의 쇼핑비결! 슈퍼서울위크/랜선 전국투어! 집콕 쇼핑\n",
      "(광고) [톡톡편지] 우리는 이 거대함의 일부였다\n",
      "(광고) 생활대출이 꼭!! 필요할때, 믿을수 있는 &#39;맞춤형안심대출&#39;로 고민해결 OK!!\n",
      "(광고) 쿠폰으로 더 저렴하게! 중고샵 할인 혜택 모음!\n"
     ]
    }
   ],
   "source": [
    "for _ in resp.json()['mailData']:\n",
    "    print(_['subject'])"
   ]
  },
  {
   "cell_type": "code",
   "execution_count": null,
   "metadata": {},
   "outputs": [],
   "source": [
    "# 의문점 : POST 방식으로 데이터를 보냈는데 주소 방식은 GET 방식임.\n",
    "# 그렇지만 GET 방식으로 request를 보내면 서버가 응답을 끊음\n",
    "# 소켓을 쓰는 경우가 아니라면 왠만해서는 다 가져올 수 있음."
   ]
  },
  {
   "cell_type": "code",
   "execution_count": 50,
   "metadata": {},
   "outputs": [],
   "source": [
    "from selenium.webdriver import Chrome, ChromeOptions # PhantomJS or ChormeOptions의 headless"
   ]
  },
  {
   "cell_type": "code",
   "execution_count": 49,
   "metadata": {},
   "outputs": [],
   "source": [
    "# 코드에 의해 돌아가는 별개의 브라우져임.\n",
    "# 원래 목적은 브라우져 테스트 용인데, 어쩌다 보니 수집용으로 쓰이고 있는거\n",
    "# 원래는 requests 패키지를 사용해 수집하는 것이 맞는 것\n",
    "driver = Chrome()"
   ]
  },
  {
   "cell_type": "code",
   "execution_count": 52,
   "metadata": {},
   "outputs": [],
   "source": [
    "driver.get('https://www.naver.com') # 네이버로 이동함"
   ]
  },
  {
   "cell_type": "code",
   "execution_count": 54,
   "metadata": {},
   "outputs": [
    {
     "name": "stdout",
     "output_type": "stream",
     "text": [
      "3일 동안 보지 않기\n",
      "검색\n",
      "재생\n",
      "새로운 글 더보기\n",
      "\n",
      "\n",
      "\n",
      "라이트 모드로 보기\n"
     ]
    }
   ],
   "source": [
    "# 이미 렌더링된 오브젝트 모델 (DOM)을 가지고 있음.\n",
    "for _ in driver.find_elements_by_css_selector('button'): # 로그인 버튼을 찾아보자\n",
    "    print(_.text)\n",
    "    \n",
    "# 없음.. 버튼이 아닌 듯?"
   ]
  },
  {
   "cell_type": "code",
   "execution_count": 69,
   "metadata": {},
   "outputs": [],
   "source": [
    "driver.find_element_by_css_selector('a.link_login').click()\n",
    "# 로그인 화면으로 넘어감!"
   ]
  },
  {
   "cell_type": "code",
   "execution_count": 62,
   "metadata": {},
   "outputs": [],
   "source": [
    "# HTML 코드 레벨에서 찾는 방법 - 이게 훨씬 빠름.\n",
    "dom = BeautifulSoup(driver.page_source, 'lxml')"
   ]
  },
  {
   "cell_type": "code",
   "execution_count": 66,
   "metadata": {},
   "outputs": [
    {
     "name": "stdout",
     "output_type": "stream",
     "text": [
      "<span>로그인 바로가기</span>\n",
      "<a class=\"btn btn_login\" data-clk=\"sug.cxlogin\" href=\"https://nid.naver.com/nidlogin.login\">로그인</a>\n",
      "<p class=\"desc\">싸이월드 재오픈이 ‘또’ 미뤄졌다. 지난 3월 서비스 재개를 예고했으나, 7월 현재까지 3번이나 연기됐다. 거의 월례행사라는 조롱과 함께 서비스 재개가 과연 가능한 것이냐는 우려 섞인 목소리도 나온다.싸이월드 운영권을 가진 싸이월드제트는 7월 5일 오후 6시부터 개시하기로 했던 싸이월드 자동 로그인 서비스를 오는 8월 2일 오후 6시로</p>\n",
      "<h2 class=\"blind\">로그인</h2>\n",
      "<a class=\"link_login\" data-clk=\"log_off.login\" href=\"https://nid.naver.com/nidlogin.login?mode=form&amp;url=https%3A%2F%2Fwww.naver.com\"><i class=\"ico_naver\"><span class=\"blind\">네이버</span></i>로그인</a>\n"
     ]
    }
   ],
   "source": [
    "for _ in  dom.find_all(text=re.compile(r'로그인')):\n",
    "    print(_.find_parent())\n",
    "    \n",
    "# 맨 마지막 값 : 로그인 버튼 바로가기"
   ]
  },
  {
   "cell_type": "code",
   "execution_count": 73,
   "metadata": {},
   "outputs": [
    {
     "name": "stdout",
     "output_type": "stream",
     "text": [
      "input localechange\n",
      "input dynamicKey\n",
      "input encpw\n",
      "input enctp\n",
      "input svctype\n",
      "input smart_LEVEL\n",
      "input bvsd\n",
      "input encnm\n",
      "input locale\n",
      "input url\n"
     ]
    }
   ],
   "source": [
    "# 정확히는 form 태그를 꼭 먼저 찾아야함! 거기에 input parameter가 어떻게 들어가는지 확인해야 하므로\n",
    "#\n",
    "# 이를 활용하면 예매 매크로를 짤 수 있음.\n",
    "for _ in driver.find_elements_by_css_selector('form > input[name]'):\n",
    "    print(_.tag_name, _.get_attribute('name'))"
   ]
  },
  {
   "cell_type": "code",
   "execution_count": 76,
   "metadata": {},
   "outputs": [],
   "source": [
    "driver.find_element_by_name('id').clear()\n",
    "driver.find_element_by_name('id').send_keys('dimoteo333')"
   ]
  },
  {
   "cell_type": "code",
   "execution_count": 81,
   "metadata": {},
   "outputs": [
    {
     "name": "stdout",
     "output_type": "stream",
     "text": [
      "button  id_clear\n",
      "button  pw_clear\n",
      "a  ipguide\n"
     ]
    }
   ],
   "source": [
    "for _ in driver.find_elements_by_css_selector('form a, form button'):\n",
    "    print(_.tag_name, _.text, _.get_attribute('id'))"
   ]
  },
  {
   "cell_type": "code",
   "execution_count": 82,
   "metadata": {},
   "outputs": [
    {
     "ename": "IndentationError",
     "evalue": "unexpected indent (<ipython-input-82-4f1ad00983f0>, line 2)",
     "output_type": "error",
     "traceback": [
      "\u001b[1;36m  File \u001b[1;32m\"<ipython-input-82-4f1ad00983f0>\"\u001b[1;36m, line \u001b[1;32m2\u001b[0m\n\u001b[1;33m    input -> param\u001b[0m\n\u001b[1;37m    ^\u001b[0m\n\u001b[1;31mIndentationError\u001b[0m\u001b[1;31m:\u001b[0m unexpected indent\n"
     ]
    }
   ],
   "source": [
    "form\n",
    " input -> param\n",
    " submit\n",
    " button\n",
    " a\n",
    "\n",
    "이런 구조..."
   ]
  },
  {
   "cell_type": "code",
   "execution_count": 88,
   "metadata": {},
   "outputs": [],
   "source": [
    "driver.find_element_by_name('pw').clear()\n",
    "driver.find_element_by_name('pw').send_keys('abcde')"
   ]
  },
  {
   "cell_type": "code",
   "execution_count": 89,
   "metadata": {},
   "outputs": [],
   "source": [
    "driver.find_element_by_css_selector(\n",
    "    'form input[type=submit]').get_attribute('value')\n",
    "driver.find_element_by_css_selector(\n",
    "    'form input[type=submit]').click()"
   ]
  },
  {
   "cell_type": "code",
   "execution_count": null,
   "metadata": {},
   "outputs": [],
   "source": [
    "# 백날 로그인 상태 유지 눌러도 안된다\n",
    "# 백날 자주 사용하는 기기 등록해도 소용 없음.\n",
    "# 실제 로그인을 시도해도, 마우스의 움직임이 없기 때문에 자동방지 입력문자를 입력해야만 함.\n",
    "# 이를 해결하기 위해서는 계정의 보안 등급을 굉장히 낮춰야 로그인됨\n",
    "# 예) 구글의 reCaptcha\n",
    "#\n",
    "# 기본적으로 자동입력 방지 문자로 글자를 살짝 기울인 정도는 뚫는 패키지가 존재"
   ]
  },
  {
   "cell_type": "code",
   "execution_count": 91,
   "metadata": {},
   "outputs": [
    {
     "data": {
      "text/plain": [
       "'CDwindow-FC05F84FB8F5EDC9E2586E32552B5494'"
      ]
     },
     "execution_count": 91,
     "metadata": {},
     "output_type": "execute_result"
    }
   ],
   "source": [
    "# 지금 보고 있는 창의 ID임. 새 탭을 띄우든, 드라이버를 다시 키든 매번 바뀔 예정\n",
    "# => 등록해도 소용이 없음.\n",
    "driver.current_window_handle"
   ]
  },
  {
   "cell_type": "code",
   "execution_count": 95,
   "metadata": {},
   "outputs": [],
   "source": [
    "# 쿠키를 더 간단하게 이용하기\n",
    "naver = driver.get_cookies()"
   ]
  },
  {
   "cell_type": "code",
   "execution_count": 97,
   "metadata": {},
   "outputs": [
    {
     "data": {
      "text/plain": [
       "{}"
      ]
     },
     "execution_count": 97,
     "metadata": {},
     "output_type": "execute_result"
    }
   ],
   "source": [
    "session.cookies.clear()\n",
    "session.cookies.get_dict()"
   ]
  },
  {
   "cell_type": "code",
   "execution_count": 132,
   "metadata": {},
   "outputs": [],
   "source": [
    "driver = Chrome()"
   ]
  },
  {
   "cell_type": "code",
   "execution_count": 104,
   "metadata": {},
   "outputs": [],
   "source": [
    "for _ in naver:\n",
    "    session.cookies.set(_['name'], _['value'],\n",
    "                        domain=_['domain'], path=_['path'])"
   ]
  },
  {
   "cell_type": "code",
   "execution_count": 106,
   "metadata": {},
   "outputs": [
    {
     "data": {
      "text/plain": [
       "{'currentTime': 1625799289,\n",
       " 'lastPage': 22,\n",
       " 'Message': '',\n",
       " 'pageSize': 15,\n",
       " 'unreadCount': 320,\n",
       " 'mailData': [{'mailSN': 62568,\n",
       "   'folderSN': 5,\n",
       "   'folderName': None,\n",
       "   'iconType': 0,\n",
       "   'status': 2105344,\n",
       "   'from': {'name': '핫트랙스', 'email': 'noreply@hottracks.co.kr'},\n",
       "   'subject': '(광고)★아에르 KF80 신상컬러 런칭/ ★스타벅스 콜드브루 메이커, 최저가+무배/ ★한정수량! 리유저블 텀블러 증정!',\n",
       "   'receivedTime': 1625790470,\n",
       "   'sentTime': 1625779800,\n",
       "   'size': 10312,\n",
       "   'attachCount': 0,\n",
       "   'iDomainEmail': 'dimoteo333@naver.com',\n",
       "   'priority': 3,\n",
       "   'securityLevel': None,\n",
       "   'reSend': False,\n",
       "   'color': '#ffffff',\n",
       "   'preview': '',\n",
       "   'mimeSN': '1625790470.904767.14783.50944',\n",
       "   'toList': [{'name': '', 'email': 'dimoteo333@naver.com'}],\n",
       "   'spamType': 'USER_DEFINE',\n",
       "   'attachInfo': [],\n",
       "   'threadId': '<17a8563fc193_@_imoxion.com>',\n",
       "   'bccList': [],\n",
       "   'receiveByBcc': False,\n",
       "   'threadCount': 0,\n",
       "   'unreadThreadCount': 0,\n",
       "   'firstLocatedTime': 1625790470,\n",
       "   'remindAt': 0,\n",
       "   'threadRemindAt': 0,\n",
       "   'threadRemindFlag': 0,\n",
       "   'category': 213,\n",
       "   'lastLocatedTime': 0,\n",
       "   'toMe': True,\n",
       "   'bigFile': False,\n",
       "   'statusHex': '202000',\n",
       "   'isDomainMail': False,\n",
       "   'oldBigFile': False},\n",
       "  {'mailSN': 62566,\n",
       "   'folderSN': 5,\n",
       "   'folderName': None,\n",
       "   'iconType': 0,\n",
       "   'status': 2105344,\n",
       "   'from': {'name': 'Namepr', 'email': 'namepr@namepr.co.kr'},\n",
       "   'subject': '(광고) 긴급대출이 필요할때~ 믿을수 있는 &#39;맞춤형안심대출&#39;로 고민해결 OK!!',\n",
       "   'receivedTime': 1625786029,\n",
       "   'sentTime': 1625786029,\n",
       "   'size': 3193,\n",
       "   'attachCount': 0,\n",
       "   'iDomainEmail': 'dimoteo333@naver.com',\n",
       "   'priority': 3,\n",
       "   'securityLevel': None,\n",
       "   'reSend': False,\n",
       "   'color': '#ffffff',\n",
       "   'preview': '',\n",
       "   'mimeSN': '1625786029.720190.14783.63232',\n",
       "   'toList': [{'name': '', 'email': 'dimoteo333@naver.com'}],\n",
       "   'spamType': 'USER_DEFINE',\n",
       "   'attachInfo': [],\n",
       "   'threadId': '<1625786029718.7f999.112413968@crcvmail201.nm>',\n",
       "   'bccList': [],\n",
       "   'receiveByBcc': False,\n",
       "   'threadCount': 0,\n",
       "   'unreadThreadCount': 0,\n",
       "   'firstLocatedTime': 1625786029,\n",
       "   'remindAt': 0,\n",
       "   'threadRemindAt': 0,\n",
       "   'threadRemindFlag': 0,\n",
       "   'category': 213,\n",
       "   'lastLocatedTime': 0,\n",
       "   'toMe': True,\n",
       "   'bigFile': False,\n",
       "   'statusHex': '202000',\n",
       "   'isDomainMail': False,\n",
       "   'oldBigFile': False},\n",
       "  {'mailSN': 62565,\n",
       "   'folderSN': 5,\n",
       "   'folderName': None,\n",
       "   'iconType': 0,\n",
       "   'status': 2105344,\n",
       "   'from': {'name': '인터넷교보문고', 'email': 'no-reply@kyobobook.co.kr'},\n",
       "   'subject': '(광고) 라미 신상 아이온 다크그린 19% 할인 + 무료각인 / 탁상용 선풍기 최대 25% 할인 / 미니 건조기 최대 37% 할인',\n",
       "   'receivedTime': 1625776233,\n",
       "   'sentTime': 1625776233,\n",
       "   'size': 15063,\n",
       "   'attachCount': 0,\n",
       "   'iDomainEmail': 'dimoteo333@naver.com',\n",
       "   'priority': 3,\n",
       "   'securityLevel': None,\n",
       "   'reSend': False,\n",
       "   'color': '#ffffff',\n",
       "   'preview': '',\n",
       "   'mimeSN': '1625776233.417929.19184.30464',\n",
       "   'toList': [{'name': '임준혁님', 'email': 'dimoteo333@naver.com'}],\n",
       "   'spamType': 'USER_DEFINE',\n",
       "   'attachInfo': [],\n",
       "   'threadId': '<1625776233415.7fbdf.112368750@crcvmail105.nm>',\n",
       "   'bccList': [],\n",
       "   'receiveByBcc': False,\n",
       "   'threadCount': 0,\n",
       "   'unreadThreadCount': 0,\n",
       "   'firstLocatedTime': 1625776233,\n",
       "   'remindAt': 0,\n",
       "   'threadRemindAt': 0,\n",
       "   'threadRemindFlag': 0,\n",
       "   'category': 213,\n",
       "   'lastLocatedTime': 0,\n",
       "   'toMe': True,\n",
       "   'bigFile': False,\n",
       "   'statusHex': '202000',\n",
       "   'isDomainMail': False,\n",
       "   'oldBigFile': False},\n",
       "  {'mailSN': 62564,\n",
       "   'folderSN': 5,\n",
       "   'folderName': None,\n",
       "   'iconType': 0,\n",
       "   'status': 2105344,\n",
       "   'from': {'name': '예스24(콩편지)', 'email': 'no-reply@yes24.com'},\n",
       "   'subject': '(광고) 가벼운 기분전환과 일상탈출! 예스24 단독 피크닉 와인잔 SET 출시 ',\n",
       "   'receivedTime': 1625769016,\n",
       "   'sentTime': 1625769016,\n",
       "   'size': 57158,\n",
       "   'attachCount': 0,\n",
       "   'iDomainEmail': 'dimoteo333@naver.com',\n",
       "   'priority': 3,\n",
       "   'securityLevel': None,\n",
       "   'reSend': False,\n",
       "   'color': '#ffffff',\n",
       "   'preview': '',\n",
       "   'mimeSN': '1625769016.785657.14165.14080',\n",
       "   'toList': [{'name': '임준혁님', 'email': 'dimoteo333@naver.com'}],\n",
       "   'spamType': 'USER_DEFINE',\n",
       "   'attachInfo': [],\n",
       "   'threadId': '<1625769016783.7f58b.112174808@crcvmail103.nm>',\n",
       "   'bccList': [],\n",
       "   'receiveByBcc': False,\n",
       "   'threadCount': 0,\n",
       "   'unreadThreadCount': 0,\n",
       "   'firstLocatedTime': 1625769016,\n",
       "   'remindAt': 0,\n",
       "   'threadRemindAt': 0,\n",
       "   'threadRemindFlag': 0,\n",
       "   'category': 213,\n",
       "   'lastLocatedTime': 0,\n",
       "   'toMe': True,\n",
       "   'bigFile': False,\n",
       "   'statusHex': '202000',\n",
       "   'isDomainMail': False,\n",
       "   'oldBigFile': False},\n",
       "  {'mailSN': 62563,\n",
       "   'folderSN': 5,\n",
       "   'folderName': None,\n",
       "   'iconType': 0,\n",
       "   'status': 2105344,\n",
       "   'from': {'name': '티몬블랙딜', 'email': 'noreply@tmon.kr'},\n",
       "   'subject': '(광고) 달콤 아삭 개별포장 세척사과 2kg(5~14과) 8,900원',\n",
       "   'receivedTime': 1625763800,\n",
       "   'sentTime': 1625763800,\n",
       "   'size': 56223,\n",
       "   'attachCount': 0,\n",
       "   'iDomainEmail': 'dimoteo333@naver.com',\n",
       "   'priority': 3,\n",
       "   'securityLevel': None,\n",
       "   'reSend': False,\n",
       "   'color': '#ffffff',\n",
       "   'preview': '',\n",
       "   'mimeSN': '1625763800.80414.16084.38656',\n",
       "   'toList': [{'name': '임준혁님', 'email': 'dimoteo333@naver.com'}],\n",
       "   'spamType': 'USER_DEFINE',\n",
       "   'attachInfo': [],\n",
       "   'threadId': '<1625763800077.7f554.112001403@crcvmail103.nm>',\n",
       "   'bccList': [],\n",
       "   'receiveByBcc': False,\n",
       "   'threadCount': 0,\n",
       "   'unreadThreadCount': 0,\n",
       "   'firstLocatedTime': 1625763800,\n",
       "   'remindAt': 0,\n",
       "   'threadRemindAt': 0,\n",
       "   'threadRemindFlag': 0,\n",
       "   'category': 213,\n",
       "   'lastLocatedTime': 0,\n",
       "   'toMe': True,\n",
       "   'bigFile': False,\n",
       "   'statusHex': '202000',\n",
       "   'isDomainMail': False,\n",
       "   'oldBigFile': False},\n",
       "  {'mailSN': 62558,\n",
       "   'folderSN': 5,\n",
       "   'folderName': None,\n",
       "   'iconType': 0,\n",
       "   'status': 2105344,\n",
       "   'from': {'name': '예스24(이벤트)', 'email': 'no-reply@yes24.com'},\n",
       "   'subject': '(광고)★14인치 선풍기 29,000원/★클렌즈 스무디 7,900원/★외장하드 2TB 87,310원!',\n",
       "   'receivedTime': 1625724437,\n",
       "   'sentTime': 1625724437,\n",
       "   'size': 45957,\n",
       "   'attachCount': 0,\n",
       "   'iDomainEmail': 'dimoteo333@naver.com',\n",
       "   'priority': 3,\n",
       "   'securityLevel': None,\n",
       "   'reSend': False,\n",
       "   'color': '#ffffff',\n",
       "   'preview': '',\n",
       "   'mimeSN': '1625724437.484757.29922.26368',\n",
       "   'toList': [{'name': '임준혁님', 'email': 'dimoteo333@naver.com'}],\n",
       "   'spamType': 'USER_DEFINE',\n",
       "   'attachInfo': [],\n",
       "   'threadId': '<1625724437482.7fd45.114189669@crcvmail305.nm>',\n",
       "   'bccList': [],\n",
       "   'receiveByBcc': False,\n",
       "   'threadCount': 0,\n",
       "   'unreadThreadCount': 0,\n",
       "   'firstLocatedTime': 1625724437,\n",
       "   'remindAt': 0,\n",
       "   'threadRemindAt': 0,\n",
       "   'threadRemindFlag': 0,\n",
       "   'category': 213,\n",
       "   'lastLocatedTime': 0,\n",
       "   'toMe': True,\n",
       "   'bigFile': False,\n",
       "   'statusHex': '202000',\n",
       "   'isDomainMail': False,\n",
       "   'oldBigFile': False},\n",
       "  {'mailSN': 62557,\n",
       "   'folderSN': 5,\n",
       "   'folderName': None,\n",
       "   'iconType': 0,\n",
       "   'status': 2105344,\n",
       "   'from': {'name': '티몬 1212타임', 'email': 'noreply@tmon.kr'},\n",
       "   'subject': '(광고) 떡볶이 외길! 줄 서서 먹는 두끼 떡볶이 집에서 즐겨요~',\n",
       "   'receivedTime': 1625724270,\n",
       "   'sentTime': 1625724270,\n",
       "   'size': 56149,\n",
       "   'attachCount': 0,\n",
       "   'iDomainEmail': 'dimoteo333@naver.com',\n",
       "   'priority': 3,\n",
       "   'securityLevel': None,\n",
       "   'reSend': False,\n",
       "   'color': '#ffffff',\n",
       "   'preview': '',\n",
       "   'mimeSN': '1625724270.326886.29922.38656',\n",
       "   'toList': [{'name': '임준혁님', 'email': 'dimoteo333@naver.com'}],\n",
       "   'spamType': 'USER_DEFINE',\n",
       "   'attachInfo': [],\n",
       "   'threadId': '<1625724270321.7fc11.110562816@crcvmail105.nm>',\n",
       "   'bccList': [],\n",
       "   'receiveByBcc': False,\n",
       "   'threadCount': 0,\n",
       "   'unreadThreadCount': 0,\n",
       "   'firstLocatedTime': 1625724270,\n",
       "   'remindAt': 0,\n",
       "   'threadRemindAt': 0,\n",
       "   'threadRemindFlag': 0,\n",
       "   'category': 213,\n",
       "   'lastLocatedTime': 0,\n",
       "   'toMe': True,\n",
       "   'bigFile': False,\n",
       "   'statusHex': '202000',\n",
       "   'isDomainMail': False,\n",
       "   'oldBigFile': False},\n",
       "  {'mailSN': 62556,\n",
       "   'folderSN': 5,\n",
       "   'folderName': None,\n",
       "   'iconType': 0,\n",
       "   'status': 2105344,\n",
       "   'from': {'name': '교보eBook', 'email': '_kyobo_ebook_@kyobobook.co.kr'},\n",
       "   'subject': '(광고) 내가 왜 황후인데? 로맨스 e캐시!',\n",
       "   'receivedTime': 1625721362,\n",
       "   'sentTime': 1625721362,\n",
       "   'size': 22444,\n",
       "   'attachCount': 0,\n",
       "   'iDomainEmail': 'dimoteo333@naver.com',\n",
       "   'priority': 3,\n",
       "   'securityLevel': None,\n",
       "   'reSend': False,\n",
       "   'color': '#ffffff',\n",
       "   'preview': '',\n",
       "   'mimeSN': '1625721362.621653.14165.30464',\n",
       "   'toList': [{'name': '임준혁님', 'email': 'dimoteo333@naver.com'}],\n",
       "   'spamType': 'USER_DEFINE',\n",
       "   'attachInfo': [],\n",
       "   'threadId': '<1625721362619.7f0a5.110286282@crcvmail106.nm>',\n",
       "   'bccList': [],\n",
       "   'receiveByBcc': False,\n",
       "   'threadCount': 0,\n",
       "   'unreadThreadCount': 0,\n",
       "   'firstLocatedTime': 1625721362,\n",
       "   'remindAt': 0,\n",
       "   'threadRemindAt': 0,\n",
       "   'threadRemindFlag': 0,\n",
       "   'category': 213,\n",
       "   'lastLocatedTime': 0,\n",
       "   'toMe': True,\n",
       "   'bigFile': False,\n",
       "   'statusHex': '202000',\n",
       "   'isDomainMail': False,\n",
       "   'oldBigFile': False},\n",
       "  {'mailSN': 62555,\n",
       "   'folderSN': 5,\n",
       "   'folderName': None,\n",
       "   'iconType': 0,\n",
       "   'status': 2105344,\n",
       "   'from': {'name': '인터파크티켓', 'email': 'goods@ticket.interpark.com'},\n",
       "   'subject': '(광고) EVERGLOW ONLINE CONCERT ［THE FIRST］',\n",
       "   'receivedTime': 1625720565,\n",
       "   'sentTime': 1625720565,\n",
       "   'size': 10667,\n",
       "   'attachCount': 0,\n",
       "   'iDomainEmail': 'dimoteo333@naver.com',\n",
       "   'priority': 3,\n",
       "   'securityLevel': None,\n",
       "   'reSend': False,\n",
       "   'color': '#ffffff',\n",
       "   'preview': '',\n",
       "   'mimeSN': '1625720565.226663.4797.38656',\n",
       "   'toList': [{'name': '임준혁님', 'email': 'dimoteo333@naver.com'}],\n",
       "   'spamType': 'USER_DEFINE',\n",
       "   'attachInfo': [],\n",
       "   'threadId': '<1625720565224.7f3d0.113920216@crcvmail304.nm>',\n",
       "   'bccList': [],\n",
       "   'receiveByBcc': False,\n",
       "   'threadCount': 0,\n",
       "   'unreadThreadCount': 0,\n",
       "   'firstLocatedTime': 1625720565,\n",
       "   'remindAt': 0,\n",
       "   'threadRemindAt': 0,\n",
       "   'threadRemindFlag': 0,\n",
       "   'category': 213,\n",
       "   'lastLocatedTime': 0,\n",
       "   'toMe': True,\n",
       "   'bigFile': False,\n",
       "   'statusHex': '202000',\n",
       "   'isDomainMail': False,\n",
       "   'oldBigFile': False},\n",
       "  {'mailSN': 62552,\n",
       "   'folderSN': 5,\n",
       "   'folderName': None,\n",
       "   'iconType': 0,\n",
       "   'status': 2105344,\n",
       "   'from': {'name': '예스24(이벤트)', 'email': 'no-reply@yes24.com'},\n",
       "   'subject': '(광고)▶마감임박! 간단한 설문하고 1천원 받으세요! (~7/9) ',\n",
       "   'receivedTime': 1625718266,\n",
       "   'sentTime': 1625718266,\n",
       "   'size': 26849,\n",
       "   'attachCount': 0,\n",
       "   'iDomainEmail': 'dimoteo333@naver.com',\n",
       "   'priority': 3,\n",
       "   'securityLevel': None,\n",
       "   'reSend': False,\n",
       "   'color': '#ffffff',\n",
       "   'preview': '',\n",
       "   'mimeSN': '1625718266.215539.2889.50944',\n",
       "   'toList': [{'name': '임준혁님', 'email': 'dimoteo333@naver.com'}],\n",
       "   'spamType': 'USER_DEFINE',\n",
       "   'attachInfo': [],\n",
       "   'threadId': '<1625718266213.7f3f7.110231835@crcvmail101.nm>',\n",
       "   'bccList': [],\n",
       "   'receiveByBcc': False,\n",
       "   'threadCount': 0,\n",
       "   'unreadThreadCount': 0,\n",
       "   'firstLocatedTime': 1625718266,\n",
       "   'remindAt': 0,\n",
       "   'threadRemindAt': 0,\n",
       "   'threadRemindFlag': 0,\n",
       "   'category': 213,\n",
       "   'lastLocatedTime': 0,\n",
       "   'toMe': True,\n",
       "   'bigFile': False,\n",
       "   'statusHex': '202000',\n",
       "   'isDomainMail': False,\n",
       "   'oldBigFile': False},\n",
       "  {'mailSN': 62550,\n",
       "   'folderSN': 5,\n",
       "   'folderName': None,\n",
       "   'iconType': 0,\n",
       "   'status': 2105344,\n",
       "   'from': {'name': '알라딘[이벤트]', 'email': 'deliver@aladin.co.kr'},\n",
       "   'subject': ' (광고) 이사카 고타로 &lt;시소 몬스터&gt; 피크닉 의자.작가 친필 인쇄 엽서 세트',\n",
       "   'receivedTime': 1625710139,\n",
       "   'sentTime': 1625710140,\n",
       "   'size': 8576,\n",
       "   'attachCount': 0,\n",
       "   'iDomainEmail': 'dimoteo333@naver.com',\n",
       "   'priority': 3,\n",
       "   'securityLevel': None,\n",
       "   'reSend': False,\n",
       "   'color': '#ffffff',\n",
       "   'preview': '',\n",
       "   'mimeSN': '1625710139.528457.18860.22272',\n",
       "   'toList': [{'name': 'dimoteo333@naver.com님',\n",
       "     'email': 'dimoteo333@naver.com'}],\n",
       "   'spamType': 'USER_DEFINE',\n",
       "   'attachInfo': [],\n",
       "   'threadId': '<1625710139525.7f3e7.112993716@crcvmail303.nm>',\n",
       "   'bccList': [],\n",
       "   'receiveByBcc': False,\n",
       "   'threadCount': 0,\n",
       "   'unreadThreadCount': 0,\n",
       "   'firstLocatedTime': 1625710139,\n",
       "   'remindAt': 0,\n",
       "   'threadRemindAt': 0,\n",
       "   'threadRemindFlag': 0,\n",
       "   'category': 213,\n",
       "   'lastLocatedTime': 0,\n",
       "   'toMe': True,\n",
       "   'bigFile': False,\n",
       "   'statusHex': '202000',\n",
       "   'isDomainMail': False,\n",
       "   'oldBigFile': False},\n",
       "  {'mailSN': 62549,\n",
       "   'folderSN': 5,\n",
       "   'folderName': None,\n",
       "   'iconType': 0,\n",
       "   'status': 2105344,\n",
       "   'from': {'name': 'G마켓', 'email': 'mailmaster@corp.gmarket.co.kr'},\n",
       "   'subject': '(광고) 최고의 쇼핑비결! 슈퍼서울위크/랜선 전국투어! 집콕 쇼핑',\n",
       "   'receivedTime': 1625707211,\n",
       "   'sentTime': 1625707211,\n",
       "   'size': 35598,\n",
       "   'attachCount': 0,\n",
       "   'iDomainEmail': 'dimoteo333@naver.com',\n",
       "   'priority': 3,\n",
       "   'securityLevel': None,\n",
       "   'reSend': False,\n",
       "   'color': '#ffffff',\n",
       "   'preview': '',\n",
       "   'mimeSN': '1625707211.900040.18860.38656',\n",
       "   'toList': [{'name': '임*혁님', 'email': 'dimoteo333@naver.com'}],\n",
       "   'spamType': 'USER_DEFINE',\n",
       "   'attachInfo': [],\n",
       "   'threadId': '<1625707211897.7fbbe.108515897@crcvmail203.nm>',\n",
       "   'bccList': [],\n",
       "   'receiveByBcc': False,\n",
       "   'threadCount': 0,\n",
       "   'unreadThreadCount': 0,\n",
       "   'firstLocatedTime': 1625707211,\n",
       "   'remindAt': 0,\n",
       "   'threadRemindAt': 0,\n",
       "   'threadRemindFlag': 0,\n",
       "   'category': 213,\n",
       "   'lastLocatedTime': 0,\n",
       "   'toMe': True,\n",
       "   'bigFile': False,\n",
       "   'statusHex': '202000',\n",
       "   'isDomainMail': False,\n",
       "   'oldBigFile': False},\n",
       "  {'mailSN': 62548,\n",
       "   'folderSN': 5,\n",
       "   'folderName': None,\n",
       "   'iconType': 0,\n",
       "   'status': 2105344,\n",
       "   'from': {'name': '교보문고', 'email': 'noreply@kyobobook.co.kr'},\n",
       "   'subject': '(광고) [톡톡편지] 우리는 이 거대함의 일부였다',\n",
       "   'receivedTime': 1625703117,\n",
       "   'sentTime': 1625703117,\n",
       "   'size': 23025,\n",
       "   'attachCount': 0,\n",
       "   'iDomainEmail': 'dimoteo333@naver.com',\n",
       "   'priority': 3,\n",
       "   'securityLevel': None,\n",
       "   'reSend': False,\n",
       "   'color': '#ffffff',\n",
       "   'preview': '',\n",
       "   'mimeSN': '1625703117.223720.2889.1792',\n",
       "   'toList': [{'name': '임준혁님', 'email': 'dimoteo333@naver.com'}],\n",
       "   'spamType': 'USER_DEFINE',\n",
       "   'attachInfo': [],\n",
       "   'threadId': '<1625703117221.7f847.108102891@crcvmail205.nm>',\n",
       "   'bccList': [],\n",
       "   'receiveByBcc': False,\n",
       "   'threadCount': 0,\n",
       "   'unreadThreadCount': 0,\n",
       "   'firstLocatedTime': 1625703117,\n",
       "   'remindAt': 0,\n",
       "   'threadRemindAt': 0,\n",
       "   'threadRemindFlag': 0,\n",
       "   'category': 213,\n",
       "   'lastLocatedTime': 0,\n",
       "   'toMe': True,\n",
       "   'bigFile': False,\n",
       "   'statusHex': '202000',\n",
       "   'isDomainMail': False,\n",
       "   'oldBigFile': False},\n",
       "  {'mailSN': 62547,\n",
       "   'folderSN': 5,\n",
       "   'folderName': None,\n",
       "   'iconType': 0,\n",
       "   'status': 2105344,\n",
       "   'from': {'name': 'Namepr', 'email': 'namepr@namepr.co.kr'},\n",
       "   'subject': '(광고) 생활대출이 꼭!! 필요할때, 믿을수 있는 &#39;맞춤형안심대출&#39;로 고민해결 OK!!',\n",
       "   'receivedTime': 1625701134,\n",
       "   'sentTime': 1625701134,\n",
       "   'size': 3199,\n",
       "   'attachCount': 0,\n",
       "   'iDomainEmail': 'dimoteo333@naver.com',\n",
       "   'priority': 3,\n",
       "   'securityLevel': None,\n",
       "   'reSend': False,\n",
       "   'color': '#ffffff',\n",
       "   'preview': '',\n",
       "   'mimeSN': '1625701134.851428.16084.5888',\n",
       "   'toList': [{'name': '', 'email': 'dimoteo333@naver.com'}],\n",
       "   'spamType': 'USER_DEFINE',\n",
       "   'attachInfo': [],\n",
       "   'threadId': '<1625701134849.7fdde.107913150@crcvmail206.nm>',\n",
       "   'bccList': [],\n",
       "   'receiveByBcc': False,\n",
       "   'threadCount': 0,\n",
       "   'unreadThreadCount': 0,\n",
       "   'firstLocatedTime': 1625701134,\n",
       "   'remindAt': 0,\n",
       "   'threadRemindAt': 0,\n",
       "   'threadRemindFlag': 0,\n",
       "   'category': 213,\n",
       "   'lastLocatedTime': 0,\n",
       "   'toMe': True,\n",
       "   'bigFile': False,\n",
       "   'statusHex': '202000',\n",
       "   'isDomainMail': False,\n",
       "   'oldBigFile': False},\n",
       "  {'mailSN': 62546,\n",
       "   'folderSN': 5,\n",
       "   'folderName': None,\n",
       "   'iconType': 0,\n",
       "   'status': 2105344,\n",
       "   'from': {'name': '예스24(콕편지)', 'email': 'no-reply@yes24.com'},\n",
       "   'subject': '(광고) 쿠폰으로 더 저렴하게! 중고샵 할인 혜택 모음!',\n",
       "   'receivedTime': 1625693617,\n",
       "   'sentTime': 1625693617,\n",
       "   'size': 38702,\n",
       "   'attachCount': 0,\n",
       "   'iDomainEmail': 'dimoteo333@naver.com',\n",
       "   'priority': 3,\n",
       "   'securityLevel': None,\n",
       "   'reSend': False,\n",
       "   'color': '#ffffff',\n",
       "   'preview': '',\n",
       "   'mimeSN': '1625693617.932680.21775.18176',\n",
       "   'toList': [{'name': '임준혁님', 'email': 'dimoteo333@naver.com'}],\n",
       "   'spamType': 'USER_DEFINE',\n",
       "   'attachInfo': [],\n",
       "   'threadId': '<1625693617930.7fdf6.107431043@crcvmail206.nm>',\n",
       "   'bccList': [],\n",
       "   'receiveByBcc': False,\n",
       "   'threadCount': 0,\n",
       "   'unreadThreadCount': 0,\n",
       "   'firstLocatedTime': 1625693617,\n",
       "   'remindAt': 0,\n",
       "   'threadRemindAt': 0,\n",
       "   'threadRemindFlag': 0,\n",
       "   'category': 213,\n",
       "   'lastLocatedTime': 0,\n",
       "   'toMe': True,\n",
       "   'bigFile': False,\n",
       "   'statusHex': '202000',\n",
       "   'isDomainMail': False,\n",
       "   'oldBigFile': False}],\n",
       " 'folderName': '스팸메일함',\n",
       " 'totalCount': 320,\n",
       " 'listCount': 15,\n",
       " 'Result': 'OK'}"
      ]
     },
     "execution_count": 106,
     "metadata": {},
     "output_type": "execute_result"
    }
   ],
   "source": [
    "resp = session.request('post', url=url, params=params)\n",
    "resp.json()"
   ]
  },
  {
   "cell_type": "code",
   "execution_count": 142,
   "metadata": {},
   "outputs": [],
   "source": [
    "# 즉, 이 방법을 이용한다면 쿠키만 가지고 네이버 로그인한 채로 이용할 수 있다.\n",
    "driver.delete_all_cookies()"
   ]
  },
  {
   "cell_type": "code",
   "execution_count": 143,
   "metadata": {},
   "outputs": [],
   "source": [
    "driver.get('https://www.naver.com')"
   ]
  },
  {
   "cell_type": "code",
   "execution_count": 114,
   "metadata": {},
   "outputs": [],
   "source": [
    "for _ in naver:\n",
    "    driver.add_cookie(_)"
   ]
  },
  {
   "cell_type": "code",
   "execution_count": 133,
   "metadata": {},
   "outputs": [],
   "source": [
    "driver.get('https://www.naver.com')"
   ]
  },
  {
   "cell_type": "code",
   "execution_count": 144,
   "metadata": {},
   "outputs": [],
   "source": [
    "driver.get('https://mail.naver.com')"
   ]
  },
  {
   "cell_type": "code",
   "execution_count": 145,
   "metadata": {},
   "outputs": [],
   "source": [
    "dom = BeautifulSoup(driver.page_source, 'lxml')"
   ]
  },
  {
   "cell_type": "code",
   "execution_count": 146,
   "metadata": {},
   "outputs": [
    {
     "data": {
      "text/plain": [
       "<ol class=\"mailList sender_context\" style=\"min-width:600px\"><li class=\"62571_li notRead unmark _c1(mrCore|clickTitle|62571) _d2(mcDragndrop|html5DragStart)\" data-category=\"101\" draggable=\"true\" foldersn=\"\" mailsn=\"62571\" style=\"\"><span class=\"ico_current_flag\"><i class=\"blind\">마지막에 읽은 메일</i></span><ul class=\"mInfo\"><li class=\"_m1(mlCore|toggleCheckMail|62571|down) _c1(mlCore|toggleCheckMail|62571|click) _stopDefault\"><input class=\"mCheck _checkList _m3(mlCore|toggleCheckMail|62571|over) _m1(mlCore|toggleCheckMail|62571|down) _k1(mlCore|toggleCheckMail|62571|keydown) _stopDefault\" id=\"mailCheck_62571\" name=\"\" onclick='ccr(this, \"lst.selectgot\", event)' resend=\"\" securityleveltype=\"NORMAL\" type=\"checkbox\" value=\"\"/><label class=\"blind\" for=\"mailCheck_62571\">\"새로운 기기에서 로그인 되었습니다.\" 메일 선택</label></li><li class=\"important _m1(mlCore|doStop) _c1(mlCore|markMailSelf|62571|mark) _ccr(lst.mark) _stopDefault\"><a href=\"#\" onblur=\"$Element(this).removeClass('_starFocus')\" onfocus=\"$Element(this).addClass('_starFocus')\"><span class=\"spr icoImportant icoImportantOff\" mailsn=\"62571\"><span class=\"blind\">중요메일로 표시하기</span></span></a></li><li class=\"read\"><a class=\"spr icoRead admin _c1(mlCore|readMail|read_conversation|62571) _stopDefault\" href=\"#\" title=\"읽지않은 메일\"><span class=\"blind\">읽지않은 메일</span></a><span class=\"btn_cover _m1(mlCore|doStop) _c1(mlCore|toggleConversationList) _stopDefault\" style=\"display:none;\"><button class=\"btn_view_slave\"><span class=\"blind\">개의 관련 메일있음</span></button></span></li><li class=\"file\"><span class=\"spr\" style=\"cursor:default;\" title=\"\"><span class=\"blind\"></span></span></li></ul><div class=\"mTitle\"><div class=\"name _ccr(lst.from)\"><span class=\"blind\">보낸 이:</span><a class=\"_c1(myContextMenu|showSenderContextLayer|list|62571) _stopDefault\" href=\"#\" title='\"네이버\" &lt;account_noreply@navercorp.com&gt;'>네이버</a></div><div class=\"subject\"><a class=\"_d2(mcDragndrop|html5DragStart)\" draggable=\"true\" href=\"/read/popup/?nMailId=62571\"><span class=\"text _ccr(lst.title) _c1(mrCore|clickTitle|62571) _m2(mrCore|middleClickTitle|62571)\" foldersn=\"\" mailsn=\"62571\"><span class=\"folderName _ccr(lst.title) _c1(mrCore|clickTitle|62571) _m2(mrCore|middleClickTitle|62571)\" foldersn=\"\" mailsn=\"62571\"><span class=\"blind\">에 분류됨</span></span><strong class=\"mail_title _ccr(lst.title) _c1(mrCore|clickTitle|62571) _m2(mrCore|middleClickTitle|62571)\" foldersn=\"\" mailsn=\"62571\"><span class=\"blind\">메일 제목:</span>새로운 기기에서 로그인 되었습니다.</strong></span></a><a class=\"icon_previewMail\" href=\"#\" title=\"메일 내용 미리보기\"><span class=\"spr _m1(mlCore|previewMail|62571|0) _c1(mlCore|doStop) _stopDefault\"><em class=\"blind\">메일 내용 미리보기 레이어 열림</em></span></a><a class=\"newWindow _ccr(lst.newwindow) _c1(mrCore|popupRead|62571) _m1(mlCore|doStop) _stopDefault\" href=\"#\" title=\"새 창으로 메일 보기\"><span class=\"spr\"><em class=\"blind\">새 창으로 메일 보기</em></span></a></div></div><ul class=\"mInfo split_cell\"><li class=\"iDate\"><span class=\"blind\">보낸날짜:</span>12:03</li><li class=\"iSize\"><span class=\"blind\">메일크기::</span>22.6 KB</li></ul></li><li class=\"62570_li notRead unmark _c1(mrCore|clickTitle|62570) _d2(mcDragndrop|html5DragStart)\" data-category=\"101\" draggable=\"true\" foldersn=\"\" mailsn=\"62570\" style=\"\"><span class=\"ico_current_flag\"><i class=\"blind\">마지막에 읽은 메일</i></span><ul class=\"mInfo\"><li class=\"_m1(mlCore|toggleCheckMail|62570|down) _c1(mlCore|toggleCheckMail|62570|click) _stopDefault\"><input class=\"mCheck _checkList _m3(mlCore|toggleCheckMail|62570|over) _m1(mlCore|toggleCheckMail|62570|down) _k1(mlCore|toggleCheckMail|62570|keydown) _stopDefault\" id=\"mailCheck_62570\" name=\"\" onclick='ccr(this, \"lst.selectgot\", event)' resend=\"\" securityleveltype=\"NORMAL\" type=\"checkbox\" value=\"\"/><label class=\"blind\" for=\"mailCheck_62570\">\"새로운 기기에서 로그인 되었습니다.\" 메일 선택</label></li><li class=\"important _m1(mlCore|doStop) _c1(mlCore|markMailSelf|62570|mark) _ccr(lst.mark) _stopDefault\"><a href=\"#\" onblur=\"$Element(this).removeClass('_starFocus')\" onfocus=\"$Element(this).addClass('_starFocus')\"><span class=\"spr icoImportant icoImportantOff\" mailsn=\"62570\"><span class=\"blind\">중요메일로 표시하기</span></span></a></li><li class=\"read\"><a class=\"spr icoRead admin _c1(mlCore|readMail|read_conversation|62570) _stopDefault\" href=\"#\" title=\"읽지않은 메일\"><span class=\"blind\">읽지않은 메일</span></a><span class=\"btn_cover _m1(mlCore|doStop) _c1(mlCore|toggleConversationList) _stopDefault\" style=\"display:none;\"><button class=\"btn_view_slave\"><span class=\"blind\">개의 관련 메일있음</span></button></span></li><li class=\"file\"><span class=\"spr\" style=\"cursor:default;\" title=\"\"><span class=\"blind\"></span></span></li></ul><div class=\"mTitle\"><div class=\"name _ccr(lst.from)\"><span class=\"blind\">보낸 이:</span><a class=\"_c1(myContextMenu|showSenderContextLayer|list|62570) _stopDefault\" href=\"#\" title='\"네이버\" &lt;account_noreply@navercorp.com&gt;'>네이버</a></div><div class=\"subject\"><a class=\"_d2(mcDragndrop|html5DragStart)\" draggable=\"true\" href=\"/read/popup/?nMailId=62570\"><span class=\"text _ccr(lst.title) _c1(mrCore|clickTitle|62570) _m2(mrCore|middleClickTitle|62570)\" foldersn=\"\" mailsn=\"62570\"><span class=\"folderName _ccr(lst.title) _c1(mrCore|clickTitle|62570) _m2(mrCore|middleClickTitle|62570)\" foldersn=\"\" mailsn=\"62570\"><span class=\"blind\">에 분류됨</span></span><strong class=\"mail_title _ccr(lst.title) _c1(mrCore|clickTitle|62570) _m2(mrCore|middleClickTitle|62570)\" foldersn=\"\" mailsn=\"62570\"><span class=\"blind\">메일 제목:</span>새로운 기기에서 로그인 되었습니다.</strong></span></a><a class=\"icon_previewMail\" href=\"#\" title=\"메일 내용 미리보기\"><span class=\"spr _m1(mlCore|previewMail|62570|0) _c1(mlCore|doStop) _stopDefault\"><em class=\"blind\">메일 내용 미리보기 레이어 열림</em></span></a><a class=\"newWindow _ccr(lst.newwindow) _c1(mrCore|popupRead|62570) _m1(mlCore|doStop) _stopDefault\" href=\"#\" title=\"새 창으로 메일 보기\"><span class=\"spr\"><em class=\"blind\">새 창으로 메일 보기</em></span></a></div></div><ul class=\"mInfo split_cell\"><li class=\"iDate\"><span class=\"blind\">보낸날짜:</span>11:52</li><li class=\"iSize\"><span class=\"blind\">메일크기::</span>22.6 KB</li></ul></li><li class=\"62562_li notRead unmark _c1(mrCore|clickTitle|62562) _d2(mcDragndrop|html5DragStart)\" data-category=\"-1\" draggable=\"true\" foldersn=\"\" mailsn=\"62562\" style=\"\"><span class=\"ico_current_flag\"><i class=\"blind\">마지막에 읽은 메일</i></span><ul class=\"mInfo\"><li class=\"_m1(mlCore|toggleCheckMail|62562|down) _c1(mlCore|toggleCheckMail|62562|click) _stopDefault\"><input class=\"mCheck _checkList _m3(mlCore|toggleCheckMail|62562|over) _m1(mlCore|toggleCheckMail|62562|down) _k1(mlCore|toggleCheckMail|62562|keydown) _stopDefault\" id=\"mailCheck_62562\" name=\"\" onclick='ccr(this, \"lst.selectgot\", event)' resend=\"\" securityleveltype=\"NORMAL\" type=\"checkbox\" value=\"\"/><label class=\"blind\" for=\"mailCheck_62562\">\"大ベルセルク展／特別展 ミイラ／QuizKnock5周年記念展／他、イベント・レジャー情報！\" 메일 선택</label></li><li class=\"important _m1(mlCore|doStop) _c1(mlCore|markMailSelf|62562|mark) _ccr(lst.mark) _stopDefault\"><a href=\"#\" onblur=\"$Element(this).removeClass('_starFocus')\" onfocus=\"$Element(this).addClass('_starFocus')\"><span class=\"spr icoImportant icoImportantOff\" mailsn=\"62562\"><span class=\"blind\">중요메일로 표시하기</span></span></a></li><li class=\"read\"><a class=\"spr icoRead no _c1(mlCore|readMail|read_conversation|62562) _stopDefault\" href=\"#\" title=\"읽지않은 메일\"><span class=\"blind\">읽지않은 메일</span></a><span class=\"btn_cover _m1(mlCore|doStop) _c1(mlCore|toggleConversationList) _stopDefault\" style=\"display:none;\"><button class=\"btn_view_slave\"><span class=\"blind\">개의 관련 메일있음</span></button></span></li><li class=\"file\"><span class=\"spr\" style=\"cursor:default;\" title=\"\"><span class=\"blind\"></span></span></li></ul><div class=\"mTitle\"><div class=\"name _ccr(lst.from)\"><span class=\"blind\">보낸 이:</span><a class=\"_c1(myContextMenu|showSenderContextLayer|list|62562) _stopDefault\" href=\"#\" title='\"ローチケ＜イベント・レジャー版＞\" &lt;l-tike_mail@l-tike.com&gt;'>ローチケ＜イベント..</a></div><div class=\"subject\"><a class=\"_d2(mcDragndrop|html5DragStart)\" draggable=\"true\" href=\"/read/popup/?nMailId=62562\"><span class=\"text _ccr(lst.title) _c1(mrCore|clickTitle|62562) _m2(mrCore|middleClickTitle|62562)\" foldersn=\"\" mailsn=\"62562\"><span class=\"folderName _ccr(lst.title) _c1(mrCore|clickTitle|62562) _m2(mrCore|middleClickTitle|62562)\" foldersn=\"\" mailsn=\"62562\"><span class=\"blind\">에 분류됨</span></span><strong class=\"mail_title _ccr(lst.title) _c1(mrCore|clickTitle|62562) _m2(mrCore|middleClickTitle|62562)\" foldersn=\"\" mailsn=\"62562\"><span class=\"blind\">메일 제목:</span>大ベルセルク展／特別展 ミイラ／QuizKnock5周年記念展／他、イベント・レジャー情報！</strong></span></a><a class=\"icon_previewMail\" href=\"#\" title=\"메일 내용 미리보기\"><span class=\"spr _m1(mlCore|previewMail|62562|0) _c1(mlCore|doStop) _stopDefault\"><em class=\"blind\">메일 내용 미리보기 레이어 열림</em></span></a><a class=\"newWindow _ccr(lst.newwindow) _c1(mrCore|popupRead|62562) _m1(mlCore|doStop) _stopDefault\" href=\"#\" title=\"새 창으로 메일 보기\"><span class=\"spr\"><em class=\"blind\">새 창으로 메일 보기</em></span></a></div></div><ul class=\"mInfo split_cell\"><li class=\"iDate\"><span class=\"blind\">보낸날짜:</span>07-08 17:09</li><li class=\"iSize\"><span class=\"blind\">메일크기::</span>39.1 KB</li></ul></li><li class=\"62559_li notRead unmark _c1(mrCore|clickTitle|62559) _d2(mcDragndrop|html5DragStart)\" data-category=\"214\" draggable=\"true\" foldersn=\"\" mailsn=\"62559\" style=\"\"><span class=\"ico_current_flag\"><i class=\"blind\">마지막에 읽은 메일</i></span><ul class=\"mInfo\"><li class=\"_m1(mlCore|toggleCheckMail|62559|down) _c1(mlCore|toggleCheckMail|62559|click) _stopDefault\"><input class=\"mCheck _checkList _m3(mlCore|toggleCheckMail|62559|over) _m1(mlCore|toggleCheckMail|62559|down) _k1(mlCore|toggleCheckMail|62559|keydown) _stopDefault\" id=\"mailCheck_62559\" name=\"\" onclick='ccr(this, \"lst.selectgot\", event)' resend=\"\" securityleveltype=\"NORMAL\" type=\"checkbox\" value=\"\"/><label class=\"blind\" for=\"mailCheck_62559\">\"Watch hundreds of films, programmes and documentaries today.\" 메일 선택</label></li><li class=\"important _m1(mlCore|doStop) _c1(mlCore|markMailSelf|62559|mark) _ccr(lst.mark) _stopDefault\"><a href=\"#\" onblur=\"$Element(this).removeClass('_starFocus')\" onfocus=\"$Element(this).addClass('_starFocus')\"><span class=\"spr icoImportant icoImportantOff\" mailsn=\"62559\"><span class=\"blind\">중요메일로 표시하기</span></span></a></li><li class=\"read\"><a class=\"spr icoRead no _c1(mlCore|readMail|read_conversation|62559) _stopDefault\" href=\"#\" title=\"읽지않은 메일\"><span class=\"blind\">읽지않은 메일</span></a><span class=\"btn_cover _m1(mlCore|doStop) _c1(mlCore|toggleConversationList) _stopDefault\" style=\"display:none;\"><button class=\"btn_view_slave\"><span class=\"blind\">개의 관련 메일있음</span></button></span></li><li class=\"file\"><span class=\"spr\" style=\"cursor:default;\" title=\"\"><span class=\"blind\"></span></span></li></ul><div class=\"mTitle\"><div class=\"name _ccr(lst.from)\"><span class=\"blind\">보낸 이:</span><a class=\"_c1(myContextMenu|showSenderContextLayer|list|62559) _stopDefault\" href=\"#\" title='\"Netflix\" &lt;info@mailer.netflix.com&gt;'>Netflix</a></div><div class=\"subject\"><a class=\"_d2(mcDragndrop|html5DragStart)\" draggable=\"true\" href=\"/read/popup/?nMailId=62559\"><span class=\"text _ccr(lst.title) _c1(mrCore|clickTitle|62559) _m2(mrCore|middleClickTitle|62559)\" foldersn=\"\" mailsn=\"62559\"><span class=\"folderName _ccr(lst.title) _c1(mrCore|clickTitle|62559) _m2(mrCore|middleClickTitle|62559)\" foldersn=\"\" mailsn=\"62559\"><span class=\"blind\">에 분류됨</span></span><strong class=\"mail_title _ccr(lst.title) _c1(mrCore|clickTitle|62559) _m2(mrCore|middleClickTitle|62559)\" foldersn=\"\" mailsn=\"62559\"><span class=\"blind\">메일 제목:</span>Watch hundreds of films, programmes and documentaries today.</strong></span></a><a class=\"icon_previewMail\" href=\"#\" title=\"메일 내용 미리보기\"><span class=\"spr _m1(mlCore|previewMail|62559|0) _c1(mlCore|doStop) _stopDefault\"><em class=\"blind\">메일 내용 미리보기 레이어 열림</em></span></a><a class=\"newWindow _ccr(lst.newwindow) _c1(mrCore|popupRead|62559) _m1(mlCore|doStop) _stopDefault\" href=\"#\" title=\"새 창으로 메일 보기\"><span class=\"spr\"><em class=\"blind\">새 창으로 메일 보기</em></span></a></div></div><ul class=\"mInfo split_cell\"><li class=\"iDate\"><span class=\"blind\">보낸날짜:</span>07-08 15:17</li><li class=\"iSize\"><span class=\"blind\">메일크기::</span>34.3 KB</li></ul></li><li class=\"62551_li notRead unmark _c1(mrCore|clickTitle|62551) _d2(mcDragndrop|html5DragStart)\" data-category=\"-1\" draggable=\"true\" foldersn=\"\" mailsn=\"62551\" style=\"\"><span class=\"ico_current_flag\"><i class=\"blind\">마지막에 읽은 메일</i></span><ul class=\"mInfo\"><li class=\"_m1(mlCore|toggleCheckMail|62551|down) _c1(mlCore|toggleCheckMail|62551|click) _stopDefault\"><input class=\"mCheck _checkList _m3(mlCore|toggleCheckMail|62551|over) _m1(mlCore|toggleCheckMail|62551|down) _k1(mlCore|toggleCheckMail|62551|keydown) _stopDefault\" id=\"mailCheck_62551\" name=\"\" onclick='ccr(this, \"lst.selectgot\", event)' resend=\"\" securityleveltype=\"NORMAL\" type=\"checkbox\" value=\"\"/><label class=\"blind\" for=\"mailCheck_62551\">\"【本日23:59まで】輸入盤CDどれでも5点以上買うと40％オフ♪7/8(木)終了！ 「全ジャンル」対象のレビューキャンペーン実施中！\" 메일 선택</label></li><li class=\"important _m1(mlCore|doStop) _c1(mlCore|markMailSelf|62551|mark) _ccr(lst.mark) _stopDefault\"><a href=\"#\" onblur=\"$Element(this).removeClass('_starFocus')\" onfocus=\"$Element(this).addClass('_starFocus')\"><span class=\"spr icoImportant icoImportantOff\" mailsn=\"62551\"><span class=\"blind\">중요메일로 표시하기</span></span></a></li><li class=\"read\"><a class=\"spr icoRead no _c1(mlCore|readMail|read_conversation|62551) _stopDefault\" href=\"#\" title=\"읽지않은 메일\"><span class=\"blind\">읽지않은 메일</span></a><span class=\"btn_cover _m1(mlCore|doStop) _c1(mlCore|toggleConversationList) _stopDefault\" style=\"display:none;\"><button class=\"btn_view_slave\"><span class=\"blind\">개의 관련 메일있음</span></button></span></li><li class=\"file\"><span class=\"spr\" style=\"cursor:default;\" title=\"\"><span class=\"blind\"></span></span></li></ul><div class=\"mTitle\"><div class=\"name _ccr(lst.from)\"><span class=\"blind\">보낸 이:</span><a class=\"_c1(myContextMenu|showSenderContextLayer|list|62551) _stopDefault\" href=\"#\" title='\"HMV&amp;BOOKS online＜お得なキャンペーン情報＞\" &lt;email@hmv.co.jp&gt;'>HMV&amp;BOOKS o..</a></div><div class=\"subject\"><a class=\"_d2(mcDragndrop|html5DragStart)\" draggable=\"true\" href=\"/read/popup/?nMailId=62551\"><span class=\"text _ccr(lst.title) _c1(mrCore|clickTitle|62551) _m2(mrCore|middleClickTitle|62551)\" foldersn=\"\" mailsn=\"62551\"><span class=\"folderName _ccr(lst.title) _c1(mrCore|clickTitle|62551) _m2(mrCore|middleClickTitle|62551)\" foldersn=\"\" mailsn=\"62551\"><span class=\"blind\">에 분류됨</span></span><strong class=\"mail_title _ccr(lst.title) _c1(mrCore|clickTitle|62551) _m2(mrCore|middleClickTitle|62551)\" foldersn=\"\" mailsn=\"62551\"><span class=\"blind\">메일 제목:</span>【本日23:59まで】輸入盤CDどれでも5点以上買うと40％オフ♪7/8(木)終了！ 「全ジャンル」対象のレビューキャンペーン実施中！</strong></span></a><a class=\"icon_previewMail\" href=\"#\" title=\"메일 내용 미리보기\"><span class=\"spr _m1(mlCore|previewMail|62551|0) _c1(mlCore|doStop) _stopDefault\"><em class=\"blind\">메일 내용 미리보기 레이어 열림</em></span></a><a class=\"newWindow _ccr(lst.newwindow) _c1(mrCore|popupRead|62551) _m1(mlCore|doStop) _stopDefault\" href=\"#\" title=\"새 창으로 메일 보기\"><span class=\"spr\"><em class=\"blind\">새 창으로 메일 보기</em></span></a></div></div><ul class=\"mInfo split_cell\"><li class=\"iDate\"><span class=\"blind\">보낸날짜:</span>07-08 12:28</li><li class=\"iSize\"><span class=\"blind\">메일크기::</span>30.6 KB</li></ul></li><li class=\"62536_li notRead unmark _c1(mrCore|clickTitle|62536) _d2(mcDragndrop|html5DragStart)\" data-category=\"-1\" draggable=\"true\" foldersn=\"\" mailsn=\"62536\" style=\"\"><span class=\"ico_current_flag\"><i class=\"blind\">마지막에 읽은 메일</i></span><ul class=\"mInfo\"><li class=\"_m1(mlCore|toggleCheckMail|62536|down) _c1(mlCore|toggleCheckMail|62536|click) _stopDefault\"><input class=\"mCheck _checkList _m3(mlCore|toggleCheckMail|62536|over) _m1(mlCore|toggleCheckMail|62536|down) _k1(mlCore|toggleCheckMail|62536|keydown) _stopDefault\" id=\"mailCheck_62536\" name=\"\" onclick='ccr(this, \"lst.selectgot\", event)' resend=\"\" securityleveltype=\"NORMAL\" type=\"checkbox\" value=\"\"/><label class=\"blind\" for=\"mailCheck_62536\">\"New at YesAsia: NCT Dream, Seventeen, Jacky Cheung, ENHYPEN, Love Unto Wastes, Our Story\" 메일 선택</label></li><li class=\"important _m1(mlCore|doStop) _c1(mlCore|markMailSelf|62536|mark) _ccr(lst.mark) _stopDefault\"><a href=\"#\" onblur=\"$Element(this).removeClass('_starFocus')\" onfocus=\"$Element(this).addClass('_starFocus')\"><span class=\"spr icoImportant icoImportantOff\" mailsn=\"62536\"><span class=\"blind\">중요메일로 표시하기</span></span></a></li><li class=\"read\"><a class=\"spr icoRead no _c1(mlCore|readMail|read_conversation|62536) _stopDefault\" href=\"#\" title=\"읽지않은 메일\"><span class=\"blind\">읽지않은 메일</span></a><span class=\"btn_cover _m1(mlCore|doStop) _c1(mlCore|toggleConversationList) _stopDefault\" style=\"display:none;\"><button class=\"btn_view_slave\"><span class=\"blind\">개의 관련 메일있음</span></button></span></li><li class=\"file\"><span class=\"spr\" style=\"cursor:default;\" title=\"\"><span class=\"blind\"></span></span></li></ul><div class=\"mTitle\"><div class=\"name _ccr(lst.from)\"><span class=\"blind\">보낸 이:</span><a class=\"_c1(myContextMenu|showSenderContextLayer|list|62536) _stopDefault\" href=\"#\" title='\"YesAsia.com\" &lt;newsletter-global@e.yesasia.com&gt;'>YesAsia.com</a></div><div class=\"subject\"><a class=\"_d2(mcDragndrop|html5DragStart)\" draggable=\"true\" href=\"/read/popup/?nMailId=62536\"><span class=\"text _ccr(lst.title) _c1(mrCore|clickTitle|62536) _m2(mrCore|middleClickTitle|62536)\" foldersn=\"\" mailsn=\"62536\"><span class=\"folderName _ccr(lst.title) _c1(mrCore|clickTitle|62536) _m2(mrCore|middleClickTitle|62536)\" foldersn=\"\" mailsn=\"62536\"><span class=\"blind\">에 분류됨</span></span><strong class=\"mail_title _ccr(lst.title) _c1(mrCore|clickTitle|62536) _m2(mrCore|middleClickTitle|62536)\" foldersn=\"\" mailsn=\"62536\"><span class=\"blind\">메일 제목:</span>New at YesAsia: NCT Dream, Seventeen, Jacky Cheung, ENHYPEN, Love Unto Wastes, Our Story</strong></span></a><a class=\"icon_previewMail\" href=\"#\" title=\"메일 내용 미리보기\"><span class=\"spr _m1(mlCore|previewMail|62536|0) _c1(mlCore|doStop) _stopDefault\"><em class=\"blind\">메일 내용 미리보기 레이어 열림</em></span></a><a class=\"newWindow _ccr(lst.newwindow) _c1(mrCore|popupRead|62536) _m1(mlCore|doStop) _stopDefault\" href=\"#\" title=\"새 창으로 메일 보기\"><span class=\"spr\"><em class=\"blind\">새 창으로 메일 보기</em></span></a></div></div><ul class=\"mInfo split_cell\"><li class=\"iDate\"><span class=\"blind\">보낸날짜:</span>07-07 15:06</li><li class=\"iSize\"><span class=\"blind\">메일크기::</span>106.7 KB</li></ul></li><li class=\"62518_li notRead unmark _c1(mrCore|clickTitle|62518) _d2(mcDragndrop|html5DragStart)\" data-category=\"-1\" draggable=\"true\" foldersn=\"\" mailsn=\"62518\" style=\"\"><span class=\"ico_current_flag\"><i class=\"blind\">마지막에 읽은 메일</i></span><ul class=\"mInfo\"><li class=\"_m1(mlCore|toggleCheckMail|62518|down) _c1(mlCore|toggleCheckMail|62518|click) _stopDefault\"><input class=\"mCheck _checkList _m3(mlCore|toggleCheckMail|62518|over) _m1(mlCore|toggleCheckMail|62518|down) _k1(mlCore|toggleCheckMail|62518|keydown) _stopDefault\" id=\"mailCheck_62518\" name=\"\" onclick='ccr(this, \"lst.selectgot\", event)' resend=\"\" securityleveltype=\"NORMAL\" type=\"checkbox\" value=\"\"/><label class=\"blind\" for=\"mailCheck_62518\">\"[노원뉴스레터 571호]어르신! 너무 더운 날엔 여기로 오세요!\n",
       "\" 메일 선택</label></li><li class=\"important _m1(mlCore|doStop) _c1(mlCore|markMailSelf|62518|mark) _ccr(lst.mark) _stopDefault\"><a href=\"#\" onblur=\"$Element(this).removeClass('_starFocus')\" onfocus=\"$Element(this).addClass('_starFocus')\"><span class=\"spr icoImportant icoImportantOff\" mailsn=\"62518\"><span class=\"blind\">중요메일로 표시하기</span></span></a></li><li class=\"read\"><a class=\"spr icoRead no _c1(mlCore|readMail|read_conversation|62518) _stopDefault\" href=\"#\" title=\"읽지않은 메일\"><span class=\"blind\">읽지않은 메일</span></a><span class=\"btn_cover _m1(mlCore|doStop) _c1(mlCore|toggleConversationList) _stopDefault\" style=\"display:none;\"><button class=\"btn_view_slave\"><span class=\"blind\">개의 관련 메일있음</span></button></span></li><li class=\"file\"><span class=\"spr\" style=\"cursor:default;\" title=\"\"><span class=\"blind\"></span></span></li></ul><div class=\"mTitle\"><div class=\"name _ccr(lst.from)\"><span class=\"blind\">보낸 이:</span><a class=\"_c1(myContextMenu|showSenderContextLayer|list|62518) _stopDefault\" href=\"#\" title='\"노원구청\" &lt;media.nowon@gmail.com&gt;'>노원구청</a></div><div class=\"subject\"><a class=\"_d2(mcDragndrop|html5DragStart)\" draggable=\"true\" href=\"/read/popup/?nMailId=62518\"><span class=\"text _ccr(lst.title) _c1(mrCore|clickTitle|62518) _m2(mrCore|middleClickTitle|62518)\" foldersn=\"\" mailsn=\"62518\"><span class=\"folderName _ccr(lst.title) _c1(mrCore|clickTitle|62518) _m2(mrCore|middleClickTitle|62518)\" foldersn=\"\" mailsn=\"62518\"><span class=\"blind\">에 분류됨</span></span><strong class=\"mail_title _ccr(lst.title) _c1(mrCore|clickTitle|62518) _m2(mrCore|middleClickTitle|62518)\" foldersn=\"\" mailsn=\"62518\"><span class=\"blind\">메일 제목:</span>[노원뉴스레터 571호]어르신! 너무 더운 날엔 여기로 오세요!\n",
       "</strong></span></a><a class=\"icon_previewMail\" href=\"#\" title=\"메일 내용 미리보기\"><span class=\"spr _m1(mlCore|previewMail|62518|0) _c1(mlCore|doStop) _stopDefault\"><em class=\"blind\">메일 내용 미리보기 레이어 열림</em></span></a><a class=\"newWindow _ccr(lst.newwindow) _c1(mrCore|popupRead|62518) _m1(mlCore|doStop) _stopDefault\" href=\"#\" title=\"새 창으로 메일 보기\"><span class=\"spr\"><em class=\"blind\">새 창으로 메일 보기</em></span></a></div></div><ul class=\"mInfo split_cell\"><li class=\"iDate\"><span class=\"blind\">보낸날짜:</span>07-06 13:41</li><li class=\"iSize\"><span class=\"blind\">메일크기::</span>33.7 KB</li></ul></li><li class=\"62513_li notRead unmark _c1(mrCore|clickTitle|62513) _d2(mcDragndrop|html5DragStart)\" data-category=\"-1\" draggable=\"true\" foldersn=\"\" mailsn=\"62513\" style=\"\"><span class=\"ico_current_flag\"><i class=\"blind\">마지막에 읽은 메일</i></span><ul class=\"mInfo\"><li class=\"_m1(mlCore|toggleCheckMail|62513|down) _c1(mlCore|toggleCheckMail|62513|click) _stopDefault\"><input class=\"mCheck _checkList _m3(mlCore|toggleCheckMail|62513|over) _m1(mlCore|toggleCheckMail|62513|down) _k1(mlCore|toggleCheckMail|62513|keydown) _stopDefault\" id=\"mailCheck_62513\" name=\"\" onclick='ccr(this, \"lst.selectgot\", event)' resend=\"\" securityleveltype=\"NORMAL\" type=\"checkbox\" value=\"\"/><label class=\"blind\" for=\"mailCheck_62513\">\"준혁 님, 6월 계정 명세서를 확인하세요\" 메일 선택</label></li><li class=\"important _m1(mlCore|doStop) _c1(mlCore|markMailSelf|62513|mark) _ccr(lst.mark) _stopDefault\"><a href=\"#\" onblur=\"$Element(this).removeClass('_starFocus')\" onfocus=\"$Element(this).addClass('_starFocus')\"><span class=\"spr icoImportant icoImportantOff\" mailsn=\"62513\"><span class=\"blind\">중요메일로 표시하기</span></span></a></li><li class=\"read\"><a class=\"spr icoRead no _c1(mlCore|readMail|read_conversation|62513) _stopDefault\" href=\"#\" title=\"읽지않은 메일\"><span class=\"blind\">읽지않은 메일</span></a><span class=\"btn_cover _m1(mlCore|doStop) _c1(mlCore|toggleConversationList) _stopDefault\" style=\"display:none;\"><button class=\"btn_view_slave\"><span class=\"blind\">개의 관련 메일있음</span></button></span></li><li class=\"file\"><span class=\"spr\" style=\"cursor:default;\" title=\"\"><span class=\"blind\"></span></span></li></ul><div class=\"mTitle\"><div class=\"name _ccr(lst.from)\"><span class=\"blind\">보낸 이:</span><a class=\"_c1(myContextMenu|showSenderContextLayer|list|62513) _stopDefault\" href=\"#\" title='\"PayPal\" &lt;paypal@mail.paypal.com&gt;'>PayPal</a></div><div class=\"subject\"><a class=\"_d2(mcDragndrop|html5DragStart)\" draggable=\"true\" href=\"/read/popup/?nMailId=62513\"><span class=\"text _ccr(lst.title) _c1(mrCore|clickTitle|62513) _m2(mrCore|middleClickTitle|62513)\" foldersn=\"\" mailsn=\"62513\"><span class=\"folderName _ccr(lst.title) _c1(mrCore|clickTitle|62513) _m2(mrCore|middleClickTitle|62513)\" foldersn=\"\" mailsn=\"62513\"><span class=\"blind\">에 분류됨</span></span><strong class=\"mail_title _ccr(lst.title) _c1(mrCore|clickTitle|62513) _m2(mrCore|middleClickTitle|62513)\" foldersn=\"\" mailsn=\"62513\"><span class=\"blind\">메일 제목:</span>준혁 님, 6월 계정 명세서를 확인하세요</strong></span></a><a class=\"icon_previewMail\" href=\"#\" title=\"메일 내용 미리보기\"><span class=\"spr _m1(mlCore|previewMail|62513|0) _c1(mlCore|doStop) _stopDefault\"><em class=\"blind\">메일 내용 미리보기 레이어 열림</em></span></a><a class=\"newWindow _ccr(lst.newwindow) _c1(mrCore|popupRead|62513) _m1(mlCore|doStop) _stopDefault\" href=\"#\" title=\"새 창으로 메일 보기\"><span class=\"spr\"><em class=\"blind\">새 창으로 메일 보기</em></span></a></div></div><ul class=\"mInfo split_cell\"><li class=\"iDate\"><span class=\"blind\">보낸날짜:</span>07-06 12:55</li><li class=\"iSize\"><span class=\"blind\">메일크기::</span>107.0 KB</li></ul></li><li class=\"62508_li notRead unmark _c1(mrCore|clickTitle|62508) _d2(mcDragndrop|html5DragStart)\" data-category=\"-1\" draggable=\"true\" foldersn=\"\" mailsn=\"62508\" style=\"\"><span class=\"ico_current_flag\"><i class=\"blind\">마지막에 읽은 메일</i></span><ul class=\"mInfo\"><li class=\"_m1(mlCore|toggleCheckMail|62508|down) _c1(mlCore|toggleCheckMail|62508|click) _stopDefault\"><input class=\"mCheck _checkList _m3(mlCore|toggleCheckMail|62508|over) _m1(mlCore|toggleCheckMail|62508|down) _k1(mlCore|toggleCheckMail|62508|keydown) _stopDefault\" id=\"mailCheck_62508\" name=\"\" onclick='ccr(this, \"lst.selectgot\", event)' resend=\"\" securityleveltype=\"NORMAL\" type=\"checkbox\" value=\"\"/><label class=\"blind\" for=\"mailCheck_62508\">\"「サンジの海賊レストラン」チケット一般販売再開日のご案内\" 메일 선택</label></li><li class=\"important _m1(mlCore|doStop) _c1(mlCore|markMailSelf|62508|mark) _ccr(lst.mark) _stopDefault\"><a href=\"#\" onblur=\"$Element(this).removeClass('_starFocus')\" onfocus=\"$Element(this).addClass('_starFocus')\"><span class=\"spr icoImportant icoImportantOff\" mailsn=\"62508\"><span class=\"blind\">중요메일로 표시하기</span></span></a></li><li class=\"read\"><a class=\"spr icoRead no _c1(mlCore|readMail|read_conversation|62508) _stopDefault\" href=\"#\" title=\"읽지않은 메일\"><span class=\"blind\">읽지않은 메일</span></a><span class=\"btn_cover _m1(mlCore|doStop) _c1(mlCore|toggleConversationList) _stopDefault\" style=\"display:none;\"><button class=\"btn_view_slave\"><span class=\"blind\">개의 관련 메일있음</span></button></span></li><li class=\"file\"><span class=\"spr\" style=\"cursor:default;\" title=\"\"><span class=\"blind\"></span></span></li></ul><div class=\"mTitle\"><div class=\"name _ccr(lst.from)\"><span class=\"blind\">보낸 이:</span><a class=\"_c1(myContextMenu|showSenderContextLayer|list|62508) _stopDefault\" href=\"#\" title='\"ユニバーサル・スタジオ・ジャパン\" &lt;info@usj.co.jp&gt;'>ユニバーサル・スタ..</a></div><div class=\"subject\"><a class=\"_d2(mcDragndrop|html5DragStart)\" draggable=\"true\" href=\"/read/popup/?nMailId=62508\"><span class=\"text _ccr(lst.title) _c1(mrCore|clickTitle|62508) _m2(mrCore|middleClickTitle|62508)\" foldersn=\"\" mailsn=\"62508\"><span class=\"folderName _ccr(lst.title) _c1(mrCore|clickTitle|62508) _m2(mrCore|middleClickTitle|62508)\" foldersn=\"\" mailsn=\"62508\"><span class=\"blind\">에 분류됨</span></span><strong class=\"mail_title _ccr(lst.title) _c1(mrCore|clickTitle|62508) _m2(mrCore|middleClickTitle|62508)\" foldersn=\"\" mailsn=\"62508\"><span class=\"blind\">메일 제목:</span>「サンジの海賊レストラン」チケット一般販売再開日のご案内</strong></span></a><a class=\"icon_previewMail\" href=\"#\" title=\"메일 내용 미리보기\"><span class=\"spr _m1(mlCore|previewMail|62508|0) _c1(mlCore|doStop) _stopDefault\"><em class=\"blind\">메일 내용 미리보기 레이어 열림</em></span></a><a class=\"newWindow _ccr(lst.newwindow) _c1(mrCore|popupRead|62508) _m1(mlCore|doStop) _stopDefault\" href=\"#\" title=\"새 창으로 메일 보기\"><span class=\"spr\"><em class=\"blind\">새 창으로 메일 보기</em></span></a></div></div><ul class=\"mInfo split_cell\"><li class=\"iDate\"><span class=\"blind\">보낸날짜:</span>07-06 12:15</li><li class=\"iSize\"><span class=\"blind\">메일크기::</span>5.1 KB</li></ul></li><li class=\"62486_li notRead unmark _c1(mrCore|clickTitle|62486) _d2(mcDragndrop|html5DragStart)\" data-category=\"101\" draggable=\"true\" foldersn=\"\" mailsn=\"62486\" style=\"\"><span class=\"ico_current_flag\"><i class=\"blind\">마지막에 읽은 메일</i></span><ul class=\"mInfo\"><li class=\"_m1(mlCore|toggleCheckMail|62486|down) _c1(mlCore|toggleCheckMail|62486|click) _stopDefault\"><input class=\"mCheck _checkList _m3(mlCore|toggleCheckMail|62486|over) _m1(mlCore|toggleCheckMail|62486|down) _k1(mlCore|toggleCheckMail|62486|keydown) _stopDefault\" id=\"mailCheck_62486\" name=\"\" onclick='ccr(this, \"lst.selectgot\", event)' resend=\"\" securityleveltype=\"NORMAL\" type=\"checkbox\" value=\"\"/><label class=\"blind\" for=\"mailCheck_62486\">\"새로운 기기에서 로그인 되었습니다.\" 메일 선택</label></li><li class=\"important _m1(mlCore|doStop) _c1(mlCore|markMailSelf|62486|mark) _ccr(lst.mark) _stopDefault\"><a href=\"#\" onblur=\"$Element(this).removeClass('_starFocus')\" onfocus=\"$Element(this).addClass('_starFocus')\"><span class=\"spr icoImportant icoImportantOff\" mailsn=\"62486\"><span class=\"blind\">중요메일로 표시하기</span></span></a></li><li class=\"read\"><a class=\"spr icoRead admin _c1(mlCore|readMail|read_conversation|62486) _stopDefault\" href=\"#\" title=\"읽지않은 메일\"><span class=\"blind\">읽지않은 메일</span></a><span class=\"btn_cover _m1(mlCore|doStop) _c1(mlCore|toggleConversationList) _stopDefault\" style=\"display:none;\"><button class=\"btn_view_slave\"><span class=\"blind\">개의 관련 메일있음</span></button></span></li><li class=\"file\"><span class=\"spr\" style=\"cursor:default;\" title=\"\"><span class=\"blind\"></span></span></li></ul><div class=\"mTitle\"><div class=\"name _ccr(lst.from)\"><span class=\"blind\">보낸 이:</span><a class=\"_c1(myContextMenu|showSenderContextLayer|list|62486) _stopDefault\" href=\"#\" title='\"네이버\" &lt;account_noreply@navercorp.com&gt;'>네이버</a></div><div class=\"subject\"><a class=\"_d2(mcDragndrop|html5DragStart)\" draggable=\"true\" href=\"/read/popup/?nMailId=62486\"><span class=\"text _ccr(lst.title) _c1(mrCore|clickTitle|62486) _m2(mrCore|middleClickTitle|62486)\" foldersn=\"\" mailsn=\"62486\"><span class=\"folderName _ccr(lst.title) _c1(mrCore|clickTitle|62486) _m2(mrCore|middleClickTitle|62486)\" foldersn=\"\" mailsn=\"62486\"><span class=\"blind\">에 분류됨</span></span><strong class=\"mail_title _ccr(lst.title) _c1(mrCore|clickTitle|62486) _m2(mrCore|middleClickTitle|62486)\" foldersn=\"\" mailsn=\"62486\"><span class=\"blind\">메일 제목:</span>새로운 기기에서 로그인 되었습니다.</strong></span></a><a class=\"icon_previewMail\" href=\"#\" title=\"메일 내용 미리보기\"><span class=\"spr _m1(mlCore|previewMail|62486|0) _c1(mlCore|doStop) _stopDefault\"><em class=\"blind\">메일 내용 미리보기 레이어 열림</em></span></a><a class=\"newWindow _ccr(lst.newwindow) _c1(mrCore|popupRead|62486) _m1(mlCore|doStop) _stopDefault\" href=\"#\" title=\"새 창으로 메일 보기\"><span class=\"spr\"><em class=\"blind\">새 창으로 메일 보기</em></span></a></div></div><ul class=\"mInfo split_cell\"><li class=\"iDate\"><span class=\"blind\">보낸날짜:</span>07-05 13:07</li><li class=\"iSize\"><span class=\"blind\">메일크기::</span>22.6 KB</li></ul></li><li class=\"62485_li notRead unmark _c1(mrCore|clickTitle|62485) _d2(mcDragndrop|html5DragStart)\" data-category=\"-1\" draggable=\"true\" foldersn=\"\" mailsn=\"62485\" style=\"\"><span class=\"ico_current_flag\"><i class=\"blind\">마지막에 읽은 메일</i></span><ul class=\"mInfo\"><li class=\"_m1(mlCore|toggleCheckMail|62485|down) _c1(mlCore|toggleCheckMail|62485|click) _stopDefault\"><input class=\"mCheck _checkList _m3(mlCore|toggleCheckMail|62485|over) _m1(mlCore|toggleCheckMail|62485|down) _k1(mlCore|toggleCheckMail|62485|keydown) _stopDefault\" id=\"mailCheck_62485\" name=\"\" onclick='ccr(this, \"lst.selectgot\", event)' resend=\"\" securityleveltype=\"NORMAL\" type=\"checkbox\" value=\"\"/><label class=\"blind\" for=\"mailCheck_62485\">\"[만료 알림] 귀하의 500GB 저장 공간이 3일 후에 만료됩니다. 구독을 계속하시겠습니까?\" 메일 선택</label></li><li class=\"important _m1(mlCore|doStop) _c1(mlCore|markMailSelf|62485|mark) _ccr(lst.mark) _stopDefault\"><a href=\"#\" onblur=\"$Element(this).removeClass('_starFocus')\" onfocus=\"$Element(this).addClass('_starFocus')\"><span class=\"spr icoImportant icoImportantOff\" mailsn=\"62485\"><span class=\"blind\">중요메일로 표시하기</span></span></a></li><li class=\"read\"><a class=\"spr icoRead no _c1(mlCore|readMail|read_conversation|62485) _stopDefault\" href=\"#\" title=\"읽지않은 메일\"><span class=\"blind\">읽지않은 메일</span></a><span class=\"btn_cover _m1(mlCore|doStop) _c1(mlCore|toggleConversationList) _stopDefault\" style=\"display:none;\"><button class=\"btn_view_slave\"><span class=\"blind\">개의 관련 메일있음</span></button></span></li><li class=\"file\"><span class=\"spr\" style=\"cursor:default;\" title=\"\"><span class=\"blind\"></span></span></li></ul><div class=\"mTitle\"><div class=\"name _ccr(lst.from)\"><span class=\"blind\">보낸 이:</span><a class=\"_c1(myContextMenu|showSenderContextLayer|list|62485) _stopDefault\" href=\"#\" title='\"Sunny Lin\" &lt;sunny-lin@asuswebstorage.com&gt;'>Sunny Lin</a></div><div class=\"subject\"><a class=\"_d2(mcDragndrop|html5DragStart)\" draggable=\"true\" href=\"/read/popup/?nMailId=62485\"><span class=\"text _ccr(lst.title) _c1(mrCore|clickTitle|62485) _m2(mrCore|middleClickTitle|62485)\" foldersn=\"\" mailsn=\"62485\"><span class=\"folderName _ccr(lst.title) _c1(mrCore|clickTitle|62485) _m2(mrCore|middleClickTitle|62485)\" foldersn=\"\" mailsn=\"62485\"><span class=\"blind\">에 분류됨</span></span><strong class=\"mail_title _ccr(lst.title) _c1(mrCore|clickTitle|62485) _m2(mrCore|middleClickTitle|62485)\" foldersn=\"\" mailsn=\"62485\"><span class=\"blind\">메일 제목:</span>[만료 알림] 귀하의 500GB 저장 공간이 3일 후에 만료됩니다. 구독을 계속하시겠습니까?</strong></span></a><a class=\"icon_previewMail\" href=\"#\" title=\"메일 내용 미리보기\"><span class=\"spr _m1(mlCore|previewMail|62485|0) _c1(mlCore|doStop) _stopDefault\"><em class=\"blind\">메일 내용 미리보기 레이어 열림</em></span></a><a class=\"newWindow _ccr(lst.newwindow) _c1(mrCore|popupRead|62485) _m1(mlCore|doStop) _stopDefault\" href=\"#\" title=\"새 창으로 메일 보기\"><span class=\"spr\"><em class=\"blind\">새 창으로 메일 보기</em></span></a></div></div><ul class=\"mInfo split_cell\"><li class=\"iDate\"><span class=\"blind\">보낸날짜:</span>07-05 12:21</li><li class=\"iSize\"><span class=\"blind\">메일크기::</span>13.0 KB</li></ul></li><li class=\"62469_li notRead unmark _c1(mrCore|clickTitle|62469) _d2(mcDragndrop|html5DragStart)\" data-category=\"-1\" draggable=\"true\" foldersn=\"\" mailsn=\"62469\" style=\"\"><span class=\"ico_current_flag\"><i class=\"blind\">마지막에 읽은 메일</i></span><ul class=\"mInfo\"><li class=\"_m1(mlCore|toggleCheckMail|62469|down) _c1(mlCore|toggleCheckMail|62469|click) _stopDefault\"><input class=\"mCheck _checkList _m3(mlCore|toggleCheckMail|62469|over) _m1(mlCore|toggleCheckMail|62469|down) _k1(mlCore|toggleCheckMail|62469|keydown) _stopDefault\" id=\"mailCheck_62469\" name=\"\" onclick='ccr(this, \"lst.selectgot\", event)' resend=\"\" securityleveltype=\"NORMAL\" type=\"checkbox\" value=\"\"/><label class=\"blind\" for=\"mailCheck_62469\">\"【本日23:59まで！20％大還元】CD・本1万円で20％還元♪7/4(日)終了 | 「映画･TV･アニメ」「書籍」対象のレビューキャンペーンも7/4(日)終了！\" 메일 선택</label></li><li class=\"important _m1(mlCore|doStop) _c1(mlCore|markMailSelf|62469|mark) _ccr(lst.mark) _stopDefault\"><a href=\"#\" onblur=\"$Element(this).removeClass('_starFocus')\" onfocus=\"$Element(this).addClass('_starFocus')\"><span class=\"spr icoImportant icoImportantOff\" mailsn=\"62469\"><span class=\"blind\">중요메일로 표시하기</span></span></a></li><li class=\"read\"><a class=\"spr icoRead no _c1(mlCore|readMail|read_conversation|62469) _stopDefault\" href=\"#\" title=\"읽지않은 메일\"><span class=\"blind\">읽지않은 메일</span></a><span class=\"btn_cover _m1(mlCore|doStop) _c1(mlCore|toggleConversationList) _stopDefault\" style=\"display:none;\"><button class=\"btn_view_slave\"><span class=\"blind\">개의 관련 메일있음</span></button></span></li><li class=\"file\"><span class=\"spr\" style=\"cursor:default;\" title=\"\"><span class=\"blind\"></span></span></li></ul><div class=\"mTitle\"><div class=\"name _ccr(lst.from)\"><span class=\"blind\">보낸 이:</span><a class=\"_c1(myContextMenu|showSenderContextLayer|list|62469) _stopDefault\" href=\"#\" title='\"HMV&amp;BOOKS online＜お得なキャンペーン情報＞\" &lt;email@hmv.co.jp&gt;'>HMV&amp;BOOKS o..</a></div><div class=\"subject\"><a class=\"_d2(mcDragndrop|html5DragStart)\" draggable=\"true\" href=\"/read/popup/?nMailId=62469\"><span class=\"text _ccr(lst.title) _c1(mrCore|clickTitle|62469) _m2(mrCore|middleClickTitle|62469)\" foldersn=\"\" mailsn=\"62469\"><span class=\"folderName _ccr(lst.title) _c1(mrCore|clickTitle|62469) _m2(mrCore|middleClickTitle|62469)\" foldersn=\"\" mailsn=\"62469\"><span class=\"blind\">에 분류됨</span></span><strong class=\"mail_title _ccr(lst.title) _c1(mrCore|clickTitle|62469) _m2(mrCore|middleClickTitle|62469)\" foldersn=\"\" mailsn=\"62469\"><span class=\"blind\">메일 제목:</span>【本日23:59まで！20％大還元】CD・本1万円で20％還元♪7/4(日)終了 | 「映画･TV･アニメ」「書籍」対象のレビューキャンペーンも7/4(日)終了！</strong></span></a><a class=\"icon_previewMail\" href=\"#\" title=\"메일 내용 미리보기\"><span class=\"spr _m1(mlCore|previewMail|62469|0) _c1(mlCore|doStop) _stopDefault\"><em class=\"blind\">메일 내용 미리보기 레이어 열림</em></span></a><a class=\"newWindow _ccr(lst.newwindow) _c1(mrCore|popupRead|62469) _m1(mlCore|doStop) _stopDefault\" href=\"#\" title=\"새 창으로 메일 보기\"><span class=\"spr\"><em class=\"blind\">새 창으로 메일 보기</em></span></a></div></div><ul class=\"mInfo split_cell\"><li class=\"iDate\"><span class=\"blind\">보낸날짜:</span>07-04 12:22</li><li class=\"iSize\"><span class=\"blind\">메일크기::</span>28.8 KB</li></ul></li><li class=\"62452_li notRead unmark _c1(mrCore|clickTitle|62452) _d2(mcDragndrop|html5DragStart)\" data-category=\"-1\" draggable=\"true\" foldersn=\"\" mailsn=\"62452\" style=\"\"><span class=\"ico_current_flag\"><i class=\"blind\">마지막에 읽은 메일</i></span><ul class=\"mInfo\"><li class=\"_m1(mlCore|toggleCheckMail|62452|down) _c1(mlCore|toggleCheckMail|62452|click) _stopDefault\"><input class=\"mCheck _checkList _m3(mlCore|toggleCheckMail|62452|over) _m1(mlCore|toggleCheckMail|62452|down) _k1(mlCore|toggleCheckMail|62452|keydown) _stopDefault\" id=\"mailCheck_62452\" name=\"\" onclick='ccr(this, \"lst.selectgot\", event)' resend=\"\" securityleveltype=\"NORMAL\" type=\"checkbox\" value=\"\"/><label class=\"blind\" for=\"mailCheck_62452\">\"【本日開始！20％大還元】CD・本1万円で20％還元♪7/4(日)まで | 「映画･TV･アニメ」「書籍」対象のレビューキャンペーンも7/4(日)終了！\" 메일 선택</label></li><li class=\"important _m1(mlCore|doStop) _c1(mlCore|markMailSelf|62452|mark) _ccr(lst.mark) _stopDefault\"><a href=\"#\" onblur=\"$Element(this).removeClass('_starFocus')\" onfocus=\"$Element(this).addClass('_starFocus')\"><span class=\"spr icoImportant icoImportantOff\" mailsn=\"62452\"><span class=\"blind\">중요메일로 표시하기</span></span></a></li><li class=\"read\"><a class=\"spr icoRead no _c1(mlCore|readMail|read_conversation|62452) _stopDefault\" href=\"#\" title=\"읽지않은 메일\"><span class=\"blind\">읽지않은 메일</span></a><span class=\"btn_cover _m1(mlCore|doStop) _c1(mlCore|toggleConversationList) _stopDefault\" style=\"display:none;\"><button class=\"btn_view_slave\"><span class=\"blind\">개의 관련 메일있음</span></button></span></li><li class=\"file\"><span class=\"spr\" style=\"cursor:default;\" title=\"\"><span class=\"blind\"></span></span></li></ul><div class=\"mTitle\"><div class=\"name _ccr(lst.from)\"><span class=\"blind\">보낸 이:</span><a class=\"_c1(myContextMenu|showSenderContextLayer|list|62452) _stopDefault\" href=\"#\" title='\"HMV&amp;BOOKS online＜お得なキャンペーン情報＞\" &lt;email@hmv.co.jp&gt;'>HMV&amp;BOOKS o..</a></div><div class=\"subject\"><a class=\"_d2(mcDragndrop|html5DragStart)\" draggable=\"true\" href=\"/read/popup/?nMailId=62452\"><span class=\"text _ccr(lst.title) _c1(mrCore|clickTitle|62452) _m2(mrCore|middleClickTitle|62452)\" foldersn=\"\" mailsn=\"62452\"><span class=\"folderName _ccr(lst.title) _c1(mrCore|clickTitle|62452) _m2(mrCore|middleClickTitle|62452)\" foldersn=\"\" mailsn=\"62452\"><span class=\"blind\">에 분류됨</span></span><strong class=\"mail_title _ccr(lst.title) _c1(mrCore|clickTitle|62452) _m2(mrCore|middleClickTitle|62452)\" foldersn=\"\" mailsn=\"62452\"><span class=\"blind\">메일 제목:</span>【本日開始！20％大還元】CD・本1万円で20％還元♪7/4(日)まで | 「映画･TV･アニメ」「書籍」対象のレビューキャンペーンも7/4(日)終了！</strong></span></a><a class=\"icon_previewMail\" href=\"#\" title=\"메일 내용 미리보기\"><span class=\"spr _m1(mlCore|previewMail|62452|0) _c1(mlCore|doStop) _stopDefault\"><em class=\"blind\">메일 내용 미리보기 레이어 열림</em></span></a><a class=\"newWindow _ccr(lst.newwindow) _c1(mrCore|popupRead|62452) _m1(mlCore|doStop) _stopDefault\" href=\"#\" title=\"새 창으로 메일 보기\"><span class=\"spr\"><em class=\"blind\">새 창으로 메일 보기</em></span></a></div></div><ul class=\"mInfo split_cell\"><li class=\"iDate\"><span class=\"blind\">보낸날짜:</span>07-02 19:50</li><li class=\"iSize\"><span class=\"blind\">메일크기::</span>59.9 KB</li></ul></li><li class=\"62449_li notRead unmark _c1(mrCore|clickTitle|62449) _d2(mcDragndrop|html5DragStart)\" data-category=\"-1\" draggable=\"true\" foldersn=\"\" mailsn=\"62449\" style=\"\"><span class=\"ico_current_flag\"><i class=\"blind\">마지막에 읽은 메일</i></span><ul class=\"mInfo\"><li class=\"_m1(mlCore|toggleCheckMail|62449|down) _c1(mlCore|toggleCheckMail|62449|click) _stopDefault\"><input class=\"mCheck _checkList _m3(mlCore|toggleCheckMail|62449|over) _m1(mlCore|toggleCheckMail|62449|down) _k1(mlCore|toggleCheckMail|62449|keydown) _stopDefault\" id=\"mailCheck_62449\" name=\"\" onclick='ccr(this, \"lst.selectgot\", event)' resend=\"\" securityleveltype=\"NORMAL\" type=\"checkbox\" value=\"\"/><label class=\"blind\" for=\"mailCheck_62449\">\"パークにゆかりのある方々からのメッセージを大公開♪20周年を一緒に祝おう！\" 메일 선택</label></li><li class=\"important _m1(mlCore|doStop) _c1(mlCore|markMailSelf|62449|mark) _ccr(lst.mark) _stopDefault\"><a href=\"#\" onblur=\"$Element(this).removeClass('_starFocus')\" onfocus=\"$Element(this).addClass('_starFocus')\"><span class=\"spr icoImportant icoImportantOff\" mailsn=\"62449\"><span class=\"blind\">중요메일로 표시하기</span></span></a></li><li class=\"read\"><a class=\"spr icoRead no _c1(mlCore|readMail|read_conversation|62449) _stopDefault\" href=\"#\" title=\"읽지않은 메일\"><span class=\"blind\">읽지않은 메일</span></a><span class=\"btn_cover _m1(mlCore|doStop) _c1(mlCore|toggleConversationList) _stopDefault\" style=\"display:none;\"><button class=\"btn_view_slave\"><span class=\"blind\">개의 관련 메일있음</span></button></span></li><li class=\"file\"><span class=\"spr\" style=\"cursor:default;\" title=\"\"><span class=\"blind\"></span></span></li></ul><div class=\"mTitle\"><div class=\"name _ccr(lst.from)\"><span class=\"blind\">보낸 이:</span><a class=\"_c1(myContextMenu|showSenderContextLayer|list|62449) _stopDefault\" href=\"#\" title='\"ユニバーサル・スタジオ・ジャパン\" &lt;info@usj.co.jp&gt;'>ユニバーサル・スタ..</a></div><div class=\"subject\"><a class=\"_d2(mcDragndrop|html5DragStart)\" draggable=\"true\" href=\"/read/popup/?nMailId=62449\"><span class=\"text _ccr(lst.title) _c1(mrCore|clickTitle|62449) _m2(mrCore|middleClickTitle|62449)\" foldersn=\"\" mailsn=\"62449\"><span class=\"folderName _ccr(lst.title) _c1(mrCore|clickTitle|62449) _m2(mrCore|middleClickTitle|62449)\" foldersn=\"\" mailsn=\"62449\"><span class=\"blind\">에 분류됨</span></span><strong class=\"mail_title _ccr(lst.title) _c1(mrCore|clickTitle|62449) _m2(mrCore|middleClickTitle|62449)\" foldersn=\"\" mailsn=\"62449\"><span class=\"blind\">메일 제목:</span>パークにゆかりのある方々からのメッセージを大公開♪20周年を一緒に祝おう！</strong></span></a><a class=\"icon_previewMail\" href=\"#\" title=\"메일 내용 미리보기\"><span class=\"spr _m1(mlCore|previewMail|62449|0) _c1(mlCore|doStop) _stopDefault\"><em class=\"blind\">메일 내용 미리보기 레이어 열림</em></span></a><a class=\"newWindow _ccr(lst.newwindow) _c1(mrCore|popupRead|62449) _m1(mlCore|doStop) _stopDefault\" href=\"#\" title=\"새 창으로 메일 보기\"><span class=\"spr\"><em class=\"blind\">새 창으로 메일 보기</em></span></a></div></div><ul class=\"mInfo split_cell\"><li class=\"iDate\"><span class=\"blind\">보낸날짜:</span>07-02 15:25</li><li class=\"iSize\"><span class=\"blind\">메일크기::</span>28.4 KB</li></ul></li><li class=\"62438_li notRead unmark _c1(mrCore|clickTitle|62438) _d2(mcDragndrop|html5DragStart)\" data-category=\"214\" draggable=\"true\" foldersn=\"\" mailsn=\"62438\" style=\"\"><span class=\"ico_current_flag\"><i class=\"blind\">마지막에 읽은 메일</i></span><ul class=\"mInfo\"><li class=\"_m1(mlCore|toggleCheckMail|62438|down) _c1(mlCore|toggleCheckMail|62438|click) _stopDefault\"><input class=\"mCheck _checkList _m3(mlCore|toggleCheckMail|62438|over) _m1(mlCore|toggleCheckMail|62438|down) _k1(mlCore|toggleCheckMail|62438|keydown) _stopDefault\" id=\"mailCheck_62438\" name=\"\" onclick='ccr(this, \"lst.selectgot\", event)' resend=\"\" securityleveltype=\"NORMAL\" type=\"checkbox\" value=\"\"/><label class=\"blind\" for=\"mailCheck_62438\">\" [피자헛 팬 등급안내] 피자헛 팬 회원님 새로워진 혜택을 확인해 주세요.\" 메일 선택</label></li><li class=\"important _m1(mlCore|doStop) _c1(mlCore|markMailSelf|62438|mark) _ccr(lst.mark) _stopDefault\"><a href=\"#\" onblur=\"$Element(this).removeClass('_starFocus')\" onfocus=\"$Element(this).addClass('_starFocus')\"><span class=\"spr icoImportant icoImportantOff\" mailsn=\"62438\"><span class=\"blind\">중요메일로 표시하기</span></span></a></li><li class=\"read\"><a class=\"spr icoRead no _c1(mlCore|readMail|read_conversation|62438) _stopDefault\" href=\"#\" title=\"읽지않은 메일\"><span class=\"blind\">읽지않은 메일</span></a><span class=\"btn_cover _m1(mlCore|doStop) _c1(mlCore|toggleConversationList) _stopDefault\" style=\"display:none;\"><button class=\"btn_view_slave\"><span class=\"blind\">개의 관련 메일있음</span></button></span></li><li class=\"file\"><span class=\"spr\" style=\"cursor:default;\" title=\"\"><span class=\"blind\"></span></span></li></ul><div class=\"mTitle\"><div class=\"name _ccr(lst.from)\"><span class=\"blind\">보낸 이:</span><a class=\"_c1(myContextMenu|showSenderContextLayer|list|62438) _stopDefault\" href=\"#\" title='\"피자헛\" &lt;webmaster@pizzahut.co.kr&gt;'>피자헛</a></div><div class=\"subject\"><a class=\"_d2(mcDragndrop|html5DragStart)\" draggable=\"true\" href=\"/read/popup/?nMailId=62438\"><span class=\"text _ccr(lst.title) _c1(mrCore|clickTitle|62438) _m2(mrCore|middleClickTitle|62438)\" foldersn=\"\" mailsn=\"62438\"><span class=\"folderName _ccr(lst.title) _c1(mrCore|clickTitle|62438) _m2(mrCore|middleClickTitle|62438)\" foldersn=\"\" mailsn=\"62438\"><span class=\"blind\">에 분류됨</span></span><strong class=\"mail_title _ccr(lst.title) _c1(mrCore|clickTitle|62438) _m2(mrCore|middleClickTitle|62438)\" foldersn=\"\" mailsn=\"62438\"><span class=\"blind\">메일 제목:</span> [피자헛 팬 등급안내] 피자헛 팬 회원님 새로워진 혜택을 확인해 주세요.</strong></span></a><a class=\"icon_previewMail\" href=\"#\" title=\"메일 내용 미리보기\"><span class=\"spr _m1(mlCore|previewMail|62438|0) _c1(mlCore|doStop) _stopDefault\"><em class=\"blind\">메일 내용 미리보기 레이어 열림</em></span></a><a class=\"newWindow _ccr(lst.newwindow) _c1(mrCore|popupRead|62438) _m1(mlCore|doStop) _stopDefault\" href=\"#\" title=\"새 창으로 메일 보기\"><span class=\"spr\"><em class=\"blind\">새 창으로 메일 보기</em></span></a></div></div><ul class=\"mInfo split_cell\"><li class=\"iDate\"><span class=\"blind\">보낸날짜:</span>07-01 19:59</li><li class=\"iSize\"><span class=\"blind\">메일크기::</span>18.3 KB</li></ul></li></ol>"
      ]
     },
     "execution_count": 146,
     "metadata": {},
     "output_type": "execute_result"
    }
   ],
   "source": [
    "dom.find(text=re.compile('새로운 기기에서')).find_parent().find_parent()\\\n",
    ".find_parent().find_parent().find_parent() # ?"
   ]
  },
  {
   "cell_type": "code",
   "execution_count": 147,
   "metadata": {},
   "outputs": [
    {
     "data": {
      "text/plain": [
       "15"
      ]
     },
     "execution_count": 147,
     "metadata": {},
     "output_type": "execute_result"
    }
   ],
   "source": [
    "len(dom.select('.mailList > li')) # 위에서 찾은게 <ol class=mailList에 있는 자손중에 li를 찾으면 몇개 있나 알 수 있음."
   ]
  },
  {
   "cell_type": "code",
   "execution_count": 149,
   "metadata": {},
   "outputs": [],
   "source": [
    "# BeautifulSoup이 Driver보다 더 빠름. \n",
    "# 물론 지금 어짜피 렌더링 되어있는 화면이 떠있기 때문에 굳이 beautifulsoup 을 쓸 이유는 없다."
   ]
  },
  {
   "cell_type": "code",
   "execution_count": 153,
   "metadata": {},
   "outputs": [
    {
     "data": {
      "text/plain": [
       "<selenium.webdriver.remote.webelement.WebElement (session=\"b0425d3b4270214531b0f47e55533287\", element=\"d650b6ab-c66b-4f9e-a575-065c10bfdc87\")>"
      ]
     },
     "execution_count": 153,
     "metadata": {},
     "output_type": "execute_result"
    }
   ],
   "source": [
    "driver.find_element_by_xpath('/html') # 최상단의 자식 노드는 html일 것."
   ]
  },
  {
   "cell_type": "code",
   "execution_count": 155,
   "metadata": {},
   "outputs": [
    {
     "data": {
      "text/plain": [
       "<selenium.webdriver.remote.webelement.WebElement (session=\"b0425d3b4270214531b0f47e55533287\", element=\"77ddd8a5-9313-4d37-8cf7-980d8632188c\")>"
      ]
     },
     "execution_count": 155,
     "metadata": {},
     "output_type": "execute_result"
    }
   ],
   "source": [
    "driver.find_element_by_xpath('//div')"
   ]
  },
  {
   "cell_type": "code",
   "execution_count": 160,
   "metadata": {},
   "outputs": [
    {
     "data": {
      "text/plain": [
       "15"
      ]
     },
     "execution_count": 160,
     "metadata": {},
     "output_type": "execute_result"
    }
   ],
   "source": [
    "len(driver.find_elements_by_xpath('//ol//li//li/label')) # 이 안에 메일이 들어가있음."
   ]
  },
  {
   "cell_type": "code",
   "execution_count": 166,
   "metadata": {
    "collapsed": true
   },
   "outputs": [
    {
     "name": "stdout",
     "output_type": "stream",
     "text": [
      "\n",
      "\n",
      "\n",
      "\n",
      "\n",
      "\n",
      "\n",
      "\n",
      "\n",
      "\n",
      "\n",
      "\n",
      "\n",
      "\n",
      "\n"
     ]
    }
   ],
   "source": [
    "for _ in driver.find_elements_by_xpath('//ol//li//li/label'):\n",
    "    print(_.text)"
   ]
  },
  {
   "cell_type": "code",
   "execution_count": 182,
   "metadata": {},
   "outputs": [],
   "source": [
    "# 로그아웃 구현\n",
    "# 토글버튼 눌러야 로그아웃 버튼이 보임\n",
    "driver.find_element_by_class_name('gnb_my').click()"
   ]
  },
  {
   "cell_type": "code",
   "execution_count": 183,
   "metadata": {
    "scrolled": true
   },
   "outputs": [
    {
     "ename": "ElementNotInteractableException",
     "evalue": "Message: element not interactable\n  (Session info: chrome=91.0.4472.124)\n",
     "output_type": "error",
     "traceback": [
      "\u001b[1;31m---------------------------------------------------------------------------\u001b[0m",
      "\u001b[1;31mElementNotInteractableException\u001b[0m           Traceback (most recent call last)",
      "\u001b[1;32m<ipython-input-183-6b5524385e18>\u001b[0m in \u001b[0;36m<module>\u001b[1;34m\u001b[0m\n\u001b[0;32m      1\u001b[0m \u001b[1;31m# 클릭하려고 하니 오류 발생 - interactable 하지 않다!\u001b[0m\u001b[1;33m\u001b[0m\u001b[1;33m\u001b[0m\u001b[1;33m\u001b[0m\u001b[0m\n\u001b[1;32m----> 2\u001b[1;33m \u001b[0mdriver\u001b[0m\u001b[1;33m.\u001b[0m\u001b[0mfind_element_by_xpath\u001b[0m\u001b[1;33m(\u001b[0m\u001b[1;34m'//a[@class=\"gnb_btn_login\"]'\u001b[0m\u001b[1;33m)\u001b[0m\u001b[1;33m.\u001b[0m\u001b[0mclick\u001b[0m\u001b[1;33m(\u001b[0m\u001b[1;33m)\u001b[0m\u001b[1;33m\u001b[0m\u001b[1;33m\u001b[0m\u001b[0m\n\u001b[0m",
      "\u001b[1;32m~\\anaconda3\\lib\\site-packages\\selenium\\webdriver\\remote\\webelement.py\u001b[0m in \u001b[0;36mclick\u001b[1;34m(self)\u001b[0m\n\u001b[0;32m     78\u001b[0m     \u001b[1;32mdef\u001b[0m \u001b[0mclick\u001b[0m\u001b[1;33m(\u001b[0m\u001b[0mself\u001b[0m\u001b[1;33m)\u001b[0m\u001b[1;33m:\u001b[0m\u001b[1;33m\u001b[0m\u001b[1;33m\u001b[0m\u001b[0m\n\u001b[0;32m     79\u001b[0m         \u001b[1;34m\"\"\"Clicks the element.\"\"\"\u001b[0m\u001b[1;33m\u001b[0m\u001b[1;33m\u001b[0m\u001b[0m\n\u001b[1;32m---> 80\u001b[1;33m         \u001b[0mself\u001b[0m\u001b[1;33m.\u001b[0m\u001b[0m_execute\u001b[0m\u001b[1;33m(\u001b[0m\u001b[0mCommand\u001b[0m\u001b[1;33m.\u001b[0m\u001b[0mCLICK_ELEMENT\u001b[0m\u001b[1;33m)\u001b[0m\u001b[1;33m\u001b[0m\u001b[1;33m\u001b[0m\u001b[0m\n\u001b[0m\u001b[0;32m     81\u001b[0m \u001b[1;33m\u001b[0m\u001b[0m\n\u001b[0;32m     82\u001b[0m     \u001b[1;32mdef\u001b[0m \u001b[0msubmit\u001b[0m\u001b[1;33m(\u001b[0m\u001b[0mself\u001b[0m\u001b[1;33m)\u001b[0m\u001b[1;33m:\u001b[0m\u001b[1;33m\u001b[0m\u001b[1;33m\u001b[0m\u001b[0m\n",
      "\u001b[1;32m~\\anaconda3\\lib\\site-packages\\selenium\\webdriver\\remote\\webelement.py\u001b[0m in \u001b[0;36m_execute\u001b[1;34m(self, command, params)\u001b[0m\n\u001b[0;32m    631\u001b[0m             \u001b[0mparams\u001b[0m \u001b[1;33m=\u001b[0m \u001b[1;33m{\u001b[0m\u001b[1;33m}\u001b[0m\u001b[1;33m\u001b[0m\u001b[1;33m\u001b[0m\u001b[0m\n\u001b[0;32m    632\u001b[0m         \u001b[0mparams\u001b[0m\u001b[1;33m[\u001b[0m\u001b[1;34m'id'\u001b[0m\u001b[1;33m]\u001b[0m \u001b[1;33m=\u001b[0m \u001b[0mself\u001b[0m\u001b[1;33m.\u001b[0m\u001b[0m_id\u001b[0m\u001b[1;33m\u001b[0m\u001b[1;33m\u001b[0m\u001b[0m\n\u001b[1;32m--> 633\u001b[1;33m         \u001b[1;32mreturn\u001b[0m \u001b[0mself\u001b[0m\u001b[1;33m.\u001b[0m\u001b[0m_parent\u001b[0m\u001b[1;33m.\u001b[0m\u001b[0mexecute\u001b[0m\u001b[1;33m(\u001b[0m\u001b[0mcommand\u001b[0m\u001b[1;33m,\u001b[0m \u001b[0mparams\u001b[0m\u001b[1;33m)\u001b[0m\u001b[1;33m\u001b[0m\u001b[1;33m\u001b[0m\u001b[0m\n\u001b[0m\u001b[0;32m    634\u001b[0m \u001b[1;33m\u001b[0m\u001b[0m\n\u001b[0;32m    635\u001b[0m     \u001b[1;32mdef\u001b[0m \u001b[0mfind_element\u001b[0m\u001b[1;33m(\u001b[0m\u001b[0mself\u001b[0m\u001b[1;33m,\u001b[0m \u001b[0mby\u001b[0m\u001b[1;33m=\u001b[0m\u001b[0mBy\u001b[0m\u001b[1;33m.\u001b[0m\u001b[0mID\u001b[0m\u001b[1;33m,\u001b[0m \u001b[0mvalue\u001b[0m\u001b[1;33m=\u001b[0m\u001b[1;32mNone\u001b[0m\u001b[1;33m)\u001b[0m\u001b[1;33m:\u001b[0m\u001b[1;33m\u001b[0m\u001b[1;33m\u001b[0m\u001b[0m\n",
      "\u001b[1;32m~\\anaconda3\\lib\\site-packages\\selenium\\webdriver\\remote\\webdriver.py\u001b[0m in \u001b[0;36mexecute\u001b[1;34m(self, driver_command, params)\u001b[0m\n\u001b[0;32m    319\u001b[0m         \u001b[0mresponse\u001b[0m \u001b[1;33m=\u001b[0m \u001b[0mself\u001b[0m\u001b[1;33m.\u001b[0m\u001b[0mcommand_executor\u001b[0m\u001b[1;33m.\u001b[0m\u001b[0mexecute\u001b[0m\u001b[1;33m(\u001b[0m\u001b[0mdriver_command\u001b[0m\u001b[1;33m,\u001b[0m \u001b[0mparams\u001b[0m\u001b[1;33m)\u001b[0m\u001b[1;33m\u001b[0m\u001b[1;33m\u001b[0m\u001b[0m\n\u001b[0;32m    320\u001b[0m         \u001b[1;32mif\u001b[0m \u001b[0mresponse\u001b[0m\u001b[1;33m:\u001b[0m\u001b[1;33m\u001b[0m\u001b[1;33m\u001b[0m\u001b[0m\n\u001b[1;32m--> 321\u001b[1;33m             \u001b[0mself\u001b[0m\u001b[1;33m.\u001b[0m\u001b[0merror_handler\u001b[0m\u001b[1;33m.\u001b[0m\u001b[0mcheck_response\u001b[0m\u001b[1;33m(\u001b[0m\u001b[0mresponse\u001b[0m\u001b[1;33m)\u001b[0m\u001b[1;33m\u001b[0m\u001b[1;33m\u001b[0m\u001b[0m\n\u001b[0m\u001b[0;32m    322\u001b[0m             response['value'] = self._unwrap_value(\n\u001b[0;32m    323\u001b[0m                 response.get('value', None))\n",
      "\u001b[1;32m~\\anaconda3\\lib\\site-packages\\selenium\\webdriver\\remote\\errorhandler.py\u001b[0m in \u001b[0;36mcheck_response\u001b[1;34m(self, response)\u001b[0m\n\u001b[0;32m    240\u001b[0m                 \u001b[0malert_text\u001b[0m \u001b[1;33m=\u001b[0m \u001b[0mvalue\u001b[0m\u001b[1;33m[\u001b[0m\u001b[1;34m'alert'\u001b[0m\u001b[1;33m]\u001b[0m\u001b[1;33m.\u001b[0m\u001b[0mget\u001b[0m\u001b[1;33m(\u001b[0m\u001b[1;34m'text'\u001b[0m\u001b[1;33m)\u001b[0m\u001b[1;33m\u001b[0m\u001b[1;33m\u001b[0m\u001b[0m\n\u001b[0;32m    241\u001b[0m             \u001b[1;32mraise\u001b[0m \u001b[0mexception_class\u001b[0m\u001b[1;33m(\u001b[0m\u001b[0mmessage\u001b[0m\u001b[1;33m,\u001b[0m \u001b[0mscreen\u001b[0m\u001b[1;33m,\u001b[0m \u001b[0mstacktrace\u001b[0m\u001b[1;33m,\u001b[0m \u001b[0malert_text\u001b[0m\u001b[1;33m)\u001b[0m\u001b[1;33m\u001b[0m\u001b[1;33m\u001b[0m\u001b[0m\n\u001b[1;32m--> 242\u001b[1;33m         \u001b[1;32mraise\u001b[0m \u001b[0mexception_class\u001b[0m\u001b[1;33m(\u001b[0m\u001b[0mmessage\u001b[0m\u001b[1;33m,\u001b[0m \u001b[0mscreen\u001b[0m\u001b[1;33m,\u001b[0m \u001b[0mstacktrace\u001b[0m\u001b[1;33m)\u001b[0m\u001b[1;33m\u001b[0m\u001b[1;33m\u001b[0m\u001b[0m\n\u001b[0m\u001b[0;32m    243\u001b[0m \u001b[1;33m\u001b[0m\u001b[0m\n\u001b[0;32m    244\u001b[0m     \u001b[1;32mdef\u001b[0m \u001b[0m_value_or_default\u001b[0m\u001b[1;33m(\u001b[0m\u001b[0mself\u001b[0m\u001b[1;33m,\u001b[0m \u001b[0mobj\u001b[0m\u001b[1;33m,\u001b[0m \u001b[0mkey\u001b[0m\u001b[1;33m,\u001b[0m \u001b[0mdefault\u001b[0m\u001b[1;33m)\u001b[0m\u001b[1;33m:\u001b[0m\u001b[1;33m\u001b[0m\u001b[1;33m\u001b[0m\u001b[0m\n",
      "\u001b[1;31mElementNotInteractableException\u001b[0m: Message: element not interactable\n  (Session info: chrome=91.0.4472.124)\n"
     ]
    }
   ],
   "source": [
    "# 클릭하려고 하니 오류 발생 - interactable 하지 않다!\n",
    "driver.find_element_by_xpath('//a[@class=\"gnb_btn_login\"]').click()"
   ]
  },
  {
   "cell_type": "code",
   "execution_count": null,
   "metadata": {},
   "outputs": [],
   "source": [
    "# / -> 자식, // -> 자손, [@파라미터='값'] : xpath 양식.\n",
    "# /div -> (dom의 최상단) root 노드의 자식 div"
   ]
  },
  {
   "cell_type": "code",
   "execution_count": 210,
   "metadata": {},
   "outputs": [],
   "source": [
    "logout = driver.find_element_by_xpath('//a[@id=\"gnb_logout_button\"]')"
   ]
  },
  {
   "cell_type": "code",
   "execution_count": 211,
   "metadata": {},
   "outputs": [
    {
     "data": {
      "text/plain": [
       "(True, True, False)"
      ]
     },
     "execution_count": 211,
     "metadata": {},
     "output_type": "execute_result"
    }
   ],
   "source": [
    "logout.is_displayed(), logout.is_enabled(), logout.is_selected()"
   ]
  },
  {
   "cell_type": "code",
   "execution_count": 184,
   "metadata": {},
   "outputs": [],
   "source": [
    "# is_displayed가 True, is_enabled가 True이야지만 작동할 수 있음?\n",
    "# 이걸 기다리기 위한 2가지 방법\n",
    "# 1) sleep()\n",
    "# 2) explict wait, implict wait - 이렇게 2가지 방법이 있다."
   ]
  },
  {
   "cell_type": "code",
   "execution_count": 186,
   "metadata": {},
   "outputs": [],
   "source": [
    "from selenium.webdriver.support import wait\n",
    "from selenium.webdriver.support.ui import WebDriverWait"
   ]
  },
  {
   "cell_type": "code",
   "execution_count": 187,
   "metadata": {},
   "outputs": [
    {
     "ename": "TypeError",
     "evalue": "__init__() missing 2 required positional arguments: 'driver' and 'timeout'",
     "output_type": "error",
     "traceback": [
      "\u001b[1;31m---------------------------------------------------------------------------\u001b[0m",
      "\u001b[1;31mTypeError\u001b[0m                                 Traceback (most recent call last)",
      "\u001b[1;32m<ipython-input-187-52432293c09c>\u001b[0m in \u001b[0;36m<module>\u001b[1;34m\u001b[0m\n\u001b[1;32m----> 1\u001b[1;33m \u001b[0mWebDriverWait\u001b[0m\u001b[1;33m(\u001b[0m\u001b[1;33m)\u001b[0m\u001b[1;33m\u001b[0m\u001b[1;33m\u001b[0m\u001b[0m\n\u001b[0m",
      "\u001b[1;31mTypeError\u001b[0m: __init__() missing 2 required positional arguments: 'driver' and 'timeout'"
     ]
    }
   ],
   "source": [
    "# explict wait\n",
    "WebDriverWait()"
   ]
  },
  {
   "cell_type": "code",
   "execution_count": 188,
   "metadata": {},
   "outputs": [],
   "source": [
    "driver.implicitly_wait(10)"
   ]
  },
  {
   "cell_type": "code",
   "execution_count": 190,
   "metadata": {},
   "outputs": [
    {
     "data": {
      "text/plain": [
       "''"
      ]
     },
     "execution_count": 190,
     "metadata": {},
     "output_type": "execute_result"
    }
   ],
   "source": [
    "logout.text"
   ]
  },
  {
   "cell_type": "code",
   "execution_count": 207,
   "metadata": {},
   "outputs": [],
   "source": [
    "# 기다리면서 얼마마다 계속 확인을 하는 것임! 살아있나, 죽어있나\n",
    "# 위의 예시에서는 로그아웃 버튼이 보이는가 안보이는가!\n",
    "from selenium.common.exceptions import ElementNotInteractableException\n",
    "\n",
    "wait = WebDriverWait(driver, 10,\n",
    "                     ignored_exceptions=[ElementNotInteractableException])"
   ]
  },
  {
   "cell_type": "code",
   "execution_count": 212,
   "metadata": {},
   "outputs": [],
   "source": [
    "# 최대 10초까지 기다리고 있는거.. is_displayed가 True가 될 때 까지 기다리고 있는 것!\n",
    "# 10초가 지나면 TimeoutException 출력\n",
    "wait.until(lambda _:\n",
    "           _.find_element_by_xpath('//a[@id=\"gnb_logout_button\"]').is_displayed())\n",
    "driver.find_element_by_xpath('//a[@id=\"gnb_logout_button\"]').click()"
   ]
  },
  {
   "cell_type": "code",
   "execution_count": 215,
   "metadata": {},
   "outputs": [],
   "source": [
    "# 예시 > 인터파크 로그인 시 팝업이 뜸.\n",
    "# 걔를 덮고 있어서 클릭이 안되는데 이런걸 체크하고 없애줄 수 있는 방법임.\n",
    "# 거기다 여기다 스크립트를 추가할 수 있음!\n",
    "\n",
    "driver.execute_script('') # JS 스크립트 추가 가능\n",
    "\n",
    "# 무엇이 가능한 가... 예를 들어 10시 선착순을\n",
    "# 스크립트를 뚫고 미리 들어가있는 경우가 가능함."
   ]
  },
  {
   "cell_type": "code",
   "execution_count": 222,
   "metadata": {},
   "outputs": [],
   "source": [
    "# 다른 예시> 인터파크 티켓 : 팝업 때문에 첫번째 메뉴가 안눌린다.\n",
    "home = driver.find_element_by_css_selector(\n",
    "    'ul.gnbBtns > li > a:nth-of-type(1)')"
   ]
  },
  {
   "cell_type": "code",
   "execution_count": 223,
   "metadata": {},
   "outputs": [
    {
     "data": {
      "text/plain": [
       "(True, True)"
      ]
     },
     "execution_count": 223,
     "metadata": {},
     "output_type": "execute_result"
    }
   ],
   "source": [
    "home.is_displayed(), home.is_enabled()"
   ]
  },
  {
   "cell_type": "code",
   "execution_count": 225,
   "metadata": {
    "scrolled": true
   },
   "outputs": [
    {
     "ename": "ElementClickInterceptedException",
     "evalue": "Message: element click intercepted: Element <a href=\"javascript:;\" class=\"btn_allMenu\" onclick=\"allMenu()\">...</a> is not clickable at point (214, 230). Other element would receive the click: <img src=\"http://ticketimage.interpark.com/TCMS4/Main/202107/MainPopupBanner_MainPopupBannerShort_4ce1aecf-c56c-4366-a73e-a745909d3d9a.jpg\" alt=\"뮤지컬 〈장수탕 선녀님〉\">\n  (Session info: chrome=91.0.4472.124)\n",
     "output_type": "error",
     "traceback": [
      "\u001b[1;31m---------------------------------------------------------------------------\u001b[0m",
      "\u001b[1;31mElementClickInterceptedException\u001b[0m          Traceback (most recent call last)",
      "\u001b[1;32m<ipython-input-225-1dab2be584fd>\u001b[0m in \u001b[0;36m<module>\u001b[1;34m\u001b[0m\n\u001b[0;32m      1\u001b[0m \u001b[1;31m# 이건 보이는 데 눌리지 않는 것일뿐이므로 is_displayed가 True임. (팝업에 의해 가려져있는 것이므로)\u001b[0m\u001b[1;33m\u001b[0m\u001b[1;33m\u001b[0m\u001b[1;33m\u001b[0m\u001b[0m\n\u001b[0;32m      2\u001b[0m \u001b[0mdriver\u001b[0m\u001b[1;33m.\u001b[0m\u001b[0mimplicitly_wait\u001b[0m\u001b[1;33m(\u001b[0m\u001b[1;36m10\u001b[0m\u001b[1;33m)\u001b[0m\u001b[1;33m\u001b[0m\u001b[1;33m\u001b[0m\u001b[0m\n\u001b[1;32m----> 3\u001b[1;33m \u001b[0mhome\u001b[0m\u001b[1;33m.\u001b[0m\u001b[0mclick\u001b[0m\u001b[1;33m(\u001b[0m\u001b[1;33m)\u001b[0m\u001b[1;33m\u001b[0m\u001b[1;33m\u001b[0m\u001b[0m\n\u001b[0m",
      "\u001b[1;32m~\\anaconda3\\lib\\site-packages\\selenium\\webdriver\\remote\\webelement.py\u001b[0m in \u001b[0;36mclick\u001b[1;34m(self)\u001b[0m\n\u001b[0;32m     78\u001b[0m     \u001b[1;32mdef\u001b[0m \u001b[0mclick\u001b[0m\u001b[1;33m(\u001b[0m\u001b[0mself\u001b[0m\u001b[1;33m)\u001b[0m\u001b[1;33m:\u001b[0m\u001b[1;33m\u001b[0m\u001b[1;33m\u001b[0m\u001b[0m\n\u001b[0;32m     79\u001b[0m         \u001b[1;34m\"\"\"Clicks the element.\"\"\"\u001b[0m\u001b[1;33m\u001b[0m\u001b[1;33m\u001b[0m\u001b[0m\n\u001b[1;32m---> 80\u001b[1;33m         \u001b[0mself\u001b[0m\u001b[1;33m.\u001b[0m\u001b[0m_execute\u001b[0m\u001b[1;33m(\u001b[0m\u001b[0mCommand\u001b[0m\u001b[1;33m.\u001b[0m\u001b[0mCLICK_ELEMENT\u001b[0m\u001b[1;33m)\u001b[0m\u001b[1;33m\u001b[0m\u001b[1;33m\u001b[0m\u001b[0m\n\u001b[0m\u001b[0;32m     81\u001b[0m \u001b[1;33m\u001b[0m\u001b[0m\n\u001b[0;32m     82\u001b[0m     \u001b[1;32mdef\u001b[0m \u001b[0msubmit\u001b[0m\u001b[1;33m(\u001b[0m\u001b[0mself\u001b[0m\u001b[1;33m)\u001b[0m\u001b[1;33m:\u001b[0m\u001b[1;33m\u001b[0m\u001b[1;33m\u001b[0m\u001b[0m\n",
      "\u001b[1;32m~\\anaconda3\\lib\\site-packages\\selenium\\webdriver\\remote\\webelement.py\u001b[0m in \u001b[0;36m_execute\u001b[1;34m(self, command, params)\u001b[0m\n\u001b[0;32m    631\u001b[0m             \u001b[0mparams\u001b[0m \u001b[1;33m=\u001b[0m \u001b[1;33m{\u001b[0m\u001b[1;33m}\u001b[0m\u001b[1;33m\u001b[0m\u001b[1;33m\u001b[0m\u001b[0m\n\u001b[0;32m    632\u001b[0m         \u001b[0mparams\u001b[0m\u001b[1;33m[\u001b[0m\u001b[1;34m'id'\u001b[0m\u001b[1;33m]\u001b[0m \u001b[1;33m=\u001b[0m \u001b[0mself\u001b[0m\u001b[1;33m.\u001b[0m\u001b[0m_id\u001b[0m\u001b[1;33m\u001b[0m\u001b[1;33m\u001b[0m\u001b[0m\n\u001b[1;32m--> 633\u001b[1;33m         \u001b[1;32mreturn\u001b[0m \u001b[0mself\u001b[0m\u001b[1;33m.\u001b[0m\u001b[0m_parent\u001b[0m\u001b[1;33m.\u001b[0m\u001b[0mexecute\u001b[0m\u001b[1;33m(\u001b[0m\u001b[0mcommand\u001b[0m\u001b[1;33m,\u001b[0m \u001b[0mparams\u001b[0m\u001b[1;33m)\u001b[0m\u001b[1;33m\u001b[0m\u001b[1;33m\u001b[0m\u001b[0m\n\u001b[0m\u001b[0;32m    634\u001b[0m \u001b[1;33m\u001b[0m\u001b[0m\n\u001b[0;32m    635\u001b[0m     \u001b[1;32mdef\u001b[0m \u001b[0mfind_element\u001b[0m\u001b[1;33m(\u001b[0m\u001b[0mself\u001b[0m\u001b[1;33m,\u001b[0m \u001b[0mby\u001b[0m\u001b[1;33m=\u001b[0m\u001b[0mBy\u001b[0m\u001b[1;33m.\u001b[0m\u001b[0mID\u001b[0m\u001b[1;33m,\u001b[0m \u001b[0mvalue\u001b[0m\u001b[1;33m=\u001b[0m\u001b[1;32mNone\u001b[0m\u001b[1;33m)\u001b[0m\u001b[1;33m:\u001b[0m\u001b[1;33m\u001b[0m\u001b[1;33m\u001b[0m\u001b[0m\n",
      "\u001b[1;32m~\\anaconda3\\lib\\site-packages\\selenium\\webdriver\\remote\\webdriver.py\u001b[0m in \u001b[0;36mexecute\u001b[1;34m(self, driver_command, params)\u001b[0m\n\u001b[0;32m    319\u001b[0m         \u001b[0mresponse\u001b[0m \u001b[1;33m=\u001b[0m \u001b[0mself\u001b[0m\u001b[1;33m.\u001b[0m\u001b[0mcommand_executor\u001b[0m\u001b[1;33m.\u001b[0m\u001b[0mexecute\u001b[0m\u001b[1;33m(\u001b[0m\u001b[0mdriver_command\u001b[0m\u001b[1;33m,\u001b[0m \u001b[0mparams\u001b[0m\u001b[1;33m)\u001b[0m\u001b[1;33m\u001b[0m\u001b[1;33m\u001b[0m\u001b[0m\n\u001b[0;32m    320\u001b[0m         \u001b[1;32mif\u001b[0m \u001b[0mresponse\u001b[0m\u001b[1;33m:\u001b[0m\u001b[1;33m\u001b[0m\u001b[1;33m\u001b[0m\u001b[0m\n\u001b[1;32m--> 321\u001b[1;33m             \u001b[0mself\u001b[0m\u001b[1;33m.\u001b[0m\u001b[0merror_handler\u001b[0m\u001b[1;33m.\u001b[0m\u001b[0mcheck_response\u001b[0m\u001b[1;33m(\u001b[0m\u001b[0mresponse\u001b[0m\u001b[1;33m)\u001b[0m\u001b[1;33m\u001b[0m\u001b[1;33m\u001b[0m\u001b[0m\n\u001b[0m\u001b[0;32m    322\u001b[0m             response['value'] = self._unwrap_value(\n\u001b[0;32m    323\u001b[0m                 response.get('value', None))\n",
      "\u001b[1;32m~\\anaconda3\\lib\\site-packages\\selenium\\webdriver\\remote\\errorhandler.py\u001b[0m in \u001b[0;36mcheck_response\u001b[1;34m(self, response)\u001b[0m\n\u001b[0;32m    240\u001b[0m                 \u001b[0malert_text\u001b[0m \u001b[1;33m=\u001b[0m \u001b[0mvalue\u001b[0m\u001b[1;33m[\u001b[0m\u001b[1;34m'alert'\u001b[0m\u001b[1;33m]\u001b[0m\u001b[1;33m.\u001b[0m\u001b[0mget\u001b[0m\u001b[1;33m(\u001b[0m\u001b[1;34m'text'\u001b[0m\u001b[1;33m)\u001b[0m\u001b[1;33m\u001b[0m\u001b[1;33m\u001b[0m\u001b[0m\n\u001b[0;32m    241\u001b[0m             \u001b[1;32mraise\u001b[0m \u001b[0mexception_class\u001b[0m\u001b[1;33m(\u001b[0m\u001b[0mmessage\u001b[0m\u001b[1;33m,\u001b[0m \u001b[0mscreen\u001b[0m\u001b[1;33m,\u001b[0m \u001b[0mstacktrace\u001b[0m\u001b[1;33m,\u001b[0m \u001b[0malert_text\u001b[0m\u001b[1;33m)\u001b[0m\u001b[1;33m\u001b[0m\u001b[1;33m\u001b[0m\u001b[0m\n\u001b[1;32m--> 242\u001b[1;33m         \u001b[1;32mraise\u001b[0m \u001b[0mexception_class\u001b[0m\u001b[1;33m(\u001b[0m\u001b[0mmessage\u001b[0m\u001b[1;33m,\u001b[0m \u001b[0mscreen\u001b[0m\u001b[1;33m,\u001b[0m \u001b[0mstacktrace\u001b[0m\u001b[1;33m)\u001b[0m\u001b[1;33m\u001b[0m\u001b[1;33m\u001b[0m\u001b[0m\n\u001b[0m\u001b[0;32m    243\u001b[0m \u001b[1;33m\u001b[0m\u001b[0m\n\u001b[0;32m    244\u001b[0m     \u001b[1;32mdef\u001b[0m \u001b[0m_value_or_default\u001b[0m\u001b[1;33m(\u001b[0m\u001b[0mself\u001b[0m\u001b[1;33m,\u001b[0m \u001b[0mobj\u001b[0m\u001b[1;33m,\u001b[0m \u001b[0mkey\u001b[0m\u001b[1;33m,\u001b[0m \u001b[0mdefault\u001b[0m\u001b[1;33m)\u001b[0m\u001b[1;33m:\u001b[0m\u001b[1;33m\u001b[0m\u001b[1;33m\u001b[0m\u001b[0m\n",
      "\u001b[1;31mElementClickInterceptedException\u001b[0m: Message: element click intercepted: Element <a href=\"javascript:;\" class=\"btn_allMenu\" onclick=\"allMenu()\">...</a> is not clickable at point (214, 230). Other element would receive the click: <img src=\"http://ticketimage.interpark.com/TCMS4/Main/202107/MainPopupBanner_MainPopupBannerShort_4ce1aecf-c56c-4366-a73e-a745909d3d9a.jpg\" alt=\"뮤지컬 〈장수탕 선녀님〉\">\n  (Session info: chrome=91.0.4472.124)\n"
     ]
    }
   ],
   "source": [
    "# 이건 보이는 데 눌리지 않는 것일뿐이므로 is_displayed가 True임. (팝업에 의해 가려져있는 것이므로)\n",
    "driver.implicitly_wait(10) # 모든 객체에 대해서 10초를 무조껀 기다리고 있는 것임.\n",
    "\n",
    "# 팝업 때문에 화면에 정말 존재하고, 다 되는 데 클릭이 안되는 것임!!!\n",
    "# ElementClickInterceptedException\n",
    "# 네이버 로그아웃 버튼과는 다른 예시임.\n",
    "home.click()"
   ]
  },
  {
   "cell_type": "code",
   "execution_count": 226,
   "metadata": {},
   "outputs": [],
   "source": [
    "from selenium.common.exceptions import ElementClickInterceptedException\n",
    "\n",
    "wait = WebDriverWait(driver, 10, \n",
    "                    ignored_exceptions=[ElementNotInteractableException,\n",
    "                                       ElementClickInterceptedException])"
   ]
  },
  {
   "cell_type": "code",
   "execution_count": 234,
   "metadata": {},
   "outputs": [],
   "source": [
    "# 그럼 팝업 뜬 애들을 코드로 찾아야만 함\n",
    "# 다만, 이게 중요한 내용은 아니므로.. 바로 Chrome 검사로 찾음\n",
    "\n",
    "# 모든 팝업에는 저 클래스 이름이 붙어있을 예정임.\n",
    "# 모든 팝업을 닫기 위해 닫기 버튼을 찾아서 눌러줄 예정\n",
    "\n",
    "\n",
    "for _ in driver.find_elements_by_xpath(\n",
    "    '//table[@class=\"noticeLayerTable\"]'):\n",
    "    if _.is_displayed() and _.is_enabled():\n",
    "        _.find_element_by_css_selector('div.closeDiv > a').click() # 닫기 버튼은 항상 여기에 위치해있을 예정임!\n",
    "        \n",
    "# 대박..."
   ]
  },
  {
   "cell_type": "code",
   "execution_count": 246,
   "metadata": {},
   "outputs": [],
   "source": [
    "# 홈버튼이 눌리지 않을 때 팝업들을 다 제거해주고,\n",
    "# 다 제거가 완료되었다면 클릭하도록 짠 코드\n",
    "\n",
    "from selenium.common.exceptions import StaleElementReferenceException\n",
    "try:\n",
    "    driver.find_element_by_css_selector(\n",
    "        'ul.gnbBtns > li > a:nth-of-type(1)').click()\n",
    "except:\n",
    "    for _ in driver.find_elements_by_xpath(\n",
    "    '//table[@class=\"noticeLayerTable\"]'):\n",
    "        if _.is_displayed() and _.is_enabled():\n",
    "            _.find_element_by_css_selector('div.closeDiv > a').click()\n",
    "    wait.until(lambda _:_.find_element_by_css_selector(\n",
    "        'ul.gnbBtns > li > a:nth-of-type(1)').is_displayed())\n",
    "    driver.find_element_by_css_selector(\n",
    "        'ul.gnbBtns > li > a:nth-of-type(1)').click()\n",
    "    \n",
    "# 원래는 다시 TimeOut인지 봐야 한다?\n",
    "\n",
    "# 같은 페이지일지라도, 시간이 다르다면 저장되있는 코드의 값과 다른 곳을 가리키게 됨.\n",
    "# 그런 것을 방지하기 위해 코드로만 짜야 한다는 것임...\n",
    "#\n",
    "# 그래서 위 코드에서 앞서 찾은 home 대신 새롭게 찾은 값을 이용해야 한다는 것임!!"
   ]
  },
  {
   "cell_type": "code",
   "execution_count": 253,
   "metadata": {},
   "outputs": [],
   "source": [
    "driver.get('https://www.naver.com')"
   ]
  },
  {
   "cell_type": "code",
   "execution_count": 256,
   "metadata": {
    "scrolled": false
   },
   "outputs": [
    {
     "name": "stdout",
     "output_type": "stream",
     "text": [
      "search_btn\n"
     ]
    }
   ],
   "source": [
    "for _ in driver.find_elements_by_css_selector('form button'):\n",
    "    print(_.get_attribute('id'))"
   ]
  },
  {
   "cell_type": "code",
   "execution_count": 255,
   "metadata": {},
   "outputs": [],
   "source": [
    "driver.find_element_by_name('query').send_keys('파이썬')"
   ]
  },
  {
   "cell_type": "code",
   "execution_count": 257,
   "metadata": {},
   "outputs": [],
   "source": [
    "driver.find_element_by_id('search_btn').click()"
   ]
  },
  {
   "cell_type": "code",
   "execution_count": 261,
   "metadata": {},
   "outputs": [
    {
     "name": "stdout",
     "output_type": "stream",
     "text": [
      "파이썬학원 수월한 과정! https://blog.naver.com/bredpark1004/222423051052\n"
     ]
    }
   ],
   "source": [
    "for _ in driver.find_elements_by_css_selector('.total_area > a'):\n",
    "    if urlparse(_.get_attribute('href')).netloc == 'blog.naver.com':\n",
    "        print(_.text, _.get_attribute('href'))\n",
    "        driver.get(_.get_attribute('href'))\n",
    "        break\n",
    "        \n",
    "# 과거에는 urljoin을 사용해서 작성했었음\n",
    "# 이제는 그에 대해 고민을 안해도 됨.. 다 렌더링 되어 있기 때문에...\n",
    "\n",
    "# 검색을 하고 그 다음 사이트로 이동해있을 것임!\n",
    "# "
   ]
  },
  {
   "cell_type": "code",
   "execution_count": 264,
   "metadata": {
    "scrolled": true
   },
   "outputs": [
    {
     "ename": "NoSuchElementException",
     "evalue": "Message: no such element: Unable to locate element: {\"method\":\"css selector\",\"selector\":\".se-main-container\"}\n  (Session info: chrome=91.0.4472.124)\n",
     "output_type": "error",
     "traceback": [
      "\u001b[1;31m---------------------------------------------------------------------------\u001b[0m",
      "\u001b[1;31mNoSuchElementException\u001b[0m                    Traceback (most recent call last)",
      "\u001b[1;32m<ipython-input-264-0aa8c9006abc>\u001b[0m in \u001b[0;36m<module>\u001b[1;34m\u001b[0m\n\u001b[1;32m----> 1\u001b[1;33m \u001b[0mdriver\u001b[0m\u001b[1;33m.\u001b[0m\u001b[0mfind_element_by_css_selector\u001b[0m\u001b[1;33m(\u001b[0m\u001b[1;34m'.se-main-container'\u001b[0m\u001b[1;33m)\u001b[0m\u001b[1;33m\u001b[0m\u001b[1;33m\u001b[0m\u001b[0m\n\u001b[0m",
      "\u001b[1;32m~\\anaconda3\\lib\\site-packages\\selenium\\webdriver\\remote\\webdriver.py\u001b[0m in \u001b[0;36mfind_element_by_css_selector\u001b[1;34m(self, css_selector)\u001b[0m\n\u001b[0;32m    596\u001b[0m             \u001b[0melement\u001b[0m \u001b[1;33m=\u001b[0m \u001b[0mdriver\u001b[0m\u001b[1;33m.\u001b[0m\u001b[0mfind_element_by_css_selector\u001b[0m\u001b[1;33m(\u001b[0m\u001b[1;34m'#foo'\u001b[0m\u001b[1;33m)\u001b[0m\u001b[1;33m\u001b[0m\u001b[1;33m\u001b[0m\u001b[0m\n\u001b[0;32m    597\u001b[0m         \"\"\"\n\u001b[1;32m--> 598\u001b[1;33m         \u001b[1;32mreturn\u001b[0m \u001b[0mself\u001b[0m\u001b[1;33m.\u001b[0m\u001b[0mfind_element\u001b[0m\u001b[1;33m(\u001b[0m\u001b[0mby\u001b[0m\u001b[1;33m=\u001b[0m\u001b[0mBy\u001b[0m\u001b[1;33m.\u001b[0m\u001b[0mCSS_SELECTOR\u001b[0m\u001b[1;33m,\u001b[0m \u001b[0mvalue\u001b[0m\u001b[1;33m=\u001b[0m\u001b[0mcss_selector\u001b[0m\u001b[1;33m)\u001b[0m\u001b[1;33m\u001b[0m\u001b[1;33m\u001b[0m\u001b[0m\n\u001b[0m\u001b[0;32m    599\u001b[0m \u001b[1;33m\u001b[0m\u001b[0m\n\u001b[0;32m    600\u001b[0m     \u001b[1;32mdef\u001b[0m \u001b[0mfind_elements_by_css_selector\u001b[0m\u001b[1;33m(\u001b[0m\u001b[0mself\u001b[0m\u001b[1;33m,\u001b[0m \u001b[0mcss_selector\u001b[0m\u001b[1;33m)\u001b[0m\u001b[1;33m:\u001b[0m\u001b[1;33m\u001b[0m\u001b[1;33m\u001b[0m\u001b[0m\n",
      "\u001b[1;32m~\\anaconda3\\lib\\site-packages\\selenium\\webdriver\\remote\\webdriver.py\u001b[0m in \u001b[0;36mfind_element\u001b[1;34m(self, by, value)\u001b[0m\n\u001b[0;32m    974\u001b[0m                 \u001b[0mby\u001b[0m \u001b[1;33m=\u001b[0m \u001b[0mBy\u001b[0m\u001b[1;33m.\u001b[0m\u001b[0mCSS_SELECTOR\u001b[0m\u001b[1;33m\u001b[0m\u001b[1;33m\u001b[0m\u001b[0m\n\u001b[0;32m    975\u001b[0m                 \u001b[0mvalue\u001b[0m \u001b[1;33m=\u001b[0m \u001b[1;34m'[name=\"%s\"]'\u001b[0m \u001b[1;33m%\u001b[0m \u001b[0mvalue\u001b[0m\u001b[1;33m\u001b[0m\u001b[1;33m\u001b[0m\u001b[0m\n\u001b[1;32m--> 976\u001b[1;33m         return self.execute(Command.FIND_ELEMENT, {\n\u001b[0m\u001b[0;32m    977\u001b[0m             \u001b[1;34m'using'\u001b[0m\u001b[1;33m:\u001b[0m \u001b[0mby\u001b[0m\u001b[1;33m,\u001b[0m\u001b[1;33m\u001b[0m\u001b[1;33m\u001b[0m\u001b[0m\n\u001b[0;32m    978\u001b[0m             'value': value})['value']\n",
      "\u001b[1;32m~\\anaconda3\\lib\\site-packages\\selenium\\webdriver\\remote\\webdriver.py\u001b[0m in \u001b[0;36mexecute\u001b[1;34m(self, driver_command, params)\u001b[0m\n\u001b[0;32m    319\u001b[0m         \u001b[0mresponse\u001b[0m \u001b[1;33m=\u001b[0m \u001b[0mself\u001b[0m\u001b[1;33m.\u001b[0m\u001b[0mcommand_executor\u001b[0m\u001b[1;33m.\u001b[0m\u001b[0mexecute\u001b[0m\u001b[1;33m(\u001b[0m\u001b[0mdriver_command\u001b[0m\u001b[1;33m,\u001b[0m \u001b[0mparams\u001b[0m\u001b[1;33m)\u001b[0m\u001b[1;33m\u001b[0m\u001b[1;33m\u001b[0m\u001b[0m\n\u001b[0;32m    320\u001b[0m         \u001b[1;32mif\u001b[0m \u001b[0mresponse\u001b[0m\u001b[1;33m:\u001b[0m\u001b[1;33m\u001b[0m\u001b[1;33m\u001b[0m\u001b[0m\n\u001b[1;32m--> 321\u001b[1;33m             \u001b[0mself\u001b[0m\u001b[1;33m.\u001b[0m\u001b[0merror_handler\u001b[0m\u001b[1;33m.\u001b[0m\u001b[0mcheck_response\u001b[0m\u001b[1;33m(\u001b[0m\u001b[0mresponse\u001b[0m\u001b[1;33m)\u001b[0m\u001b[1;33m\u001b[0m\u001b[1;33m\u001b[0m\u001b[0m\n\u001b[0m\u001b[0;32m    322\u001b[0m             response['value'] = self._unwrap_value(\n\u001b[0;32m    323\u001b[0m                 response.get('value', None))\n",
      "\u001b[1;32m~\\anaconda3\\lib\\site-packages\\selenium\\webdriver\\remote\\errorhandler.py\u001b[0m in \u001b[0;36mcheck_response\u001b[1;34m(self, response)\u001b[0m\n\u001b[0;32m    240\u001b[0m                 \u001b[0malert_text\u001b[0m \u001b[1;33m=\u001b[0m \u001b[0mvalue\u001b[0m\u001b[1;33m[\u001b[0m\u001b[1;34m'alert'\u001b[0m\u001b[1;33m]\u001b[0m\u001b[1;33m.\u001b[0m\u001b[0mget\u001b[0m\u001b[1;33m(\u001b[0m\u001b[1;34m'text'\u001b[0m\u001b[1;33m)\u001b[0m\u001b[1;33m\u001b[0m\u001b[1;33m\u001b[0m\u001b[0m\n\u001b[0;32m    241\u001b[0m             \u001b[1;32mraise\u001b[0m \u001b[0mexception_class\u001b[0m\u001b[1;33m(\u001b[0m\u001b[0mmessage\u001b[0m\u001b[1;33m,\u001b[0m \u001b[0mscreen\u001b[0m\u001b[1;33m,\u001b[0m \u001b[0mstacktrace\u001b[0m\u001b[1;33m,\u001b[0m \u001b[0malert_text\u001b[0m\u001b[1;33m)\u001b[0m\u001b[1;33m\u001b[0m\u001b[1;33m\u001b[0m\u001b[0m\n\u001b[1;32m--> 242\u001b[1;33m         \u001b[1;32mraise\u001b[0m \u001b[0mexception_class\u001b[0m\u001b[1;33m(\u001b[0m\u001b[0mmessage\u001b[0m\u001b[1;33m,\u001b[0m \u001b[0mscreen\u001b[0m\u001b[1;33m,\u001b[0m \u001b[0mstacktrace\u001b[0m\u001b[1;33m)\u001b[0m\u001b[1;33m\u001b[0m\u001b[1;33m\u001b[0m\u001b[0m\n\u001b[0m\u001b[0;32m    243\u001b[0m \u001b[1;33m\u001b[0m\u001b[0m\n\u001b[0;32m    244\u001b[0m     \u001b[1;32mdef\u001b[0m \u001b[0m_value_or_default\u001b[0m\u001b[1;33m(\u001b[0m\u001b[0mself\u001b[0m\u001b[1;33m,\u001b[0m \u001b[0mobj\u001b[0m\u001b[1;33m,\u001b[0m \u001b[0mkey\u001b[0m\u001b[1;33m,\u001b[0m \u001b[0mdefault\u001b[0m\u001b[1;33m)\u001b[0m\u001b[1;33m:\u001b[0m\u001b[1;33m\u001b[0m\u001b[1;33m\u001b[0m\u001b[0m\n",
      "\u001b[1;31mNoSuchElementException\u001b[0m: Message: no such element: Unable to locate element: {\"method\":\"css selector\",\"selector\":\".se-main-container\"}\n  (Session info: chrome=91.0.4472.124)\n"
     ]
    }
   ],
   "source": [
    "# 안 찾아지는게 당연히 맞음. ...왜?\n",
    "# 결론> iframe을 사용했기 때문임. 사용하는 이유는 ...함부로 가져가지 말라고\n",
    "driver.find_element_by_css_selector('.se-main-container')"
   ]
  },
  {
   "cell_type": "code",
   "execution_count": 263,
   "metadata": {},
   "outputs": [],
   "source": [
    "driver.implicitly_wait = 0 # 한번 값을 설정해두면 계속 10초동안 무한히 기다림"
   ]
  },
  {
   "cell_type": "code",
   "execution_count": 273,
   "metadata": {},
   "outputs": [],
   "source": [
    "main = driver.find_element_by_css_selector('iframe')"
   ]
  },
  {
   "cell_type": "code",
   "execution_count": 268,
   "metadata": {},
   "outputs": [
    {
     "data": {
      "text/plain": [
       "<iframe allowfullscreen=\"true\" id=\"mainFrame\" name=\"mainFrame\" onload=\"oFramesetTitleController.start(self.frames['mainFrame'], self, sTitle);oFramesetTitleController.onLoadFrame();oFramesetUrlController.start(self.frames['mainFrame']);oFramesetUrlController.onLoadFrame()\" scrolling=\"auto\" src=\"/PostView.naver?blogId=bredpark1004&amp;logNo=222423051052&amp;redirect=Dlog&amp;widgetTypeCall=true&amp;directAccess=false\"></iframe>"
      ]
     },
     "execution_count": 268,
     "metadata": {},
     "output_type": "execute_result"
    }
   ],
   "source": [
    "dom = BeautifulSoup(driver.page_source, 'lxml')\n",
    "dom.select_one('iframe')"
   ]
  },
  {
   "cell_type": "code",
   "execution_count": 274,
   "metadata": {},
   "outputs": [
    {
     "name": "stderr",
     "output_type": "stream",
     "text": [
      "<ipython-input-274-2d11a076ea4b>:8: DeprecationWarning: use driver.switch_to.frame instead\n",
      "  driver.switch_to_frame(main)\n"
     ]
    }
   ],
   "source": [
    "# iframe은 물리적으로 다른 곳에 있는 내용을 마치 내 페이지에 있는 내용처럼 들고 오는 것\n",
    "# 즉, 서로 다른 2개 이상의 DOM이 하나에 페이지에 있을 수 있다.\n",
    "# iframe이 시작하면서 새로운 DOM이 #document와 같이 시작하게 됨.\n",
    "\n",
    "# 근데 우리가 지금까지 한 것은 하나의 DOM에 대해 분석하는 것 밖에 없었으므로\n",
    "# DOM을 스위치 시켜줘야만 함!\n",
    "\n",
    "driver.switch_to_frame(main)"
   ]
  },
  {
   "cell_type": "code",
   "execution_count": 275,
   "metadata": {
    "scrolled": true
   },
   "outputs": [
    {
     "data": {
      "text/plain": [
       "'파이썬학원 수월한 과정!\\n인생을 이렇게 살아도 되나 싶을 정도로, 목표가 없었습니다.\\n이러한 사람들을 오늘만 산다고 하죠. 제가 딱 그랬습니다.\\n 작년 한해는 어쩔 수 없이 허망하게 시간을 흘려 보냈지만 올해 만큼은 목표도 잡고, 원하는 공부도 해보면서 성취감을 느끼고 싶었는데요.\\n어떤 걸 배울 지 여러 차례 고민을 해보다가, \\n파이썬이라는 프로그래밍 언어를 알게 되었습니다.\\n프로그래밍 언어는 요즘 직장인 분들도, \\n대학생이나 고등학생! 심지어, 초등학생도 공부를 한다고 하더라고요.\\n4차산업혁명으로 인해, 코딩, 프로그래밍, 개발자, AI 쪽의 전망이 좋아질 거라는 예상 때문이라고 생각하는데요. 저도 이왕 하는 공부! 노후까지 대비할 수 있다면 좋을 것 같아 파이썬 공부를 시작하게 되었습니다. \\nPython은 프로그래밍 언어 중 하나이며, 이 밖에도 C언어나 C++, 자바 등의 다양한 언어들이 존재하는데요. 그 중에서도 python은 초보자들도 쉽게 배울 수 있는 수준이라고 하며, 프로그래밍의 기본이라고 하기에 경험이 없던 저도 자신감이 생겼습니다. \\n독학으로 가능하다고 하더라도, 조금 불안했던 것이 사실인데요.\\n괜히 혼자 했다가 어려움을 느끼고 금방 포기하게 될 것 같아, 차라리 처음부터 파이썬학원에 다니며 준비를 하는 게 좋을 것 같았습니다. \\n그렇게 학원을 알아보게 되었고, 좋은 환경에서 지금도 잘 배우고 있는데요! Python을 배우고자 하는 분들을 위해 어떤 과정을 지나쳐 왔는 지 알려드리면 도움이 될 것 같아 글을 써보게 되었습니다. \\n일단, 저는 IT 분야만을 전문적으로 가르치는 파이썬학원에서 배움을 시작했습니다. \\n제가 수업을 들은 환경은 커리큘럼이 참 다양했는데요. 초심자인 저로서는 어떤 것부터 시작하면 될 지 몰라, 우선 멘토 선생님을 만났습니다. \\n취업이나 이직 준비를 하는 분들은 멘토 선생님과 이야기를 나눈 후, 앞으로의 방향과 목표를 설정하는 편이라고 하는데요. 저는 이 때, 너무 사소한 걸로 만나 뵙게 된 건 가, 괜한 걱정도 들었지만, 그런 것 치고는 친절하셨습니다.\\n그리고, 설명도 자세하고 꼼꼼하게 진행하셨는데요. 그냥 단순 호기심으로 배워 보고 싶어서 찾아온 저에게 좋은 가이드라인을 제시하셨습니다. \\n수업 과정은 기초 과정을 배울 수 있는 IT 베이직 수업과 정규 과정, 국비지원 과정, 프로젝트 등이 있는데요. 수업을 들으면서 취업지원도 받을 수 있는 구조로 시스템이 진행되고 있었습니다. \\n저는 기초 실력도 없는 상태에서 시작했기 때문에, IT 베이직 수업부터 듣는 것이 가장 안정적이라고 보여졌는데요.\\n역시나, 선생님께서도 이전까지 배워본 경험이 없다면 기초 수업부터 들으면서 천천히 이해해 나가는 것도 좋다고 하셨습니다. \\n제가 들은 기초 수업 과정은 총 2개월간 진행되는 커리큘럼입니다.\\n평일에는 격일로 1일 3시간 정도 수업이 진행되며, 주말에는 토요일과 일요일 모두 1일 4시간씩 수업이 진행되는 스케줄을 보이고 있어요. \\n수업 인원은 20명으로 제한이 되어 있다고 말씀하셨는데요.\\n좀 더 꼼꼼한 지도를 위해 인원을 제한한 거라고 하며, 저도 사람이 많은 건 싫었기 때문에 한 반에 적당한 인원으로 수업이 진행된다는 점은 반갑게 느껴졌습니다. \\n수업 시작 전, 책 한 권을 받았는데요! \\n이 책은 파이썬학원 자체적으로 제작이 된 교재였습니다. 직강 커리큘럼에 맞춰 목차도 나열되어 있었고, 예습이나 복습이 가능하도록 다양한 예제가 수록되어 있더라고요! \\n그리고 기초서 답게, 간단한 문법으로 시작해서 내용을 쉽고 재밌게 이해할 수 있도록 내용이 수록되어 있었습니다. 설명도 자세하게 되어있고, 창의적으로도 다가가 볼 수 있게끔 응용 이론들도확인할 수 있었던 교재였죠! \\n저는 참고서부터 마음에 들었는데요! 잘 할 수 있을 지 걱정이 되었지만, 수업을 열심히 잘 따라가다보면, 자신감을 가질 수 있지 않을까란 기대도 해 보게 되더라고요. \\n첫 수업때는 프로그래밍 준비를 하기 위한 단계를 밟았는데요! \\n그리고 기본이 되는 변수와 자료형에 대한 의미를 파악하고 기본 입출력 함수부터 차근차근 배우기 시작했습니다. 그 외에도 연산자와 제어문도 배웠어요. \\n1주차 수업은 개인적으로 어렵지 않았다고 느껴졌는데요. 처음 공부를 하는 거라 우왕좌왕하면 어쩌지, 싶었는 데 선생님이 설명해 주시는 내용이 이해가 잘 되었기 때문에 초반부터 조금이나마 자신감을 가질 수 있었습니다. \\n하지만, 기초 수업도 시간이 흐를수록 어려워지긴 하더라고요.\\n예를 들어, 3주차에 배웠던 클래스와 객체, 함수 안에서 다루는 메서트 정의, 리턴, 상속 등에 대한 개념은 초심자가 이해하기 힘든 내용 중 하나였습니다. \\n저는 이 때, 복습의 필요성을 절실히 느꼈는데요. 수업을 듣는 것만으로도 이해가 잘 되는 편이었지만 배운 내용을 내 것으로 만들기 위해서는 개인적으로 노력을 많이 해야겠다는 생각이 들었습니다. \\n그래서 저는, 수업이 끝나고 집으로 곧장 향하지 않았고, 복습의 필요성을 느끼기 시작한 이후로 자습실에 가서 공부를 하고 집에 돌아가곤 했습니다.\\n공부를 하고 싶다면, 언제든지 할 수 있도록 파이썬학원 안에는 자습실이 마련되어 있다는 것도 꽤 괜찮게 느껴졌던 것 중 하나입니다. 자습실이 있어도 잘 사용하지 않을 것 같았는 데 조교 선생님이 자습도 봐주시기 때문에 혼자 공부를 하는 것보다 오히려 더 술술 잘 풀리더라고요! \\n저는 1개월차 수업이 지날 때쯤, 파이썬에 대한 감이 제대로 잡히기 시작했는데요. 코딩을 하는 대로 오류 없이 결과물이 나올 때면 그렇게 기쁠 수가 없었습니다.\\n이 때문에 많은 이들이 프로그래밍 언어에 흥미와 관심을 아끼지 않는 걸까, 생각을 해보기도 했어요. 아무튼, 시작이 좋았기에 C언어를 들을 수 있는 실력까지 갖춰진 게 아닐까 하는데요! \\nC언어도 개발자라면 꼭 알아야 되는 언어이지만, 난이도가 낮은 편은 아니기 때문에 배우고 싶어도 걱정이 많이 되었거든요. 근데, 처음 공부를 했던 수업 과정이 생각했던  것보다 순조롭게 진행이 되었기 때문에 지금 듣고 있는 C언어 수업도 힘들지만 잘 해 낼 수 있다는 자신감이 생깁니다.\\n배울수록 욕심이 생겨서, 아예 이쪽으로 진로를 틀어볼까 생각하기도 하고 있는데요! \\n아직은 이르지만, 비전공자라고 해서 못할 건 없다는 걸 이 번에 배우면서 깨닫게 되었습니다.\\n기본 수업 과정부터 직업에 대해 배울 수 있는 정규 실무 교육 과정, 그리고 프로젝트를 제작할 수 있는 수업 과정까지, 다양하기 때문에 자신의 목적에 맞춰서 언제든지 다가갈 수 있는 환경이라고 생각하는데요.\\n배우고 싶은 데 비전공자라서 걱정이 되기도 한다면, 그동안의 공부 과정을 확인해 보고 자신감을 가졌으면 합니다! \\n물론, 그만 두고 싶은 생각도 들 때가 있지만, 이런 생각이 들어도 다시 재미를 느낄 수 있게 되는 매력이 있어서 포기할 수 없는 것 같아요! 그럼, 앞으로 잘 배워서 원하는 목표를 이뤄 내셨으면 하네요! \\n코리아IT아카데미 교육상담실\\n학과선택 희망하시는 학과를 선택해 주세요. 코리아IT SIGNATURE 여름방학 특강 국비 교육과정 취업 정규과정 자격증 취득과정 단과과정 시그니처 과정 다른학과 희망 시 위 학과선택에서 클릭해 주세요. 억대연봉 취업컨설팅 학생 진로상담 취업 진로 상담 IT 자격증 빅데이터 전문가 정보보안 전문가 C언어 개발자 JAVA 개발자 Python 개발자 프론트엔드 개발자 웹&앱 개발자 기타과목 15자 이내로 입력해 주시기 바랍니다. 과목 입력 후 엔터키를 눌러주세요. 희망 교육과정 희망하시는 교육과정을 선택해 주세요. 지점 선택 강남지점 ...\\nwww.koreaisacademy.co.kr\\n업체의 지원을 받아 작성된 글입니다. \\n솔직한 정보를 바탕으로 작성하였습니다. '"
      ]
     },
     "execution_count": 275,
     "metadata": {},
     "output_type": "execute_result"
    }
   ],
   "source": [
    "# DOM이 스위칭됨!\n",
    "driver.find_element_by_css_selector('.se-main-container').text"
   ]
  },
  {
   "cell_type": "code",
   "execution_count": 278,
   "metadata": {
    "scrolled": true
   },
   "outputs": [
    {
     "data": {
      "text/plain": [
       "'\\n\\n\\n\\n\\n\\u200b\\n\\n\\n\\n \\n\\n\\n\\n파이썬학원 수월한 과정!\\n\\n\\n\\n\\n\\n\\n\\n\\n\\u200b인생을 이렇게 살아도 되나 싶을 정도로, 목표가 없었습니다.이러한 사람들을 오늘만 산다고 하죠. 제가 딱 그랬습니다. 작년 한해는 어쩔 수 없이 허망하게 시간을 흘려 보냈지만 올해 만큼은 목표도 잡고, 원하는 공부도 해보면서 성취감을 느끼고 싶었는데요.어떤 걸 배울 지 여러 차례 고민을 해보다가, 파이썬이라는 프로그래밍 언어를 알게 되었습니다.프로그래밍 언어는 요즘 직장인 분들도, 대학생이나 고등학생! 심지어, 초등학생도 공부를 한다고 하더라고요.\\u200b\\n\\n\\n\\n \\n\\n\\n\\n\\n\\n\\n\\n\\n\\n\\n\\n\\n\\n\\n\\u200b4차산업혁명으로 인해, 코딩, 프로그래밍, 개발자, AI 쪽의 전망이 좋아질 거라는 예상 때문이라고 생각하는데요. 저도 이왕 하는 공부! 노후까지 대비할 수 있다면 좋을 것 같아 파이썬 공부를 시작하게 되었습니다. Python은 프로그래밍 언어 중 하나이며, 이 밖에도 C언어나 C++, 자바 등의 다양한 언어들이 존재하는데요. 그 중에서도 python은 초보자들도 쉽게 배울 수 있는 수준이라고 하며, 프로그래밍의 기본이라고 하기에 경험이 없던 저도 자신감이 생겼습니다. \\u200b\\n\\n\\n\\n \\n\\n\\n\\n\\n\\n\\n\\n\\n\\n\\n\\n\\n\\n\\n\\u200b독학으로 가능하다고 하더라도, 조금 불안했던 것이 사실인데요.괜히 혼자 했다가 어려움을 느끼고 금방 포기하게 될 것 같아, 차라리 처음부터 파이썬학원에 다니며 준비를 하는 게 좋을 것 같았습니다. 그렇게 학원을 알아보게 되었고, 좋은 환경에서 지금도 잘 배우고 있는데요! Python을 배우고자 하는 분들을 위해 어떤 과정을 지나쳐 왔는 지 알려드리면 도움이 될 것 같아 글을 써보게 되었습니다. \\u200b\\n\\n\\n\\n \\n\\n\\n\\n\\n\\n\\n\\n\\n\\n\\n\\n\\n\\n\\n\\u200b일단, 저는 IT 분야만을 전문적으로 가르치는 파이썬학원에서 배움을 시작했습니다. 제가 수업을 들은 환경은 커리큘럼이 참 다양했는데요. 초심자인 저로서는 어떤 것부터 시작하면 될 지 몰라, 우선 멘토 선생님을 만났습니다. 취업이나 이직 준비를 하는 분들은 멘토 선생님과 이야기를 나눈 후, 앞으로의 방향과 목표를 설정하는 편이라고 하는데요. 저는 이 때, 너무 사소한 걸로 만나 뵙게 된 건 가, 괜한 걱정도 들었지만, 그런 것 치고는 친절하셨습니다.그리고, 설명도 자세하고 꼼꼼하게 진행하셨는데요. 그냥 단순 호기심으로 배워 보고 싶어서 찾아온 저에게 좋은 가이드라인을 제시하셨습니다. \\u200b\\n\\n\\n\\n \\n\\n\\n\\n\\n\\n\\n\\n\\n\\n\\n\\n\\n\\n\\n\\u200b수업 과정은 기초 과정을 배울 수 있는 IT 베이직 수업과 정규 과정, 국비지원 과정, 프로젝트 등이 있는데요. 수업을 들으면서 취업지원도 받을 수 있는 구조로 시스템이 진행되고 있었습니다. 저는 기초 실력도 없는 상태에서 시작했기 때문에, IT 베이직 수업부터 듣는 것이 가장 안정적이라고 보여졌는데요.역시나, 선생님께서도 이전까지 배워본 경험이 없다면 기초 수업부터 들으면서 천천히 이해해 나가는 것도 좋다고 하셨습니다. 제가 들은 기초 수업 과정은 총 2개월간 진행되는 커리큘럼입니다.평일에는 격일로 1일 3시간 정도 수업이 진행되며, 주말에는 토요일과 일요일 모두 1일 4시간씩 수업이 진행되는 스케줄을 보이고 있어요. \\u200b\\n\\n\\n\\n \\n\\n\\n\\n\\n\\n\\n\\n\\n\\n\\n\\n\\n\\n\\n\\u200b수업 인원은 20명으로 제한이 되어 있다고 말씀하셨는데요.좀 더 꼼꼼한 지도를 위해 인원을 제한한 거라고 하며, 저도 사람이 많은 건 싫었기 때문에 한 반에 적당한 인원으로 수업이 진행된다는 점은 반갑게 느껴졌습니다. 수업 시작 전, 책 한 권을 받았는데요! 이 책은 파이썬학원 자체적으로 제작이 된 교재였습니다. 직강 커리큘럼에 맞춰 목차도 나열되어 있었고, 예습이나 복습이 가능하도록 다양한 예제가 수록되어 있더라고요! 그리고 기초서 답게, 간단한 문법으로 시작해서 내용을 쉽고 재밌게 이해할 수 있도록 내용이 수록되어 있었습니다. 설명도 자세하게 되어있고, 창의적으로도 다가가 볼 수 있게끔 응용 이론들도확인할 수 있었던 교재였죠! \\u200b\\n\\n\\n\\n \\n\\n\\n\\n\\n\\n\\n\\n\\n\\n\\n\\n\\n\\n\\n\\u200b저는 참고서부터 마음에 들었는데요! 잘 할 수 있을 지 걱정이 되었지만, 수업을 열심히 잘 따라가다보면, 자신감을 가질 수 있지 않을까란 기대도 해 보게 되더라고요. 첫 수업때는 프로그래밍 준비를 하기 위한 단계를 밟았는데요! 그리고 기본이 되는 변수와 자료형에 대한 의미를 파악하고 기본 입출력 함수부터 차근차근 배우기 시작했습니다. 그 외에도 연산자와 제어문도 배웠어요. 1주차 수업은 개인적으로 어렵지 않았다고 느껴졌는데요. 처음 공부를 하는 거라 우왕좌왕하면 어쩌지, 싶었는 데 선생님이 설명해 주시는 내용이 이해가 잘 되었기 때문에 초반부터 조금이나마 자신감을 가질 수 있었습니다. \\u200b\\n\\n\\n\\n \\n\\n\\n\\n\\n\\n\\n\\n\\n\\n\\n\\n\\n\\n\\n\\u200b하지만, 기초 수업도 시간이 흐를수록 어려워지긴 하더라고요.예를 들어, 3주차에 배웠던 클래스와 객체, 함수 안에서 다루는 메서트 정의, 리턴, 상속 등에 대한 개념은 초심자가 이해하기 힘든 내용 중 하나였습니다. 저는 이 때, 복습의 필요성을 절실히 느꼈는데요. 수업을 듣는 것만으로도 이해가 잘 되는 편이었지만 배운 내용을 내 것으로 만들기 위해서는 개인적으로 노력을 많이 해야겠다는 생각이 들었습니다. 그래서 저는, 수업이 끝나고 집으로 곧장 향하지 않았고, 복습의 필요성을 느끼기 시작한 이후로 자습실에 가서 공부를 하고 집에 돌아가곤 했습니다.\\u200b\\n\\n\\n\\n \\n\\n\\n\\n\\n\\n\\n\\n\\n\\n\\n\\n\\n\\n\\n\\u200b공부를 하고 싶다면, 언제든지 할 수 있도록 파이썬학원 안에는 자습실이 마련되어 있다는 것도 꽤 괜찮게 느껴졌던 것 중 하나입니다. 자습실이 있어도 잘 사용하지 않을 것 같았는 데 조교 선생님이 자습도 봐주시기 때문에 혼자 공부를 하는 것보다 오히려 더 술술 잘 풀리더라고요! 저는 1개월차 수업이 지날 때쯤, 파이썬에 대한 감이 제대로 잡히기 시작했는데요. 코딩을 하는 대로 오류 없이 결과물이 나올 때면 그렇게 기쁠 수가 없었습니다.이 때문에 많은 이들이 프로그래밍 언어에 흥미와 관심을 아끼지 않는 걸까, 생각을 해보기도 했어요. 아무튼, 시작이 좋았기에 C언어를 들을 수 있는 실력까지 갖춰진 게 아닐까 하는데요! \\u200b\\n\\n\\n\\n \\n\\n\\n\\n\\n\\n\\n\\n\\n\\n\\n\\n\\n\\n\\n\\u200bC언어도 개발자라면 꼭 알아야 되는 언어이지만, 난이도가 낮은 편은 아니기 때문에 배우고 싶어도 걱정이 많이 되었거든요. 근데, 처음 공부를 했던 수업 과정이 생각했던  것보다 순조롭게 진행이 되었기 때문에 지금 듣고 있는 C언어 수업도 힘들지만 잘 해 낼 수 있다는 자신감이 생깁니다.배울수록 욕심이 생겨서, 아예 이쪽으로 진로를 틀어볼까 생각하기도 하고 있는데요! 아직은 이르지만, 비전공자라고 해서 못할 건 없다는 걸 이 번에 배우면서 깨닫게 되었습니다.\\u200b\\n\\n\\n\\n \\n\\n\\n\\n\\n\\n\\n\\n\\n\\n\\n\\n\\n\\n\\n\\u200b기본 수업 과정부터 직업에 대해 배울 수 있는 정규 실무 교육 과정, 그리고 프로젝트를 제작할 수 있는 수업 과정까지, 다양하기 때문에 자신의 목적에 맞춰서 언제든지 다가갈 수 있는 환경이라고 생각하는데요.배우고 싶은 데 비전공자라서 걱정이 되기도 한다면, 그동안의 공부 과정을 확인해 보고 자신감을 가졌으면 합니다! 물론, 그만 두고 싶은 생각도 들 때가 있지만, 이런 생각이 들어도 다시 재미를 느낄 수 있게 되는 매력이 있어서 포기할 수 없는 것 같아요! 그럼, 앞으로 잘 배워서 원하는 목표를 이뤄 내셨으면 하네요! \\u200b\\n\\n\\n\\n \\n\\n\\n\\n\\n\\n코리아IT아카데미 교육상담실\\n학과선택 희망하시는 학과를 선택해 주세요. 코리아IT SIGNATURE 여름방학 특강 국비 교육과정 취업 정규과정 자격증 취득과정 단과과정 시그니처 과정 다른학과 희망 시 위 학과선택에서 클릭해 주세요. 억대연봉 취업컨설팅 학생 진로상담 취업 진로 상담 IT 자격증 빅데이터 전문가 정보보안 전문가 C언어 개발자 JAVA 개발자 Python 개발자 프론트엔드 개발자 웹&앱 개발자 기타과목 15자 이내로 입력해 주시기 바랍니다. 과목 입력 후 엔터키를 눌러주세요. 희망 교육과정 희망하시는 교육과정을 선택해 주세요. 지점 선택 강남지점 ...\\nwww.koreaisacademy.co.kr\\n\\n\\n\\n\\n\\n\\n \\n\\n\\n\\n\\u200b업체의 지원을 받아 작성된 글입니다. 솔직한 정보를 바탕으로 작성하였습니다. \\u200b\\n\\n\\n\\n '"
      ]
     },
     "execution_count": 278,
     "metadata": {},
     "output_type": "execute_result"
    }
   ],
   "source": [
    "# 지금 dom은 다시 dom 안에 있는 dom이므로,\n",
    "# 다시 밖의 내용에 대해 작업하려면 또다시 스위칭 시켜줘야만 함.\n",
    "dom = BeautifulSoup(driver.page_source, 'lxml')\n",
    "dom.select_one('.se-main-container').text"
   ]
  },
  {
   "cell_type": "code",
   "execution_count": 281,
   "metadata": {},
   "outputs": [
    {
     "name": "stderr",
     "output_type": "stream",
     "text": [
      "<ipython-input-281-1e095620afd7>:1: DeprecationWarning: use driver.switch_to.default_content instead\n",
      "  driver.switch_to_default_content()\n"
     ]
    }
   ],
   "source": [
    "driver.switch_to_default_content()"
   ]
  },
  {
   "cell_type": "code",
   "execution_count": 282,
   "metadata": {},
   "outputs": [
    {
     "ename": "AttributeError",
     "evalue": "'NoneType' object has no attribute 'text'",
     "output_type": "error",
     "traceback": [
      "\u001b[1;31m---------------------------------------------------------------------------\u001b[0m",
      "\u001b[1;31mAttributeError\u001b[0m                            Traceback (most recent call last)",
      "\u001b[1;32m<ipython-input-282-4f024ebffd07>\u001b[0m in \u001b[0;36m<module>\u001b[1;34m\u001b[0m\n\u001b[0;32m      1\u001b[0m \u001b[0mdom\u001b[0m \u001b[1;33m=\u001b[0m \u001b[0mBeautifulSoup\u001b[0m\u001b[1;33m(\u001b[0m\u001b[0mdriver\u001b[0m\u001b[1;33m.\u001b[0m\u001b[0mpage_source\u001b[0m\u001b[1;33m,\u001b[0m \u001b[1;34m'lxml'\u001b[0m\u001b[1;33m)\u001b[0m\u001b[1;33m\u001b[0m\u001b[1;33m\u001b[0m\u001b[0m\n\u001b[1;32m----> 2\u001b[1;33m \u001b[0mdom\u001b[0m\u001b[1;33m.\u001b[0m\u001b[0mselect_one\u001b[0m\u001b[1;33m(\u001b[0m\u001b[1;34m'.se-main-container'\u001b[0m\u001b[1;33m)\u001b[0m\u001b[1;33m.\u001b[0m\u001b[0mtext\u001b[0m\u001b[1;33m\u001b[0m\u001b[1;33m\u001b[0m\u001b[0m\n\u001b[0m",
      "\u001b[1;31mAttributeError\u001b[0m: 'NoneType' object has no attribute 'text'"
     ]
    }
   ],
   "source": [
    "# 다시 밖에 있는 원래 dom으로 스위칭하니 찾을 수 없음!\n",
    "dom = BeautifulSoup(driver.page_source, 'lxml')\n",
    "dom.select_one('.se-main-container').text"
   ]
  },
  {
   "cell_type": "code",
   "execution_count": 283,
   "metadata": {},
   "outputs": [],
   "source": [
    "# 분명히! 있는데 못 긁어올 경우 : iframe 태그가 있는 경우를 확인해봐야만 함.\n",
    "#\n",
    "# 다른 예시 : DOM이 여러 개 있는 경우 (새 창, 새 탭이 있는 경우)\n",
    "# 사용법은 비슷함.\n",
    "\n",
    "driver.get('https://www.kt.com')"
   ]
  },
  {
   "cell_type": "code",
   "execution_count": 285,
   "metadata": {},
   "outputs": [
    {
     "data": {
      "text/plain": [
       "2"
      ]
     },
     "execution_count": 285,
     "metadata": {},
     "output_type": "execute_result"
    }
   ],
   "source": [
    "# 창이나 탭이 새로 뜬 경우 : 이거 순서대로 번호가 매겨짐.\n",
    "len(driver.window_handles)"
   ]
  },
  {
   "cell_type": "code",
   "execution_count": 286,
   "metadata": {},
   "outputs": [
    {
     "name": "stderr",
     "output_type": "stream",
     "text": [
      "<ipython-input-286-dd0a1399d54d>:1: DeprecationWarning: use driver.switch_to.window instead\n",
      "  driver.switch_to_window(driver.window_handles[-1])\n"
     ]
    }
   ],
   "source": [
    "driver.switch_to_window(driver.window_handles[-1])"
   ]
  },
  {
   "cell_type": "code",
   "execution_count": 287,
   "metadata": {},
   "outputs": [
    {
     "name": "stderr",
     "output_type": "stream",
     "text": [
      "<ipython-input-287-30d91a2068f7>:1: DeprecationWarning: use driver.switch_to.window instead\n",
      "  driver.switch_to_window(driver.window_handles[0])\n"
     ]
    }
   ],
   "source": [
    "driver.switch_to_window(driver.window_handles[0])"
   ]
  },
  {
   "cell_type": "code",
   "execution_count": 290,
   "metadata": {},
   "outputs": [],
   "source": [
    "driver.close()"
   ]
  },
  {
   "cell_type": "markdown",
   "metadata": {},
   "source": [
    "### Preprocessing\n",
    "- 텍스트 : 영상/사진과는 다른 방법의 전처리 방식이 필요함\n",
    "    - 굉장히 전처리 방식이 중요함!\n",
    "- 한국말 : 순서에 관계가 없음! \n",
    "- 웹에서 불특정 대상에서 수집해오게 되면 (즉, 구어적 표현이 들어가는 순간)<br>\n",
    "   꽤 심각한 문제가 발생하게 됨.\n",
    "- 텍스트는 꼭 목적에 따라 서로 다른 전처리 방식을 사용해야만 함!<br><br>\n",
    "\n",
    "- 어떤 단어들이 어떻게 조합이 되는지 : 형태학적으로 분석 (형태소 분석!)<br>\n",
    "  이게 바로 어근, 어간, 어미, 어조, ...가 나오는 거임.\n",
    "- 표제어 분석, 형태소 분석(뜻을 가진 가장 작은 단위), ...??\n",
    "- 형태소가 기본적으로 제일 작은 단위가 될 것. \n",
    "<br><br>\n",
    "- 최종적으로 해야 하는 것은 담화분석 (기계가 내 뜻을 완벽히 이해하는 것)\n",
    "    - 아직 이뤄지지는 않음.\n",
    "<br><br> 모르겠다...\n",
    "- 감정 분석 : 표정 분석 (표정의 기본 7감정..?)\n",
    "\n",
    "#### 담화, 문장, 단어, 형태소\n",
    "- 담화 : 문장이 연속되어 이루어지는 말의 단위, 문단\n",
    "- 이를 어떻게 나눌 것인가? .split()은 그냥 다 나눠버림.\n",
    "- 문장과 문단의 연결고리와 의미를 잃어버림.\n",
    "    - 문단으로 나눴다고 가정해보자. (최소 1개 이상의 문장으로 이루어져 있을것임)\n",
    "- 즉, 담화의 최소 단위는 문장으로 볼 수 있을 것임.\n",
    "<br><br>\n",
    "- 문장 : 완결된 내용을 나타내는 최소 단위.\n",
    "- 문장을 분석하기 위해서는 단어에 대해 알아야만 함.\n",
    "- ...단어를 잘라야 함?\n",
    "<br><br>\n",
    "- 단어\n",
    "- 예시) 밤바다 = 밤 + 바다\n",
    "- 이렇게 형태소의 단위로 나눠줘야만 함.\n",
    "<br><br>\n",
    "- 형태소 : 의미를 가진 문법의 최소 단위 (뜻을 지니고 홀로 쓰일 수 있는 말)\n",
    "- 띄어쓰기 단위가 어절, 소리가 나는 한 글자를 음절\n",
    "- 그런 애들 중 최소 단위가 형태소?\n",
    "\n",
    "---\n",
    "\n",
    "### KoNLPy, NLTK"
   ]
  },
  {
   "cell_type": "code",
   "execution_count": 9,
   "metadata": {},
   "outputs": [
    {
     "data": {
      "text/plain": [
       "[('오늘', 'Noun'), ('은', 'Josa'), ('금요일', 'Noun')]"
      ]
     },
     "execution_count": 9,
     "metadata": {},
     "output_type": "execute_result"
    }
   ],
   "source": [
    "import re\n",
    "from konlpy.tag import Okt\n",
    "Okt().pos('오늘은 금요일')"
   ]
  },
  {
   "cell_type": "code",
   "execution_count": 49,
   "metadata": {},
   "outputs": [],
   "source": [
    "from os import listdir"
   ]
  },
  {
   "cell_type": "code",
   "execution_count": 65,
   "metadata": {},
   "outputs": [
    {
     "data": {
      "text/plain": [
       "\"\\n\\n\\n\\n동영상 뉴스\\n\\n\\n\\n\\n// flash 오류를 우회하기 위한 함수 추가\\nfunction _flash_removeCallback() {}\\n\\n\\t\\n\\t[앵커]국제원자력기구 IAEA가 일본과 후쿠시마 원전 오염수의 해양 방류가 안전한지를 검증하는 데 협력하기로 합의했습니다.이에 따라 곧 검증단이 구성되는데 한국의 전문가도 참여할 것으로 보입니다.보도에 김형근 기잡니다.[기자]국제원자력기구 IAEA와 일본은 후쿠시마 원전 오염수의 안전성과 규정을 검증하는 데 협력하기로 했습니다.오염수의 해양 방류가 사람과 환경에 미치는 영향을 평가하는 데도 협력하기로 했습니다.이번 합의에 따라 IAEA 내에 태스크포스가 설치됩니다.오염수 방류 과정을 확인할 검증단도 구성됩니다.[라파엘 마리아노 그로시 / IAEA 사무총장 : 우리는 방류 전후로 일본과 긴밀히 협력할 것입니다. 안전 검증단을 일본에 보낼 것입니다.]검증단에는 한국을 포함해 중국, 미국, 프랑스 등 11개국 전문가들이 참여할 것으로 알려졌습니다.한국에서는 김홍석 한국원자력안전기술원 책임연구원이 참여할 것으로 보입니다.김 연구원은 원자력 분야 권위자로 UN 방사선영향과학위원회 한국 대표로 활동하고 있습니다.검증단은 첫 임무로 올해 말 일본을 방문할 것으로 예상됩니다.하지만 IAEA가 일본의 방류 결정이 국제관행에 부합한다고 밝힌 상황에서 검증단이 이를 막을 수 있을지는 불투명합니다.[라파엘 마리아노 그로시 / IAEA 사무총장 : 일본이 선택한 방법은 기술적으로 실현 가능하고 국제관행에도 부합합니다.]IAEA는 이번 발표에서도 '오염수' 대신 일본 정부가 주장하는 '처리수'라는 용어를 사용했습니다.IAEA와 별도로 우리 정부가 추진하는 일본과 양자 협의체 구성은 시간이 더 걸릴 전망입니다.일본 정부는 한국의 협의체 구성 제안에는 아직 응하지 않고 있습니다.YTN 김형근입니다,\\n\\t\\n\""
      ]
     },
     "execution_count": 65,
     "metadata": {},
     "output_type": "execute_result"
    }
   ],
   "source": [
    "f = open('./TXT/readnavermodeLSDmidshmsid1104oid052aid0001611798.txt', 'rt', encoding='UTF8')\n",
    "f.read()"
   ]
  },
  {
   "cell_type": "code",
   "execution_count": 91,
   "metadata": {},
   "outputs": [],
   "source": [
    "corpus = list()\n",
    "for file in listdir('./TXT'):\n",
    "    with open ('./TXT/'+file, 'rt', encoding='UTF8') as f:\n",
    "        corpus.append(cleaning(f.read()))"
   ]
  },
  {
   "cell_type": "code",
   "execution_count": 90,
   "metadata": {},
   "outputs": [],
   "source": [
    "def cleaning(data):\n",
    "    data = re.sub(r'\\b[a-z_][a-zA-Z_()]{4,}\\b', '', data)\n",
    "    # 1. 사이드 스페이스가 있을 때 반드시 소문자+_  1글자로 시작, 영문(대소문자 포함) 4글자 이상 삭제 => 제일 뒷줄의 javascript 제거\n",
    "    data = re.sub(r'\\b[(){}/]{2,}', '', data)\n",
    "    # 2. 함수 기호 삭제 => () {} 제거\n",
    "    data = re.sub(r'([.,?!])(\\w)', '\\g<1> \\g<2>', data)\n",
    "    # 3. 구두점 다음에 글자가 있는 경우 공백 추가 => .단어 => . 단어로 변경\n",
    "    data = re.sub(r'\\s{2,}', '\\n', data).strip()\n",
    "    # 4. 공백 2개 이상 반복되는 경우 한 개만 => \\n\\n\\n\\n\\n 또는      =>\\n 또는 \n",
    "    data = re.sub(r'[^\\s\\w\\d.,?!:\\'\\\"]', '', data)\n",
    "    # 5. 공백, 문자, 숫자, 구두점을 제외한 나머지 글자 삭제 => 모든 특수문자 제거\n",
    "    data ='\\n'.join(data.splitlines()[1:])\n",
    "    # * 네이버에서 수집한 뉴스는 첫 줄에 주석이 달려있음 => 첫 줄 주석 삭제\n",
    "    return data"
   ]
  },
  {
   "cell_type": "code",
   "execution_count": 149,
   "metadata": {},
   "outputs": [],
   "source": [
    "data = \"\".join(corpus)"
   ]
  },
  {
   "cell_type": "code",
   "execution_count": 93,
   "metadata": {},
   "outputs": [
    {
     "data": {
      "text/plain": [
       "['오류를 우회하기 위한 함수 추가\\n \\n코리아스터디그룹 靑 방문\"한미, 역대 어느 때보다 긴밀히 소통\"글로벌 백신 허브 역할 논의영 김, 中 구금 탈북가족 보호 요청문대통령 \"美 한국인 전문직 비자쿼터 부족관심 가져달라\" 아미 베라 공동의장과 인사하는 문 대통령서울연합뉴스 최재구 기자  문재인 대통령이 9일 청와대 본관에서 미 의회 코리아스터디 그룹CSGK 대표단을 접견하며 CSGK 공동의장인 아미 베라 의원과 인사하고 있다. 2021. 7. 9 jjaeck9yna. co. kr서울연합뉴스 임형섭 기자  문재인 대통령은 9일 청와대에서 미국 의회 코리아스터디그룹CSGK 대표단을 접견했다.\\n코리아스터디그룹은 2018년 출범한 미 의회 내 한미관계 연구 모임으로, 현재 상하원 의원 50여명이 참여하고 있다.\\n이날 접견에는 공동 의장인 아미 베라 의원과 영 김 의원을 포함한 8명의 민주당공화당 하원의원들과 토마스 번 코리아소사이어티 회장, 사빈 슐라이트 전미 의원협회FMC 최고운영책임자 등이 함께했다.\\n문 대통령은 \"한미동맹은 한반도는 물론 세계 평화와 번영의 핵심축린치핀이라는 인식을 한미 양국이 공유하고 있다\"며 \"양국 정부는 바이든 행정부 출범 이후 역대 어느 정부 때보다도 긴밀히 소통하면서 강력한 관계를 이어가고 있고, 5월 한미 정상회담을 통해 최상의 결실을 봤다\"고 평가했다.\\n이어 \"방미 기간 중 조 바이든 미국 대통령과 오래 함께하면서 신뢰와 유대를 공고히 한 것은 큰 성과\"라며 \"국정철학과 신념에서 유사점이 많아 긴밀한 공조를 기대한다\"고 했다.\\n문 대통령은 또 미국이 제공한 약 100만회 분의 얀센 백신이 18시간 만에 예약이 완료되는 등 큰 호응을 얻었다고 소개하며 감사를 표했다.\\n이에 다이애나 드겟 의원은 \"한국은 글로벌 백신 허브국가로 더 많은 백신을 세계에 공급할 수 있을 것\"이라고 했다.\\n문 대통령은 지난 정상회담에서 한미 미사일지침이 종료된 것을 언급하며 \"양국의 우주산업 협력 기회를 확대하는 계기가 될 것\"이라고 평가했다.\\n탈북민 보호에 대한 논의도 있었다.\\n한국계인 영 김 의원이 \"중국에 구금된 두 탈북 가족에 관심을 기울여 달라. 한국 정부가 중국에 접촉해 이들이 남한으로 오도록 도와달라\"고 호소한 데 따른 것으로, 문 대통령은 \"한국에는 3만4천여명의 탈북민이 있으며 정부는 이들의 한국사회 정착을 지원하고 있다\"고 답했다.\\n한편 문 대통령은 전문직 비자 쿼터 문제에 대한 협조를 당부했다.\\n문 대통령은 \"한미 간 첨단기술 협력 강화를 위해 전문인력의 교류가 중요한데, 현재 미국 내 한국 유학생 5만명 규모에 비춰볼 때 전문직 비자 취득은 매년 1천2천 건으로 너무 부족하다\"며 \"미 의회에 발의된 한국인 전문직 비자 쿼터 확보 법안에 대한 관심과 지원을 당부한다\"고 말했다.\\n문 대통령은 끝으로 \"의원단이 내일 판문점 공동경비구역JSA과 비무장지대DMZ에 가보면 한국 국민에게 평화가 얼마나 절실하고 중요한지 느낄 것\"이라면서 \"한반도 평화에 지속적인 지원을 당부한다\"고 했다. 미 의회 코리아스터디 그룹 대표단 접견하는 문 대통령서울연합뉴스 최재구 기자  문재인 대통령이 9일 청와대 본관에서 미 의회 코리아스터디 그룹CSGK 대표단을 접견, 발언하고 있다. jjaeck9yna. co. kr\\nyna. co. kr',\n",
       " '오류를 우회하기 위한 함수 추가\\n \\n\"코로나19 방역 모범국이었지만 백신접종 늦어\"사회적 거리두기연합뉴스TV 제공. 재판매 및 DB금지서울연합뉴스 신유리 김지연 기자  한국 정부가 9일 수도권의 사회적 거리두기 단계를 4단계로 격상하자 주요 외신도 이를 긴급히 타전했다.\\n로이터 통신은 이날 8시 33분께 연합뉴스 보도를 인용해 \"7월 12일부터 서울에서 코로나19신종 코로나바이러스 감염증 규제가 최고 수준으로 올라간다\"고 서울발 긴급 기사를 내보냈다.\\n로이터는 이어 후속 기사에서 김부겸 국무총리의 발표를 상세히 소개하면서 이번 발표가 전날인 8일 하루 확진자가 사상 최대를 나타낸 이후 나온 것이라고 설명했다.\\n블룸버그 통신도 연합뉴스 보도를 인용해 서울을 포함한 수도권의 4단계 격상 소식을 기사화했다.\\n블룸버그는 \"서울에 가장 강력한 사회적 거리두기 규제가 내려진다\"면서 오후 6시 이후 3명 이상 사적 모임 금지 등이 적용될 것이라고 소개했다.\\n미국 방송 CNN은 \\'델타 변이 증가세 속 서울과 시드니 규제 강화\\' 제하 기사로 한국과 호주 상황을 묶어 소개하면서 \"한국 거리두기 시스템에서 4단계는 가장 높은 것\"이라고 전했다.\\nCNN은 이번 조치에 따른 수도권 규제 내용을 상세히 소개하는 한편, 수도권 학교가 전면 원격수업으로 전환한다는 유은혜 부총리 겸 교육부 장관의 발표도 전했다.\\n영국 일간 가디언은 \"한국이 수도권에서 코로나19 규제를 이제까지 가장 높은 수준으로 올릴 예정\"이라며 현 상황을 \"방역 최대 위기\"로 경고한 김 총리의 발언을 전했다.\\n가디언은 \"한국은 이전에는 대중이 대체로 사회적 거리두기 등 규정을 잘 따르면서 팬데믹과 싸우는 법의 모델로 여겨졌으나 공급 부족 탓에 백신 접종 시작은 늦었다\"고도 전했다.\\n앞서 김 총리는 이날 정부서울청사에서 주재한 코로나19 중앙재난안전대책본부 회의에서 \"코로나19 하루 확진자가 연일 최고치를 경신하는 등 방역이 최대 위기에 처했다\"며 이 같은 방침을 밝혔다.\\n김 총리는 \"사적모임은 오늘부터라도 자제해주실 것을 요청드린다\"고 말했다.\\nyna. co. kr',\n",
       " '오류를 우회하기 위한 함수 추가\\n \\n김영환, 만찬회동 내용 공개대선레이스 완주 의지 해석與 논문 공격엔 鄭秋도 검증야권 대선주자인 윤석열 전 검찰총장이 안철수 국민의당 대표에 대해 2012년 대선에서 완주했어야 한다고 말한 것으로 알려져 자신의 완주 의지를 내비친 것 아니냐는 해석이 나온다. 윤 전 총장과 전날 만찬 회동을 한 김영환 전 의원은 9일 SNS를 통해 윤 전 총장이 안 대표가 2012년 대선에서 낙선을 각오하고 완주했어야 했던 것이 아닌가라고 말했다고 전했다. 안 대표는 2012년 당시 민주통합당 문재인 후보와 단일화 협상 끝에 불출마를 결정했다. 윤 전 총장의 언급을 두고 이번 대선레이스를 완주하겠다는 의중이 담긴 것이란 분석이 제기됐다. 최근 윤 전 총장은 안 대표를 만나 정치정책적 협력을 이어가기로 했다. 윤 전 총장은 김종인 전 국민의힘 비상대책위원장과의 회동 일정과 관련해선 먼저 뵀어야 하는 데 여러 사정이 겹쳤다면서 곧 찾아뵙겠다고 말했다고 한다. 이어 문재인 정부의 실정 가운데 중요한 것은 민정의 실패라며 청와대의 민정수석실이 제대로 기능하지 못한다고 지적했다고 김 전 의원은 덧붙였다. 윤 전 총장은 부인 김건희씨의 박사학위 논문 부정 의혹에 대한 여권 공세에 정세균 추미애 등 더불어민주당 대선 경선 후보의 논문 표절 의혹에 대한 해명을 공개 요구하며 맞받아쳤다. 윤 전 총장 대변인실은 이날 기자단 알림에서 김씨 결혼 전 논문 문제는 해당 대학 조사라는 정해진 절차를 통해 규명되고 그 결과에 따를 문제라며 여당은 자당 대선 후보들 본인의 논문 표절에 대해 조치를 취해야 한다고 밝혔다. 앞서 국민대는 연구윤리위원회를 꾸리고 김씨의 2008년 아바타를 이용한 운세 콘텐츠 개발 연구:애니타 개발과 시장적용을 중심으로 논문 등 부정 의혹에 대한 조사에 착수했다.',\n",
       " '오류를 우회하기 위한 함수 추가\\n \\n이데일리 김민정 기자 더불어민주당 최민희 전 의원이 윤석열 전 검찰총장의 부인 김건희개명 전 김명신씨의 박사학위 논물을 둘러싼 부정의혹에 대해 윤로남불 대단하다고 비꼬았다. 최 전 의원은 8일 자신의 페이스북에 김씨는 윤 전 총장 아내라서 특별한가며 이같이 말했다.사진최민희 전 의원 페이스북앞서 전날 국민대는 김씨의 박사학위 논문을 둘러싼 부정 의혹 등에 대해 연구윤리위원회를 꾸려 예비조사를 시작했다. 국민대 연구윤리위는 예비조사를 통해 김씨의 이들 논문에 문제가 있었는지 등을 파악하고, 조사 대상을 특정할지 결정할 예정이다. 문제가 있으면 본조사위를 다시 꾸려 부정 여부에 대한 최종 판단을 내린다. 김씨는 2008년 아바타를 이용한 운세 콘텐츠 개발 연구: 애니타 개발과 시장적용을 중심으로라는 제목의 논문 등으로 국민대 테크노디자인전문대학원에서 박사 학위를 받았다. 그러나 이 논문을 두고 일각에서는 상당 부분이 포털사이트 검색 결과와 일치한다며 표절 의혹이 제기됐다. 또 논문에 앞서 개발돼 특허 등록까지 마친 애니타의 저작권을 위반했다는 주장도 나왔다.사진연합뉴스이에 대해 윤 전 총장은 어떤 단체에서 이의를 제기해 대학에서 이뤄지는 문제라며 대학이 자율적으로 학술적인 판단을 해서 진행되지 않겠냐고 말을 아꼈다. 하지만 최 전 의원은 조국 전 법무부 장관의 딸 조민 씨는 공주대에서의 인턴 등 활동, 공주대가 문제없다는데도 기소한 것으로 기억합니다라며 윤 후보 아내라서 김씨는 특별하십니까?라고 비난의 목소리를 높였다. 이는 2019년 문제없다는 공주대 판단에도 검찰이 조 전 장관의 딸을 수사한 사실을 떠올리며 비한한 것으로 보인다.',\n",
       " '오류를 우회하기 위한 함수 추가\\n \\n국정원 산하 국가안보전략연구원 간담회중국 백신 불신, 러시아엔 무상 지원 요구국가정보원 산하 국가안보전략연구원이 9일 서울 종로구 포시즌스호텔에서 북한 정세 브리핑: 쟁점과 포커스를 주제로 기자간담회를 하고 있다. 이제훈 기자북한은 코백스COVAX를 통해 도입할 예정이던 아스트라제네카AZ 백신의 부작용을 우려해 수용을 거부하며, 다른 백신으로의 대체 가능성을 타진하고 있다고 9일 국가안보전략연구원전략연이 밝혔다. 전략연은 국가정보원 산하 연구기관이다. 전략연은 이날 서울 종로구 포시즌스호텔에서 북한 정세를 주제로 한 기자간담회에서 북한은 해외 백신 도입을 추진 중이나 현재 확보량은 없는 것으로 관측한다며 이렇게 밝혔다. 코백스는 백신 공동 구매배분을 위한 국제 협력 프로젝트로 지난 3월 북한에 백신 199만2천회 분량을 배정하고 이 가운데 백신 170만4천회분을 지난 5월까지 전달할 계획이라고 밝혔으나, 지금까지 공급이 이뤄지지 않았다. 이와 관련해 통일부는 북한 당국과 코백스 사이에 계속 협의가 진행 중이라며 코백스의 백신 공급에 필요한 서류가 모두 제출되지 않았고, 백신 공급접종 절차 협의도 마무리되지 않은 것으로 알고 있다고 밝혀왔다. 전략연의 이날 발표는, 북한 당국과 코백스 사이의 협의가 길어지는 데에는 단순 절차 문제뿐만 아니라 백신 종류를 둘러싼 이견도 작용하고 있음을 방증한다. 전략연은 북한은 중국산 백신은 효능에 대한 불신으로 도입을 주저하고 있으며, 러시아 백신은 긍정적으로 평가하나 무상지원을 요구하고 있다고 밝혔다. 북이 러시아 백신은 원하지만 북은 무상지원, 러시아 쪽은 유상 지원 방침이라 성사되지 않고 있다는 얘기다. 전략연은 지난 3월말부터 외교관과 무역 일꾼 등 국외 주재 북한 사람들이 중국러시아 등 각국에서 알아서 백신을 맞는 것은 북한 당국이 문제 삼지 않고 허용해 접종이 이뤄지는 것으로 안다고 전했다. 이에 앞서 국가정보원은 8일 국회 정보위원회 전체회의에서 북한 내 대규모 코로나 발병 징후나 백신 반입은 파악이 안 된다고 보고했다. 정보위 야당 간사인 하태경 국민의힘 의원은 국정원은 현재 북에 코로나19 확진자도 없고 백신도 없다고 보고했다고 전했다. 전략연은 북한의 식량 사정이 올해 수요량550만톤 대비 100만톤 넘게 부족한 상황이라며, 식량 사정이 심각한 수준이라고 밝혔다. 전략연은 지난해 북한의 곡물 생산량400만톤이 전년 대비 5가량 감소한데다 지난해 10월부터 코로나19 방역에 따른 국경 폐쇄로 외부로부터의 도입이 중단됐다며 이렇게 전했다. 전략연은 코로나19로 인한 무역 중단, 조업 금지 등의 영향으로 과거에 비해 국경지역과 해안지역에서 절량 세대식량이 떨어진 가구가 많이 발생하고 있다며 예년보다 이른 1월말부터 식량이 떨어진 가구가 발생해 감자옥수수가 수확되는 9월까지가 고비라고 짚었다.',\n",
       " '오류를 우회하기 위한 함수 추가\\n \\n열린민주당 김의겸 의원이 8일 오후 서울 여의도 국회 본청 계단 앞에서 윤석열 전 검찰총장의 부인 김건희 씨가 작성한 논문 관련 기자회견을 하고 있다.\\n연합뉴스\\n김의겸 열린민주당 의원은 9일 야권 유력 대선주자인 윤석열 전 검찰총장의 부인 김건희 씨의 박사 논문 의혹과 관련,\"김씨가 콘텐츠진흥원을 통해 9000만원의 지원을 받아 관상, 궁합 보는 앱애플리케이션을 만들었다. 사업계획서를 만들었는데 그 내용을 고스란히 박사 논문으로 만든 것\"이라며 \"한마디로 하면 허접스럽다\"고 직격했다. 김 의원은 이날 TBS 라디오 \\'김어준의 뉴스공장\\'과의 인터뷰에서 이 같이 말하며 \"박사 논문은 2008년이고 정부 지원을 받은 것은 2006년 즈음인데 사실은 2004년도에 관상 보는 앱 특허를 홍 아무개 씨라는 분이 만들어놓은 것\"이라고 주장했다. 그러면서 \"결국 김건희 씨는 남이 만들어놓은 특허에다 정부 지원으로 앱을 만들고, 그 사업계획서를 단순히 형태만 바꿔서 박사 논문을 만든 것\"이라고 꼬집었다. 한편, 국민대는 김씨의 박사학위 논문 등에 부정이 있었는지에 대해 조사에 착수했다. 국민대는 김씨의 박사학위 논문 연구 부정 의혹 등에 대해 연구윤리위원회를 꾸려 김씨의 2008년 \\'아바타를 이용한 운세 콘텐츠 개발 연구:\\'애니타\\' 개발과 시장적용을 중심으로\\' 논문 등에 문제가 있었는지를 살펴보고 있다. 김씨는 이 논문으로 테크노디자인전문대학원에서 박사학위를 받았다.',\n",
       " '오류를 우회하기 위한 함수 추가\\n \\n코로나19 신규 확진자 수가 하루 1316명7월 8일 기준으로 역대 최대를 기록하며 우려하던 4차 유행이 시작됐다. 코로나19 유행 이후 처음으로 야간 외출 제한 조치가 시행되는 등 강력한 사적 모임 제한 조치가 이뤄지면서 증시에서는 언택트주가 다시 강세를 보이고 있다. 언택트 대장주 네이버와 카카오에 매수세가 몰리는 한편 사회적 거리두기 강화에 대한 우려로 콘텐츠와 포장 관련 종목도 크게 올랐다. 백신 접종 본격화로 주춤했던 진단키트주도 다시 상승세에 불이 붙었다. 델타 변이 바이러스 등장으로 진단키트 수요가 내년 하반기까지 꾸준히 이어질 것이라는 전망이다. 네이버와 카카오는 지난해 언택트 수혜주로 꼽히며 가파른 오름세를 보였으나 올해 45월 글로벌 백신 접종이 본격화되면서 상승세가 주춤했다. 하지만 최근 델타 바이러스 확산과 사회적 거리두기 강화에 따라 언택트 수요가 늘어날 것이라는 기대감에 다시 고공행진을 이어가는 중이다. 지난 6월 이후 네이버와 카카오의 주가 상승률은 각각 16. 4, 32. 5에 달한다. 대표 콘텐츠 관련 업종인 게임주도 큰 폭으로 올랐다. 카카오게임즈는 신작 오딘의 흥행에 힘입어 7월에만 주가가 무려 38. 9 급등했다. 펄어비스도 검은사막 모바일이 지난 6월 29일 중국 정부의 판호를 발급받는 데 성공하면서 주가가 상승세를 탔다. 다만 엔씨소프트와 넷마블 주가는 지지부진한 움직임을 보이고 있어 종목별로 차별화된 모습이다. 코로나19 테마주로 분류됐던 포장 관련 종목도 일제히 상승세다. 재택근무 증가로 택배와 배달 수요가 늘어나면서 자연스럽게 수혜를 입을 것이라는 전망에 힘을 받았다. 코로나19 신규 확진자 수가 1000명을 돌파한 지난 7월 7일 태림포장은 10. 39, 대영포장은 상한가29. 98를 기록했다. 진단키트 대장주 씨젠도 다시 상승세에 발동을 걸었다. 7월 8일 주가가 9만500원으로 올 들어 가장 낮은 가격을 기록한 지난 6월 10일5만9700원과 비교하면 한 달 새 50 이상 상승했다. 랩지노믹스도 4단계 거리두기가 결정된 7월 8일 주가가 20 넘게 급등하며 진단키트주에 대한 뜨거운 관심을 보여줬다. 이 밖에 바이오니아21. 9, 수젠택10, 제놀루션13. 6 등 이날 10 이상 큰 폭으로 주가가 오른 진단키트주가 많다. 반면 백신 보급과 함께 회복세가 뚜렷했던 여행주, 항공주, 면세점주 등은 다시 약세로 돌아섰다. 최유준 신한금융투자 애널리스트는 4차 유행과 함께 코로나19 확산 테마주가 강세를 보이는 반면 금융주와 경기민감주를 포함한 대부분의 업종은 약세를 보였다. 앞으로 사회적 거리두기가 강화되면 재택 시간 증가로 포장재와 원격 교육 등의 종목도 강세를 보일 수 있다고 전망했다. 류지민 기자',\n",
       " '오류를 우회하기 위한 함수 추가\\n \\n이베이코리아 인수로 온라인 거래액 24조원 달성물류에 1조원 투자하며 최강자 노려스페셜 리포트 신세계그룹이 온라인 유통 시장의 강자로 우뚝 서게 됐다. 정용진 신세계 부회장의 주도 아래 공격적인 인수합병MA을 단행한 결과다. 특히 올해 상반기 MA 시장의 최대어로 꼽혔던 이베이코리아를 손에 넣는데 성공하며 온라인 유통 거인으로 거듭나는 계기를 마련했다. 신세계는 단숨에 쿠팡을 밀어내고 이커머스 시장점유율 2위로 올라섰다. 여기서 끝이 아니다. 향후에도 공격적인 투자를 이어 갈 것이라는 방침을 밝히며 추가 MA 가능성을 예고했다. 이커머스 왕좌를 향한 신세계의 본격 행보에 막이 올랐다. 지난 6월 24일 유통업계의 눈과 귀는 온통 신세계에 쏠렸다. 이날 신세계는 이마트를 앞세워 이베이코리아 인수를 공식화했다. 약 3조4000억원을 들여 이베이코리아의 지분 80를 인수하기로 결정했다. 앞서 4월에는 온라인 패션몰인 W컨셉을 약 2700억원에 인수하기도 했다. MA는 한 기업의 미래 사업의 방향성을 엿볼 수 있는 이정표다. 최근 신세계의 MA 시장 행보를 봐도 신세계의 향후 사업 전략이 뚜렷이 나타난다. 신세계가 그리는 미래 모습은 바로 이커머스 시장을 장악하는 것이다. 올해 상반기에만 무려 4조원에 가까운 돈을 투입해 온라인에 특화된 기업들을 인수한 이유다. 이커머스 변방에서 중심으로신세계가 온라인에 공을 들이는 이유는 간명하다. 이미 쇼핑의 무게 추가 온라인으로 기울었기 때문이다. 통계청이 발표하는 온라인 쇼핑 동향을 살펴보자. 2018년 온라인 쇼핑 거래액은 처음 100조원을 넘어섰다. 당시에도 예상보다 빠르게 이 시장이 커진다는 평가가 주를 이뤘는데 최근에는 성장성이 더욱 가팔라졌다. 신종 코로나바이러스 감염증코로나19의 확산이 촉매제 역할을 했다. 비대면 소비 붐을 일으키며 지난해 온라인 쇼핑 거래액은 161조원을 기록했다. 그간의 추세를 감안하면 올해 200조원 돌파가 무난할 것이라는 관측도 나온다. 신세계도 온라인 시장을 손 놓고 바라보기만 한 것은 아니었다. 신세계는 2018년부터 온라인 시장 공략에 박차를 가하기 시작했다. 당시 정용진 부회장은 그룹의 미래가 온라인에 있다고 강조하며 온라인 쇼핑을 전담하는 신설 법인 SSG닷컴을 설립했다. 1조원의 투자를 유치해 온라인 전용 물류센터 네오를 만들며 온라인 전환에 총력전을 기울여 나갔다. 결과는 성공적이라고 평가할 만했다. 짧은 시간 안에 SSG닷컴은 빠르게 몸집을 불려 나갔다. SSG닷컴은 지난해 거래액 4조원을 올렸다. 하지만 경쟁사들과의 격차는 갈수록 크게 벌어져 문제였다. 쿠팡의 거래액 추이를 봐도 한눈에 알 수 있다. 2018년 1조원에 불과했던 거래액은 지난해 무려 20조원으로 불어났다. SSG닷컴과 비교가 안 될 만큼 가파른 성장 속도가 이어진 셈이다. 더욱이 올해 초 쿠팡은 미국 뉴욕 증시 상장에 성공했다. 이 과정에서 5조원 정도의 실탄을 확보하며 계속해 물류 인프라 확충에 더욱 공격적으로 나서겠다고 선포까지 했다. 이대로 가다간 시간이 흐를 수록 이커머스 시장에서 쿠팡과 신세계의 격차가 벌어지는 것은 불 보듯 뻔한 일이었다. 비록 신세계가 네이버와 전략적 제휴를 통해 이커머스 동맹을 맺긴 했지만 이런 방식으로는 쿠팡처럼 자사 플랫폼의 힘을 키우기에는 역부족이라는 평가가 뒤따랐다. 그렇게 신세계는 점차 이커머스 시장의 변방으로 밀려나는 듯 보였다. 최근에서야 비로소 반등의 계기를 마련하게 됐다. 때마침 시장에 매물로 나온 이베이코리아를 손에 쥐게 되면서 단숨에 이커머스 시장의 중심으로 자리 이동했다. 이베이코리아가 운영하는 G마켓과 옥션 등을 합친 신세계그룹 전체의 온라인 쇼핑 거래액은 약 24조원에 달한다. 업계 2위로 이커머스 시장점유율을 끌어올렸다. 네이버쿠팡 등과 경쟁할 수 있는 전력을 마침내 갖추게 된 셈이다. 이베이코리아 인수에 그룹 명운 걸었다신세계는 이베이코리아 인수를 통해 사실상 그룹의 명운을 건 온라인 승부수를 던졌다는 평가를 받는다. 인수 금액이 이를 잘 말해 준다. 신세계가 이베이코리아 인수에 써낸 3조4000억원은 그룹 MA 역사상 가장 큰 금액이다. 이전까지는 2006년 한국 시장에서 고전하던 월마트를 인수했을 당시 투입했던 7400억원이 최고가였다. 신세계는 이베이 인수를 계기로 그룹의 사업 구조를 온라인과 디지털로 완전히 전환하겠다는 계획을 내비쳤다. 목표는 이커머스 1위 등극이다. 향후 4년간 1조원 이상을 온라인 전용 물류센터 확장에 집중 투자하고 이마트 등 오프라인 점포들도 하나둘 역시 온라인 물류를 위한 거점으로 변화시켜 그룹의 물류 경쟁력을 극대화해 목표를 이루겠다는 큰 그림을 그리고 있다. 물론 장밋빛 전망만 있는 것은 아니다. 항상 대형 MA가 마무리되면 꼬리표처럼 따라붙은 것이 바로 승자의 저주인데 신세계도 이 논란을 피해 가지 못하고 있다. 이런 주장이 나오게 된 배경은 이베의코리아의 성장성에 대한 의문 때문이다. 단순히 숫자만 나열해 놓고 보면 별 문제없어 보이지만 속살을 찬찬히 살펴보면 얘기가 달라진다. 이베이코리아의 경우 이커머스 업계에서 유일하게 흑자를 내고 있지만 지지부진한 성장성을 보여왔다. 이번에 미국 이베이 본사가 매각을 결정한 것도 이런 이유 때문이라는 분석이다. 우선 이베이코리아의 작년 기준 거래액은 20조원으로 이커머스 시장 3위였다. 실적도 나쁘지 않다. 지난해 매출과 영업이익은 전년 대비 각각 19, 38 증가한 1조3000억원, 850억원을 기록했다. 2001년과 2009년 각각 인수한 옥션과 G마켓을 앞세워 이커머스 기업 중에는 유일하게 영업이익 흑자를 내고 있다는 강점도 갖고 있다. 하지만 거래액 증가율을 보면 얘기가 달라진다. 한때 매년 10 넘게 증가했던 거래액 증가율이 지난해에는 한 자릿수약 5로 추락했다. 한 업계 관계자는 무엇보다 작년에는 코로나19 사태로 온라인 쇼핑몰들이 큰 수혜를 봤음에도 불구하고 거래액 증가율이 한 자릿수를 기록한 것은 역성장한 것과\\n마찬가지라며 빠른 배송 트렌드에 적응하지 못한 이베이코리아는 사실상 완전히 쿠팡과 네이버에 밀린 형국이다. 더 이상 승산이 없다고 판단했기 때문에 미국 이베이 본사도 매각을 결정한 것 아니겠느냐고 말했다. 이런 측면에서 이베이코리아를 둘러싼 인수 가격 거품 논란이 나온다. 성장성이 떨어지는 가운데 물류센터와 같은 유형 자산마저 사실상 전무한 상태인 이베이코리아를 신세계가 지나치게 비싼 값에 인수했다는 얘기다. 현재 이베이코리아가 보유한 물류센터는 단 세 개에 불과하다. 박종대 하나금융투자 애널리스트는 이렇게 말했다.쿠팡이 현재 약 100개의 물류센터를 가동 중인 것으로 알려졌는데 이런 쿠팡과 경쟁하기 위해선 막대한 물류 인프라 투자뿐만 아니라 대대적인 프로모션도 함께 이뤄져야 한다. 게다가 쿠팡이 중장기적으로 5조원을 투자한다고 밝힌 만큼 신세계도 최소 2조3조원 정도를 물류에 투자해야 한다. 결과는 예단하기 어렵지만 상당히 힘든 싸움이 될 것이고 이 과정에서 실적이 악화될 수도 있다.승자의 저주 피해 갈까? 하지만 대대적인 변화에 나선 신세계를 향한 기대의 시선도 적지 않다. 이진협 유안타증권 애널리스트는 그동안 이베이코리아가 물류 인프라에 투자하지 못하고 결국 빠른 배송 트렌드에 뒤처지게 된 것은 본사와의 이해관계 때문이라고 분석했다. 실제로 최근 5년 동안 이베이코리아에서 미국 이베이 본사로 회수된 자금만 약 1조3000억원으로 추정된다. 사실상 물류에 투자할 수 있는 여력이 없었다. 이 애널리트는 신세계가 주인이 되면서 앞으로 상황이 급변할 것이라고 내다봤다. 신세계 역시 인수 시너지를 톡톡히 누릴 것으로 예상했다. 신세계 SSG닷컴은 그동안 쿠팡처럼 빠르게 온라인 전용 물류 인프라를 확충하지 못했는데 여기에는 다 이유가 있었다는 분석이다. 바로 공장 가동률 때문이다. 이 애널리스트는 시장에 후발 주자로 진입해 거래액이 많지 않은 상황에서 무턱대고 대규모 온라인 전용 물류센터를 여러 곳에 짓게 되면 오히려 비효율성만 늘어날 뿐이라며 20조원의 거래액을 보유한 이베이코리아 인수로 이런 부분을 걱정할 필요가 사실상 없어졌다. 다소 시간이 걸릴 수 있겠지만 앞으로 신세계 역시 물류 인프라 확충에 박차를 가할 것이고 점유율도 상승하게 될 것이라고 내다봤다. 임수연 하이투자증권 애널리스트도 비슷한 전망을 내놓았다. 식품 배송에 강점을 갖고 있는 신세계 SSG닷컴과 공산품에 강점을 가진 이베이코리아가 장기적으로 시너지를 낼 것이라는 견해를 내비쳤다. 다만 그는 현재 SSG닷컴의 온라인 전용 물류센터 네오의 가동률이 굉장히 높다. 90 이상 나오는 것으로 추정돼 단기적으로는 네오를 활용한 이베이코리아의 빠른 배송을 진행하기가쉽지 않은 상황이라며 앞으로 신규 물류센터와 이마트 점포를 활용한 PP센터 등이 점차 늘어나는 장기적인 관점에서 봤을때 시너지가 나타나면서 점유율이 상승할 것이라고 본다고 말했다. 신세계 역시 어떻게 하면 이베이코리아를 활용한 시너지를 극대화할 수 있을지에 대한 고민이 내부에서 한창 진행 중이다. 아직 완전히 이베이코리아 인수가 완료되지 않은 만큼 시간을 갖고 신중하게 구상 중이다. 경기도 김포에 위치한 SSG닷컴의 온라인 전용 물류센터 네오003. 이베이코리아 인수를 계기로 신세계는 물류 인프라 확충을 위해 약 1조원을 투입할 예정이다. 신세계의 이베이코리아 인수 완료 시점은 내년 초가 될 것으로 보인다. 통상적으로 인수 계약부터 마무리까지 약 6개월 정도가 걸리기 때문이다. 이베이코리아 인수 주체인 이마트 관계자는 이 기간 동안 시장에서의 영향력을 키워 내기 위한 다양한 추가적인 방안들을 고민해 나갈 것이라고 말했다. 이 과정에서 필요하다면 새로운 MA를 시도할 가능성도 열어 놓아 주목된다. 신세계 관계자는 온라인 채널 추가 확장과 온오프라인 시너지를 위한 디지털 기술을 확보하는 데 그룹의 역량과 자산을 집중해 나갈 것이라고 강조했다. 돋보기롯데 vs 신세계, 과연 누구 선택이 현명했을까? 정용진 신세계 부회장은 이베이코리아 인수를 발표한 뒤 얼마가 아니라 얼마짜리로 만들 수 있느냐가 의사 결정의 기준이라고 강조했다. 이베이코리아 인수전은 롯데와 신세계 유통업계 라이벌 간의 경쟁으로도 관심을 모았다. 결국 신세계가 인수하기로 결정됐지만 업계 일각에서는 롯데와 신세계가 써낸 인수 금액의 차이를 예로 들며 신세계가 베팅에 실패한 것 아니냐는 얘기도 나와 주목된다. 롯데는 이베이코리아 인수를 위해 마지막까지 신세계와 경합했다. 더 높은 금액을 써낸 신세계가 결국 최종 인수자가 됐다. 롯데가 인수 금액으로 정확하게 얼마를 책정했는지 확인되지 않았지만 대략 2조5000억원대를 작성한 것으로 추정된다. 신세계가 써낸 금액약 3조4000억원과 비교하면 최대 1조원에 가까운 차이가 발생하는 것이다. 이를 두고 마지막까지 인수를 놓고 경합한 기업끼리 써낸 금액 차이가 이 정도로 난다는 것은 분명 문제가 있다는 지적도 나온다. 한 유통업계 관계자는 그간의 행보를 보면 롯데는 삼성그룹의 화학 계열사 인수 등 신세계보다 훨씬 굵직한 인수합병MA을 많이 성사시켜 경험이 많다며 이런 롯데와 써낸 금액 차이가 크다는 점에 비춰 볼 때 신세계의 이베이코리아 베팅이 성공적이었다고 결론 짓기 어렵다고 말했다. 신세계 역시 이런 논란들에 대해 신중히 고민하면서 당초 예정됐던 것보다 이베이코리아 인수 발표가 늦어졌다는 해석도 제기된다. 실제로 정용진 신세계 부회장은 이베이코리아 인수 직후 이를 의식한 듯 얼마가 아니라 얼마짜리로 만들 수 있느냐가 의사 결정의 기준이라고 밝히기도 했다. 두 기업 중 어느 곳이 현명한 선택을 했는지 여부는 앞으로 뚜껑을 열어봐야 알 수 있을 것이다.',\n",
       " \"\\n오류를 우회하기 위한 함수 추가\\n \\n 경제현장 오늘 '집중진단'  김종석 전 의원,\\xa0채이배 전 의원거리 두기 4단계 시행으로 소상공인들은 사상 초유의 위기에 내몰렸습니다. 소비 진작이 핵심인 2차 추경안도 전면 수정이 불가피해졌죠? 이런 와중에 현대차 노조는 성과급 인상과 정년연장을 요구하며 파업 초읽기 돌입했습니다. 불법 시위를 강행한 민노총은 감염 확산 책임을 떠넘기지 말라고 반발하고 있는데요. 경제계가 마주한 난관들과 해법 토론해보겠습니다. 금요경제토론 빛내 주시는 두 분 채이배 전 의원, 김종석 전 의원 나오셨습니다. Q. 비난의 중심에 선 노조, 민노총뿐인가요? 현대차, GM 등 주요 제조기업 노조들의 파업 가능성 대두되고 있습니다. 이들은 왜 파업을 선택하려 하는 건가요? Q. 현대차의 노동 환경, 타사와 비교한다면 어떤가요? 현대차는 파업으로 17조가 넘는 생산 차질을 감수했는데, 그동안 노조가 감수해온 피해는 무엇인가요? Q. 이 가운데 불법 집회를 강행한 민노총에 대한 여론의 분노도 지속적 입니다. 시위도 모자라 방역지침 훈수까지하고 있다고요? 민노총 책임론 타당성 평가 부탁드립니다.\\xa0Q. 지난 6일부터 개정된 노조 3법도 시행되었습니다. 경제회복과 상생을 위해 노동정책, 노사에 조언 부탁드립니다.\\xa0자세한 내용은 동영상을 시청하시기 바랍니다. 관련기사 이어보기집중진단\\n6시 이후 3인이상 집합금지소비 촉진 추경 스텝 꼬였다https:biz. sbs. co. kr20000022465\",\n",
       " '오류를 우회하기 위한 함수 추가\\n \\n도쿄도 인근 경기장 경기 \\'무관중\\'으로도쿄올림픽 경기장 대부분이 수도권에 위치 국제올림픽위원회IOC \"선수들과 관중들에게 깊은 유감\"지난 5월30일 도쿄올림픽 주경기장 인근 일본올림픽위원회JOC 건물 앞에 설치된 올림픽 상징 기념비가 길게 그림자를 드리우고 있다.연합뉴스오는 23일 개막하는 일본 도쿄올림픽에서 도쿄 등 수도권에 위치한 경기장에는 관중이 입장할 수 없게 됐다. 이는 코로나19 확산세가 재차 거세지면서 도쿄도에 4차\\xa0긴급사태가 발령된데에 따른 결정이다. 일본 정부와 도쿄도, 도쿄올림픽 조직위원회, 국제올림픽위원회IOC, 국제패럴림픽위원회IPC 등은 지난 8일 5자 회의를 열고 일본 도쿄도 인근에서 진행되는 모든 경기를 \\'무관중\\'으로 진행할 것을 결정했다고 밝혔다. IOC는 성명에서 \"긴급사태에 대응해 보다 엄격한 조치를 결정했다\"며 올림픽 기간 내에\\xa0도쿄의 모든 경기장에서 관중을 금지하기로 했다고 밝혔다. 반면 도쿄 이외 지역에 위치한 경기장의 경우 지자체에서 각 지역의 의견을 수렴해 관객 수용 여부를 결정한다. 도쿄 이외 지역 경기장들은\\xa0유관중 경기가 치뤄질\\xa0가능성이\\xa0생긴\\xa0셈이지만, 도쿄올림픽 42개 경기장 중 대부분이 도쿄 일대 수도권에 위치해 있어 사실상 \\'무관중 올림픽\\'이 된 것\\xa0아니냐는 분석이 나온다. IOC 측은 코로나19 확산세가 진정 기미를 보일 경우 5자 협의를 즉각 다시 소집해 관중 수용 규모를 재검토하겠다는 단서를 달았다. 이어\\xa0\"IOC와 IPC는 모두를 위한 안전한 대회를 위해 이번 결정을 존중하고 지지한다\"며 \"이런 조치와 관련해 선수들과 관중들에게 깊은 유감을 전한다\"고 밝혔다. 앞서 일본 정부와 IOC 등은 지난달 경기장 수용 정원의 50 내에서 최대 1만 명까지 내국인 관중을 받겠다는 방침을 발표해 많은 질타를 받은 바 있다.',\n",
       " '오류를 우회하기 위한 함수 추가\\n \\n내년도 최저임금을 두고 사측과 노측이 간극을 좁히긴 했지만 여전히 입장차가 크다. 더팩트 DB최저임금 노사 간극 \\'20801700원\\'민주노총 집단 퇴장도 노사가 내년도 최저임금을 얼마로 정할 지를 두고 열린 최저임금위원회 전원회의에서 첫 수정안으로 노측은 시급 1만440원, 사측은 시급 8740원을 제출했다. 간격을 좁혔지만 여전히 입장차가 큰 상황이다. 9일 업계에 따르면 최저임금위원회는 8일 정부세종청사에서 제8차 전원회의를 열고 내년도 최저임금 심의를 이어갔다. 근로자위원들은 내년도 최저임금 최초 요구안시간당 1만800원에서 400원을 낮춘 1만440원을 제출했다. 이는 올해 최저임금보다 1720원 높다. 반면, 사용자위원들은 최초 요구안8720원의 수정안으로 20원 인상된 8740원을 내놨다. 사실상 최저임금 동결 입장을 고수한 셈이다. 이로써 양측 간 격차는 최초 요구안2080원보다 한 발 나아간 1700원으로 좁혀졌으나 입장차가 여전히 상당한 수준이어서 심의에 난관이 예상된다. 근로자위원 4명은 사용자위원들의 의견에 반발해 전원 퇴장하는 일이 일어나기도 했다. 한국노동조합총연맹한국노총 추천 근로자위원 5명은 회의장에 남았다. 민주노총은 퇴장 직후 \"사용자 측이 제시한 20원 인상안은 동결과 다름없고 심지어 \\'수정안을 내라고 해 어쩔 수 없이 낸다\\'는 식의 발언을 들으며 오늘 장시간 회의장을 지키더라도 의미 있는 결론을 내지 못한다고 판단했다\"고 말했다. 최임위는 민주노총 근로자위원 퇴장 후 논의를 이어갔지만 접점을 찾지 못하고 12일 9차 전원회의에서 논의를 계속하기로 했다. 하지만 노사의 입장 차이가 커 내년도 최저임금도 합의보다는 결국 표 대결로 결정할 것이라는 관측이 나온다.',\n",
       " '오류를 우회하기 위한 함수 추가\\n \\n\"본격적으로 네 번째 유행 진행\"\"다시 한 번 인내와 동참 부탁\"9일 오전 서울 강남구 보건소 선별진료소를 찾은 시민들이 신종 코로나바이러스 감염증코로나19 검사를 위해 차례를 기다리고 있다. 중앙방역대책본부는 이날 0시 기준으로 신규 확진자가 1천316명 늘어 코로나 사태 이후 가장 많은 수를 기록했다고 밝혔다. 2021. 7. 9 사진연합뉴스국내 코로나19신종 코로나바이러스 감염증 신규 확진자가 연일 최다 기록을 경신한 가운데 방역당국은 확진자 증가 폭이 앞으로 더 커질 것으로 내다봤다. 권준욱 중앙방역대책본부방대본 제2부본부장은 9일 정례 브리핑에서 \"본격적으로 네 번째 유행이 진행되고 있다\"면서 \"과거 유행보다 더 많은 환자가 발생할 가능성이 높고, 당장 오늘도 어제보다 확진자가 증가하는 양상으로 파악하고 있다\"고 밝혔다. 이날 0시 기준 신규 확진자는 1316명으로, 국내 코로나19 사태 이후 최다 규모를 기록했다. 전날1275명에 이어 이틀 연속 최다 기록을 이어갔다. 권 부본부장은 \"백신 접종자가 지역사회에 많이 누적되더라도 전체 확진자 발생 규모가 커지면 \\'돌파 감염\\'이나 항체가 형성되지 않은 접종자 내 집단발생 등 모든 확률이 올라간다\"며 \"지금 이 순간 4차 유행에 대처하는 것이 훨씬 중요하고 더 위기\"라고 말했다. 그는 \"4차 유행 시기인 현재는 전 세계적으로 변화가 두드러지고 전파력이 빠른 \\'델타 변이\\'인도 변이 바이러스가 주도하는 상황\"이라며 \"우리나라도 조만간 델타 변이의 유행 주도로 환자 발생 속도가 더 빨라질 가능성이 있다\"고 분석했다. 당국은 무엇보다 국민의 자발적이고 적극적인 거리두기 참여가 절실하다고 강조했다. 권 부본부장은 \"코로나19의 대규모 감염 확산을 차단하기 위해서는 모든 사회구성원들의 단합이 필요한 때\"라고 했다. 권준욱 중앙방역대책본부방대본 제2부본부장 사진연합뉴스그는 \"모든 국민은 불요불급한 약속을 취소하고 외출 등의 이동을 최소화해 가정 내에서 안전하게 일상생활을 보내달라. 조금이라도 의심 증상이 있으면 즉시 진단검사를 받아달라\"며 \"기업 및 사업장도 불필요한 회의출장은 자제하고 재택근무를 활용해서 사업장 내 밀집도를 조정하는 등 접촉을 최소화해 달라\"고 호소했다. 이어 \"운영이 되는 다중이용시설에서는 에어컨 등 냉방시설 가동 시 충분한 환기에 신경쓰고 출입명부 기재 등 방역관리를 철저히 해달라\"며 \"특히 종사자에 대한 진단검사를 적극 실시해달라\"고 거듭 강조했다. 아울러 \"의료기관과 약국 등에서는 혹시 의심증상이 있는 환자가 방문할 경우 환자로 하여금 선별진료소를 방문해 코로나19 진단검사를 받도록 해달라\"고 설명했다. 권 제2부본부장은 \"지금 당장은 다른 무엇보다도 위기 극복이 최우선\"이라며 \"그동안 위기가 닥칠 때마다 국민이 솔선해 거리두기를 강화하면서 고비 고비를 넘겨왔다. 다시 한번 참여와 연대 그리고 인내와 동참을 부탁한다. 방역당국도 무한 책임을 가지고 최선을 다하겠다\"고 말했다.',\n",
       " '오류를 우회하기 위한 함수 추가\\n \\n김부겸 국무총리가 9일 오전 서울 종로구 정부서울청사에서 열린 코로나19 대응 중앙재난안전대책본부중대본 회의에 참석해 발언하고 있다. 이날 김부겸 총리는 코로나19 재확산으로 인한 수도권 거리두기 단계 조정방안을 12일 부터 2주간 \"수도권 거리두기 4단계를 적용하기로 결정했다고 밝혔다. 뉴시스\\n다음주 월요일인 12일부터 25일까지 2주간 수도권 지역에 새로운 거리두기 4단계가 적용된다. 오후 6시 이후엔 3인 이상 모임이 금지되며, 백신 접종 완료자라도 예외 없이 모임 인원 수 제한을 받는다. 백신 인센티브를 4단계 기간 동안 철회하는 것이다. 또 유흥시설은 종류를 막론하고 모두 영업장 문을 닫아야 한다. 중앙재난안전대책본부는 9일 이 같은 내용을 골자로 한 수도권 사회적 거리두기 조정방안을 발표했다. 수도권 지역에서 연일 1000명에 가까운 확진자가 나오면서 4차 대유행 확산 비상등이 켜지자 정부가 가장 강력한 방역 단계를 발령한 것이다. 구체적으로, 이번 4단계가 적용되는 곳은 서울경기인천 전역으로 하되, 인천 강화옹진군은 새로운 거리두기 2단계를 적용한다. 이들 지역은 인접 지역에서 몰려가 모임을 갖는 식의 풍선 효과가 적다는 판단에서다. 사적모임은 오후 6시 이전엔 4인까지 가능하지만, 오후 6시가 넘어가면 2인까지만 허용돼 사실상 록다운에 가까운 엄중한 조치가 취해진다. 직계가족, 돌잔치 등 각종 예외는 인정하지 않으며, 동거가족, 아동노인장애인 등의 돌봄 인력이 돌봄 활동을 수행하는 경우와 임종으로 모이는 경우에만 예외를 인정한다. 수도권에서 행사는 금지되고, 집회 역시 1인 시위를 제외하면 금지다. 결혼식장례식은 8촌 이내 혈족과 4촌 이내의 인척, 배우자까지 친족만 49인까지 허용된다. 다중이용시설 가운데 유흥시설은 전체적으로 집합 금지다. 영업장 문을 열 수 없다는 뜻이다. 유흥시설엔 유흥단란주점, 클럽나이트, 감성주점, 헌팅포차, 콜라텍무도장, 홀덤펌홀덤게임장 등이 포함된다. 이들 유흥시설을 제외한 나머지 다중이용시설은 밤 10시까지만 운영할 수 있다. 스포츠 관람 및 경륜경마경정은 무관중 경기로만 가능하고, 숙박시설은 전 객실의 3분의 2까지만 운영 가능하며, 숙박시설 주관의 파티 등 행사는 금지된다. 학교의 경우 새로운 거리두기 4단계에 따라 전면 원격수업으로 전환되고, 종교시설도 비대면 예배만 가능하며, 각종 모임행사와 식사숙박은 금지하기로 했다. 직장근무는 제조업을 제외한 사업장에는 시차 출퇴근제, 점심시간 시차제, 재택근무 30를 권고한다는 게 방역 당국 설명이다. 김부겸 총리는 수도권 이외 지자체에서도 거리두기 단계 조정 등 선제적 방역 강화 조치를 적극 취해달라며 최고 수준의 거리두기 단계이므로 더 이상 물러설 곳이 없다는 각오로 임할 것이라고 밝혔다. 김 총리는 또 수도권의 국민들께 다시 한번 일상을 양보하고 고통을 감내해 주실 것을 요청해 죄송하다고 말했다. 이어 소상공인자영업자들께도 어려움을 드리게 돼 송구스럽다며 피해를 온전히 회복시켜 드리기는 힘들겠지만 정부는 손실보상법에 따라 향후 최선의 지원이 이뤄지도록 노력하겠다고 했다.',\n",
       " '오류를 우회하기 위한 함수 추가\\n \\nA씨가 육아도우미가 아이를 업고 담배를 피고 있다고 주장한 사진. 사진 A씨\\n60대 육아도우미베이비시터가 엄마가 집을 비운 사이 아이를 업은 채 담배를 피우다 들켜 맘 카페 등에서 논란이 일고 있다. 당시 태어난 지 80일 된 아이였다. 부모의 아동학대 신고를 접수한 경찰은 도우미의 학대 여부 등을 조사하고 있다.\\n\\n80일 된 아기 업고 담배 피운 베이비시터\\n흡연 이미지. 사진 픽사베이\\n9일 경찰 등에 따르면 경기도 용인시에 사는 30대 여성 A씨는 이 같은 내용으로 지난달 29일 경찰에 신고했다.\\n3세 아이와 생후 80일 된 신생아를 키우는 A씨는 출산 후 정부지원 산후도우미 서비스를 이용하다가 신종 코로나바이러스 감염증코로나19 여파로 관리사가 부족하다는 설명에 최근 한 베이비시터 업체를 소개받았다고 한다. 해당 업체는 서울경기창원 등 전국에 지점 20곳 이상이 있는 곳이다. 업체 홈페이지에는 전문교육 이수 후 테스트에 통과해야 시터 자격을 주기 때문에 부모님이 아이 안전을 걱정할 필요가 없다는 안내가 있다.\\nA씨는 업체에서 10년 넘게 일한 베이비시터를 소개해주겠다고 해서 웃돈을 더 주며 지난달 14일부터 월화목금 주 4회, 하루 6시간씩 사람을 쓰게 됐다며 계약 후 육아도우미가 아이랑 밖에 나갔다 오면 아이가 잘 잔다며 몇 번 나갔다 왔는데, 그때마다 얼핏 담배 냄새가 났다고 말했다.\\n육아도우미에게서 담배 냄새를 느낀 A씨는 의심을 거둘 수 없었다고 한다. 그러다 지난달 28일 집 베란다에서 육아도우미가 담배를 피우는 모습을 목격했다. A씨는 외출을 했다가 마스크를 깜빡 두고 나와 집에 다시 들어왔는데, 아기를 업고 담배를 피우던 도우미 모습을 똑똑히 봤다며 분통을 터트렸다. 그러면서 아이가 생후 50일쯤 기관지가 안 좋아서 입원한 적이 있다고 세심한 돌봄을 부탁했었다며 아이가 담배 냄새를 다 맡게 될 텐데, 아무리 조심한다고 해도 이해가 안 되는 모습이었다고 덧붙였다.\\n\\n맘 카페 아이는 무슨 죄 분노\\n해당 사건이 알려진 맘 카페에 달린 댓글들. 사진 인터넷 캡처\\n이후 A씨는 인터넷 커뮤니티 등에 해당 내용을 담은 글을 올렸다. A씨가 쓴 글은 경기도 광주수원용인 등 지역 맘 카페 등으로 퍼졌다. 여기에서는 아이 업고 담배라니 충격받았다 두 눈을 의심했다는 반응이 이어졌다. 이 가운데 조회 수 26만 회 이상을 기록한 한 인터넷 커뮤니티의 관련 글에는 아직 목도 제대로 못 가누는 아가가 담배 연기를 맡았다고 생각하니 가슴 아프다. 아기는 무슨 죄냐는 댓글이 달렸다.\\nA씨는 도우미와 업체 측의 진심 어린 사과와 적절한 조치를 바란다며 또 다른 아기가 이런 피해를 본다고 생각하면 마음이 아프다고 말했다.\\n육아도우미 B씨68여는 흡연 사실을 인정했다. 그는 개인적으로 힘든 일이 있어 그 집에서 8일 정도 일하면서 3번 정도 담배를 피웠다면서도 아이에게 미안하고, 잘못한 부분에 대해서는 인정하고 반성하고 있다. 다만 다른 집에서 일할 땐 흡연한 적이 결코 없다고 말했다.\\n\\n경찰, 아동학대 혐의 수사\\n다만 B씨와 업체 측은 인터넷에 알려지지 않은 억울한 사연이 있다고 했다. B씨는 흡연 당일 아이 부모 앞에서 1시간 넘게 무릎을 꿇고 빌었다며 화를 참지 못한 남편이 골프채를 휘두르고, 의자도 내던지는 등 폭력을 행사했다. 죽음의 위협까지 느꼈다고 말했다. 업체 대표도 함께 찾아가 1시간을 빌었다. 사과가 없었다고 하는 건 사실이 아니다라며 골프채와 같은 흉기로 위협도 했었고, 폭언이 있었다고 주장했다. 이에 대해 A씨는 남편이 골프채를 휘두르는 등 폭력이나 위협을 한 적은 없다. 진정한 사과를 받지 못했다는 입장이다.\\n경기남부경찰청 여성청소년범죄수사대는 육아도우미 B씨를 아동복지법상 신체적 학대 혐의로 9일 입건해 수사를 이어가고 있다. 경찰 관계자는 아파트 폐쇄회로TVCCTV 등을 확보해 아이에게 간접흡연이 더 있었는지, B씨의 학대 혐의를 살펴보고 있다고 밝혔다.',\n",
       " '오류를 우회하기 위한 함수 추가\\n \\n경향신문 정부의 물리적 거리두기 상향 방침이 발표된 9일 한산한 서울 용산구의 한 PC방 모습. 반기웅 기자쇼핑몰 손님이 없으면 제 고객도 다 떨어져 나가는 거에요. 30년 경력의 야쿠르트 매니저 김애자60씨는 물리적 거리두기 4단계 적용 소식에 한숨을 내쉬었다. 서울 중구에 있는 동대문디자인플라자DDP 앞에서만 10년째 야쿠르트를 판매하고 있는 김씨는 코로나19 여파로 단골 고객 대부분을 잃었다. 상인들이 폐업으로 쇼핑몰을 떠나면서다. 김씨는 야쿠르트 본사와 계약을 맺고 장사하는 자영업자로 판매액의 24가량을 수수료로 가져간다. 파는 만큼 수익이 생기는 구조다. 김씨는 아침에 가보면 또 공실이 늘어나 있다며 손님이 없으니 상인이 없고 이러니 야쿠르트를 사먹는 사람도 없다. 안 그래도 힘든데 걱정이라고 말했다. 지난달 방역 완화 소식에 매출 회복을 기대했던 자영업자들은 박탈감을 호소하고 있다. 이미 코로나 확진자 증가세에 매출이 줄었는데 공식적으로 거리두기 4단계가 됐으니 타격이 더 커질 것이라는 우려도 나온다. 서울 광진구에서 코인노래방을 운영하는 노용규씨46는 정부가 소급 보상은 안된다고 했을 때도 이제 경기가 살아나니 괜찮겠지라는 생각으로 버텼는데 이제는 헛웃음만 나온다며 이번에 국회에서 손실보상법이 통과됐다는데 어떻게 보상할 지 지켜볼 것이라고 말했다. 정부 방역 지침에 따라 매출이 들쭉날쭉한 PC방 운영자들도 거리두기 상향 소식에 격앙된 반응을 보였다. 서울 용산구에서 PC방 두 곳을 운영했던 김정근씨26가명는 지난 5월 PC방 한 곳을 정리했다. 김씨는 정부 지원은 받아봐야 도움이 안된다며 지금 필요한 건 규제 완화라고 말했다. 집합금지가 조치 대상이 아니더라도 방역 강화 지침은 매출 타격으로 이어진다. 헬스장을 운영하는 최윤선씨46는 철저하게 자체 방역을 하고 있는데도 일단 단계가 올라가면 운동하러 오지 않는다며 애초에 코로나가 종식된 것도 아닌데 왜 완화를 운운한 건지 이해가 안된다고 말했다. 예비 신랑신부들도 곤혹스러움을 감추지 못했다. 거리두기가 강화되면서 친족만 결혼식에 참석할 수 있기 때문이다. 친족에는 8촌 이내 혈족, 4촌 이내 인척, 배우자만 포함되는데 이 범주 안에서도 참석 인원이 49명을 넘어선 안 된다. 다음날 15일 결혼식을 앞두고 있는 김모씨30여에게 이번 소식은 청천벽력 같았다. 웨딩드레스를 고르기 위해 회사에 휴가를 냈고, 여름에 어울리는 문구를 고민해 적은 청첩장도 지인들에게 전달한 상태다. 김씨는 지금 드레스를 고르러 가야 할 상황인지도 모르겠다며 예식장에 결혼 날짜를 미룰 수 있냐고 물어보니 내년 6월까지 예약이 다 찼다고 한다라고 말했다. 같은달 14일 결혼을 앞두고 있는 정은지씨33는 다음주부터 본격적으로 친구들과 청첩장 모임을 가지려고 했는데 아예 못 만나게 생겼다며 모바일 청첩장으로 대체하려고 한다고 말했다. 웨딩 업체 전화에도 불이 났다. 에디스웨딩하우스 직원 김모씨는 다음달 결혼식이 예정된 부부들이 하나같이 걱정하는 전화를 해왔다며 아직은 사태를 관망하는 추세지만 코로나19가 장기화되면서 예비 부부들도 힘들어하고 있다고 말했다. 9일 오후 서울 강남구의 한 고등학교에서 코로나19 확진자가 발생해 일찍 수업을 마친 학생들이 하교하고 있다. 교육부는 물리적 거리두기 4단계 시행으로 14일부터 여름방학 이전까지 수도권 학교는 전면 원격수업으로 전환된다고 밝혔다. 연합뉴스오는 14일부터 수도권 학교의 수업이 다시 원격으로 전환됨에 따라 학생들도 답답한 생각이 들긴 매한가지다. 이제 대면 수업에 적응할만 했는데 다시 집에서 나홀로 수업을 듣게 되면서다. 서울 관악구에서 사는 강모군16은 6시 이후에 친구 1명만 만날 수 있다는 것은 당연히 답답할 것 같다고 말했다. 그나마 학생들은 거리두기 4단계에서도 오후 10시까지 문을 여는 학원 생활에 작은 기대를 걸고 있다. 성북구에서 사는 김진호군18은 학원은 계속 갈 테니 친구들을 만나려면 만날 수 있을 것 같다고 말했다. 경찰은 코로나19 거리두기 4단계 적용으로 일선 경찰서 집합교육을 중단했다. 직원들 간 접촉을 최소화하기 위해 팀 간 근무를 교대할 때는 팀원들을 빼고 팀장들만 인수인계를 한다. 또 직원들이 절반씩 번갈아 가며 유연근무를 하고, 의경들의 외출과 외박도 제한한다. 회의는 10인 이상이 할 수 없고, 헬스장과 목욕탕 운영도 중단한다. 서울경찰청은 관내 경찰서들에 이같은 내용이 담긴 방역 조치 지시사항을 전달했다. 지난 6일부터 코로나19 확진자가 매일 1000명을 넘어서자 대비 태세에 돌입한 것이다. 경찰 관계자는 4단계 적용은 오는 12일부터지만 이보다 먼저 일선에 지침을 배포해 사실상 강화된 방역 조치를 바로 시행하는 것이라고 말했다. 경찰 기동대원들이\\n지난 6일 오후 서울 홍대거리에서 유흥시설 불법영업 순찰을 하고 있다. 연합뉴스.',\n",
       " '오류를 우회하기 위한 함수 추가\\n ',\n",
       " '오류를 우회하기 위한 함수 추가\\n \\n강원도와 동해안 6개 시군 \\'거리두기\\' 관련 대책회의강릉시, 해수욕장 내 마스크 의무화 행정명령 방침코로나19 대유행 직전 마지막 피서철인 지난 2019년 여름 강릉 경포해수욕장 모습.뉴스1 DB양양뉴스1 윤왕근 기자  코로나19 재확산으로 수도권이 오는 12일부터 사회적거리두기를 4단계로 격상하는 가운데 강원 동해안 지자체들이 고심에 빠졌다. 강원도는 동해안 6개 시군을 비롯한 지자체들과 수도권 확진자 급증으로 인한 코로나19 대책회의를 열었다. 이 자리에서 도와 각 시군은 사회적 거리두기 단계 조정을 논의한 것으로 알려졌다. 특히 이날 양양을 시작으로 해수욕장이 속속 개장하는 동해안 6개 시군은 더욱 긴장하는 모양새다. 수도권이 거리두기 최고 수위인 4단계 적용으로 3인 이상 사적모임이 금지되고 유흥시설 집합금지, 다중이용시설 영업시간 제한 등 고강도 조치가 이뤄지면서, 수도권 인파가 거리두기 1단계인 동해안으로 몰려들 것이 불보듯 뻔하기 때문이다. 영남권 최대 피서지인 부산마저 거리두기를 2단계로 격상한 상황에서 KTX 등 교통편으로 접근성이 용이한 수도권 인접 피서지는 사실상 강원 동해안 밖에 없는 셈이다. 이에 각 시군은 각종 행정명령 실시로 방어해보겠다는 계획이다. 이날 강릉시에 따르면 해수욕장 내 마스크 착용 의무화 행정명령을 내리기로 잠정적으로 결론지었다. 본래 강릉시는 백신 접종자에 한해 \\'노 마스크\\'를 허용할 계획이었으나 결국 방침을 철회하기로 한 것. 이 같은 행정명령은 11일 중대본 회의 결과가 나오는 즉시 발표될 예정이다. 또 이날 개장한 양양 낙산, 강릉 경포, 동해 망상 등 주요 해수욕장에서 개장시간 외 시간대오후 7시익일 오전 6시 백사장에서의 음주취식행위를 금지하는 행정명령이 발동된다.\\'코로나 없는 안전한 해수욕장 되길\\' 9일 개장한 양양 낙산해수욕장 야외데크에서 안전한 해수욕장 운영을 위한 용왕제가 열렸다.양양군 제공 2021. 7. 9뉴스1그러나 이 같은 행정명령이 효과를 거둘지는 미지수다. 수도권 거리두기 강화 적용 직전인 이번 주말이 사실상 \\'이른 성수기\\'가 될 예정인 가운데, 양양과 속초를 제외한 나머지 해수욕장 개장은 다음주에 집중돼 있기 때문이다. 실제 이날 양양 낙산해수욕장과 10일 속초지역 해수욕장을 제외하고 동해지역은 14일, 삼척 15일, 강릉과 고성지역 해수욕장은 16일 개장한다. 이에 따라 강릉 경포나 동해 망상, 삼척 맹방 등은 사실상 성수기임에도 불구하고 행정력이 미치지 못하는 \\'방역 공백\\' 상황이 발생할 가능성이 크다. 강릉, 삼척 등 지자체가 방역 대책을 위해 투입한다던 드론과 순찰 로봇, 체온스티커, 안심콜센터 운영도 해수욕장 개장시기에 맞춰져 있다. 그렇다고 행정력을 조기에 집중하기에는 시정에 차질이 생길 우려가 있어 인파가 몰리지 않기만을 바라는 수 밖에 없는 실정이다. 동해안 한 지자체 관계자는 \"사실 몰려드는 인파에는 그 어떤 첨단 방역장비와 행정력 투입도 큰 효과가 없다\"며 \"강원 전 지역 거리두기 격상 등 도나 각 시군의 빠른 결단이 필요한 시점\"고 말했다. 올 피서철 강릉 주요 해수욕장에 투입돼 방역 업무를 수행할 순찰 로봇.강릉시 제공2021. 6. 16뉴스1',\n",
       " '오류를 우회하기 위한 함수 추가\\n \\n지난 5일 금호타이어 노조가 주축이 된 \\'금호타이어정상화투쟁위원회\\'가 공장 이전 부지 조기 마련을 촉구하는 성명서를 낸것에 대해 광주시가 \"공장 관외 이전을 위해서는 광주시민이 공감할만한 공공기여가 선행돼야한다\"고 반박했다. 사진은 2019년 1월 광주시청에서 열린 \\'금호타이어 광주공장 이전을 위한 업무제휴 협약식\\' 기념촬영.더팩트 DB관외 이전 조기 결단 압박에 광주시 \\'반박\\' 공공기여 없이 개발이익에만 집착하면 안돼 이용섭 광주시장이 금호타이어 광주공장 이전 부지 마련을 압박하는 금호타이어 측을 향해 서운한 감정을 드러냈다. 금호타이어 노조가 중심이 된 금호타이어 정상화투쟁위원회이하 정투위는 지난 5일 금호타이어 광주공장 이전문제에 대한 이용섭 광주시장의 결단을 촉구하는 성명서를 발표했다. 이날 성명서에서 정투위는 \"금호타이어 광주공장 이전에 대해 광주시장이 공식입장을 밝힐 것을 강력히 요구한다\"고 촉구했다. 공장 이전 지연의 책임이 광주시에 있다고 거세게 몰아 부친 것이다. 정투위의 이같은 주장은 광주글로벌모터스 공장 건립으로 빛그린 산단 내 광주 관내 부지로의 이전이 사실상 불가능한 상황에서 산단 내 함평 부지로의 이전을 신속하게 결단해달라는 주문이기도 하다. 이에 대해 이 시장은 7일 \"금호타이어 측이 현 공장부지의 개발이익 극대화를 통한 경영활성화에만 집착하고 있다\"고 지적하며 \"공장이전을 통해 광주 시민사회에 무엇을 기여하겠다는 사회적 책임의 자세가 전혀 눈에 띄지 않는다\"고 날을 세웠다. 이 시장은 \"같은 산업단지에 속해 있긴 하지만 금호타이어가 원하는 부지는 광주 관내를 벗어난 전남 관내 부지이다\"고 전제하며 \"지척의 거리이긴 하지만 관외로 공장을 이전하려면 광주시민의 공감을 얻을 수 있는 제안을 금타 측이 먼저 제시해야 하지 않느냐\"고 반문했다. 이 시장이 시민들에게 관외 이전의 불가피성을 설득할 아무런 명분과 실리도 주지 않은 채 공장 이전 부지만 내놓으라고 떼를 쓰는 꼴이라는 불쾌한 심정을 드러낸 셈이다. 광주시 또한 관외 공장 이전이 불가피하다는 점을 공감하고 있는 상황임을 감안하면, 이 시장의 이 같은 불만은 광주권 도시개발의 핵심 비전인 송정역세권 종합개발과 관련 금호타이어 측이 공장이전 과정에서 \\'통 큰 기여\\'를 해달라는 주문으로 풀이되기도 한다. 만일 광주시와 금호타이어 양측 간에 이 같은 빅딜이 합의에 이른다면 이 시장은 광주전남 상생발전 차원에서 관외 이전을 적극 검토하겠다는 입장인 것으로 알려지고 있다. 공장 이전 후 기존 부지 개발을 위해서는 허가청인 광주시청의 용도변경이 전제돼야 하는 상황에서 공공 기여를 강조한 광주시의 주문에 대해 금호타이어가 어떤 대안을 마련할 것인지 귀추가 주목된다.',\n",
       " '오류를 우회하기 위한 함수 추가\\n \\n브리짓 맬컴EPA연합뉴스 자료사진서울연합뉴스 최수호 기자  미국 유명 속옷 브랜드 빅토리아 시크릿의 한 전직 모델이 과거 패션업계 관계자들로부터 겪은 끔찍한 경험을 폭로했다.\\n9일 야후 뉴스에 따르면 호주 출신 모델 브리짓 맬컴은 지난 3일 자신의 인스타그램에 올린 영상에서 \"미성년자 시절 나이가 훨씬 많은 남자로부터 길들이기그루밍 성범죄를 당했다\"며 \"여러 차례 성폭력과 함께 살을 빼라는 심한 압박에도 시달렸다\"고 말했다.\\n특히 \"나의 에이전트 등은 \\'살을 빼기 위해 코카인을 하거나 성관계를 자주 하라\\'는 말도 했다\"고 주장했다.\\n호주 출신인 브리짓은 2015 2016년 빅토리아 시크릿 패션쇼에 두 번 출연한 것으로 알려져 있다.\\n어릴 적부터 이런 일을 겪은 탓에 그녀는 PTSD외상 후 스트레스 장애, 거식증, 우울증 등에 시달렸고 술과 약물 등에 대한 의존한 채 생활할 수밖에 없었다고 한다.\\n특히 26번째 생일날 신경 쇠약 증세가 나타난 이후로 1년 동안 집 밖으로 나설 때마다 발작 등이 일어났다고 했다.\\n최근 몇 년 동안 회복에 전념한 그녀는 현재 건강을 되찾았으며, 패션업계의 변화를 촉구하는데 목소리를 높이고 있다.\\nsuhoyna. co. kr',\n",
       " '오류를 우회하기 위한 함수 추가\\n \\n오는 2025년까지 전동화에 300억 유로 투입전기차 플랫폼 4종 구현 500800km 주행혁신 충전 기술 개발 1분 충전으로 32km 주행배터리 공급 5개 기가팩토리 구축 추진2030년 배터리 셀 연간 생산 규모 260GWh 달성국내 첫 스텔란티스 전동화 모델 지프 4xe 9월 출시스텔란티스그룹이 8일현지 시간 온라인으로 EV데이를 개최하고 전기차 시대 방향성과 현재 추진 중인 전동화 전략을 발표했다. 스텔란티스는 피아트크라이슬러FCA와 푸조시트로엥PSA그룹이 합병해 지난 1월 출범한 브랜드다. 두 그룹 합병으로 산하에 14개 브랜드를 보유하게 됐다. 전기차를 중심으로 하는 전동화 전환이 다른 브랜드에 비해 상대적으로 뒤처졌다는 평가다. 이를 의식한 듯 이번 발표에서 대규모 투자와 차별화된 전동화 기술 방향성을 알리는데 많은 비중을 둔 모습이다. 궁극적으로는 가까운 미래에 지속가능한 두 자리 수 수익 창출을 목표로 삼았다고 밝혔다. 카를로스 타바레스Carlos Tavares 스텔란티스그룹 CEO는 300억 유로약 40조7757억 원 규모 투자를 단행할 것이라며 소비자 일상에 완벽하게 맞고 전동화를 충족시키는 상징적인 모델을 제공하는 것에 중점을 두고 있다고 말했다. 또한 이번에 발표한 전략의 핵심은 스텔란티스가 지속가능한 방향으로 변모한다는 것을 의미한다고 덧붙였다. 발표를 통해 스텔란티스는 글로벌 자동차 시장에서 저공해차LEV, Low Emission Vehicle 분야 리더로 거듭날 것이라는 비전을 밝혔다. 오는 2030년까지 유럽 판매 차종 70와 미국 판매 모델 40 이상이 저공해차로 대체될 것이라고 전했다. 이를 위해 2025년까지 합작사JV를 포함해 전동화 및 소프트웨어 개발에 40조 원 넘는 투자를 진행할 계획이라고 했다. 투자를 기반으로 2025년까지 130GWh 이상, 2030년까지 260GWh 넘는 전동화 물량 확보를 목표로 설정했다. 전기차 배터리와 부품 수요는 유럽과 북미지역 총 5개의 기가팩토리를 통해 수급할 계획이라고 전했다. 공급에 관한 주요 파트너십 계약은 완료했다고 밝혔다. 배터리 주요 원료인 리튬 공급은 북미 및 유럽지역 전문 업체 2곳과 업무협약을 체결해 원료 수급 역량을 확보했다고 강조했다. 내부적으로는 원가 절감을 통해 수익을 극대화한다는 방침을 세웠다. 기술과 제조 시너지를 통해 전기차 배터리 팩 비용을 2040년까지 40 이상 절감한다는 계획이다. 2030년까지 절감 목표는 20 이상으로 설정했다. 전체 팩 최적화, 모듈 설계 단순화, 기술 개발 등을 통해 배터리 팩 관련 모든 분야에서 비용 절감을 달성한다는 복안이다. 배터리 수리와 재활용, 재생산 등 배터리 전체 수명 주기에 따른 가치 극대화도 추진할 예정이다. 2026년까지는 전기차와 내연기관 자동차의 생산량을 동일한 수준으로 맞추는 것이 목표라고 했다. 가장 중요한 것은 경제성이라고 강조했다. 스텔란티스 전동화 전략은 모든 브랜드에 적용되는 단일 계획이 아니고 산하 14개 브랜드 모두에게 동급 최고 수준 전동화 솔루션을 제공하고 각 브랜드 철학을 강화하는 개념이라고 소개했다. 순수전기차 모델의 경우 최대 주행가능거리 500800km를 만족하고 1분 충전 시 32km를 주행할 수 있는 충전 기능 제공을 목표로 삼았다. 전기차 플랫폼은 4종으로 구성했다. 폭 넓은 확장성을 바탕으로 각 플랫폼 연간 생산량은 200만대 규모가 될 것으로 전망했다. 플랫폼은 최대 500km 주행이 가능한 스몰과 최대 700km 미디움, 800km 라지와 프레임Frame 등 4종을 갖출 예정이다. 동력은 전기모터와 기어박스, 인버터 등이 결합된 3가지 전기구동모듈EDM을 활용한다. EDM은 전륜 및 후륜구동, 사륜구동과 4xe용으로 구성된다. 각 브랜드 고유 특성을 유지할 수 있는 소프트웨어와 제어 장치는 직접 개발할 예정이며 소프트웨어는 무선 업데이트를 지원하게 된다. 배터리 팩은 소형 도심형 모델부터 고성능차, 트럭 등에 이르기까지 맞춤 제작될 예정이다. 고밀도 옵션과 코발트 없는 니켈 대체품 등 소비자들의 다양한 요구를 반영하기 위해 2024년까지 2가지 배터리 화학 물질을 사용할 계획이라고 스텔란티스 관계자는 설명했다. 2026년까지 가장 경쟁력 있는 고체 배터리 기술 도입도 주요 목표 중 하나다. 핵심 기술에 대한 합작 사업도 추진 중이다. e파워트레인과 e트랜스미션 운영을 위한 배터리 셀 생산과 디지털콕싶, 개인화된 연결 서비스 등이 기술 협력 대상이다. 다양한 파트너십을 통해 자체 기술 역량 뿐 아니라 파트너업체 전문성을 활용한 새로운 기술과 솔루션을 선보일 계획이라고 스텔란티스 측은 전했다. 타바레스 CEO는 스텔란티스가 출범한지 6개월 만에 새로운 도전을 시작했다며 전동화 전략은 스텔란티스 설립 이래 가장 중요한 도전으로 전 세계 전동화 전략을 새롭게 정의하는 계기가 될 것으로 기대한다고 말했다. 스텔란티스 산하 스포츠유틸리티차량SUV 전문 브랜드 지프는 이날 그룹 방향성에 맞춰 제로 에미션 프리덤Zero Emission Freedom이라는 전동화 비전을 공개했다. 이와 함께 신형 전동화 모델인 그랜드 체로키 4xe를 세계 최초로 선보였다. 일정거리를 전기모터로만 운행할 수 있는 플러그인 하이브리드 모델이다. 그랜드 체로키는 역사상 가장 많은 상을 수상한 SUV로 알려졌다. 전 세계적으로 700만대 넘게 판매되고 있는 플래그십 모델이다. 그랜드 체로키 4xe는 다음 달 열리는 뉴욕모터쇼뉴욕 국제 오토쇼에서 공개 예정이다. 국내에 처음 출시되는 지프 전동화 모델은 플러그인 하이브리드 파워트레인을 채용한 랭글러 4xe다. 최근 환경부 인증을 마치고 국내 출시 준비에 한창인 것으로 전해졌다. 오는 9월 출시 예정이라고 스텔란티스코리아 관계자는 전했다.',\n",
       " \"오류를 우회하기 위한 함수 추가\\n \\n사진게티이미지뱅크수박씨를 먹으면 뱃속에서 수박이 자란다? 서양에서 아이들이 수박을 먹을 때 씨를 뱉게 하려고 부모가 들려주는 이야기다.\\n물론 거짓말이다. 수박 먹다가 씨 몇 개 삼켰다고 큰 문제가 생기지 않는다. 오히려 수박씨는 영양이 풍부하다. 미국 건강 매체 '프리벤션'에 따르면 수박씨 30mL소주 컵 반 잔에 마그네슘이 하루 권장 섭취량의 30가 들어있다.\\n심장 건강에 도움이 되는 성분도 있다. 항산화물질 라이코펜이 풍부하다. 토마토, 붉은 고추, 당근 등에 든 성분인데 관상동맥질환, 암 등을 예방하고 노화를 지연하는 효과가 있다. 그 밖에 수박씨에는 비타민B, 망간, 아연, 철 등과 단백질이 들어있다.\\n수박을 먹을 때 덤으로 씨까지 삼키면 알려진 영양분을 섭취하게 되는 걸까? 꼭 그렇진 않다. 수박씨를 날로 먹으면 까만 껍질 때문에 소화가 잘 안 된다. 껌을 삼켰을 때처럼 이튿날 변기에서 그대로 발견된다. 그래서 소화기가 예민한 사람은 수박씨를 너무 많이 먹으면 배에 가스가 차고 더부룩할 수도 있다.\\n수박씨의 영양분을 제대로 섭취하려면 가공해야 한다. 싹을 틔우거나 요리해야 하는데 볶는 게 제일 편하다. 올리브유와 소금을 살짝 뿌려 오븐에서 굽거나, 프라이팬에서 볶는다. 볶은 씨를 샐러드나 요거트, 오트밀 등에 뿌려 먹으면 좋다.\\n더 공을 들인다면 갈아서 땅콩버터처럼 스프레드를 만들 수도 있다. 그러나 여름에 먹은 수박씨를 모아봐야 버터를 만들기엔 부족할 것이다. 국내에 수입되는 수박씨 버터 제품이 대안일 수 있다.\",\n",
       " \"오류를 우회하기 위한 함수 추가\\n \\n곧 초복입니다. 몸보신하셔야죠. 과식하지 않으면서 뱃속 든든히 채워줄 닭다리 삼계탕 준비했습니다. 재료도 많이 필요 없으니 부담 갖지 않으셔도 됩니다. 오늘의 추천 레시피 배달왔습니다! 삼계탕한 그릇삼계탕은 주의해서 먹어야 합니다. 단백질만큼 지방도 많기 때문입니다. 그래서 닭 한 마리 다 사용하지 않았습니다. 닭다리 하나 뜯고, 뜨끈한 국물에 끓인 귀리밥 먹는 걸로도 충분할 겁니다. 뭐가 달라? 단백질 풍부한 닭다리삼계탕의 재료인 닭은 단백질이 풍부하고, 면역력을 높이는 데 도움이 됩니다. 우리 몸의 면역 세포는 단백질로 이뤄져 있는데, 단백질이 부족할 때 이를 잘 보충해주는 게 중요합니다. 껍질과 기름을 제거해야 콜레스테롤 섭취를 줄일 수 있습니다. 수삼과 마늘로 제대로 된 맛을삼계탕에 수삼과 마늘을 넣는 게 맛 때문만은 아닙니다. 수삼의 사포닌 성분은 면역력을 높여 줍니다. 마늘의 알리신은 세균을 죽이는 항균 효과가 뛰어납니다. 비타민B1 흡수를 도와 피로 완화에도 효과적입니다. 귀리밥으로 식이섬유 챙겨귀리는 백미보다 당질 함량이 낮고, 혈당 지수를 천천히 올리도록 돕는 식이섬유가 풍부합니다. 귀리 100g엔 식이섬유가 24. 1g 들어 있는데, 이는 찐 고구마3. 8g나 양배추8. 1g보다 많은 양입니다. 귀리밥을 따로 짓는 게 번거롭다면 시중에 나와 있는 귀리 곤약 용기밥을 사용해도 좋습니다. 재료레시피장각닭다리 1개, 통마늘 4개, 건대추 2개, 수삼 1뿌리, 귀리곤약밥용기제품 1개1. 닭다리는 눈에 보이는 기름을 떼어내고 깨끗이 세척한다. 2. 건대추와 수삼은 깨끗이 손질해 놓는다. 3. 물 1L에 위 재료를 넣고, 닭고기가 야들야들 푹 익을 때까지 뭉근한 불에 끓인다. 4. 국물을 차게 식혀 굳은 기름을 걷어낸 뒤, 귀리곤약밥을 넣고 한 번 더 끓인다.'밀당365'를 구독하고 싶으시다면, 링크 복사 후 주소창에 붙여넣어 주세요!:.. commildang365. jsp? refpage\",\n",
       " '오류를 우회하기 위한 함수 추가\\n \\n국민 90, 델타 변이 바이러스에 취약한 상태오락가락 원칙 없는 방역이 부른 재앙7월 평균 700명대이던 코로나19 하루 감염자가 7월8일 1275명으로 급증했다. 지난해 12월25일의 최고치 1241명을 경신한 수치다. 하지만 그때와 달리 지금은 바이러스 전파가 가장 더딘 여름철이고 백신 접종이 한창인 상황이다. 그럼에도 이 정도로 확산한 것은 방역 정책의 실패라는 지적이 나온다. 게다가 지난해와 달리 올가을과 겨울에는 역대급 4차 유행파가 닥칠 것이라는 전문가의 전망까지 나왔다. 따라서 올 11월 집단면역을 형성해 코로나19에서 벗어나겠다는 목표는 불투명해졌다.\\xa0김우주 고대구로병원 감염내과 교수는 \"하루 감염자 수와 변이 바이러스 감염자 수는 잠복기 등을 고려하면 보름 전 상황이 반영된 수치다. 즉 방역 당국은 시뮬레이션 등으로 이미 이렇게 될 줄 알았을 것이다. 그러나 이를 국민에게 알리지 않았다. 이런 일이 반복된 여파가 올가을과 겨울 4차 유행파로 나타날 것이다. 현재까지 최고치인 하루 1200명대를 넘어서는 코로나19 4차 유행파가 닥친다고 본다. 현재 모든 정황이 그쪽4차 유행파으로 향하고 있다. 올 11월 집단면역을 형성해 코로나19에서 벗어나려는 계획은 요원하다\"고 경고했다.\\xa0지난해보다 더 위협적인 코로나19 4차 유행파를 예고하는 정황은 네 가지로 요약해 볼 수 있다. 기본 감염자 수가 많다는 점, 백신이 부족하다는 점, 델타 변이 바이러스 확산은 시간문제라는 점, 방역보다 접종에 치우친 반쪽짜리 정책이라는 점 등이다. 밤 10시 이후 식당, 카페 등 다중이용시설의 영업제한 중인 6월9일 심야시간에 서울 반포한강공원에 시민들이 삼삼오오 모여 대화를 나누며 술을 마시고 있다.시사저널 박정훈이미 높은 \\'베이스 라인\\'지난해와 달리 올해는 세 자릿수에서 출발지난해 78월 하루 감염자 수는 100명 미만의 두 자릿수였다. 그해 9월 하루 감염자 수는 200명으로 늘었고 11월 500명대에 진입하더니 12월 1000명 이상으로 불어났다. 역사적으로 모든 바이러스 팬데믹은 기온이 높을 때보다 낮을 때 더 거세지는 공통점을 보인다. 올해 들어 하루 감염자 수는 단 한 차례도 두 자릿수로 떨어지지 않았다. 날이 따뜻해진 후에도 430명5월31일에서 794명6월30일으로 증가했다. 7월 들어서는 700800명대로 1년 전보다 10배 이상 증가한 상태다.\\xa0김 교수는 \"현재는 여름이라는 계절적 환경과 백신 접종으로 코로나19 전파가 다소 보합세지만, 상황은 지난해와 사뭇 다르다. 지난해 여름 하루 감염자가 두 자릿수에서 출발해 가을과 겨울을 맞아 코로나19 재확산으로 이어졌다. 1년이 지난 현재는 이미 세 자릿수에서 출발한다. \\'베이스 라인\\'이 높은 상태에서 현재처럼 느슨한 정책을 이어가면 가을과 겨울에 올 4차 유행파는 지난해보다 더하면 더했지 약하지는 않을 것\"이라고 전망했다.\\xa06월8일 서울 동작구 사당종합체육관에 마련된 백신 접종센터에서 시민들이 백신 접종을 받고 있다.시사저널 임준선백신 보릿고개로 한때 1차 접종자 0명큐어백 효과 없어 향후 백신 도입도 불확실1년 전과 달라진 상황은 백신이라는 무기를 가지고 있다는 점이다. 그러나 7월 들어 백신 부족 현상이 뚜렷해지고 있다. 하루 1차 접종자 수만 봐도 7월1일 1만4233명에서 2일 4043명, 3일 3930명, 4일 1150명으로 꾸준히 감소하다가 5일에는 급기야 0명을 기록했다.\\xa0전반기까지 백신 접종률 25를 달성하기 위해 정부가 2차분 백신까지 미리 사용한 결과다. 또 아스트라제네카 백신의 접종 간격을 12주로 최대한 늘리고 폐기 직전의 잔여 백신까지 접종하는 등 백신을 아껴가며 사용했다. 그러나 계약과 달리 백신 수급은 원활하지 않아 백신 보릿고개를 피하지 못했다. 코백스를 통해 애초 6월 도입됐어야 할 아스트라제네카 물량이 7월 중순으로 미뤄지면서 교차 접종까지 하기로 했다. 교차 접종은 1차와 2차 접종 백신 종류가 다른 것을 말한다. 1차와 2차 접종 모두 동일한 백신으로 하는 것이 원칙이다.\\xa0앞으로도 백신 도입은 녹록지 않아 보인다. 김 교수는 \"6월30일 공개한 독일 큐어백 백신의 임상시험 3상 결과에서 예방 효과가 48로 나타났다. 백신으로 가치가 없는 셈이다. 이 백신이라도 성공했다면 백신 수급에 조금이라도 숨통이 트였을 텐데 아쉽다. 아스트라제네카와 소송을 진행 중인 유럽이 화이자 백신 18억 도즈를 구입하는 등 앞으로 백신 확보가 어려워질 전망이어서 국내 백신 도입은 또다시 불확실해졌다\"고 진단했다.\\xa0백신 부족 상황에서 엎친 데 덮친 격으로 젊은 층의 감염이 급증세다. 질병관리청에 따르면 7월6일 기준 코로나19 감염자 746명 중 40가 2030대다. 젊은 층이 자주 이용하는 클럽주점 등을 중심으로 변이 바이러스가 급속도로 퍼지고 있다는 것이 방역 당국의 분석이다. 6월 이후 발생한 주점클럽 관련 집단감염 사례는 21건에 확진자만 561명에 달한다. 젊은 층은 코로나19에 감염돼도 무증상이거나 경증만 보이고 활동 범위도 넓기 때문에 바이러스 전파 위험은 더 커질 것으로 보인다.\\xa0백신에는 중증 예방, 사망 예방, 감염 예방이라는 세 가지 이점이 있다. 2월26일 국내에서 백신 접종을 시작하면서 코로나19 감염으로 인한 중증과 사망은 눈에 띄게 줄어들었다. 코로나19 치사율은 7월6일 기준 1. 26다. 그렇지만 같은 치사율이라도 감염자가 늘어나면 절대 사망자 수도 증가한다. 예컨대 같은 1 치사율일 때 감염자 100명에서는 1명이 사망하지만 1000명일 때는 10명으로 늘어난다. 물론 백신을 맞은 노인이 많아도 지역사회에 감염자가 많을수록 돌파 감염 등의 위험이 커지며 일부는 중증이나 사망에 이를 수 있다.\\xa0매주 2배씩 증가하는 델타 변이 바이러스 감염\"국민의 90는 델타 변이 바이러스에 취약한 상태\"\\xa0더 우려되는 대목은 백신이 변이 바이러스를 충분히 예방하지 못한다는 점이다. 인구 930만 명 중 1차 접종을 한 사람이 562만 명, 2차 접종까지 마친 사람이 520만 명인 이스라엘은 6월 중순만 해도 코로나19 하루 감염자가 한 자릿수였지만, 6월30일 300명을 넘긴 이후 줄어들지 않고 있다.\\xa0이스라엘 보건부가 실태를 파악한 결과, 최근 화이자 백신을 2차까지 맞아도 예방 효과가 기존 94에서 최근 64로 떨어졌다. 그 주범으로 델타 변이 바이러스가 지목됐다. 이스라엘에서 신규 감염자 중 델타 변이 바이러스 감염자는 90에 이른다. 또 아스트라제네카 백신은 2차까지 모두 맞았을 때 델타 변이 바이러스 예방 효과가 66인 것으로 알려졌다.\\xa0국내에서 백신 1회 접종률은 30지만 2회 접종률은 10다. 김 교수는 \"화이자 백신이 델타 변이 바이러스를 88까지 예방한다는 얼마 전 영국 발표를 듣고 다소 안심했는데, 이스라엘 연구 결과를 보니 당황스럽다. 그런데도 델타 변이 바이러스가 국내로 유입될 때 방역 당국은 델타 변이 바이러스가 백신 효과를 떨어뜨린다는 증거가 없다는 말도 안 되는 소리를 했다. 더 많은 연구 결과가 나와봐야 정확히 알 수 있겠지만, 백신 1차 접종만으로는 델타 변이 바이러스 예방 효과가 떨어지는 점은 사실이다. 현재 국내에서 2차 접종을 마친 사람이 10이므로 90는 델타 변이 바이러스에 취약한 상태\"라고 강조했다.\\xa0국내 주요 4종 변이 바이러스알파베타감마델타 감염자는 7월6일 기준 2817명으로 집계됐다. 이 가운데 델타 변이 바이러스 감염자는 416명이다. 역학적 관련 사례547명까지 더하면 국내 델타 변이 바이러스 감염자 수는 1000명에 육박한다.\\xa0최근 일주일6월27일7월3일 유전자 분석을 통한 국내 변이 바이러스 검출률은 50. 1다. 코로나19 감염자 2명 중 1명은 변이 바이러스 감염자라는 소리다. 변이 바이러스 검출률이 30이던 6월5일 이후 한 달이 채 되지 않은 사이에 급격히 증가한 셈이다. 감염 사례 전체 중 일부만 변이 바이러스 검사를 진행하므로 실제 변이 바이러스 감염은 이보다 더 많다고 봐야 한다.\\xa0특히 델타 변이 바이러스 검사에 1주일이 소요되는 등 역학조사가 확산 속도를 따라가지 못하는 점을 고려하면 지역사회에 이미 델타 변이 바이러스 감염자가 상당수 퍼져 있을 것으로 보인다. 게다가 델타 변이 바이러스는 주요 4종 변이 바이러스 가운데 전파 속도가 가장 빠르다. 오리지널 코로나바이러스보다 알파영국형 변이 바이러스는 전파 속도가 약 40 빠르다. 알파 변이 바이러스보다 델타 변이 바이러스의 전파 속도는 약 60 빠르다. 델타 변이 바이러스는 오리지널 코로나바이러스보다 2배 빠르게 확산하는 셈이다.\\xa0이는 국내에서도 확인된다. 6월26일 델타 변이 바이러스 누적 감염자는 263명이었으나, 일주일 만에 416명으로 2배 증가했다. 권덕철 보건복지부 장관은 \"델타 변이 바이러스 환자가 2주 전 30여 명 나왔고, 1주일 전에는 70여 명 늘었는데, 이번 주엔 150여 명 증가했다. 증가폭이 매주 2배씩 커지고 있다\"고 말했다. 이미 세계적으로 델타 변이 바이러스는 \\'지배종\\'이 될 것이 확실시된다. 세계보건기구WHO는 7월3일 스위스 제네바 WHO 본부에서 열린 기자회견에서 \"델타 변이 바이러스는 전파력이 두드러지게 높아 세계적으로 지배종이 되는 과정에 있으며 이는 상당히 진척돼 있다. 델타 변이 바이러스가 지금까지 100개국에서 확인됐다. 전 세계가 매우 위험한 시기에 놓여 있다\"고 경고했다.\\xa0이 와중에 외국에서 델타 플러스 변이 바이러스까지 출현했다. 아직 초기여서 전파력, 치사율, 백신 효과 저하 등에 대한 자료가 없다. 그렇지만 국민의 80가 1차 접종을 마쳤고 2차 접종률도 60가 넘는 영국에서 델타 변이 바이러스 감염이 전체 감염의 99에 이르는 점을 볼 때 델타 플러스 변이 바이러스 확산도 예의주시할 사항이다.\\xa0방역보다 접종에 집중하는 반쪽짜리 방역 정책거리 두기집합 금지마스크 착용손 씻기 등 방역수칙 절대 필요\\xa0감염병 확산을 막기 위해 가장 중요한 것 두 가지는 백신 접종과 강력한 방역 정책이다. 백신이 부족하고 변이 바이러스까지 유행하는 시기에는 방역 정책이 유일한 무기다. 우리는 이미 과거에 신종플루, 사스, 메르스, 그리고 지난 1년간의 코로나19 유행을 경험하면서 그 사실을 깨달았다. 그러나 정부는 오히려 방역 수준을 낮추는 데 집중한다는 지적을 받는다. 김 교수는 \"하루 감염자를 세 자릿수에서 더 낮추지 못하는 것, 백신 선구매에 실패하면서 백신 부족 현상이 발생한 것, 변이 바이러스가 매주 2배씩 증가하는 동안 외부 유입을 막지 못한 것 등에 대해 정부는 사과 한마디 하지 않았다. 그러면서 방역을 느슨하게 유지할 궁리만 한다\"고 지적했다. 실제로 방역 당국은 그동안 전문가의 조언보다 낮은 수준으로 방역 정책을 고수해왔다. 그러다가 코로나19가 확산하면 방역 수준을 높이는 대신 기존 방역 수준을 유지하면서 \\'5인 이상 집합 금지\\'와 같은 추가 사항을 덧붙이거나 \\'0. 5단계\\'와 같이 기존 원칙에 없는 것을 만들었다. 전반기6월까지 백신 1차 접종률 목표치 25를 달성한 후에는 아예 야외에서 마스크를 벗도록 한다는 방역 완화 조치를 예고했다. 그러자 국민의 경각심은 바닥으로 곤두박질쳤다. 늘 그랬듯이 경각심이 해이해지자마자 코로나19 하루 감염자는 7월 7001200명대로 급증했다. 결국 방역 당국은 수도권 거리 두기 개편안 적용을 일주일 유예하고 실내외 마스크 착용을 다시 의무화하는 등 방역 대책을 잇달아 번복하면서 신뢰를 잃었다.\\xa078월 여름 휴가철을 맞아 인구 이동도 늘면서 코로나19 4차 유행파는 본격적으로 시작될 전망이다. 김 교수는 \"경제를 살린다는 명분으로 오락가락하는 방역 정책으로는 오히려 자영업자들이 더 힘들다. 거리 두기를 완화한다고 발표하자 한 뷔페식당은 음식 재료를 많이 준비했는데 거리 두기 완화를 연기하면서 음식 재료를 모두 폐기해야 할 상황이라는 소식도 있었다. 원칙 없이 갈지자를 그리는 정책이 반복될수록 국민은 정부를 신뢰하지 않고 경각심도 덩달아 떨어진다. 현재 병원은 다른 질환으로 입원한 환자로 가득한데, 최근 코로나19 격리치료를 받는 환자도 5000명대에서 6000명대로 늘었다. 앞으로 병상 확보도 문제\"라고 지적했다.\\xa0국민의 70 백신 접종으로 11월 집단면역을 형성해 코로나19에서 벗어나려는 목표는 불투명한 상황을 맞았다. 그러나 기회가 전혀 없는 것은 아니다. 백신에 너무 의존하지 말고 개인 방역수칙을 지키는 길이 현재로서는 가장 현명한 방법이다. 마스크 착용은 타인의 눈을 의식해서라도 잘 지키는 편이다. 그러나 거리 두기나 집합 금지에 대한 실천은 코로나19 유행 초기만 못하다. 예를 들면 서울시가 밤 10시 이후 한강 둔치 등 야외 공원에서 술을 마시지 못하게 하는 행정명령을 내렸지만 늦은 밤까지 술잔을 기울이는 사람이 많았다. 마리안젤라 시마오 WHO 사무부총장은 6월26일 스위스 제네바 WHO 본부에서 열린 정례 기자회견에서 \"백신 접종을 2차까지 마쳤다고 해서 안전하다고 생각해선 안 된다. 백신만으로는 델타 변이 바이러스의 지역사회 전파를 막을 수 없다. 지속적으로 마스크를 착용하고 혼잡한 곳을 피하고 환기가 잘되는 공간에 머무르며, 손을 자주 씻고 사회적 거리 두기를 유지해야 한다\"고 강조했다.',\n",
       " '오류를 우회하기 위한 함수 추가\\n \\n출처CNN두바이에서 세계에서 가장 깊은 다이빙풀이 생겨 화제다. 9일 CNN 등 외신에 따르면 두바이에서 수심 60m 깊이의 다이빙풀인 \\'딥 다이브 두바이\\'Deep Dive Dubai가 최근 개장했다. 이는 세계 신기록으로 종전 신기록을 보유했던 45m의 폴란드 \\'딥스팟\\'Deepspot 보다 15m나 깊은 셈이다. 딥 다이브 두바이는 1400만 리터의 물로 채워져있다. 이는 올림픽 경기를 실시하는 수영장 6개 수준이다. CNN에 따르면 이는 일반적인 다이빙풀장의 최소 4배 이상이다. 출처트위터기네스는 6월 27일 딥 다이브 두바이에 대해 \"가장 깊은 다이빙 수영장\"이라는 타이틀을 수여했다. 딥 다이브 두바이는 현재 초청에 의해서만 입장할 수 있다. 하지만 내년에는 모든 방문객에 전면 공개될 방침이다. 첫 방문자 중 한 명인 두바이의 황태자 셰이크 함단 빈 모하메드 빈 라시드 알 막툼은 자신의 소셜 미디어에 방문 경험을 전하기도 했다. 출처CNN',\n",
       " '오류를 우회하기 위한 함수 추가\\n \\n실종된 지 일주일 만에 숨진 채 발견된 만삭의 피해 여성. 더선\\n브라질에서 임신 8개월차 여성이 실종 일주일 만에 태아가 사라진 상태로 숨진 채 발견된 사건이 뒤늦게 알려졌다. 8일현지시간 영국 매체 더선에 따르면 브라질 리우데자네이루에서 지난해 9월 3일 실종된 여성 다이사 캄포스 도스 산토스23가 일주일 만에 인근 철도에서 싸늘한 주검으로 발견됐다. 산토스는 임신 8개월이었으나 시신에서 태아는 발견되지 않았다. 시신은 이미 부패가 상당히 진행된 상태였다. 담당 법의학교수는 누군가 아기를 납치하기 위해 의도적으로 피해 여성을 살해했을 가능성이 크다며 아기는 살아있을 것이라고 예상했다. 이 여성은 불륜 관계였던 한 기혼남성의 아이를 임신 중이었던 것으로 알려졌다. 해당 남성의 소재는 파악되지 않았다. 숨진 여성의 모친은 딸이 강제로 출산을 당하고 살해된 것 같다라고 말했다. 용의자 추적에 나선 현지 경찰은 아직도 범인을 찾지 못했다. 리우데자네이루 경찰은 미흡한 증거로 인해 수사에 난항을 겪고 있다고 밝혔다.',\n",
       " '오류를 우회하기 위한 함수 추가\\n \\n암 환자에게 줄기세포와 골수를 이식해주기 위해 유럽축구 선수권대회유로2020 4강전 관람을 포기한 영국의 20대 남성이 결승전에 초대 받았다. 대표적인 축구 강국인 영국과 이탈리아가 맞붙는 이번 결승전은 암표 가격이 장당 5만4000파운드약 8500만 원까지 치솟을 정도로 유럽에서는 일생의 경기로 통하고 있다.\\n영국 BBC에 따르면 영국 웨스트미들랜드 세들리 출신의 샘 에슬리24는 7일현지 시간 여자친구인 베스 힐과 함께 런던 웸블리 경기장에서 잉글랜드 대 덴마크의 4강전을 관람할 예정이었다.\\n하지만 공교롭게 다른 일정이 겹쳤다. 6주 전 에슬리는 영국 자선단체 앤서니 놀란을 통해 혈액암 환자를 위한 줄기세포 및 골수 기증에 서약했는데 기증 수술 날짜가 4강전 경기일인 7일로 잡힌 것이다. 에슬리는 잠시 고민했지만 결국 경기 관람을 포기하고 엉덩이뼈에서 줄기세포를 채취하는 수술을 받았다. 수술을 무사히 마친 에슬리는 병상에 누워 TV 중계로 4강전을 지켜봤다고 외신은 전했다.\\n이 훈훈한 사연은 지역 매체에 보도됐고 잉글랜드의 전설적인 스트라이커 게리 리네커가 놀라운 일이라며 트위터에 공유하면서 화제가 됐다. 이를 알게 된 유로2020 공식 후원사 비보는 트위터를 통해 우리는 11일 열리는 잉글랜드와 이탈리아의 결승전에 에슬리를 초대하고 싶다. 그는 그 경기를 관람할 자격이 있고, 우리는 그렇게 하고 싶다고 밝혔다. 비보는 에슬리와 그의 여자친구를 결승전에 공식 초청했다.\\n남자친구와 함께 경기 관람을 포기했던 에슬리의 여자친구 베스 힐은 병원에서 간호사로 근무하며 신종 코로나바이러스 감염증코로나19 중환자를 돌봐온 것으로 알려져 감동을 더했다. 에슬리가 줄기세포를 기증한 단체 앤서니 놀란의 헤니 브런드 최고경영자는 에슬리는 일생 일대의 경기 관람 기회를 제쳐두고 골수를 기증했다. 그는 진정한 영웅이라고 트위터를 통해 감사 인사를 전했다.',\n",
       " '오류를 우회하기 위한 함수 추가\\n \\n체포된 암살 용의자들 아이티 경찰이 수도 포르토프랭스의 외곽 고급주택가에서 발생한 조브넬 모이즈 대통령 암살 사건 다음날인 8일 체포한 용의자들을 감시하고 있다.\\nAP 연합뉴스용의자 17명 체포8명 도주 중 2명은 아이티 출신의 미국인 폐쇄됐던 국제공항 운영 재개7일 발생한 조브넬 모이즈53 아이티 대통령 암살사건과 관련해 체포된 용의자 중 2명이 미국 시민권자로 확인되면서 암살 배후를 둘러싼 의혹이 가라앉지 않고 있다. 이번 암살에는 현재까지 28명이 관여된 것으로 확인됐으며, 숨진 모이즈 대통령의 몸에서 모두 12개의 총탄 자국이 발견됐다. 8일 AP통신, AFP통신 등에 따르면 레옹 샤를 아이티 경찰청장은 이날 기자회견에서 적어도 28명이 모이즈 대통령 암살에 가담했다며 26명은 콜롬비아인이고 나머지 2명은 아이티 출신 미국인이라고 밝혔다. 그는 경찰의 용의자 추적 과정에서 현재까지 미국인 2명을 포함해 17명이 체포됐으며, 8명은 아직 도주 중이라고 설명했다. 눈길을 끄는 부분은 최소 28명에 달하는 대규모 암살단 중 미국인 2명이 포함된 점이다. 워싱턴포스트WP는 용의자 중 한 명은 제임스 솔라주라는 이름의 아이티 출신 미국인이고, 다른 용의자 한 명도 아이티계 미국인이라고 보도했다. 솔라주는 과거 아이티 주재 캐나다 대사관에서 경호원으로 근무한 것으로 알려졌다. 네드 프라이스 미 국무부 대변인은 체포된 용의자 중 미국인 포함 여부에 관해서는 확인해줄 수 없다고 밝혔다. 암살 당시 정황도 추가로 확인됐다. 카를 앙리 데스탱 판사는 현지언론 인터뷰에서 모이즈 대통령의 시신에서 총탄 자국 12개를 발견했다고 밝혔다. 모이즈 대통령은 발견 당시 피로 얼룩진 흰 셔츠, 파란 바지를 입고 입을 벌린 채 누워 있었으며 이마와 가슴, 엉덩이, 배 등에서 총탄 자국이 확인됐다. 당시 사저에 함께 있던 딸 조말리에는 방에 숨어 화를 피했고, 가사도우미 등은 암살범들에 의해 포박된 상태였던 것으로 알려졌다. 아이티 안팎에서는 누가 대통령직을 대신할지를 놓고 이견이 나오고 있지만 일단 클로드 조제프 임시총리에게 힘이 실리고 있다. 헬렌 라라임 유엔 아이티 특사는 조제프 임시총리가 오는 9월 26일 대선 전까지 아이티 정부를 이끌 것이라고 밝혔다. 사건 직후 아이티 전역에 계엄령을 선포했던 조제프 임시총리는 이날 용의자들이 대부분 붙잡힘에 따라 폐쇄됐던 국제공항 운영을 재개하고 경제활동을 정상화했다.',\n",
       " \"\\n오류를 우회하기 위한 함수 추가\\n \\n앵커국제원자력기구 IAEA가 일본과 후쿠시마 원전 오염수의 해양 방류가 안전한지를 검증하는 데 협력하기로 합의했습니다. 이에 따라 곧 검증단이 구성되는데 한국의 전문가도 참여할 것으로 보입니다. 보도에 김형근 기잡니다.기자국제원자력기구 IAEA와 일본은 후쿠시마 원전 오염수의 안전성과 규정을 검증하는 데 협력하기로 했습니다. 오염수의 해양 방류가 사람과 환경에 미치는 영향을 평가하는 데도 협력하기로 했습니다. 이번 합의에 따라 IAEA 내에 태스크포스가 설치됩니다. 오염수 방류 과정을 확인할 검증단도 구성됩니다.라파엘 마리아노 그로시  IAEA 사무총장 : 우리는 방류 전후로 일본과 긴밀히 협력할 것입니다. 안전 검증단을 일본에 보낼 것입니다.검증단에는 한국을 포함해 중국, 미국, 프랑스 등 11개국 전문가들이 참여할 것으로 알려졌습니다. 한국에서는 김홍석 한국원자력안전기술원 책임연구원이 참여할 것으로 보입니다. 김 연구원은 원자력 분야 권위자로 UN 방사선영향과학위원회 한국 대표로 활동하고 있습니다. 검증단은 첫 임무로 올해 말 일본을 방문할 것으로 예상됩니다. 하지만 IAEA가 일본의 방류 결정이 국제관행에 부합한다고 밝힌 상황에서 검증단이 이를 막을 수 있을지는 불투명합니다.라파엘 마리아노 그로시  IAEA 사무총장 : 일본이 선택한 방법은 기술적으로 실현 가능하고 국제관행에도 부합합니다.IAEA는 이번 발표에서도 '오염수' 대신 일본 정부가 주장하는 '처리수'라는 용어를 사용했습니다. IAEA와 별도로 우리 정부가 추진하는 일본과 양자 협의체 구성은 시간이 더 걸릴 전망입니다. 일본 정부는 한국의 협의체 구성 제안에는 아직 응하지 않고 있습니다. YTN 김형근입니다,\",\n",
       " '오류를 우회하기 위한 함수 추가\\n \\n천둥과 번개를 동반한 강한 비가 쏟아지던 지난달 25일, 미국 캔자스주의 고속도로입니다. 뒤에 자전거를 매달고 달리던 차량에 갑자기 벼락이 떨어집니다. 그것도 무려 4번 연속 내리칩니다. 벼락 맞은 차량은 엔진이 꺼지면서 도로 위에 그대로 멈춰버립니다. 이 모습은 바로 뒤에서 달리던 차량의 블랙박스에 고스란히 찍혔습니다. 사고 차량에는 부부와 8개월, 1살, 3살 된 3명의 아이가 타고 있었습니다. 다행히도 이들 5명 모두 아무런 부상 없이 무사한 것으로 알려졌습니다. 사고 차량 운전자는 현지 언론과의 인터뷰에서 \"당시 무슨 일이 일어났는지 몰랐다\"며 \"번쩍임과 함께 4번의 큰 소리를 들었다\"고 설명했습니다. 그러면서 나중에 이 충격적인 영상을 보고서 \"믿을 수 없을 만큼 운이 좋았다\"고 밝혔습니다. 운전 중에 번개가 치면 차에서 내리지 말고 창문을 올린 채 차량 안에 머무는 게 안전합니다. 자동차가 금속으로 돼 있어서 전기가 차량 표면과 타이어를 타고 땅으로 빠져나가 일종의 벙커 역할을 합니다.',\n",
       " '오류를 우회하기 위한 함수 추가\\n \\n존슨 中 기업에 팔리면 안보 위협 우려넥스페리아의 英 반도체 기업 NWF 조사국적만 네덜란드, 中 윙테크 지분 100반도체 부족 장기화 속 對中견제 강화보리스 존슨 영국 총리. 로이터 연합뉴스\\n영국 정부가 자국 최대 반도체 위탁생산파운드리 기업에 대한 중국 자본의 인수합병MA에 제동을 걸고 나섰다. 글로벌 반도체 칩 부족 사태가 장기화하고 미국 등 서방 국가들의 중국 견제가 강화되는 가운데, 자국 반도체 기술이 중국으로 유출되는 것을 막기 위한 조치로 해석된다. 7일현지 시각 로이터통신에 따르면 영국 정부는 전날 중국 윙테크 테크놀로지가 소유한 네덜란드 반도체 기업 넥스페리아의 영국 최대 반도체 사업체인 뉴포트 웨이퍼 팹NWF 인수를 전면 조사키로 했다. 보리스 존슨 총리는 의회에 출석해 국가안보보좌관에게 이 사안을 면밀히 주시할 것을 주문했다며 영국 기업이 중국 계열 기업에 팔려 실제적 안보 위협에 처할 우려에 대해 조사할 것이라고 했다. 웨일스 남부 뉴포트에 위치한 NWF는 차량용 반도체부터 5G, 안면인식기술에 쓰이는 복합 반도체를 제조 및 공급해온 업체다. 자국 유명 대학들과 반도체 기술 연구 분야에서 협력 관계도 맺고 있다. 지난 5일 넥스페리아가 NWF 인수 계획을 공식 발표했다. 넥스페리아의 국적은 네덜란드이지만 중국 모바일 단말기 제조회사 윙테크가 지분 100를 보유하고 있어 사실상 중국계 기업이다. 그런데 최근 윙테크 지분의 30 이상이 중국 공산당과 연관됐다는 보도가 나왔다. 미 경제전문매체 CNBC는 중국 투자심사 전문기업인 다테나Datenna를 인용해 넥스페리아를 소유한 윙테크가 중국 정부의 막대한 자금 지원을 받고 있다며 넥스페리아 역시 중국 정부의 강력한 영향력 아래 놓여 있다고 전했다. 영국 정치권은 즉각 반발하고 나섰다. 집권 보수당 전직 당수인 이안 던컨 스미스는 NWF를 매각하는 것은 국가적 재난이라며 정부가 나서 인수를 막아야 한다고 주장했다. 보수당 소속 하원 외무특별위원회 위원장인 톰 투겐트하트 의원도 기업부에 서한을 보내 NWF는 200 실리콘과 반도체 기술 개발, 가공 설비 분야에서 영국을 이끌고 있다며 중국 기업에 넘어가면 경제국가안보 위협이 우려된다고 했다. 9일 중국 베이징 증권규제위원회CSRC 건물 밖에 중국 국기가 펄럭이고 있다. 로이터 연합뉴스\\n일각에선 2016년과 2017년 영국 반도체 업체 ARM과 그래픽 칩 업체 이미지네이션테크놀로지가 각각 일본 소프트뱅크, 중국계 투자회사 캐니언브릿지에 매각된 전철을 밟지 말자는 지적도 나온다. 영국 기업법은 정부가 30일 내로 자국 기업의 인수합병 거래 허가 여부를 결정하도록 명시하고 있다. 이 기간 내 결정이 나지 않더라도 추가 조사 요청이 가능하다. 특히 올해 초 의회를 통과한 안보법에 따라 국가 안보에 위협이 된다고 판단될 경우 정부가 최대 5년 간 심사 후 인수합병 거래를 취소할 수 있다. 영국 정부의 이러한 조치는 올해 초 영국이 홍콩인을 대상으로 이민 신청 문호를 확대하면서 중국과 정치적으로 대립하는 가운데 나왔다. CNN은 중국의 코로나19 대응과 인권 탄압으로 대對중국 부정 여론이 확대된 것과도 무관치 않다고 분석했다. 이민 문제가 중국에 대한 반발 여론을 타고 도덕적 의제로 탈바꿈했다는 것이다. 블룸버그통신은 이번 매수 계획이 저지될 경우 미중 무역분쟁의 주요 분야인 반도체 산업에 대해 영국 정부가 대중국 강경 기조를 강화했다는 확실한 메시지를 주는 셈이라며 중국 정부가 강력하게 반발할 것이라고 내다봤다.',\n",
       " \"오류를 우회하기 위한 함수 추가\\n \\n동아ST는 당뇨 치료제 후보물질을 병용투여해 임상 성공률을 높이는 전략을 준비 중이다. 동아ST 신약연구소의 의약연구3실장인 김미경 연구위원은 복합제를 개발해 지방간 축적과 염증섬유화를 막겠다고 말했다.\\n이 기사는 05월 21일11:07 바이오. 제약, 헬스케어 전문매체 한경바이오인사이트에 게재된 기사입니다김미경 동아ST 연구위원. NASH 치료제로 개발 중인 'DA1229'는 혈당 개선뿐 아니라 간세포의 지방산 생합성도 억제한다.  동아제약 제공동아ST와 레드엔비아가 NASH 치료제로 개발 중인 DA1229는 슈가논성분명 에보글립틴이라는 당뇨약 이름으로 더 알려져 있다. 2016년 국내 출시된 DPP4 억제제인 슈가논은 지난 1분기 제품군 처방액 72억 원을 기록했다. 이 회사는 DPP4 단백질을 억제해 지방 축적을 억제하면 NASH 치료도 가능할 것으로 기대하고 있다. DPP4는 혈당을 낮춰주는 GLP1 호르몬을 분해하는 효소다. DPP4의 작용을 억제하면 체내 GLP1 호르몬 농도가 증가돼 인슐린 분비가 촉진되고 식후 혈당이 개선되는 효과를 볼 수 있다. 당뇨 치료제로 NASH 병용투여 임상 추진 DPP4 억제제는 간세포의 지방산 신합성도 억제한다. 지방산 신합성이란 세포질 내 합성 작용을 통해 탄수화물 등의 물질이 지방으로 바뀌는 작용이다. 지방산 신합성이 활발히 일어나면 세포질 안에 지방이 과다 축적된다. 지방으로 속이 빵빵해진 세포는 산화 스트레스가 증가해서 염증을 일으키는 사이토카인을 분비한다. DA1229는 이 지방산 신합성 과정을 차단해 간세포의 지방 축적을 막는다. DPP4 억제제는 면역세포 활성화를 억제해 염증 진행을 막는 효과도 있다. 섬유화가 일어나기 전 단계에서 지방간 축적을 막고 염증을 억제하는 게 DA1229의 NASH 치료 기전이다. NASH 치료제로서 DA1229에 주목한 건 동아ST만이 아니었다. 미국 제약사 토비라는 개발 중이던 NASH 치료 후보물질인 세니크리비록을 복합제로 개발하기 위해 2016년 DA1229를 도입했다. 하지만 토비라가 앨러간에 인수되면서 2017년 이 물질의 개발 권리가 반납됐다. 앨러간은 대신 노바티스와 손을 잡고 복합제를 개발 중이다. 현재 DA1229의 NASH 대상 단일제 및 동아ST 약물을 제외한 복합제 개발 권리는 레드엔비아가 갖고 있다. 이 회사는 동아ST와 서울아산병원이 세운 합작법인이다. 동아ST는 병용투여로 임상을 진행할 계획이다. 섬유화를 억제할 수 있는 다른 약물을 함께 투여해 치료 효과를 높이겠다는 것이다. 이미 DA1229와 함께 쓸 두 번째 무기도 확보해뒀다. 병용투여 할 후보물질 자체 확보 이 회사의 두 번째 카드는 혁신신약으로 개발 중인 DA1241이다. 슈가논처럼 당뇨병 치료 목적으로 개발한 후보물질이다. 현재 국내에서 전임상을, 미국에서 임상 1b상을 마친 상태다. DA1241은 GPR119와 결합해 작용한다. GPR119는 췌장 베타세포에 존재하는 수용체다. 활성화하면 포도당지질 등의 대사 작용을 통해 인슐린 분비를 촉진한다. 이 후보물질은 동물실험에서 지방간 감소와 염증섬유화 억제 모두에 효과를 냈다는 게 김 연구위원의 설명이다. 우선 DPP4 억제제처럼 간에서 지방산 신합성을 억제해 지방간 감소 효과를 낸다. 염증이 일어난 세포에선 염증성 사이토카인의 활성화를 억제해 염증 반응을 막는다. 마지막으로 간 성상세포의 활성화를 억제하는 방식으로 콜라겐 생성을 차단해 섬유화를 억제한다. 김 연구위원은 전임상에서 염증이 생겼을 때 증가하는 TNF알파, IL6 등의 혈중 농도 감소 효과를 확인했다며 염증억제 효과가 크다면 당뇨와 NASH 외에 다른 질환으로도 적응증 확대가 가능하다고 말했다. 다만 임상 일정은 NASH보다 당뇨가 빠르다. 동아ST는 빠른 시일 내에 단독제로 당뇨 임상 2상 시험계획IND을 신청할 계획이다. NASH 복합제로선 약물 상호작용을 확인하는 임상 1상이 따로 필요하다. 김 연구위원은 DA1241은 6개월간 인체 투약을 위한 안전성 자료가 확보돼 있지만 복합제 형태로는 안전성이 다르게 나타날 수 있어 전임상을 해야 한다고 말했다. 또 다른 카드도 있다. 동아ST는 비만당뇨병 대상 펩타이드 주사제로 개발 중인 DA1726을 NASH 치료에 활용하는 것도 검토 중이다. 이 파이프라인은 GLP1 수용체와 글루카곤 수용체에 동시 작용한다. GLP1 수용체에 작용하면 혈당 감소 효과가, 글루카곤 수용체에 작용하면 체중 감소 효과가 뚜렷하다. 김 연구위원은 두 수용체 중 어느 한쪽에 치우쳐 작용하지 않아 고루 효과를 낼 수 있는 게 이 후보물질의 장점이라고 말했다. DPP4 억제제로 심장판막 질환 임상 23상 진행 당뇨 치료 후보물질을 쓸 수 있는 새 적응증은 NASH 만이 아니다. 레드엔비아는 DA1229로 대동맥심장판막석회화증 치료에도 도전하고 있다. 이 질환은 좌심실 대동맥에 있는 판막이 염증 이후 석회화로 딱딱해지는 질환이다. 판막은 혈액 역류를 막는 역할을 한다. 섬유화가 진행된 판막은 혈류 흐름을 저해해 심각한 통증을 일으킨다. 이 질환은 60대 이상 노령층의 7가량에서 발병한다. 이 들 환자 상당수가 통증을 느끼고 23년 뒤에 사망한다. 치료제가 없어 인공판막을 삽입하는 것 외엔 별수가 없다. DPP4는 인슐린유사성장인자인 IGF1을 억제한다. IGF1은 판막혈관세포에서 판막 석회화를 막아주는 작용을 한다. DPP4 저해제인 DA1229를 투여하면 IGF1이 활성화돼 석회화 억제 효과를 낼 수 있다는 게 김 연구위원의 설명이다. 레드엔비아는 지난해 9월 미국 식품의약국FDA에서 이 질환을 대상으로 임상 23상 IND를 승인받았다. 국내에선 임상 2상 환자를 모집 중이다. 애널리스트 분석1일 1회 투약 제형 개발 가능 by 문경준 IBK투자증권 연구원 DA1241은 NASH를 추가 적응증으로 해 임상을 확대할 수 있다. 동물 대상 투약 결과 혈당 강하 효과와 함께 식후 혈장 지질 농도 증가를 억제하는 효과를 보여줬다. 1일 1회 투약 제형으로 개발 가능할 전망이다. 기술이전 가능성도 있다. 이주현 기자이 기사는 한경바이오인사이트 매거진 2021년 5월호에 실렸습니다.\",\n",
       " '오류를 우회하기 위한 함수 추가\\n \\n지대윤 퓨쳐켐 대표와 조상래 젠큐릭스 대표의 만남\\n이 기사는 05월 26일09:23 바이오. 제약, 헬스케어 전문매체 한경바이오인사이트에 게재된 기사입니다암과 뇌 질환 치료는 인류의 오랜 숙제다. 이런 질병을 조기에 발견할 수 있는 진단제품을 만드는 회사들 역시 많은 주목을 받고 있다. 분자진단 전문 기업인 조상래 젠큐릭스 대표가 방사성 의약품을 활용한 진단제, 치료제를 만드는 지대윤 퓨쳐켐 대표에게 궁금한 점은 뭘까. 이들의 대화를 글로 담았다. 지대윤 퓨처캠 대표사진 왼쪽, 조상래 젠큐릭스 대표  사진신경훈 기자조상래 대표이하 조 26년 동안 잡았던 교편을 놓으시고 이제 경영에 집중하고 계십니다. 소회가 궁금합니다.지대윤 대표는 지난해 8월 서강대를 정년 퇴임했다. 1995년부터 시작해 약 26년 동안 대학에서 후학을 양성했다.지대윤 대표이하 지 작년까지만 해도 월수금은 회사에, 화목토는 학교에 있었습니다. 박사를 딴 제자들도 많습니다. 지금은 회사 경영에 더 몰두할 수 있는 것 같아요. 조 교수를 하시다가 회사를 시작한 계기가 궁금합니다. 지 창업을 하겠다는 마음보다는 연구를 오랫동안 하고 싶었습니다. 약 20년 전만 해도 교수 나이 55세가 되면 연구비가 끊겼습니다. 40대에 접어들자 10년 정도 연구를 더하면 인생이 끝나겠다는 생각이 들었어요. 제겐 연구가 곧 인생이었거든요. 그래서 자체적으로 연구비를 충당하기 위해 회사를 만들었습니다. 조 돈이 아닌 연구를 더 하기 위해 창업을 하셨다니 대단하십니다. 지 그런데 막상 55세가 되니, 연구비가 넘쳐나더라고요. 이곳저곳에서 연구비 지원이 많아졌죠. 굳이 창업을 하지 않았어도 된 셈이 됐어요. 다행히 이를 기회로 사업이 무르익었고, 2014년엔 올인해도 되겠단 확신이 들었습니다. 조 좋은 인력이 배출됐고, 많은 제자들이 퓨쳐켐에 몸담고 있다고 들었습니다. 지 그럼요. 화학합성의 한 종류인 유기합성을 전공한 인력이 정말 없어요. 그런 면에선 도움을 많이 받았죠. 회사에 한번 들어온 사람들의 인력 이동이 거의 없기도 합니다. 그럼에도 좋은 인력은 끊임없이 데려오려고 노력하고 있습니다. 이직 없이 오랜 기간 회사에 몸담은 직원들이 회사의 버팀목이죠.퓨쳐켐의 직원은 110여 명이다. 바이오 벤처 기업으로서는 비교적 많은 인원이다. 방사성 의약품이란 조 저도 이 업계에 있지만 방사성 의약품은 다소 생소한 분야입니다. 한국에서도 많은 회사들이 뛰어든 분야는 아니죠? 지 맞습니다. 방사성 의약품은 방사성동 위원소와 펩타이드 등을 붙여 치료제나 진단용으로 사용하는 겁니다. 펩타이드가 암세포에 가도록 설계를 한 뒤 혈액을 타고 다니다가 암세포에 붙어 방사선을 방출함으로써 암세포를 파괴하는 방식입니다. 조 치료제와 진단제의 구성 성분이 같나요? 지 네, 그렇습니다. 암세포에 붙어서 폭탄과 같이 강하게 폭발해 암세포를 죽이면 치료제로, 폭죽처럼 세포 손상을 최소화하면서 불꽃만 튀기면 진단용으로 쓰입니다. 물론 진짜 불꽃은 아닙니다. 양전자방출 컴퓨터단층촬영PETCT으로 잘 볼 수 있도록 돕는 것이죠. 기본적으로 진단이 잘되면 치료도 잘할 수 있는 작용 기전입니다.이 회사가 가장 중점을 두고 있는 파이프라인은 전립선암 치료제와 전립선암 진단 분야다. 치료제 FC705는 현재 한국에선 임상 1상, 미국에선 올해 2분기께 임상 1상에 들어간다. FC705는 방사성동위 원소인 루테튬177lutetium177과 전립선암세포와 전이암세포에 많이 발현되는 단백질인 PSMA 표적 펩타이드를 조합한 것이다.조 바꿔 말하면 진단제 개발 없이는 치료제도 없겠군요. 지 정확한 말씀입니다. 조 노바티스가 나스닥 상장사인 엔도사이트란 방사성 의약품 회사를 인수하면서 21억 달러약 2조2000억 원 정도를 지불했습니다. 이 회사의 파이프라인은 전립선암 치료제 PSMA617 하나였습니다. 글로벌 2상 임상 단계였죠. 노바티스와 퓨쳐켐 간에 어떤 차이가 있을까요. 지 PSMA617은 1세대, FC705는 이보다 진화한 2세대로 보고 있습니다. 저희 약물이 더 낫다는 뜻입니다. 저희 제품은 PSMA617에 알부민이라는 단백질을 붙였습니다. 알부민은 약물을 보호하는 역할을 합니다. 정상세포에서 터지는 등의 문제, 즉 부작용을 줄이기 위해 붙인 것이죠. 조 해외 기업이고, 임상 단계가 높아서 좋은 평가를 받았나보군요. 지 그렇습니다. 하지만 노바티스의 PSMA617에 단점이 있습니다. 침샘이나 눈물샘, 신장에 흡수되는 양이 많습니다. 정상세포가 파괴되는 것입니다. 여러 번 투여해야 하는 치료제 특성상 신장이나 침샘, 눈물샘 등이 망가질 수 있다는 것이죠. 중간에 새는 약물이 많다 보니 투여량도 많습니다. PSMA617은 한 번에 200을, FC705는 100 정도만 맞으면 될 겁니다. 조 퓨쳐켐의 시가총액은 2000억 원 안팎인데, 임상 단계 차이라고 보면 되겠군요. 지 낭중지추囊中之錐라고 봅니다. 주머니의 송곳은 튀어나올 수밖에 없습니다. 수년 안에 1조 원 이상의 가치가 있는 회사가 될 것이라고 생각합니다. 퓨쳐켐은 전 세계 방사성 의약품 회사 중에서 파이프라인이 가장 많은 회사입니다. 또 제품 생산시설도 갖추고 있습니다. 전국 다섯 곳에 각각 100억 원 정도를 투자했죠. 약물 생산 장비도 직접 제작했습니다. 교수 시절 기계공학과 교수와 함께 만들었죠.방사성 의약품은 반감기 때문에 진단제품의 경우 제조 후 10시간 이내에, 치료제는 67일 이내에 사용해야 한다. 방사성 의약품과 펩타이드를 합성하는 데엔 자동합성장치라는 기계가 쓰인다. 치료제 개발부터 장비까지 생산하는 회사는 전 세계에서 퓨쳐켐밖에 없다. 진단의료 시장이 중요한 이유 조 진단기업을 하다 보니 장비를 만드는 회사가 정말 갑이더라고요. 장비를 만들 수 있는 기술력은 큰 힘이 될 것 같습니다. 저희 역시 작년 6월에 상장한 후 그 자금으로 전용 장비를 만드는 회사를 샀습니다. 지 자연스럽게 얘기가 장비 분야로 가는 데, 정말 저는 중요하다고 생각합니다. 제품이 시장에 나오고, 생산능력을 빠르게 늘려야 하는데 장비회사가 안 된다면 기회를 놓칠 수 있어요. 갑이다 보니 비용을 높게 줘야 하는 상황도 비일비재합니다. 저희는 임상 시료를 만드는 의약품 제조 품질관리기준GMP의 공장도 만들었습니다. 조 대표님도 나중에 시료 만들 때 오시면 잘 만들어 드리겠습니다웃음. 조 네웃음. 주변에도 많이 소개할게요. 퓨쳐켐은 이미 알츠하이머 진단용 제품인 알자뷰와 파킨슨병 진단제품인 피디뷰를 시장에 내놓았습니다. 신약으로 분류되는데요, 이전에 없던 제품이라 시장 출시가 만만치 않았을 것 같습니다. 지 맞습니다. 제품이 출시된 지 오랜 시간이 지났지만 여전히 이 제품들은 비급여입니다. 보험이 되고 진단 환자가 많아지면 질병을 조기에 발견할 수 있습니다. 국가적으로 보면 진단용 보험 급여가 나가더라도 전체 질병에 대한 비용은 줄어들 것입니다. 하지만 당장 검사 비용이 아까워서 더 많은 기회를 놓치고 있는 것이죠.2018년 출시된 알자뷰는 한국에서 유일하게 쓸 수 있는 알츠하이머 진단 제품이다.조 검사 비용은 얼마나 되나요. 지 한국에선 약값이 약 400달러 수준인 데, 미국에선 같은 제품이 2700달러 정도 합니다. 미국은 보험 처리가 가능한데도 가격이 비쌉니다. 한국에서 낮게 받으면 해외서도 가격을 잘 받기가 어렵습니다. 하지만 한국 사정이 이렇다 보니 가격을 낮게 받을 수밖에 없어요. 누가 미국처럼 300만 원 이상을 주고 치매 진단을 하려고 하겠어요. 조 의료기기 회사들도 마찬가지입니다. 특히 제품을 처음 내놓으면 여러 규제가 있죠. 새로운 의료기기를 만들어 식품의약품안전처 허가를 통과해도 시장에 내놓으려면 신의료기술평가를 받아야 합니다. 그런데 신의료기술평가 문턱이 높아 첨단 의료기기의 시장 진입을 어렵게 해왔죠. 지 맞습니다. 특히 체외진단은 환자에게 해가 될 게 없어요. 안정성 문제가 없다는 것이죠. 그런데 이걸 막는 건 말이 안 되죠. 또 후배 창업자들에게 조언해주고 싶은 건 특허 관리를 잘하라는 겁니다. 공부를 많이 해야 합니다. 조 맞습니다. 최근엔 지식재산권IP 연구개발RD이란 개념도 생겼습니다. 내 특허가 어느 위치에 있는지, 자사의 특허에 구멍이 있는지를 확인해주는 것이죠. 한번 해봤는데 도움이 많이 됐습니다. 지 정부에서도 지원을 많이 해주죠. 꼭 활용해야 합니다. 또 특허를 갖고 있다고 해서 상품화에 문제가 없다고 생각하면 안 됩니다. 예를 들어, 제가 자전거에 붙이는 헤드라이트를 만들었다고 해서 헤드라이트 달린 자전거를 상품화할 수 있다고 보면 안 됩니다. 자전거 자체에 특허가 있기 때문에 이 문제를 해결해야 하는 것이죠. 조 쉽지 않은 문제인 것 같습니다. 지 바이오 벤처들은 특허 출원에 신중해야 합니다. 각 국가에서 특허권을 정식으로 획득하기 위해서는 해당 국가의 특허청에 그 국가의 언어로 작성된 특허신청서류를 다시 제출하는 국내단계진입이라는 절차를 거쳐야 합니다. 이 국내단계진입은 최초의 특허출원일로부터 30개월이내에 해야 하죠. 국가별 특허대리인을 선임해야 하고, 특허출원 서류에 대한 번역도 해야 하는 등 수억 원의 비용이 들어요. 30개월 이후엔 다른 회사들도 할 수 있는 셈인데, 이 기간을 놓쳐서 특허를 갖지 못하는 경우가 많습니다. 흑자 내는 바이오 벤처조 맞는 말입니다. 이 과정에서 특허를 놓치는 기업이 많아요. 이제 실적 얘기를 해볼까요. 지난 1분기에 거의 흑자에 가까운 실적을 냈다는 얘기를 들었습니다. 지 방사성 의약품은 재료비가 많이 들진 않아요. 사용자가 많을수록 이윤이 많이 남는 구조입니다. 매출이 작년 동기 대비 100 이상 늘었어요. 회사가 흑자로 진입하는 변곡점인 것 같습니다. 조 흑자를 내는 바이오 벤처는 정말 부럽습니다. 앞으로 계획이 궁금합니다. 지 미국에서 지금 하고 있는 전립선암 치료제의 임상 1상에 들어갑니다. 임상수탁회사CRO도 선정했습니다. 또 기술수출도 준비를 하고 있어요. 지난해 6500억원 규모로 했던 것 이상의 결과가 나올 것으로 기대하고 있습니다. 김우섭 기자이 기사는 한경바이오인사이트 매거진 2021년 5월호에 실렸습니다.',\n",
       " '오류를 우회하기 위한 함수 추가\\n \\n유원상 유유제약 사장\\n이 기사는 05월 24일09:54 바이오. 제약, 헬스케어 전문매체 한경바이오인사이트에 게재된 기사입니다올해 80돌을 맞은 전통의 제약사지만, 스포트라이트를 받는 회사는 아니었던 유유제약이 최근 언론에 자주 오르내리고 있다. 미국 명문대인 로스앤젤레스 캘리포니아대UCLA와 손잡고 한꺼번에 2개 신약뇌졸중 및 다발성경화제 개발 프로젝트를 내놓은 덕분이다. 여기에 내년쯤 임상에 들어갈 안구건조증 신약과 탈모전립선비대증 치료제 개량신약까지 더하면 파이프라인은 한층 더 풍성해진다. 이 모든 변화의 중심에 선 오너 3세 경영자인 유원상 사장에게 유유제약의 현재와 미래를 들었다. 80년된 전통의 제약사, 유유제약의 변화를 이끄는 유원상 유유제약 대표이사  사진김병언 기자안주란 없다, 유유제약의 새로운 도전 올해 팔순을 맞은 유유제약은 업력으로만 볼 때 제약업계의 맏형 격이다. 1945년 일제로부터 해방되기 전에 문을 연 제약사 중 지금까지 생존한 곳은 유유제약을 비롯해 동화약품, 유한양행, 삼성제약 등 몇 곳에 불과하기 때문이다. 이런 전통의 기업들은 오랜 기간 쌓은 경험과 노하우라는 엄청난 자산을 갖는다. 동시에 변화에 대한 대응속도가 느리다는 약점도 안게 된다. 주변 환경이 바뀌어도 새롭게 도전하기보다는 과거의 성공방정식에 취해 소극적으로 대응하려는 경향이 커지기 때문이다. 가진 게 없다 보니 도전과 변화 속에서 새로운 성장엔진을 찾으려는 젊은 기업과는 정반대 행보를 걷게 된다. 2021년의 유유제약은 어느 쪽에 더 가까울까. 상당수 제약업계 관계자들은 생물학적 나이와 무관하게 젊은 기업에 더 가깝다고 평가한다. 복제약 등 기존 사업에 안주하지 않고 신약 개발 등 도전적인 사업에 적극 나서고 있어서다. 지난 80년간 조직 곳곳에 켜켜이 쌓인 상명하복 문화를 바꾸려는 것도 이런 해석에 힘을 보태고 있다. 유유제약의 변신을 이끄는 선봉장은 오너 3세인 유원상 유유제약 사장47이다. 유 사장의 커리어는 일반적인 제약업계 최고경영자CEO가 걸어온 길과는 사뭇 다르다. 일단 명실상부한 해외파다. 국내17년보다 해외30년에서 더 오래 살았다. 대학미국 트리니티 칼리지과 대학원미국 컬럼비아대 MBA도 미국에서 나왔고, 해외에서 10여 년간 직장생활도 했다. 다양한 경험도 쌓았다. 회계법인아더앤더슨과 증권사메릴린치를 거쳐 노바티스, 데이진파마 등 글로벌 제약사의 해외본사 및 지점을 거친 뒤 2009년 유유제약에 합류했다. 그렇게 10년 동안 회사 안팎을 공부한 뒤 대표이사2019년가 됐고, 다시 사장2020년이 됐다. 유 사장의 해외 네트워크는 올 들어 제대로 빛을 발했다. 이걸 활용해 최근 미국 로스앤젤레스 캘리포니아대UCLA와 뇌졸중 및 다발성경화증 신약 공동개발 계약을 맺었기 때문이다. 유 사장의 목표는 유유제약을 한국의 노바티스처럼 만드는 것이다. 유 사장은 노바티스가 본국스위스을 넘어 전 세계를 호령하듯이 유유제약도 설립 100주년이 되는 2041년까지 미국 등 세계 주요국에서 약품을 판매하는 글로벌 제약사로 만들 계획이라고 말했다. 올해 경영 목표는. 매출 1000억 원을 넘기는 게 올해 목표다. 매출 1000억 원은 원래 2020년 목표였다. 하지만 코로나19 여파로 지난해 매출이 981억 원에 그쳤다. 2019년 대비 8 증가한 수치지만, 기대에는 못 미쳤다. 올해 시장 상황도 좋지만은 않다. 유유제약의 주요 품목이 호흡기질환 계통인데, 코로나19로 인해 환자가 확 줄었다. 그래서 고혈압, 고지혈증 등 코로나19와 무관하게 꾸준히 병원을 찾는 만성질환 분야 영업력을 강화하고 있다. 매출이 늘면 수익성도 좋아질 걸로 기대하고 있다. 다만 신약 개발에 상당한 비용이 투입되는 만큼 큰 이익을 내기는 쉽지 않을 것 같다. 그러나 수익만 생각해 투자를 늦추지는 않을 것이다. 유유제약의 영업력을 어떻게 강화할 계획인가. 일단 나부터 열심히 뛸 계획이다. 사실 나도 영업맨 출신이다. 20년 전 미국 메릴린치증권의 프라이빗뱅킹PB 부문에서 일할 때부터 다양한 영업을 했다. 그 뒤로도 여러 업종과 기업에서 영업을 했다. 당시 문전박대를 당한 적도 많았다. 그때의 경험을 살려 지금도 영업사원과 함께 수시로 현장을 방문한다. 지방에서 열리는 콘퍼런스나 학회에 참석해 의사들에게 유유제약 의약품을 홍보한다. 영업사원으로부터 A병원을 뚫어달라는 식의 SOS를 받기도 한다. 사장이 뛰는데 영업맨이 어떻게 앉아 있을 수 있겠나. 메릴린치에서 일할 때 보니, 같이 뛰는 보스가 있는가 하면 부하의 공을 빼앗아가는 보스도 있더라. 다행히 당시 나의 보스는 나를 이끌어주는 보스였다. 나도 고참이 되면 저 사람처럼 후배를 끌어줘야겠다라고 생각했다. 영업이익률이 낮은데, 제네릭 비중이 높기 때문인가. 지난해 매출 981억 원에 영업이익 62억 원을 거뒀다. 영업이익률은 6. 3였다. 제네릭복제약과 개량신약 비중은 6 대 4 정도다. 이걸 빠른 시일 내에 4 대 6으로 바꿀 계획이다. 수익성을 끌어올리려면 제네릭 비중을 낮춰야 한다. 개량신약과 신약 개발에 힘을 쏟는 이유가 여기에 있다. 현재 매출의 5 정도를 연구개발RD에 투자하는데, 이 비중을 높여나갈 계획이다. 신약이 나오면 수익성은 대폭 개선된다. UCLA와 협업해 신약 파이프라인을 2개 더 확보했다. 다발성경화증 및 뇌졸중 치료제를 UCLA와 공동연구하게 됐다. 유유제약이 신약 물질에 대한 지식재산권과 상용화 권리를 독점적으로 갖는다. 다발성경화증은 뇌와 척수에 있는 신경세포의 절연 덮개가 손상돼 신호전달시스템을 망가뜨리는 자가면역 질환 및 신경 퇴행성 질환이다. 환자 수가 세계 230만 명에 달하지만, 지금은 증상을 완화해주는 약만 있다. 이 약이 개발되면 세계 최초 신약 in 이 될 수 있다. 시장 규모는 꽤 클 것이다.데이터모니터는 올해 다발성경화증 치료제 시장 규모를 235억 달러약 26조 원로 추정했다 뇌졸중 약은 뇌졸중 후 뇌의 회복을 촉진하는 약이다. 현재 이런 약은 없다. 이 역시 성공한다면 세계 최초 신약이 된다. 이 시장은 다발성경화증 치료제보다 훨씬 더 클 것으로 생각한다. 모든 것이 순조롭게 진행되면 두 치료제 모두 2030년 무렵에 시판될 수 있을 것이다. UCLA와 어떻게 인연을 맺었나. 신약 후보물질을 찾기 위해 백방으로 알아봤다. 처음에는 국내 대학과 접촉했지만, 유유제약이 감당하기 힘들 정도로 돈이 많이 든다고 판단해 포기했다. 그래서 해외로 눈을 돌렸다. 해외가 국내보다 더 비싼 건 아니더라. 유유제약은 전략적으로 독성시험을 하기 전 초기단계 물질만 파고들었다. 임상 1상, 2상에 들어간 물질은 글로벌 기업들이 큰돈을 주고 입도선매하기 때문이다. 독성시험 전 물질은 싸게 권리를 살 수 있다. 마침 UCLA에 이런 물질이 있었던 거다. 당시 유유제약은 신약 후보물질을 찾느라 미국 대학만 10곳 넘게 연락했다. 이런 과정에서 UCLA와 선이 닿았다. 독성시험 전 물질은 실패 가능성이 크지 않나. 그건 어쩔 수 없다. 설령 실패하더라도 신약 개발 경험이란 자산이 쌓 인다. UCLA와 네트워크도 공고해진다. UCLA가 이후에도 새로운 물질을 찾으면 유유제약에 연락할 가능성이 높아지지 않겠나. 처음부터 홈런을 칠 수는 없다. 투자 관련 리스크를 줄이기 위해 외부자금을 받는 방안도 생각하고 있다. 유유제약이 자금을 유치할 수도 있고, 해당 신약 개발 프로젝트 회사를 별도로 세워 투자를 받을 수도 있다. 어떻게 할지 고민하고 있다. 안구건조증 치료제 신약 개발은 순조롭게 진행되고 있나. 올해 전임상을 끝내고 내년부터 본격적인 임상에 들어갈 계획이다. 해외 제약사와 기술수출 논의는 오래전부터 진행하고 있다. 탈모치료제와 전립선비대증 치료제를 합친 복합제 개량신약도 내년쯤 임상에 들어갈 계획이다. 탈모 치료제는 빠르면 20262027년, 안구건조증 치료제는 20292030년 시판하는 게 목표다. 바이오벤처를 인수하거나 지분투자하는 것도 검토하나. 구체적인 계획을 갖고 있는 건 아니다. 현재로선 유유제약이 직접 좋은 의약품을 만드는 데 집중할 계획이다. 이를 위해 좋은 인재 유치에 힘을 쏟고 있다. 준비하는 신사업이 있다면. 유유제약 산하에 건강기능식품을 만드는 유유헬스케어와 의료기기 사업을 벌이는 유유테이진이 있다. 헬스케어 분야의 3대 산업이라 할 수 있는 제약, 건기식, 의료기기 사업을 모두 하는 셈이다. 유유헬스케어는 건기식 주문자상표부착생산OEM 업체다. 200여 개 회사가 유유헬스케어에 건기식 생산을 맡기고 있다. 최근 몇년간 건기식 수요가 늘면서 실적이 크게 좋아졌다. 2년여 전 공장 생산설비를 5배 늘렸는데 벌써 꽉 찼다. 증설해야 하나 고민 중이다. 유유테이진은 수면무호흡 환자가 잘 때 착용하는 양압기 대여 사업을 벌이고 있다. 일단 새로운 사업에 뛰어들기보다는 이들 3대 사업의 양과 질을 끌어올리는 데 집중할 계획이다. 전문의약품에 비해 일반의약품 부문이 약하다. 고민하는 대목이다. 일반의약품을 강화할 생각은 있는데, 어떻게 하는 게 좋을지 방법을 찾고 있다. 1960년대에 나온 유유제약의 비타민 브랜드 유판씨는 한때 잘나갔지만 지금은 경쟁 브랜드에 완전히 밀렸다. 다행인 건 유유제약이 10여 년 전 빅데이터를 제품에 활용한 경험이 있다는 거다. 빅데이터 등을 활용해 시장의 트렌드를 읽은 뒤 유판씨 등 일반의약품에 적용하는 방안을 검토하고 있다. 제품의 인지도를 끌어올리고, 그걸 다시 구매로 연결시키는 방안을 찾고 있다.유유제약을 어떤 기업으로 만들고 싶나.한국의 노바티스로 만드는 게 목표다. 개인적으로 노바티스 뉴욕 및 싱가포르에서 4년가량 일한 인연 때문인지, 노바티스는 고향집 같은 느낌이 있다. 스위스라는 작은 나라에서 시작해 전 세계를 호령하는 제약업계의 최강자가 됐다. 그걸 지켜보면서 많은 걸 배웠다. 노바티스의 시스템에 한국 특유의 스피드와 성실성을 더하면 유유제약도 글로벌 제약사가 될 수 있다고 생각한다. 목표시점은 유유제약이 100주년을 맞는 2041년이다. 미국에서 의약품을 판매하는 회사로 키우겠다. 미국시장에서 약을 판다는 건 글로벌 제약사가 된다는 것과 같은 의미다. 학생들이 가장 입사하고 싶은 회사로 만들고 싶다고 했는데. 인사가 만사다. 좋은 사람이 없으면 좋은 약을 만들 수 없다. 좋은 약이 없는데 어떻게 제약사가 살아남겠나. 인재를 영입하고, 인재 유출을 막으려면 세 가지가 필요하다. 우선 회사의 비전이다. 유유제약은 미래가 밝은 회사다. 신약을 개발하고 있고, 미국 진출도 추진하는 회사다. 두 번째는 보상이다. 유유제약은 4년 전부터 우수 인재 영입을 위해 스톡 그랜트자사주 무상증여 제도를 시행하고 있다. 우수 인재에게 회사가 보유한 자사주를 무상 제공하는 것이다. 주식을 저렴하게 살 수 있는 기회를 주는 스톡옵션보다 강력한 인센티브다. 마지막은 회사 분위기다. 유유제약의 나이는 80세지만, 정신연령은 이보다 훨씬 젊다. 20대 청년들처럼 자유롭게 상상하고 편안하게 소통하는 문화를 정착하기 위해 노력하고 있다. 역사가 깊을수록 수직적인 문화가 자리 잡을 가능성이 높은데. 작년부터 상하반기 두 차례에 걸쳐 충북 제천공장을 찾아 일주일씩 숙식을 한다. 수직적인 공장문화를 수평적으로 바꾸기 위해 CEO인 내가 직접 나선 것이다. 당일치기로 방문해서는 바뀔 수가 없다. 일주일 정도 함께 먹고 자면서 이런저런 얘기를 한다. 많은 사람들이 의견을 개진하고 토론하는 문화로 바꾸는 게 말처럼 쉬운 건 아니다. 하지만 조금씩 바뀌는 게 보인다. 제약사인 만큼 회사 분위기가 딱딱할 것 같다. 일단 재미있는 직장으로 바꾸고 있다. 복장을 자율화하자 반바지를 입고 출근하는 직원도 생겼다. 건물 1층에 지압실을 만들어 임직원들이 근무시간에도 마사지를 받을 수 있도록 했다. 최근 리모델링을 통해 사무실 분위기도 스타트업 느낌이 나도록 바꿨다. 유유제약 주주에게 하고 싶은 얘기는. 단기적인 이벤트와 무관하게 유유제약 주가는 장기적으로 오를 거라고 생각한다. 장기 투자를 생각한다면 강력 매수 buy를 추천한다. 오상헌이선아 기자이 기사는 한경바이오인사이트 매거진 2021년 5월호에 실렸습니다.',\n",
       " '오류를 우회하기 위한 함수 추가\\n \\n이 기사는 05월 21일15:27 바이오. 제약, 헬스케어 전문매체 한경바이오인사이트에 게재된 기사입니다사진김영우 기자신테카바이오는 지난해 2월 AI 플랫폼 딥매쳐를 이용해 코로나19 치료제 후보물질 2개를 찾았다. 류코트리엔 수용체를 차단하는 자피르루카스트와 혈소판 응집을 막는 설핀피라존이다. 동물실험에서 두 약물을 병용투여한 결과STBR011 렘데시비르와 유사한 치료 효과를 보였다. 윤선일 신테카바이오 사업 개발부 이사는 지난해 9월에 전임상을 마쳤고, 올 여름쯤에는 글로벌 임상 1상에 진입할 것으로 보인다고 말했다. 현재 신테카바이오는 한미사이언스와 함께 임상개발을 진행 중이다. CPUGPU 2000개 규모의 슈퍼컴퓨터 인프라 신테카바이오는 코로나19의 유전 정보가 공개된 지 한 달도 되지 않아 약물 STBR011을 발굴했다. 회사 설명에 따르면 유효물질hit 을 찾아내는 데 걸리는 시간은 고작 2주다. 유효물질을 화학적으로 합성하고 검증하는 과정까지 다 합쳐도 석 달이 채 걸리지 않는다. 이렇게 빠른 예측이 가능한 것은 신테카바이오가 보유하고 있는 슈퍼컴퓨팅 기술과 인프라 덕분이다. 신테카바이오는 2014년 한국전자통신연구원ETRI에서 개발한 유전자 검사 전용 슈퍼컴퓨팅 기술을 출자받았다. 뒤이어 대전과 청주에 슈퍼컴퓨터 인프라를 구축했다. 윤 이사는 GPU그래픽 처리장치와 CPU중앙처리장치를 모두 합치면 2000개 정도의 규모라고 말했다. 신테카바이오는 올해 하반기 정도에 데이터센터를 증설해 규모를 더 확장시킬 계획이다. 윤 이사는 우리처럼 범용이 아니라 특정 목적을 위해서만 슈퍼컴퓨터를 사용하는 경우는 기상청을 제외하고는 없다고 말했다. 3차원 구조 기반의 약물 동력학 예측 AI, 딥매쳐 신테카바이오가 슈퍼컴퓨터 인프라로 가장 주력하고 있는 기술은 딥매쳐와 네오스캔이다. 딥매쳐는 STBR011의 사례처럼 약물 재창출이나 처음부터 새로운 약물을 발굴하는 데 모두 사용된다. 여기에는 10억 개의 화합물 데이터베이스가 사용된다. 딥매쳐의 핵심은 3차원 구조를 기반으로 약물의 단백질 결합에너지를 예측한다는 점이다. 마르틴 카르플루스 미국 하버드대 교수와 이론화학 연구자들은 1970년대 화학 물질의 성질을 토대로, 화학 반응을 예측할 수 있는 계산식을 제시했다. 윤 이사는 컴퓨터 기반 기술이 궤도에 오른 2000년대 이후부터는 여러 연구자들과 신약 개발 회사들에서 이 계산식을 활용하기 시작했다며 딥매쳐는 수십 년간 능력이 증명된 이론을 기반으로 설계된 AI라고 말했다. 전통의 이론화학 계산식을 기반으로 하고 있지만, 10억 개 물질에 대한 모든 계산을 할 수는 없다. 타깃 단백질이 정해지면 신테카바이오의 연구진은 기존에 공개된 논문이나 실험 데이터에서 타깃 단백질과 결합력이 높은 물질, 결합할 가능성이 매우 낮은 물질의 데이터를 수집한다. 즉 성공과 실패 데이터 세트를 마련하는 것이다. 이 과정에서 연구개발RD 협력사들과 기관의 미공개 정보들이 중요한 역할을 한다. 이 데이터로 학습한 딥매쳐는 대략적인 경향성을 가지고 10억 개의 화학물질 중 상온에서 안정적으로 결합할 수 있는 화합물을 선별해낸다. 그리고 다시 수차례에 걸친 최적화 과정을 통해 최종적으로 수십 개의 화합물을 골라낸다. 윤 이사는 키나아제269개, GPCR69개, 프로테아제21개 등 주요 타깃 단백질 600여 개에 대해서는 이미 학습을 마친 딥매쳐 모델을 보유하고 있다 고 말했다. 진입장벽 높은 암 신생항원, 네오스캔 활용해 발굴 반면 네오스캔은 면역항암제에 특화된 AI다. 면역 항암제에는 면역관문억제제, 면역세포치료제, 항암바이러스치료제, 치료용 암백신 등이 있다. 키트루다, 옵디보, 여보이 등 시장에서 판매되는 대다수의 면역항암제는 면역관문억제제다. 면역관문억제제는 한번 발동이 걸리면 효능은 좋지만, 발동이 걸리는 환자가 제한적이라는 한계가 있다. 이 때문에 새로운 면역항암제가 개발돼야 할 필요가 커지고 있다. 네오스캔은 암세포에서만 발현되는 신생항원을 찾는 AI다. 세포는 저마다 주조직적합성복합체 MHC 분자를 가지고 있다. MHC는 사람마다 서로 다르기 때문에 면역세포가 나인지 남인지를 판별하는 데 중요한 역할을 한다. 세포가 면역세포를 만나면 자신의 단백질 일부항원를 제시하는 데, 면역세포는 이를 인지해 남이라고 판단할 경우 공격한다. 암세포의 경우 제시할 수 있는 항원 중 12만이 면역반응을 유도하는 신생항원이다. 윤 이사는 사람이 찾아내기에는 진입장벽이 높은 분야라며 유전체 분석과 AI 기술을 모두 이용해야 신생항원을 효율적으로 발굴할 수 있다고 말했다. 신테카바이오는 암종마다 수십에서 수백 명의 환자 유전체를 수집하고 있다. 암세포의 DNA와 정상 세포의 DNA를 모두 시퀀싱한 뒤, 이 둘을 비교분석한다. 그러고 난 뒤 암세포에만 존재하는 돌연변이 유전자에서 발현되는 단백질항원의 3차원 구조를 시뮬레이션한다. 이를 기반으로 AI가 MHC 분자에 안정적으로 결합할 항원을 예측한다. 이렇게 선별된 항원은 치료용 암백신이나 세포치료제 등 다양한 모달리티에 적용할 수 있다. 윤 이사는 갈수록 면역항암제 시장에서도 개인맞춤 신생항원 기반의 치료제 개발 비중이 높아지고 있다며 신테카바이오는 차세대염기서열분석NGS과 AI 기술을 모두 보유함으로써 시장 흐름에 발맞춰가고 있다고 말했다. 현재 네오스캔을 이용해 발굴한 신생항원 치료제는 STBB010 STBB020 등 두 개다. 윤 이사는 STBB010이 조금 더 속도가 빠르다며 현재 네오스캔의 성능 검증실험을 위한 임상 연구를 진 행 중이라고 밝혔다. 신테카바이오는 딥매쳐, 네오스캔을 중심으로 한 AI 플랫폼으로 현재 10여 개의 파이프라인을 확보했다. 이 중에는 레고켐바이오사이언스, JW중외 제약과 개발 중인 약물도 있다. 윤 이사는 AI가 특히 강점을 보일 수 있는 부분은 약물의 발굴 단계이기 때문에, 신규 물질을 늘리는 것이 필요하다며 올해까지 지금보다 3배 규모의 파이프라인을 확보하는 게 목표라고 말했다. 최지원 기자이 기사는 한경바이오인사이트 매거진 2021년 5월호에 실렸습니다.',\n",
       " '오류를 우회하기 위한 함수 추가\\n \\n4단계에서 30 재택 비율 권고SKT, 필수 인력 제외 전원 재택\\n9일 오전 서울 강남구 보건소에 마련된 선별진료소에서 시민들이 검사를 받기 위해 길게 줄을 서있다. 뉴스1\\n신종 코로나바이러스 감염증코로나19 4차 대유행에 따라 정부가 수도권 거리두기 4단계 격상을 발표하면서 기업들 역시 대응책 마련에 분주하다. 거리두기 4단계에서 재택근무 권고 비율은 30다. 제조업은 제외한다.\\n삼성전자는 유흥시설, 실내 스탠딩 공연장 등 중점관리시설과 일반관리시설노래연습장PC방목욕탕실내체육시설오락실영화관놀이공원결혼식장장례식장 등 방문을 삼가고 방문 시 복귀 전 진단검사를 받도록 했다. 또 반도체를 제외한 부문에서 부서장 재량으로 30까지 재택근무를 하도록 권고했다. 4단계 격상 이전부터 시행하던 회식 금지, 국내 출장 제한 조치에 대면 회의와 교육행사 금지를 더해 지침을 강화했다.\\nLG전자는 지난 1일부터 재택근무 비율을 40에서 20로 낮출 계획이었지만 확진자 수가 급증하자 8일부터 재택근무 비율을 오히려 50로 높였다. 거리두기 4단계가 시작되는 12일부터는 자제 권고 수준이던 국내외 출장, 외부 미팅, 회식을 금지하기로 했다.\\nSK하이닉스는 4단계 격상 이전의 지침을 유지하되 제한적으로 운영하던 사내 일부 체육시설을 7월 초부터 폐쇄했다. 교육 역시 법정 교육이나 사업 수행에 필요한 것만 허용하기로 했다. 반도체가 주 사업인 만큼 재택근무는 임신부, 기저 질환자 등 취약계층에 한해 시행하고 있다.\\n20 낮추려던 재택 비율 오히려 10 높여\\n신종 코로나바이러스 감염증코로나19 확진자가 사흘 연속 1000명을 넘기면서 서울도서관 앞 서울광장 임시선별검사소가 약 5개월 만에 운영을 재개했다. 한 의료진이 냉풍기로 더위를 식히고 있다. 임현동 기자\\n통신 3사 역시 4단계 조치에 발 빠르게 대응하는 모습이다.\\nSKT는 필수 인력 외에는 재택근무를 원칙으로 한다. 회식이나 모임, 사옥 간 이동, 출장은 금지하기로 했다. 회의와 보고 역시 비대면으로 한다. 대면 회의는 4명 이하만 허용한다. 외부인의 사옥 출입도 제한한다.\\nKT는 부서별 재택근무 비율을 1020에서 30로 높이고 대면 회의를 금지하기로 했다. 구내식당은 2부제로 운영하며 소속 부서 이외 직원과 식사도 금지된다.\\n거리두기 격상 이전에도 순환 재택근무를 유지한 LG유플러스는 지난 7일 회식 금지, 10인 이상 대면 회의 금지, 30인 이상 오프라인 교육 금지 지침을 추가했다. 네이버와 카카오는 지난해부터 시행해 온 전면 재택근무를 이어간다고 밝혔다.\\n정부는 오는 12일부터 25일까지 서울경기인천 등 수도권 지역에 새로운 거리두기 4단계를 적용하기로 했다. 이에 따라 오후 6시 이후 3인 이상 사적 모임이 금지된다. 백신 접종 완료자를 인원 제한 기준에서 제외하는 백신 인센티브도 중단된다. 9일 0시 기준 코로나19 신규 확진자 수는 1316명으로 사상 최다를 기록했으며 당국은 전날보다 더 많은 확진자가 발생하고 있다고 밝혔다.\\n직장 관련 거리두기 4단계 지침 제조업을 제외한 사업장에는 시차 출퇴근제, 점심시간 시차제, 재택근무 30를 권고한다\\n기업의 직원 채용 면접, 회의 등은 기업 경영을 위한 필수 활동으로 사적 모임이라고 볼 수 없으므로 인원 제한 대상이 아니다\\n다만 면접이나 회의 진행 시 사회적 거리두기 단계에 따른 방역수칙을 준수해야 한다. 업무 미팅은 기업의 필수 활동으로 사적모임에 해당하지 않지만 회의 전후로 이뤄지는 식사 모임은 사적모임으로 본다\\n도시락음료 등을 동반하는 대면 회의는 마스크를 계속 착용할 수 없고 비말침방울이 많이 튈 수 있어 최대한 자제하는 것이 바람직하다\\n식당에서 식음료 등을 동반한 채 하는 대면 회의나 친목 도모 등을 위한 회사 내 모임 역시 사적 모임에 해당한다\\n자료: 중앙사고수습본부']"
      ]
     },
     "execution_count": 93,
     "metadata": {},
     "output_type": "execute_result"
    }
   ],
   "source": [
    "corpus"
   ]
  },
  {
   "cell_type": "markdown",
   "metadata": {},
   "source": [
    "### 이거...공부...해야만...함...\n",
    "\n",
    "- 벡터를 표현하는 데에 있어 (Feature의 수를 줄이는 법?)\n",
    "- Count-based\n",
    "    - One-hot, DTM (Frequency 기반 : 숫자만 세면 됨.)\n",
    "- Co-occurence\n",
    "     - word2vec(context의 영향을 받음), PMI\n",
    "- Matrix-decomposition\n",
    "    - SVD(특이값..?)\n",
    "\n",
    "- 이거랑 다른 새로운 애  => BERT, ELMo\n",
    "- 우선 제일 쉬운 count-based부터.."
   ]
  },
  {
   "cell_type": "markdown",
   "metadata": {},
   "source": [
    "---\n",
    "\n",
    "### Zipf's Law\n",
    "- 경험적으로 맞아 떨어지는 규칙. 단어를 빈도수로 나열했을 때<br>\n",
    "  낮은 빈도수에 반비례해서 나타난다.\n",
    "- 즉 자주 나오는 단어만 나오게 된다는 것."
   ]
  },
  {
   "cell_type": "code",
   "execution_count": null,
   "metadata": {},
   "outputs": [],
   "source": [
    "a, an, the, of, => 조사 (빈도가 너무 높게 나오지만 실제 의미에 큰 영향을 끼치지 않음.)\n",
    "너무 자주 나오는 단어, 혹은 너무 드물게 나오는 단어들은\n",
    "의미가 존재하지 않는 경우가 대부분."
   ]
  },
  {
   "cell_type": "code",
   "execution_count": 153,
   "metadata": {},
   "outputs": [],
   "source": [
    "# 간단하게 통계를 내보기\n",
    "#\n",
    "from collections import defaultdict\n",
    "# 내가 정의한 default값이 설정되는 dict\n",
    "wc = defaultdict(int)"
   ]
  },
  {
   "cell_type": "code",
   "execution_count": 154,
   "metadata": {},
   "outputs": [],
   "source": [
    "for t in data.split():\n",
    "    wc[t] += 1"
   ]
  },
  {
   "cell_type": "code",
   "execution_count": 155,
   "metadata": {},
   "outputs": [
    {
     "data": {
      "text/plain": [
       "[('있다.', 176),\n",
       " ('수', 154),\n",
       " ('이', 152),\n",
       " ('등', 118),\n",
       " ('전', 100),\n",
       " ('위한', 98),\n",
       " ('백신', 92),\n",
       " ('변이', 90),\n",
       " ('있는', 88),\n",
       " ('말했다.', 84)]"
      ]
     },
     "execution_count": 155,
     "metadata": {},
     "output_type": "execute_result"
    }
   ],
   "source": [
    "# 이걸로 상위, 하위 10개씩 볼 수 있음.\n",
    "sorted(wc.items(), key=lambda _:_[1], reverse=True)[:10]"
   ]
  },
  {
   "cell_type": "code",
   "execution_count": 156,
   "metadata": {},
   "outputs": [
    {
     "data": {
      "text/plain": [
       "[('따라', 24),\n",
       " ('인수', 24),\n",
       " ('모든', 24),\n",
       " ('없다.', 24),\n",
       " ('계획이다.', 24),\n",
       " ('NASH', 24),\n",
       " ('글로벌', 22),\n",
       " ('사회적', 22),\n",
       " ('최대', 22),\n",
       " ('것이', 22),\n",
       " ('가운데', 22),\n",
       " ('신세계', 22),\n",
       " ('이미', 22),\n",
       " ('때문이다.', 22),\n",
       " ('건', 22),\n",
       " ('경우', 22),\n",
       " ('후', 22),\n",
       " ('효과를', 22),\n",
       " ('감염자', 22),\n",
       " ('아이티', 22)]"
      ]
     },
     "execution_count": 156,
     "metadata": {},
     "output_type": "execute_result"
    }
   ],
   "source": [
    "sorted(wc.items(), key=lambda _:_[1], reverse=True)[100:120]"
   ]
  },
  {
   "cell_type": "code",
   "execution_count": null,
   "metadata": {},
   "outputs": [],
   "source": [
    "한 => 이런 일음절짜리 단어들은 굉장히 처리하기 어려움.\n",
    " 많이 쓰는 단어들을 제거하려면 stemming 기법이 필요함."
   ]
  },
  {
   "cell_type": "code",
   "execution_count": null,
   "metadata": {},
   "outputs": [],
   "source": [
    "S = w1, w2, w3, ...\n",
    "P(S) = P(w1, w2, w3, ...)\n",
    "     오늘은 금요일 입니다.\n",
    "     오늘은 금요일 이네\n",
    "     오늘도 금요일 이어요\n",
    " (단어)w = {오늘은, 금요일, 입니다, 이네, 이어요}\n",
    "P(S1) = P(오늘은, 금요일, 입니다)\n",
    "    입니다 ? = 0\n",
    "w = P(1/|W|)\n",
    "1/5 1/5 1/5 1/5 = 특정 작은 확률값\n",
    "이런 패턴들이 만들어지는 경우를 모두 안다 하면,\n",
    "확률값을 다 계산해낼 수 있을 텐데..\n",
    "\n",
    "N-Gram"
   ]
  },
  {
   "cell_type": "code",
   "execution_count": null,
   "metadata": {},
   "outputs": [],
   "source": [
    "W = 1, ..., N\n",
    "P(S) = P(w1, w2, w3, ...)\n",
    "     = P(w1) * p(w2 | w1) * P(w3 | w1, w2)\n",
    "    \n",
    "문장을 구성하는 단어의 길이가 커진다면, (n개까지)\n",
    "     = P(w1) * p(w2 | w1) * P(w3 | w1, w2) * N\n",
    "근데 실제 이 패턴이 안일어나는 순간 (중간 확률 값이 0이 되는 순간)\n",
    " 전체 확률이 0이 되버린다."
   ]
  },
  {
   "cell_type": "code",
   "execution_count": null,
   "metadata": {},
   "outputs": [],
   "source": [
    "Markov Assumption(n=1)이라 하면,\n",
    "~~~~ 고려 ? , 대\n",
    "    ~= P(w1) * P(w2 | w1) * P(w3 | w2) * P(N | N-1)\n",
    "Bi-gram\n",
    "P(A|B) = P(A,B) / P(B)\n",
    "       = P(오늘은, 금요일) / P(오늘은)\n",
    "       = P(count(오늘은, 금요일)) / P(count(오늘은))\n",
    "고려 때문에 생기는 확률 값이 있을 것. 바로 앞에 무슨 글자가 나오는 지가 제일 큰 영향을 끼칠 것임.\n",
    "\n",
    "-> 이런 방법으로 언어의 구조에 대해 간단하게 모델링 할 수 있다.\n",
    "\n",
    "+ Smoothing(+1) : 모든 count에 +1을 해줘서 확률이 0이 되지 않도록 해줌.\n",
    "    \n",
    " - Count을 base로 한 언어를 모델링하기 위한 방법 중 하나!\n",
    " - 적절한 수준의 l을 골라 ...?\n",
    " - 자주 쓰이는 문법적 요소도 묶어줄 수 있음. 개별 단어보다, n-gram으로 묶어진 형태를 사용하기도 함\n",
    "    - feature의 수가 늘어나지만, 그안에 규칙을 찾기 훨씬 쉬워진다."
   ]
  },
  {
   "cell_type": "code",
   "execution_count": null,
   "metadata": {},
   "outputs": [],
   "source": [
    "금요일은, 금요일에, 금요일까지, ...\n",
    "금요, 요일, 일은, 일에, 일까, ...\n",
    "()금, ...,    까()\n",
    "+      +  / -      --   --\n",
    "이거를 엔트로피로 분석해서 엔트로피가 커지는 순간으로 나눌 수 있음\n",
    "사람들이 자주 사용하는 패턴을 분석해낼 수 있다."
   ]
  },
  {
   "cell_type": "code",
   "execution_count": 157,
   "metadata": {},
   "outputs": [],
   "source": [
    "def ngram_umjeol(s, N=2):\n",
    "    # 앞과 뒤의 공백까지 고려하는 사람도 있고,\n",
    "    # 주어진 문자열만 고려하는 사람도 있음.\n",
    "    rst = list()\n",
    "    for i in range(len(s)-1):\n",
    "        rst.append(s[i:i+N])\n",
    "    return rst"
   ]
  },
  {
   "cell_type": "code",
   "execution_count": 158,
   "metadata": {},
   "outputs": [
    {
     "data": {
      "text/plain": [
       "['금요', '요일', '일까', '까지']"
      ]
     },
     "execution_count": 158,
     "metadata": {},
     "output_type": "execute_result"
    }
   ],
   "source": [
    "ngram_umjeol('금요일까지') \n",
    "# 이걸로 좀 더 짜면 띄어쓰기도 포함할 수 있고,\n",
    "# 그를 확률값으로 만들어낼 수 있다."
   ]
  },
  {
   "cell_type": "code",
   "execution_count": 159,
   "metadata": {},
   "outputs": [],
   "source": [
    "wc2 = defaultdict(int)\n",
    "for t in data.split():\n",
    "    for token in ngram_umjeol(t):\n",
    "        wc2[token] += 1"
   ]
  },
  {
   "cell_type": "code",
   "execution_count": 160,
   "metadata": {},
   "outputs": [
    {
     "data": {
      "text/plain": [
       "(67281, 8340)"
      ]
     },
     "execution_count": 160,
     "metadata": {},
     "output_type": "execute_result"
    }
   ],
   "source": [
    "sum(wc2.values()), len(wc)"
   ]
  },
  {
   "cell_type": "code",
   "execution_count": 161,
   "metadata": {},
   "outputs": [
    {
     "data": {
      "text/plain": [
       "[('다.', 2102),\n",
       " ('했다', 494),\n",
       " ('으로', 490),\n",
       " ('에서', 430),\n",
       " ('니다', 310),\n",
       " ('있다', 290),\n",
       " ('이다', 280),\n",
       " ('하는', 250),\n",
       " ('00', 236),\n",
       " ('한다', 214),\n",
       " ('다고', 208),\n",
       " ('하고', 206),\n",
       " ('20', 206),\n",
       " ('바이', 198),\n",
       " ('이라', 182),\n",
       " ('백신', 160),\n",
       " ('코로', 156),\n",
       " ('로나', 156),\n",
       " ('19', 152),\n",
       " ('하기', 150)]"
      ]
     },
     "execution_count": 161,
     "metadata": {},
     "output_type": "execute_result"
    }
   ],
   "source": [
    "# 종결형 어미, ~에서, ...등이 상위에 많이 차지한다\n",
    "sorted(wc2.items(), key=lambda _:_[1], reverse=True)[:20]"
   ]
  },
  {
   "cell_type": "code",
   "execution_count": 162,
   "metadata": {},
   "outputs": [
    {
     "data": {
      "text/plain": [
       "[('가능', 62),\n",
       " ('계획', 62),\n",
       " ('진단', 62),\n",
       " ('이오', 62),\n",
       " ('01', 60),\n",
       " ('하다', 60),\n",
       " ('이상', 60),\n",
       " ('다며', 60),\n",
       " ('경기', 60),\n",
       " ('기술', 58),\n",
       " ('밝혔', 58),\n",
       " ('입니', 58),\n",
       " ('아이', 58),\n",
       " ('물질', 58),\n",
       " ('원을', 56),\n",
       " ('중국', 56),\n",
       " ('금지', 56),\n",
       " ('자가', 56),\n",
       " ('이전', 56),\n",
       " ('없다', 56),\n",
       " ('온라', 56),\n",
       " ('사는', 56),\n",
       " ('들이', 54),\n",
       " ('도권', 54),\n",
       " ('4단', 54),\n",
       " ('혔다', 54),\n",
       " ('장은', 54),\n",
       " ('효과', 54),\n",
       " ('뉴스', 52),\n",
       " ('기자', 52),\n",
       " ('9일', 52),\n",
       " ('시간', 52),\n",
       " ('중이', 52),\n",
       " ('아니', 52),\n",
       " ('이는', 52),\n",
       " ('투자', 52),\n",
       " ('때문', 52),\n",
       " ('장에', 52),\n",
       " ('요.', 52),\n",
       " ('02', 50),\n",
       " ('증가', 50),\n",
       " ('기로', 50),\n",
       " ('난해', 50),\n",
       " ('국내', 50),\n",
       " ('신약', 50),\n",
       " ('억제', 50),\n",
       " ('전문', 48),\n",
       " ('대표', 48),\n",
       " ('의원', 48),\n",
       " ('문제', 48),\n",
       " ('상황', 48),\n",
       " ('회의', 48),\n",
       " ('됐다', 48),\n",
       " ('씨는', 48),\n",
       " ('만들', 48),\n",
       " ('들어', 48),\n",
       " ('0명', 48),\n",
       " ('프라', 48),\n",
       " ('하게', 48),\n",
       " ('광주', 48),\n",
       " ('티스', 48),\n",
       " ('염자', 48),\n",
       " ('통해', 46),\n",
       " ('기가', 46),\n",
       " ('화를', 46),\n",
       " ('적인', 46),\n",
       " ('정이', 46),\n",
       " ('획이', 46),\n",
       " ('40', 46),\n",
       " ('사업', 46),\n",
       " ('이후', 44),\n",
       " ('원은', 44),\n",
       " ('국에', 44),\n",
       " ('영국', 44),\n",
       " ('해야', 44),\n",
       " ('.오', 44),\n",
       " ('서는', 44),\n",
       " ('합니', 44),\n",
       " ('사실', 44),\n",
       " ('올해', 44),\n",
       " ('지역', 44),\n",
       " ('유행', 44),\n",
       " ('계가', 44),\n",
       " ('영업', 44),\n",
       " ('0년', 44),\n",
       " ('그룹', 42),\n",
       " ('대통', 42),\n",
       " ('통령', 42),\n",
       " ('라며', 42),\n",
       " ('데,', 42),\n",
       " ('국민', 42),\n",
       " ('에게', 42),\n",
       " ('이를', 42),\n",
       " ('발표', 42),\n",
       " ('확진', 42),\n",
       " ('진자', 42),\n",
       " ('가장', 42),\n",
       " ('기에', 42),\n",
       " ('논문', 42),\n",
       " ('겠다', 42)]"
      ]
     },
     "execution_count": 162,
     "metadata": {},
     "output_type": "execute_result"
    }
   ],
   "source": [
    "sorted(wc2.items(), key=lambda _:_[1], reverse=True)[100:200]"
   ]
  },
  {
   "cell_type": "code",
   "execution_count": null,
   "metadata": {},
   "outputs": [],
   "source": [
    "# 전체 count수는 줄지만 (중첩된게 너무 많았기 때문)\n",
    "# n-gram의 n이 커질수록 좀 더 의미를 파악할 수 있지만, feature이 많아지고 빈도에서 손해봄\n",
    "# n이 작아질 수록 더 작게 작아지기에 조금 의미 파악에 힘들 수 있지만, 확률.........?"
   ]
  },
  {
   "cell_type": "code",
   "execution_count": 163,
   "metadata": {},
   "outputs": [],
   "source": [
    "# Trigram : 3\n",
    "wc3 = defaultdict(int)\n",
    "for t in data.split():\n",
    "    for token in ngram_umjeol(t, 3):\n",
    "        wc3[token] += 1"
   ]
  },
  {
   "cell_type": "code",
   "execution_count": 164,
   "metadata": {},
   "outputs": [
    {
     "data": {
      "text/plain": [
       "(18, 0.0002675346680340661)"
      ]
     },
     "execution_count": 164,
     "metadata": {},
     "output_type": "execute_result"
    }
   ],
   "source": [
    "cnt = sum(wc2.values())\n",
    "wc2['민주'], wc2['민주']/cnt"
   ]
  },
  {
   "cell_type": "code",
   "execution_count": 165,
   "metadata": {},
   "outputs": [],
   "source": [
    "cnt1 = 0\n",
    "for _ in [_ for _ in wc3.keys() if _.startswith('민주')]: # 원래 여러개 떠야만 하는데..\n",
    "    cnt1 += wc3[_]"
   ]
  },
  {
   "cell_type": "code",
   "execution_count": 166,
   "metadata": {},
   "outputs": [
    {
     "data": {
      "text/plain": [
       "18"
      ]
     },
     "execution_count": 166,
     "metadata": {},
     "output_type": "execute_result"
    }
   ],
   "source": [
    "cnt1 # 위에 wc2와 똑같은 값?"
   ]
  },
  {
   "cell_type": "code",
   "execution_count": 167,
   "metadata": {},
   "outputs": [
    {
     "ename": "SyntaxError",
     "evalue": "invalid syntax (<ipython-input-167-dea7adf2a4b2>, line 2)",
     "output_type": "error",
     "traceback": [
      "\u001b[1;36m  File \u001b[1;32m\"<ipython-input-167-dea7adf2a4b2>\"\u001b[1;36m, line \u001b[1;32m2\u001b[0m\n\u001b[1;33m    = P(t3|t1, t2)P(t1, t2)\u001b[0m\n\u001b[1;37m    ^\u001b[0m\n\u001b[1;31mSyntaxError\u001b[0m\u001b[1;31m:\u001b[0m invalid syntax\n"
     ]
    }
   ],
   "source": [
    "P(t1, t2, t3) \n",
    "= P(t3|t1, t2)P(t1, t2) \n",
    "= count(t1, t2, t3) / count(t1, t2)"
   ]
  },
  {
   "cell_type": "code",
   "execution_count": 168,
   "metadata": {},
   "outputs": [
    {
     "name": "stdout",
     "output_type": "stream",
     "text": [
      "민주당 0.5555555555555556\n",
      "민주통 0.1111111111111111\n",
      "민주노 0.3333333333333333\n"
     ]
    }
   ],
   "source": [
    "keyword = '민주'\n",
    "candidates = [_ for _ in wc3.keys() if _.startswith(keyword)]\n",
    "\n",
    "for _ in candidates:\n",
    "    print(_, wc3[_]/wc2[keyword])\n",
    "\n",
    "# 이렇게 확률적인 모델을 무수히 많이 만든다면.. 한국어에 대한 language model이라고 볼 수 있음.\n",
    "# 간단히 count만 세서 언어 모델을 만들어 본 것임.\n",
    "# 이를 통해 다채로운 언어를 만들어내는 언어모델을 짤 수 있다."
   ]
  }
 ],
 "metadata": {
  "kernelspec": {
   "display_name": "Python 3",
   "language": "python",
   "name": "python3"
  },
  "language_info": {
   "codemirror_mode": {
    "name": "ipython",
    "version": 3
   },
   "file_extension": ".py",
   "mimetype": "text/x-python",
   "name": "python",
   "nbconvert_exporter": "python",
   "pygments_lexer": "ipython3",
   "version": "3.8.5"
  }
 },
 "nbformat": 4,
 "nbformat_minor": 4
}
